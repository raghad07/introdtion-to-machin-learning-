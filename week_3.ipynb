{
  "nbformat": 4,
  "nbformat_minor": 0,
  "metadata": {
    "colab": {
      "name": "Assignment_4.ipynb",
      "provenance": [],
      "collapsed_sections": [
        "kiiQHpADeTU5",
        "Wti8IyZYJk-m"
      ]
    },
    "kernelspec": {
      "display_name": "Python 3",
      "name": "python3"
    },
    "language_info": {
      "name": "python"
    },
    "accelerator": "GPU"
  },
  "cells": [
    {
      "cell_type": "markdown",
      "metadata": {
        "id": "CCrCVRsUi6sF"
      },
      "source": [
        "#Assignment_4"
      ]
    },
    {
      "cell_type": "markdown",
      "metadata": {
        "id": "RwO7zCiJjFSs"
      },
      "source": [
        "\n",
        "##The size of your data size should be 30,000 for training data and 5000 for test data.\n",
        "##One Hot encode your targets/ outputs.\n",
        "\n",
        "##Define five different models (KNN, Support vector machine, Decision tree, DNN)\n",
        "##Achieve a testing accuracy of 95% and loss of 0.1.\n",
        "##Plot the loss/validation loss value over the training  for the DNN models.\n",
        "##Calculate necessary metrics for the models\n",
        "##Choose the best model"
      ]
    },
    {
      "cell_type": "code",
      "metadata": {
        "id": "elMIzwYIi428"
      },
      "source": [
        "import tensorflow as tf \n",
        "import numpy as np \n",
        "import matplotlib.pyplot as plt\n",
        "from sklearn import metrics,model_selection,preprocessing,neighbors,linear_model,svm,tree\n",
        "import pandas as pd"
      ],
      "execution_count": null,
      "outputs": []
    },
    {
      "cell_type": "markdown",
      "metadata": {
        "id": "lPollZYfzme9"
      },
      "source": [
        "##Preprocessing and data distribution"
      ]
    },
    {
      "cell_type": "code",
      "metadata": {
        "colab": {
          "base_uri": "https://localhost:8080/",
          "height": 1000
        },
        "id": "66fKUg3P1AyU",
        "outputId": "5e8e2cdb-ee33-4a49-83fe-b43a8bae902b"
      },
      "source": [
        "#load mnist dataset \n",
        "mnist=tf.keras.datasets.mnist\n",
        "(x_train,y_train),(x_test,y_test)=mnist.load_data()\n",
        "\n",
        "print('shape of x_train:',x_train.shape)\n",
        "print(x_train[0])\n",
        "print('the label of x_train[0] is :',y_train[0])\n",
        "\n",
        "#show an image \n",
        "plt.imshow(x_train[0],cmap='gray')"
      ],
      "execution_count": null,
      "outputs": [
        {
          "output_type": "stream",
          "name": "stdout",
          "text": [
            "shape of x_train: (60000, 28, 28)\n",
            "[[  0   0   0   0   0   0   0   0   0   0   0   0   0   0   0   0   0   0\n",
            "    0   0   0   0   0   0   0   0   0   0]\n",
            " [  0   0   0   0   0   0   0   0   0   0   0   0   0   0   0   0   0   0\n",
            "    0   0   0   0   0   0   0   0   0   0]\n",
            " [  0   0   0   0   0   0   0   0   0   0   0   0   0   0   0   0   0   0\n",
            "    0   0   0   0   0   0   0   0   0   0]\n",
            " [  0   0   0   0   0   0   0   0   0   0   0   0   0   0   0   0   0   0\n",
            "    0   0   0   0   0   0   0   0   0   0]\n",
            " [  0   0   0   0   0   0   0   0   0   0   0   0   0   0   0   0   0   0\n",
            "    0   0   0   0   0   0   0   0   0   0]\n",
            " [  0   0   0   0   0   0   0   0   0   0   0   0   3  18  18  18 126 136\n",
            "  175  26 166 255 247 127   0   0   0   0]\n",
            " [  0   0   0   0   0   0   0   0  30  36  94 154 170 253 253 253 253 253\n",
            "  225 172 253 242 195  64   0   0   0   0]\n",
            " [  0   0   0   0   0   0   0  49 238 253 253 253 253 253 253 253 253 251\n",
            "   93  82  82  56  39   0   0   0   0   0]\n",
            " [  0   0   0   0   0   0   0  18 219 253 253 253 253 253 198 182 247 241\n",
            "    0   0   0   0   0   0   0   0   0   0]\n",
            " [  0   0   0   0   0   0   0   0  80 156 107 253 253 205  11   0  43 154\n",
            "    0   0   0   0   0   0   0   0   0   0]\n",
            " [  0   0   0   0   0   0   0   0   0  14   1 154 253  90   0   0   0   0\n",
            "    0   0   0   0   0   0   0   0   0   0]\n",
            " [  0   0   0   0   0   0   0   0   0   0   0 139 253 190   2   0   0   0\n",
            "    0   0   0   0   0   0   0   0   0   0]\n",
            " [  0   0   0   0   0   0   0   0   0   0   0  11 190 253  70   0   0   0\n",
            "    0   0   0   0   0   0   0   0   0   0]\n",
            " [  0   0   0   0   0   0   0   0   0   0   0   0  35 241 225 160 108   1\n",
            "    0   0   0   0   0   0   0   0   0   0]\n",
            " [  0   0   0   0   0   0   0   0   0   0   0   0   0  81 240 253 253 119\n",
            "   25   0   0   0   0   0   0   0   0   0]\n",
            " [  0   0   0   0   0   0   0   0   0   0   0   0   0   0  45 186 253 253\n",
            "  150  27   0   0   0   0   0   0   0   0]\n",
            " [  0   0   0   0   0   0   0   0   0   0   0   0   0   0   0  16  93 252\n",
            "  253 187   0   0   0   0   0   0   0   0]\n",
            " [  0   0   0   0   0   0   0   0   0   0   0   0   0   0   0   0   0 249\n",
            "  253 249  64   0   0   0   0   0   0   0]\n",
            " [  0   0   0   0   0   0   0   0   0   0   0   0   0   0  46 130 183 253\n",
            "  253 207   2   0   0   0   0   0   0   0]\n",
            " [  0   0   0   0   0   0   0   0   0   0   0   0  39 148 229 253 253 253\n",
            "  250 182   0   0   0   0   0   0   0   0]\n",
            " [  0   0   0   0   0   0   0   0   0   0  24 114 221 253 253 253 253 201\n",
            "   78   0   0   0   0   0   0   0   0   0]\n",
            " [  0   0   0   0   0   0   0   0  23  66 213 253 253 253 253 198  81   2\n",
            "    0   0   0   0   0   0   0   0   0   0]\n",
            " [  0   0   0   0   0   0  18 171 219 253 253 253 253 195  80   9   0   0\n",
            "    0   0   0   0   0   0   0   0   0   0]\n",
            " [  0   0   0   0  55 172 226 253 253 253 253 244 133  11   0   0   0   0\n",
            "    0   0   0   0   0   0   0   0   0   0]\n",
            " [  0   0   0   0 136 253 253 253 212 135 132  16   0   0   0   0   0   0\n",
            "    0   0   0   0   0   0   0   0   0   0]\n",
            " [  0   0   0   0   0   0   0   0   0   0   0   0   0   0   0   0   0   0\n",
            "    0   0   0   0   0   0   0   0   0   0]\n",
            " [  0   0   0   0   0   0   0   0   0   0   0   0   0   0   0   0   0   0\n",
            "    0   0   0   0   0   0   0   0   0   0]\n",
            " [  0   0   0   0   0   0   0   0   0   0   0   0   0   0   0   0   0   0\n",
            "    0   0   0   0   0   0   0   0   0   0]]\n",
            "the label of x_train[0] is : 5\n"
          ]
        },
        {
          "output_type": "execute_result",
          "data": {
            "text/plain": [
              "<matplotlib.image.AxesImage at 0x7f58af4ec910>"
            ]
          },
          "metadata": {},
          "execution_count": 43
        },
        {
          "output_type": "display_data",
          "data": {
            "image/png": "[encoded data removed]",
            "text/plain": [
              "<Figure size 432x288 with 1 Axes>"
            ]
          },
          "metadata": {
            "needs_background": "light"
          }
        }
      ]
    },
    {
      "cell_type": "code",
      "metadata": {
        "colab": {
          "base_uri": "https://localhost:8080/",
          "height": 1000
        },
        "id": "PvpTJUiAhEGe",
        "outputId": "e0ea4c50-3b97-4889-bfc9-0b8ee9e6bfa1"
      },
      "source": [
        "#reshape the data\n",
        "x_train=x_train.reshape(-1,28*28)\n",
        "x_test=x_test.reshape(-1,28*28)\n",
        "\n",
        "#normalize the pixel values so that each pixel value has a value between 0 and 1.\n",
        "x_train,x_test=x_train/255,x_test/255\n",
        "\n",
        "print('shape of x_train:',x_train.shape)\n",
        "print(x_train[0])\n",
        "#show an image \n",
        "plt.imshow(x_train[0].reshape(28,28),cmap='gray')\n"
      ],
      "execution_count": null,
      "outputs": [
        {
          "output_type": "stream",
          "name": "stdout",
          "text": [
            "shape of x_train: (60000, 784)\n",
            "[0.         0.         0.         0.         0.         0.\n",
            " 0.         0.         0.         0.         0.         0.\n",
            " 0.         0.         0.         0.         0.         0.\n",
            " 0.         0.         0.         0.         0.         0.\n",
            " 0.         0.         0.         0.         0.         0.\n",
            " 0.         0.         0.         0.         0.         0.\n",
            " 0.         0.         0.         0.         0.         0.\n",
            " 0.         0.         0.         0.         0.         0.\n",
            " 0.         0.         0.         0.         0.         0.\n",
            " 0.         0.         0.         0.         0.         0.\n",
            " 0.         0.         0.         0.         0.         0.\n",
            " 0.         0.         0.         0.         0.         0.\n",
            " 0.         0.         0.         0.         0.         0.\n",
            " 0.         0.         0.         0.         0.         0.\n",
            " 0.         0.         0.         0.         0.         0.\n",
            " 0.         0.         0.         0.         0.         0.\n",
            " 0.         0.         0.         0.         0.         0.\n",
            " 0.         0.         0.         0.         0.         0.\n",
            " 0.         0.         0.         0.         0.         0.\n",
            " 0.         0.         0.         0.         0.         0.\n",
            " 0.         0.         0.         0.         0.         0.\n",
            " 0.         0.         0.         0.         0.         0.\n",
            " 0.         0.         0.         0.         0.         0.\n",
            " 0.         0.         0.         0.         0.         0.\n",
            " 0.         0.         0.         0.         0.         0.\n",
            " 0.         0.         0.01176471 0.07058824 0.07058824 0.07058824\n",
            " 0.49411765 0.53333333 0.68627451 0.10196078 0.65098039 1.\n",
            " 0.96862745 0.49803922 0.         0.         0.         0.\n",
            " 0.         0.         0.         0.         0.         0.\n",
            " 0.         0.         0.11764706 0.14117647 0.36862745 0.60392157\n",
            " 0.66666667 0.99215686 0.99215686 0.99215686 0.99215686 0.99215686\n",
            " 0.88235294 0.6745098  0.99215686 0.94901961 0.76470588 0.25098039\n",
            " 0.         0.         0.         0.         0.         0.\n",
            " 0.         0.         0.         0.         0.         0.19215686\n",
            " 0.93333333 0.99215686 0.99215686 0.99215686 0.99215686 0.99215686\n",
            " 0.99215686 0.99215686 0.99215686 0.98431373 0.36470588 0.32156863\n",
            " 0.32156863 0.21960784 0.15294118 0.         0.         0.\n",
            " 0.         0.         0.         0.         0.         0.\n",
            " 0.         0.         0.         0.07058824 0.85882353 0.99215686\n",
            " 0.99215686 0.99215686 0.99215686 0.99215686 0.77647059 0.71372549\n",
            " 0.96862745 0.94509804 0.         0.         0.         0.\n",
            " 0.         0.         0.         0.         0.         0.\n",
            " 0.         0.         0.         0.         0.         0.\n",
            " 0.         0.         0.31372549 0.61176471 0.41960784 0.99215686\n",
            " 0.99215686 0.80392157 0.04313725 0.         0.16862745 0.60392157\n",
            " 0.         0.         0.         0.         0.         0.\n",
            " 0.         0.         0.         0.         0.         0.\n",
            " 0.         0.         0.         0.         0.         0.\n",
            " 0.         0.05490196 0.00392157 0.60392157 0.99215686 0.35294118\n",
            " 0.         0.         0.         0.         0.         0.\n",
            " 0.         0.         0.         0.         0.         0.\n",
            " 0.         0.         0.         0.         0.         0.\n",
            " 0.         0.         0.         0.         0.         0.\n",
            " 0.         0.54509804 0.99215686 0.74509804 0.00784314 0.\n",
            " 0.         0.         0.         0.         0.         0.\n",
            " 0.         0.         0.         0.         0.         0.\n",
            " 0.         0.         0.         0.         0.         0.\n",
            " 0.         0.         0.         0.         0.         0.04313725\n",
            " 0.74509804 0.99215686 0.2745098  0.         0.         0.\n",
            " 0.         0.         0.         0.         0.         0.\n",
            " 0.         0.         0.         0.         0.         0.\n",
            " 0.         0.         0.         0.         0.         0.\n",
            " 0.         0.         0.         0.         0.1372549  0.94509804\n",
            " 0.88235294 0.62745098 0.42352941 0.00392157 0.         0.\n",
            " 0.         0.         0.         0.         0.         0.\n",
            " 0.         0.         0.         0.         0.         0.\n",
            " 0.         0.         0.         0.         0.         0.\n",
            " 0.         0.         0.         0.31764706 0.94117647 0.99215686\n",
            " 0.99215686 0.46666667 0.09803922 0.         0.         0.\n",
            " 0.         0.         0.         0.         0.         0.\n",
            " 0.         0.         0.         0.         0.         0.\n",
            " 0.         0.         0.         0.         0.         0.\n",
            " 0.         0.         0.17647059 0.72941176 0.99215686 0.99215686\n",
            " 0.58823529 0.10588235 0.         0.         0.         0.\n",
            " 0.         0.         0.         0.         0.         0.\n",
            " 0.         0.         0.         0.         0.         0.\n",
            " 0.         0.         0.         0.         0.         0.\n",
            " 0.         0.0627451  0.36470588 0.98823529 0.99215686 0.73333333\n",
            " 0.         0.         0.         0.         0.         0.\n",
            " 0.         0.         0.         0.         0.         0.\n",
            " 0.         0.         0.         0.         0.         0.\n",
            " 0.         0.         0.         0.         0.         0.\n",
            " 0.         0.97647059 0.99215686 0.97647059 0.25098039 0.\n",
            " 0.         0.         0.         0.         0.         0.\n",
            " 0.         0.         0.         0.         0.         0.\n",
            " 0.         0.         0.         0.         0.         0.\n",
            " 0.         0.         0.18039216 0.50980392 0.71764706 0.99215686\n",
            " 0.99215686 0.81176471 0.00784314 0.         0.         0.\n",
            " 0.         0.         0.         0.         0.         0.\n",
            " 0.         0.         0.         0.         0.         0.\n",
            " 0.         0.         0.         0.         0.15294118 0.58039216\n",
            " 0.89803922 0.99215686 0.99215686 0.99215686 0.98039216 0.71372549\n",
            " 0.         0.         0.         0.         0.         0.\n",
            " 0.         0.         0.         0.         0.         0.\n",
            " 0.         0.         0.         0.         0.         0.\n",
            " 0.09411765 0.44705882 0.86666667 0.99215686 0.99215686 0.99215686\n",
            " 0.99215686 0.78823529 0.30588235 0.         0.         0.\n",
            " 0.         0.         0.         0.         0.         0.\n",
            " 0.         0.         0.         0.         0.         0.\n",
            " 0.         0.         0.09019608 0.25882353 0.83529412 0.99215686\n",
            " 0.99215686 0.99215686 0.99215686 0.77647059 0.31764706 0.00784314\n",
            " 0.         0.         0.         0.         0.         0.\n",
            " 0.         0.         0.         0.         0.         0.\n",
            " 0.         0.         0.         0.         0.07058824 0.67058824\n",
            " 0.85882353 0.99215686 0.99215686 0.99215686 0.99215686 0.76470588\n",
            " 0.31372549 0.03529412 0.         0.         0.         0.\n",
            " 0.         0.         0.         0.         0.         0.\n",
            " 0.         0.         0.         0.         0.         0.\n",
            " 0.21568627 0.6745098  0.88627451 0.99215686 0.99215686 0.99215686\n",
            " 0.99215686 0.95686275 0.52156863 0.04313725 0.         0.\n",
            " 0.         0.         0.         0.         0.         0.\n",
            " 0.         0.         0.         0.         0.         0.\n",
            " 0.         0.         0.         0.         0.53333333 0.99215686\n",
            " 0.99215686 0.99215686 0.83137255 0.52941176 0.51764706 0.0627451\n",
            " 0.         0.         0.         0.         0.         0.\n",
            " 0.         0.         0.         0.         0.         0.\n",
            " 0.         0.         0.         0.         0.         0.\n",
            " 0.         0.         0.         0.         0.         0.\n",
            " 0.         0.         0.         0.         0.         0.\n",
            " 0.         0.         0.         0.         0.         0.\n",
            " 0.         0.         0.         0.         0.         0.\n",
            " 0.         0.         0.         0.         0.         0.\n",
            " 0.         0.         0.         0.         0.         0.\n",
            " 0.         0.         0.         0.         0.         0.\n",
            " 0.         0.         0.         0.         0.         0.\n",
            " 0.         0.         0.         0.         0.         0.\n",
            " 0.         0.         0.         0.         0.         0.\n",
            " 0.         0.         0.         0.         0.         0.\n",
            " 0.         0.         0.         0.         0.         0.\n",
            " 0.         0.         0.         0.         0.         0.\n",
            " 0.         0.         0.         0.        ]\n"
          ]
        },
        {
          "output_type": "execute_result",
          "data": {
            "text/plain": [
              "<matplotlib.image.AxesImage at 0x7f58bc9eac90>"
            ]
          },
          "metadata": {},
          "execution_count": 44
        },
        {
          "output_type": "display_data",
          "data": {
            "image/png": "[encoded data removed]",
            "text/plain": [
              "<Figure size 432x288 with 1 Axes>"
            ]
          },
          "metadata": {
            "needs_background": "light"
          }
        }
      ]
    },
    {
      "cell_type": "code",
      "metadata": {
        "id": "3XXOyOnu91_g"
      },
      "source": [
        "#convert the labels to one-hot vector for y_train and y_test, using one-hot encodeing \n",
        "y_train_hot=tf.one_hot(y_train,depth=len(set(y_train)))\n",
        "y_test_hot=tf.one_hot(y_test,depth=len(set(y_train)))\n",
        "#validation data\n",
        "x_val=x_train[:5000]\n",
        "y_val=y_train_hot[:5000]\n",
        "#resize of dataset \n",
        "x_train=x_train[30000:]\n",
        "y_train=y_train[30000:]\n",
        "x_test=x_test[5000:]\n",
        "y_test=y_test[5000:]\n",
        "\n",
        "y_train_hot=y_train_hot[30000:]\n",
        "y_test_hot=y_test_hot[5000:]\n"
      ],
      "execution_count": null,
      "outputs": []
    },
    {
      "cell_type": "markdown",
      "metadata": {
        "id": "w-HVMCy266Nt"
      },
      "source": [
        "##KNN"
      ]
    },
    {
      "cell_type": "code",
      "metadata": {
        "colab": {
          "base_uri": "https://localhost:8080/"
        },
        "id": "_SnkPkebK8mx",
        "outputId": "c69f564f-b1a4-44a5-b6ed-61c4d6a5a643"
      },
      "source": [
        "#Create KNN Classifier\n",
        "eigh =neighbors.KNeighborsClassifier(n_neighbors=10)\n",
        "# Train the model using the training sets\n",
        "eigh.fit(x_train, y_train)"
      ],
      "execution_count": null,
      "outputs": [
        {
          "output_type": "execute_result",
          "data": {
            "text/plain": [
              "KNeighborsClassifier(algorithm='auto', leaf_size=30, metric='minkowski',\n",
              "                     metric_params=None, n_jobs=None, n_neighbors=10, p=2,\n",
              "                     weights='uniform')"
            ]
          },
          "metadata": {},
          "execution_count": 46
        }
      ]
    },
    {
      "cell_type": "code",
      "metadata": {
        "colab": {
          "base_uri": "https://localhost:8080/"
        },
        "id": "cFnQpzWiLvBY",
        "outputId": "62a3d3b9-1aed-44a0-8e6e-58f708ea9106"
      },
      "source": [
        "#Predict Output\n",
        "y_pred=eigh.predict(x_test)\n",
        "#print the accuracy\n",
        "print(metrics.accuracy_score(y_test,y_pred))"
      ],
      "execution_count": null,
      "outputs": [
        {
          "output_type": "stream",
          "name": "stdout",
          "text": [
            "0.978\n"
          ]
        }
      ]
    },
    {
      "cell_type": "markdown",
      "metadata": {
        "id": "9iBKtjBb6IwW"
      },
      "source": [
        "###testing"
      ]
    },
    {
      "cell_type": "code",
      "metadata": {
        "colab": {
          "base_uri": "https://localhost:8080/",
          "height": 330
        },
        "id": "vQ5RL4BcMdhR",
        "outputId": "4bcb3ea6-5d70-422e-b26b-005222bb0772"
      },
      "source": [
        "precision = metrics.precision_score(y_test, y_pred,average='weighted')\n",
        "print(\"Precision Score:\", precision)\n",
        "recall = metrics.recall_score(y_test, y_pred,average='weighted')\n",
        "print(\"Recall Score:\", recall)\n",
        "metrics.plot_confusion_matrix(eigh,x_test,y_test)#plot confusion matrix"
      ],
      "execution_count": null,
      "outputs": [
        {
          "output_type": "stream",
          "name": "stdout",
          "text": [
            "Precision Score: 0.978155011667437\n",
            "Recall Score: 0.978\n"
          ]
        },
        {
          "output_type": "execute_result",
          "data": {
            "text/plain": [
              "<sklearn.metrics._plot.confusion_matrix.ConfusionMatrixDisplay at 0x7f58bc9ea110>"
            ]
          },
          "metadata": {},
          "execution_count": 49
        },
        {
          "output_type": "display_data",
          "data": {
            "image/png": "[encoded data removed]",
            "text/plain": [
              "<Figure size 432x288 with 2 Axes>"
            ]
          },
          "metadata": {
            "needs_background": "light"
          }
        }
      ]
    },
    {
      "cell_type": "code",
      "metadata": {
        "id": "_e17wlJ8Os--"
      },
      "source": [
        ""
      ],
      "execution_count": null,
      "outputs": []
    },
    {
      "cell_type": "markdown",
      "metadata": {
        "id": "kiiQHpADeTU5"
      },
      "source": [
        "##Support vector machine"
      ]
    },
    {
      "cell_type": "code",
      "metadata": {
        "id": "oi_6niHGeUfM",
        "colab": {
          "base_uri": "https://localhost:8080/"
        },
        "outputId": "c684b51e-6ec3-4cc9-c75c-7eecc75b2f77"
      },
      "source": [
        "# Create SVM classifer\n",
        "svm_model= svm.SVC(kernel='linear',C=1)\n",
        "# Train SVM Classifer\n",
        "svm_model.fit(x_train, y_train)"
      ],
      "execution_count": null,
      "outputs": [
        {
          "output_type": "execute_result",
          "data": {
            "text/plain": [
              "SVC(C=1, break_ties=False, cache_size=200, class_weight=None, coef0=0.0,\n",
              "    decision_function_shape='ovr', degree=3, gamma='scale', kernel='linear',\n",
              "    max_iter=-1, probability=False, random_state=None, shrinking=True,\n",
              "    tol=0.001, verbose=False)"
            ]
          },
          "metadata": {},
          "execution_count": 50
        }
      ]
    },
    {
      "cell_type": "code",
      "metadata": {
        "colab": {
          "base_uri": "https://localhost:8080/"
        },
        "id": "SVOzvEq0Aor-",
        "outputId": "e057a724-5bd6-41e7-daa0-ca6104333554"
      },
      "source": [
        "pred=svm_model.predict(x_test)##Predict the response for test dataset\n",
        "print(metrics.accuracy_score(y_test,pred))# Model Accuracy"
      ],
      "execution_count": null,
      "outputs": [
        {
          "output_type": "stream",
          "name": "stdout",
          "text": [
            "0.9502\n"
          ]
        }
      ]
    },
    {
      "cell_type": "markdown",
      "metadata": {
        "id": "74bslajRiJ0r"
      },
      "source": [
        "###testing"
      ]
    },
    {
      "cell_type": "code",
      "metadata": {
        "colab": {
          "base_uri": "https://localhost:8080/",
          "height": 363
        },
        "id": "o38yPwDuiOLF",
        "outputId": "1a2cfd65-5a38-4e25-e363-e4dbd4b78b94"
      },
      "source": [
        "acc=metrics.accuracy_score(y_test,y_pred)\n",
        "precision_score=metrics.precision_score(y_test,y_pred,average='micro')\n",
        "recall_score=metrics.recall_score(y_test,y_pred,average='micro')\n",
        "f1_score=metrics.f1_score(y_test,y_pred,average='micro')\n",
        "print(f'acc is {acc}')\n",
        "print(f'precision_score is {precision_score}')\n",
        "print(f'recall_score is {recall_score}')\n",
        "print(f'f1_score is {f1_score}')\n",
        "metrics.plot_confusion_matrix(svm_model,x_test,y_test)"
      ],
      "execution_count": null,
      "outputs": [
        {
          "output_type": "stream",
          "name": "stdout",
          "text": [
            "acc is 0.978\n",
            "precision_score is 0.978\n",
            "recall_score is 0.978\n",
            "f1_score is 0.978\n"
          ]
        },
        {
          "output_type": "execute_result",
          "data": {
            "text/plain": [
              "<sklearn.metrics._plot.confusion_matrix.ConfusionMatrixDisplay at 0x7f58afd8c290>"
            ]
          },
          "metadata": {},
          "execution_count": 52
        },
        {
          "output_type": "display_data",
          "data": {
            "image/png": "[encoded data removed]",
            "text/plain": [
              "<Figure size 432x288 with 2 Axes>"
            ]
          },
          "metadata": {
            "needs_background": "light"
          }
        }
      ]
    },
    {
      "cell_type": "markdown",
      "metadata": {
        "id": "Wti8IyZYJk-m"
      },
      "source": [
        "##Decision tree"
      ]
    },
    {
      "cell_type": "code",
      "metadata": {
        "colab": {
          "base_uri": "https://localhost:8080/"
        },
        "id": "6jcY7kURJmQz",
        "outputId": "6c7847f4-7316-4c87-b74a-b27b17a5b080"
      },
      "source": [
        "# Create Decision Tree classifer \n",
        "clf = tree.DecisionTreeClassifier()\n",
        "# Train Decision Tree Classifer\n",
        "clf.fit(x_train, y_train)"
      ],
      "execution_count": null,
      "outputs": [
        {
          "output_type": "execute_result",
          "data": {
            "text/plain": [
              "DecisionTreeClassifier(ccp_alpha=0.0, class_weight=None, criterion='gini',\n",
              "                       max_depth=None, max_features=None, max_leaf_nodes=None,\n",
              "                       min_impurity_decrease=0.0, min_impurity_split=None,\n",
              "                       min_samples_leaf=1, min_samples_split=2,\n",
              "                       min_weight_fraction_leaf=0.0, presort='deprecated',\n",
              "                       random_state=None, splitter='best')"
            ]
          },
          "metadata": {},
          "execution_count": 53
        }
      ]
    },
    {
      "cell_type": "code",
      "metadata": {
        "id": "JP5FHzC5Jzlh",
        "colab": {
          "base_uri": "https://localhost:8080/"
        },
        "outputId": "4576e50a-63ab-4814-9393-b7041fb9dc80"
      },
      "source": [
        "#Predict the response for test dataset\n",
        "y_pred=clf.predict(x_test)\n",
        "# Model Accuracy\n",
        "print(metrics.accuracy_score(y_test,y_pred))\n",
        "\n"
      ],
      "execution_count": null,
      "outputs": [
        {
          "output_type": "stream",
          "name": "stdout",
          "text": [
            "0.875\n"
          ]
        }
      ]
    },
    {
      "cell_type": "markdown",
      "metadata": {
        "id": "weyUwbE3d2lx"
      },
      "source": [
        "###testing"
      ]
    },
    {
      "cell_type": "code",
      "metadata": {
        "colab": {
          "base_uri": "https://localhost:8080/",
          "height": 363
        },
        "id": "IQ-MvEKCd407",
        "outputId": "85683171-d101-4170-bf73-813537bc9bf1"
      },
      "source": [
        "acc=metrics.accuracy_score(y_test,y_pred)\n",
        "precision_score=metrics.precision_score(y_test,y_pred,average='micro')\n",
        "recall_score=metrics.recall_score(y_test,y_pred,average='micro')\n",
        "f1_score=metrics.f1_score(y_test,y_pred,average='micro')\n",
        "print(f'acc is {acc}')\n",
        "print(f'precision_score is {precision_score}')\n",
        "print(f'recall_score is {recall_score}')\n",
        "print(f'f1_score is {f1_score}')\n",
        "metrics.plot_confusion_matrix(clf,x_test,y_test)"
      ],
      "execution_count": null,
      "outputs": [
        {
          "output_type": "stream",
          "name": "stdout",
          "text": [
            "acc is 0.875\n",
            "precision_score is 0.875\n",
            "recall_score is 0.875\n",
            "f1_score is 0.875\n"
          ]
        },
        {
          "output_type": "execute_result",
          "data": {
            "text/plain": [
              "<sklearn.metrics._plot.confusion_matrix.ConfusionMatrixDisplay at 0x7f58af148a10>"
            ]
          },
          "metadata": {},
          "execution_count": 55
        },
        {
          "output_type": "display_data",
          "data": {
            "image/png": "[encoded data removed]",
            "text/plain": [
              "<Figure size 432x288 with 2 Axes>"
            ]
          },
          "metadata": {
            "needs_background": "light"
          }
        }
      ]
    },
    {
      "cell_type": "code",
      "metadata": {
        "id": "znJ3HgnxeWmF"
      },
      "source": [
        ""
      ],
      "execution_count": null,
      "outputs": []
    },
    {
      "cell_type": "markdown",
      "metadata": {
        "id": "-biuB7RKiIBU"
      },
      "source": [
        ""
      ]
    },
    {
      "cell_type": "markdown",
      "metadata": {
        "id": "tMh_zjhcjUKq"
      },
      "source": [
        "##DNN"
      ]
    },
    {
      "cell_type": "code",
      "metadata": {
        "id": "YkczIdtdDNMf"
      },
      "source": [
        "#creat a Sequentail model using keras \n",
        "model=tf.keras.models.Sequential([\n",
        "                   \n",
        "                                  tf.keras.layers.Input(shape=(784)),\n",
        "                                  tf.keras.layers.Dense(units=64,activation=tf.nn.leaky_relu,kernel_initializer=tf.initializers.he_uniform(seed=42),name='layer_1'),\n",
        "                                  tf.keras.layers.Dropout(0.3),\n",
        "                                  tf.keras.layers.Dense(units=128,activation=tf.nn.leaky_relu,kernel_initializer=tf.initializers.he_uniform(seed=42),name='layer_2'),\n",
        "                                  tf.keras.layers.Dropout(0.4),\n",
        "                                  tf.keras.layers.Dense(units=256,activation=tf.nn.leaky_relu,kernel_initializer=tf.initializers.he_uniform(seed=42),name='layer_3'),\n",
        "                                  tf.keras.layers.Dropout(0.5),\n",
        "                                  tf.keras.layers.Dense(units=128,activation=tf.nn.leaky_relu,kernel_initializer=tf.initializers.he_uniform(seed=42),name='layer_4'),\n",
        "                                  tf.keras.layers.Dropout(0.5),\n",
        "                                  tf.keras.layers.Dense(units=10,activation=tf.nn.softmax,name='output')\n",
        "                    \n",
        "                                  \n",
        "])"
      ],
      "execution_count": null,
      "outputs": []
    },
    {
      "cell_type": "code",
      "metadata": {
        "colab": {
          "base_uri": "https://localhost:8080/"
        },
        "id": "NacCHKERdSBb",
        "outputId": "91fcf482-9279-4352-d523-75d2e0455e60"
      },
      "source": [
        "model.summary()#show the model info "
      ],
      "execution_count": null,
      "outputs": [
        {
          "output_type": "stream",
          "name": "stdout",
          "text": [
            "Model: \"sequential_5\"\n",
            "_________________________________________________________________\n",
            "Layer (type)                 Output Shape              Param #   \n",
            "=================================================================\n",
            "layer_1 (Dense)              (None, 64)                50240     \n",
            "_________________________________________________________________\n",
            "dropout_20 (Dropout)         (None, 64)                0         \n",
            "_________________________________________________________________\n",
            "layer_2 (Dense)              (None, 128)               8320      \n",
            "_________________________________________________________________\n",
            "dropout_21 (Dropout)         (None, 128)               0         \n",
            "_________________________________________________________________\n",
            "layer_3 (Dense)              (None, 256)               33024     \n",
            "_________________________________________________________________\n",
            "dropout_22 (Dropout)         (None, 256)               0         \n",
            "_________________________________________________________________\n",
            "layer_4 (Dense)              (None, 128)               32896     \n",
            "_________________________________________________________________\n",
            "dropout_23 (Dropout)         (None, 128)               0         \n",
            "_________________________________________________________________\n",
            "output (Dense)               (None, 10)                1290      \n",
            "=================================================================\n",
            "Total params: 125,770\n",
            "Trainable params: 125,770\n",
            "Non-trainable params: 0\n",
            "_________________________________________________________________\n"
          ]
        }
      ]
    },
    {
      "cell_type": "code",
      "metadata": {
        "id": "5U-VZBWleZnD",
        "colab": {
          "base_uri": "https://localhost:8080/"
        },
        "outputId": "f431a7ab-51a3-4380-e029-044149c7ee10"
      },
      "source": [
        "#compile the model an using adam optimizer with Categorical crossentropy cost function\n",
        "model.compile(optimizer=tf.optimizers.Adam(),loss=tf.losses.CategoricalCrossentropy(),metrics=[tf.metrics.CategoricalAccuracy()])\n",
        "#train the model with batch_size=32,for 40 epochs \n",
        "model.fit(x=x_train,y=y_train_hot,batch_size=32,epochs=40,validation_data=(x_val,y_val))"
      ],
      "execution_count": null,
      "outputs": [
        {
          "output_type": "stream",
          "name": "stdout",
          "text": [
            "Epoch 1/40\n",
            "938/938 [==============================] - 5s 5ms/step - loss: 0.7896 - categorical_accuracy: 0.7431 - val_loss: 0.2960 - val_categorical_accuracy: 0.9214\n",
            "Epoch 2/40\n",
            "938/938 [==============================] - 4s 5ms/step - loss: 0.4282 - categorical_accuracy: 0.8749 - val_loss: 0.2183 - val_categorical_accuracy: 0.9380\n",
            "Epoch 3/40\n",
            "938/938 [==============================] - 4s 5ms/step - loss: 0.3600 - categorical_accuracy: 0.8940 - val_loss: 0.1985 - val_categorical_accuracy: 0.9412\n",
            "Epoch 4/40\n",
            "938/938 [==============================] - 4s 4ms/step - loss: 0.3254 - categorical_accuracy: 0.9072 - val_loss: 0.1973 - val_categorical_accuracy: 0.9438\n",
            "Epoch 5/40\n",
            "938/938 [==============================] - 4s 4ms/step - loss: 0.3069 - categorical_accuracy: 0.9112 - val_loss: 0.1719 - val_categorical_accuracy: 0.9520\n",
            "Epoch 6/40\n",
            "938/938 [==============================] - 4s 5ms/step - loss: 0.2877 - categorical_accuracy: 0.9181 - val_loss: 0.1759 - val_categorical_accuracy: 0.9502\n",
            "Epoch 7/40\n",
            "938/938 [==============================] - 4s 4ms/step - loss: 0.2756 - categorical_accuracy: 0.9208 - val_loss: 0.1865 - val_categorical_accuracy: 0.9482\n",
            "Epoch 8/40\n",
            "938/938 [==============================] - 4s 5ms/step - loss: 0.2625 - categorical_accuracy: 0.9255 - val_loss: 0.1590 - val_categorical_accuracy: 0.9552\n",
            "Epoch 9/40\n",
            "938/938 [==============================] - 4s 5ms/step - loss: 0.2568 - categorical_accuracy: 0.9251 - val_loss: 0.1631 - val_categorical_accuracy: 0.9524\n",
            "Epoch 10/40\n",
            "938/938 [==============================] - 4s 4ms/step - loss: 0.2414 - categorical_accuracy: 0.9278 - val_loss: 0.1588 - val_categorical_accuracy: 0.9566\n",
            "Epoch 11/40\n",
            "938/938 [==============================] - 4s 5ms/step - loss: 0.2459 - categorical_accuracy: 0.9295 - val_loss: 0.1474 - val_categorical_accuracy: 0.9592\n",
            "Epoch 12/40\n",
            "938/938 [==============================] - 4s 5ms/step - loss: 0.2300 - categorical_accuracy: 0.9328 - val_loss: 0.1522 - val_categorical_accuracy: 0.9588\n",
            "Epoch 13/40\n",
            "938/938 [==============================] - 4s 4ms/step - loss: 0.2277 - categorical_accuracy: 0.9344 - val_loss: 0.1459 - val_categorical_accuracy: 0.9614\n",
            "Epoch 14/40\n",
            "938/938 [==============================] - 4s 5ms/step - loss: 0.2236 - categorical_accuracy: 0.9374 - val_loss: 0.1534 - val_categorical_accuracy: 0.9582\n",
            "Epoch 15/40\n",
            "938/938 [==============================] - 4s 4ms/step - loss: 0.2215 - categorical_accuracy: 0.9372 - val_loss: 0.1427 - val_categorical_accuracy: 0.9624\n",
            "Epoch 16/40\n",
            "938/938 [==============================] - 4s 5ms/step - loss: 0.2111 - categorical_accuracy: 0.9390 - val_loss: 0.1534 - val_categorical_accuracy: 0.9610\n",
            "Epoch 17/40\n",
            "938/938 [==============================] - 4s 4ms/step - loss: 0.2144 - categorical_accuracy: 0.9390 - val_loss: 0.1444 - val_categorical_accuracy: 0.9608\n",
            "Epoch 18/40\n",
            "938/938 [==============================] - 4s 5ms/step - loss: 0.2017 - categorical_accuracy: 0.9415 - val_loss: 0.1526 - val_categorical_accuracy: 0.9604\n",
            "Epoch 19/40\n",
            "938/938 [==============================] - 4s 5ms/step - loss: 0.2007 - categorical_accuracy: 0.9407 - val_loss: 0.1630 - val_categorical_accuracy: 0.9592\n",
            "Epoch 20/40\n",
            "938/938 [==============================] - 4s 5ms/step - loss: 0.2031 - categorical_accuracy: 0.9411 - val_loss: 0.1515 - val_categorical_accuracy: 0.9606\n",
            "Epoch 21/40\n",
            "938/938 [==============================] - 4s 5ms/step - loss: 0.1956 - categorical_accuracy: 0.9426 - val_loss: 0.1663 - val_categorical_accuracy: 0.9592\n",
            "Epoch 22/40\n",
            "938/938 [==============================] - 4s 4ms/step - loss: 0.1925 - categorical_accuracy: 0.9436 - val_loss: 0.1515 - val_categorical_accuracy: 0.9622\n",
            "Epoch 23/40\n",
            "938/938 [==============================] - 4s 4ms/step - loss: 0.2028 - categorical_accuracy: 0.9419 - val_loss: 0.1402 - val_categorical_accuracy: 0.9624\n",
            "Epoch 24/40\n",
            "938/938 [==============================] - 4s 5ms/step - loss: 0.1887 - categorical_accuracy: 0.9447 - val_loss: 0.1476 - val_categorical_accuracy: 0.9608\n",
            "Epoch 25/40\n",
            "938/938 [==============================] - 4s 5ms/step - loss: 0.1895 - categorical_accuracy: 0.9450 - val_loss: 0.1676 - val_categorical_accuracy: 0.9620\n",
            "Epoch 26/40\n",
            "938/938 [==============================] - 4s 4ms/step - loss: 0.1839 - categorical_accuracy: 0.9466 - val_loss: 0.1524 - val_categorical_accuracy: 0.9626\n",
            "Epoch 27/40\n",
            "938/938 [==============================] - 4s 5ms/step - loss: 0.1874 - categorical_accuracy: 0.9458 - val_loss: 0.1505 - val_categorical_accuracy: 0.9632\n",
            "Epoch 28/40\n",
            "938/938 [==============================] - 4s 4ms/step - loss: 0.1875 - categorical_accuracy: 0.9470 - val_loss: 0.1631 - val_categorical_accuracy: 0.9628\n",
            "Epoch 29/40\n",
            "938/938 [==============================] - 4s 4ms/step - loss: 0.1788 - categorical_accuracy: 0.9478 - val_loss: 0.1704 - val_categorical_accuracy: 0.9612\n",
            "Epoch 30/40\n",
            "938/938 [==============================] - 4s 5ms/step - loss: 0.1815 - categorical_accuracy: 0.9464 - val_loss: 0.1575 - val_categorical_accuracy: 0.9646\n",
            "Epoch 31/40\n",
            "938/938 [==============================] - 4s 4ms/step - loss: 0.1782 - categorical_accuracy: 0.9489 - val_loss: 0.1443 - val_categorical_accuracy: 0.9616\n",
            "Epoch 32/40\n",
            "938/938 [==============================] - 4s 4ms/step - loss: 0.1733 - categorical_accuracy: 0.9498 - val_loss: 0.1470 - val_categorical_accuracy: 0.9652\n",
            "Epoch 33/40\n",
            "938/938 [==============================] - 4s 5ms/step - loss: 0.1724 - categorical_accuracy: 0.9505 - val_loss: 0.1487 - val_categorical_accuracy: 0.9620\n",
            "Epoch 34/40\n",
            "938/938 [==============================] - 4s 5ms/step - loss: 0.1739 - categorical_accuracy: 0.9488 - val_loss: 0.1611 - val_categorical_accuracy: 0.9620\n",
            "Epoch 35/40\n",
            "938/938 [==============================] - 4s 4ms/step - loss: 0.1743 - categorical_accuracy: 0.9515 - val_loss: 0.1462 - val_categorical_accuracy: 0.9636\n",
            "Epoch 36/40\n",
            "938/938 [==============================] - 4s 4ms/step - loss: 0.1783 - categorical_accuracy: 0.9476 - val_loss: 0.1533 - val_categorical_accuracy: 0.9638\n",
            "Epoch 37/40\n",
            "938/938 [==============================] - 4s 5ms/step - loss: 0.1720 - categorical_accuracy: 0.9498 - val_loss: 0.1459 - val_categorical_accuracy: 0.9656\n",
            "Epoch 38/40\n",
            "938/938 [==============================] - 4s 5ms/step - loss: 0.1734 - categorical_accuracy: 0.9503 - val_loss: 0.1610 - val_categorical_accuracy: 0.9622\n",
            "Epoch 39/40\n",
            "938/938 [==============================] - 4s 5ms/step - loss: 0.1734 - categorical_accuracy: 0.9506 - val_loss: 0.1390 - val_categorical_accuracy: 0.9668\n",
            "Epoch 40/40\n",
            "938/938 [==============================] - 4s 4ms/step - loss: 0.1732 - categorical_accuracy: 0.9493 - val_loss: 0.1584 - val_categorical_accuracy: 0.9618\n"
          ]
        },
        {
          "output_type": "execute_result",
          "data": {
            "text/plain": [
              "<keras.callbacks.History at 0x7f58b901a790>"
            ]
          },
          "metadata": {},
          "execution_count": 78
        }
      ]
    },
    {
      "cell_type": "code",
      "metadata": {
        "id": "nlMDwYEYeTK9",
        "colab": {
          "base_uri": "https://localhost:8080/",
          "height": 284
        },
        "outputId": "8c508398-4106-4558-8b94-d8d464ea4501"
      },
      "source": [
        "hist=pd.DataFrame(model.history.history)#plot history\n",
        "hist.plot()"
      ],
      "execution_count": null,
      "outputs": [
        {
          "output_type": "execute_result",
          "data": {
            "text/plain": [
              "<matplotlib.axes._subplots.AxesSubplot at 0x7f58ab4c1790>"
            ]
          },
          "metadata": {},
          "execution_count": 79
        },
        {
          "output_type": "display_data",
          "data": {
            "image/png": "[encoded data removed]",
            "text/plain": [
              "<Figure size 432x288 with 1 Axes>"
            ]
          },
          "metadata": {
            "needs_background": "light"
          }
        }
      ]
    },
    {
      "cell_type": "code",
      "metadata": {
        "colab": {
          "base_uri": "https://localhost:8080/"
        },
        "id": "3o79m-fOeBOW",
        "outputId": "53d0b1e8-47c7-4fc4-c0d9-e3d20b7552a3"
      },
      "source": [
        "#test the model on the test dataset \n",
        "pred=model.predict(x_test)\n",
        "tf.argmax(pred,axis=-1)"
      ],
      "execution_count": null,
      "outputs": [
        {
          "output_type": "execute_result",
          "data": {
            "text/plain": [
              "<tf.Tensor: shape=(5000,), dtype=int64, numpy=array([3, 9, 9, ..., 4, 5, 6])>"
            ]
          },
          "metadata": {},
          "execution_count": 80
        }
      ]
    },
    {
      "cell_type": "markdown",
      "metadata": {
        "id": "oIQTx7AzEa08"
      },
      "source": [
        "###testing"
      ]
    },
    {
      "cell_type": "code",
      "metadata": {
        "colab": {
          "base_uri": "https://localhost:8080/"
        },
        "id": "bdGMyfUb_KJS",
        "outputId": "e03de7b9-f50b-433f-9629-98da11fec5b7"
      },
      "source": [
        "acc=tf.reduce_mean(tf.metrics.categorical_accuracy(y_test_hot,pred))#model accuracy\n",
        "print('acc:',acc)\n",
        "loss=tf.reduce_mean(tf.metrics.categorical_crossentropy(y_test_hot,pred))#loss\n",
        "print('loss:',loss)\n",
        "pr=metrics.precision_score(y_test,np.argmax(pred,-1),average='weighted')#precision\n",
        "print('pr:',pr)\n",
        "re=metrics.recall_score(y_test,np.argmax(pred,-1),average='weighted')#recall\n",
        "print('re:',re)\n",
        "confusion_matrix=metrics.confusion_matrix(y_test,np.argmax(pred,-1))"
      ],
      "execution_count": null,
      "outputs": [
        {
          "output_type": "stream",
          "name": "stdout",
          "text": [
            "acc: tf.Tensor(0.9776, shape=(), dtype=float32)\n",
            "loss: tf.Tensor(0.089407995, shape=(), dtype=float32)\n",
            "pr: 0.9777670986838856\n",
            "re: 0.9776\n"
          ]
        }
      ]
    },
    {
      "cell_type": "code",
      "metadata": {
        "id": "k1QD7sIu_Rg0",
        "colab": {
          "base_uri": "https://localhost:8080/",
          "height": 337
        },
        "outputId": "185c7d80-c4d2-4c76-b1d2-21b1bc007b26"
      },
      "source": [
        "import seaborn as sns\n",
        "plt.figure(figsize=(5,5))\n",
        "sns.heatmap(confusion_matrix,annot=True,)"
      ],
      "execution_count": null,
      "outputs": [
        {
          "output_type": "execute_result",
          "data": {
            "text/plain": [
              "<matplotlib.axes._subplots.AxesSubplot at 0x7f58af15a950>"
            ]
          },
          "metadata": {},
          "execution_count": 82
        },
        {
          "output_type": "display_data",
          "data": {
            "image/png": "[encoded data removed]",
            "text/plain": [
              "<Figure size 360x360 with 2 Axes>"
            ]
          },
          "metadata": {
            "needs_background": "light"
          }
        }
      ]
    },
    {
      "cell_type": "markdown",
      "metadata": {
        "id": "Dq4LCx8rPq80"
      },
      "source": [
        "#Choose the best model"
      ]
    },
    {
      "cell_type": "code",
      "metadata": {
        "id": "wqybqmZwQnYx"
      },
      "source": [
        "# the best model is DNN \n",
        "#acc: 0.9776 \n",
        "#loss: 0.089407995\n",
        "#pr: 0.9777670986838856\n",
        "#re: 0.9776"
      ],
      "execution_count": null,
      "outputs": []
    }
  ]
}