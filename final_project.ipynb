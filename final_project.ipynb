{
  "nbformat": 4,
  "nbformat_minor": 0,
  "metadata": {
    "colab": {
      "name": "heart failure.ipynb",
      "provenance": [],
      "collapsed_sections": [
        "1iTtfYm4iegO",
        "afXL5DKBi1S4",
        "iX9wkBUmta1b",
        "6uaaxsfQtpO9",
        "aImImQxgtzMv",
        "SaVWQJjGuSuc",
        "j6GaUTQ0vcRm"
      ]
    },
    "kernelspec": {
      "name": "python3",
      "display_name": "Python 3"
    },
    "language_info": {
      "name": "python"
    }
  },
  "cells": [
    {
      "cell_type": "markdown",
      "metadata": {
        "id": "1iTtfYm4iegO"
      },
      "source": [
        "#Introduction"
      ]
    },
    {
      "cell_type": "markdown",
      "metadata": {
        "id": "rzIwvMMeipUF"
      },
      "source": [
        "This notebook will present some of the most popular models for classification in Machine Learning like Logistic Regression, K-Nearest Neighbor, Support Vector Machines, Decision Trees and DNN. For this purpose, I'll use a dataset containing different characteristics of patients to predict heart failures."
      ]
    },
    {
      "cell_type": "markdown",
      "metadata": {
        "id": "afXL5DKBi1S4"
      },
      "source": [
        "#Preprocessing the Data"
      ]
    },
    {
      "cell_type": "code",
      "metadata": {
        "id": "cxiIpi5Vv_zt"
      },
      "source": [
        "#import Libraries\n",
        "from sklearn import model_selection,metrics,preprocessing,linear_model,tree,svm,datasets,neighbors\n",
        "from keras.wrappers.scikit_learn import KerasClassifier\n",
        "import pandas as pd \n",
        "import numpy as np \n",
        "import matplotlib.pyplot as plt\n",
        "import tensorflow as tf "
      ],
      "execution_count": null,
      "outputs": []
    },
    {
      "cell_type": "code",
      "metadata": {
        "id": "CpSO9ZKtr4VO",
        "colab": {
          "base_uri": "https://localhost:8080/",
          "height": 205
        },
        "outputId": "0b7b2da9-c081-4fd8-b106-7e6568095fab"
      },
      "source": [
        "#load heart dataset \n",
        "data=pd.read_csv('/content/heart.csv')\n",
        "data.head() "
      ],
      "execution_count": null,
      "outputs": [
        {
          "output_type": "execute_result",
          "data": {
            "text/html": [
              "<div>\n",
              "<style scoped>\n",
              "    .dataframe tbody tr th:only-of-type {\n",
              "        vertical-align: middle;\n",
              "    }\n",
              "\n",
              "    .dataframe tbody tr th {\n",
              "        vertical-align: top;\n",
              "    }\n",
              "\n",
              "    .dataframe thead th {\n",
              "        text-align: right;\n",
              "    }\n",
              "</style>\n",
              "<table border=\"1\" class=\"dataframe\">\n",
              "  <thead>\n",
              "    <tr style=\"text-align: right;\">\n",
              "      <th></th>\n",
              "      <th>Age</th>\n",
              "      <th>Sex</th>\n",
              "      <th>ChestPainType</th>\n",
              "      <th>RestingBP</th>\n",
              "      <th>Cholesterol</th>\n",
              "      <th>FastingBS</th>\n",
              "      <th>RestingECG</th>\n",
              "      <th>MaxHR</th>\n",
              "      <th>ExerciseAngina</th>\n",
              "      <th>Oldpeak</th>\n",
              "      <th>ST_Slope</th>\n",
              "      <th>HeartDisease</th>\n",
              "    </tr>\n",
              "  </thead>\n",
              "  <tbody>\n",
              "    <tr>\n",
              "      <th>0</th>\n",
              "      <td>40</td>\n",
              "      <td>M</td>\n",
              "      <td>ATA</td>\n",
              "      <td>140</td>\n",
              "      <td>289</td>\n",
              "      <td>0</td>\n",
              "      <td>Normal</td>\n",
              "      <td>172</td>\n",
              "      <td>N</td>\n",
              "      <td>0.0</td>\n",
              "      <td>Up</td>\n",
              "      <td>0</td>\n",
              "    </tr>\n",
              "    <tr>\n",
              "      <th>1</th>\n",
              "      <td>49</td>\n",
              "      <td>F</td>\n",
              "      <td>NAP</td>\n",
              "      <td>160</td>\n",
              "      <td>180</td>\n",
              "      <td>0</td>\n",
              "      <td>Normal</td>\n",
              "      <td>156</td>\n",
              "      <td>N</td>\n",
              "      <td>1.0</td>\n",
              "      <td>Flat</td>\n",
              "      <td>1</td>\n",
              "    </tr>\n",
              "    <tr>\n",
              "      <th>2</th>\n",
              "      <td>37</td>\n",
              "      <td>M</td>\n",
              "      <td>ATA</td>\n",
              "      <td>130</td>\n",
              "      <td>283</td>\n",
              "      <td>0</td>\n",
              "      <td>ST</td>\n",
              "      <td>98</td>\n",
              "      <td>N</td>\n",
              "      <td>0.0</td>\n",
              "      <td>Up</td>\n",
              "      <td>0</td>\n",
              "    </tr>\n",
              "    <tr>\n",
              "      <th>3</th>\n",
              "      <td>48</td>\n",
              "      <td>F</td>\n",
              "      <td>ASY</td>\n",
              "      <td>138</td>\n",
              "      <td>214</td>\n",
              "      <td>0</td>\n",
              "      <td>Normal</td>\n",
              "      <td>108</td>\n",
              "      <td>Y</td>\n",
              "      <td>1.5</td>\n",
              "      <td>Flat</td>\n",
              "      <td>1</td>\n",
              "    </tr>\n",
              "    <tr>\n",
              "      <th>4</th>\n",
              "      <td>54</td>\n",
              "      <td>M</td>\n",
              "      <td>NAP</td>\n",
              "      <td>150</td>\n",
              "      <td>195</td>\n",
              "      <td>0</td>\n",
              "      <td>Normal</td>\n",
              "      <td>122</td>\n",
              "      <td>N</td>\n",
              "      <td>0.0</td>\n",
              "      <td>Up</td>\n",
              "      <td>0</td>\n",
              "    </tr>\n",
              "  </tbody>\n",
              "</table>\n",
              "</div>"
            ],
            "text/plain": [
              "   Age Sex ChestPainType  ...  Oldpeak  ST_Slope  HeartDisease\n",
              "0   40   M           ATA  ...      0.0        Up             0\n",
              "1   49   F           NAP  ...      1.0      Flat             1\n",
              "2   37   M           ATA  ...      0.0        Up             0\n",
              "3   48   F           ASY  ...      1.5      Flat             1\n",
              "4   54   M           NAP  ...      0.0        Up             0\n",
              "\n",
              "[5 rows x 12 columns]"
            ]
          },
          "metadata": {},
          "execution_count": 2
        }
      ]
    },
    {
      "cell_type": "code",
      "metadata": {
        "colab": {
          "base_uri": "https://localhost:8080/",
          "height": 645
        },
        "id": "AzMKFMLEr7JJ",
        "outputId": "882f0fdb-6745-4425-90aa-c49dc4739d61"
      },
      "source": [
        "#describe a DataFream and info\n",
        "data.info()\n",
        "data.describe()"
      ],
      "execution_count": null,
      "outputs": [
        {
          "output_type": "stream",
          "name": "stdout",
          "text": [
            "<class 'pandas.core.frame.DataFrame'>\n",
            "RangeIndex: 918 entries, 0 to 917\n",
            "Data columns (total 12 columns):\n",
            " #   Column          Non-Null Count  Dtype  \n",
            "---  ------          --------------  -----  \n",
            " 0   Age             918 non-null    int64  \n",
            " 1   Sex             918 non-null    object \n",
            " 2   ChestPainType   918 non-null    object \n",
            " 3   RestingBP       918 non-null    int64  \n",
            " 4   Cholesterol     918 non-null    int64  \n",
            " 5   FastingBS       918 non-null    int64  \n",
            " 6   RestingECG      918 non-null    object \n",
            " 7   MaxHR           918 non-null    int64  \n",
            " 8   ExerciseAngina  918 non-null    object \n",
            " 9   Oldpeak         918 non-null    float64\n",
            " 10  ST_Slope        918 non-null    object \n",
            " 11  HeartDisease    918 non-null    int64  \n",
            "dtypes: float64(1), int64(6), object(5)\n",
            "memory usage: 86.2+ KB\n"
          ]
        },
        {
          "output_type": "execute_result",
          "data": {
            "text/html": [
              "<div>\n",
              "<style scoped>\n",
              "    .dataframe tbody tr th:only-of-type {\n",
              "        vertical-align: middle;\n",
              "    }\n",
              "\n",
              "    .dataframe tbody tr th {\n",
              "        vertical-align: top;\n",
              "    }\n",
              "\n",
              "    .dataframe thead th {\n",
              "        text-align: right;\n",
              "    }\n",
              "</style>\n",
              "<table border=\"1\" class=\"dataframe\">\n",
              "  <thead>\n",
              "    <tr style=\"text-align: right;\">\n",
              "      <th></th>\n",
              "      <th>Age</th>\n",
              "      <th>RestingBP</th>\n",
              "      <th>Cholesterol</th>\n",
              "      <th>FastingBS</th>\n",
              "      <th>MaxHR</th>\n",
              "      <th>Oldpeak</th>\n",
              "      <th>HeartDisease</th>\n",
              "    </tr>\n",
              "  </thead>\n",
              "  <tbody>\n",
              "    <tr>\n",
              "      <th>count</th>\n",
              "      <td>918.000000</td>\n",
              "      <td>918.000000</td>\n",
              "      <td>918.000000</td>\n",
              "      <td>918.000000</td>\n",
              "      <td>918.000000</td>\n",
              "      <td>918.000000</td>\n",
              "      <td>918.000000</td>\n",
              "    </tr>\n",
              "    <tr>\n",
              "      <th>mean</th>\n",
              "      <td>53.510893</td>\n",
              "      <td>132.396514</td>\n",
              "      <td>198.799564</td>\n",
              "      <td>0.233115</td>\n",
              "      <td>136.809368</td>\n",
              "      <td>0.887364</td>\n",
              "      <td>0.553377</td>\n",
              "    </tr>\n",
              "    <tr>\n",
              "      <th>std</th>\n",
              "      <td>9.432617</td>\n",
              "      <td>18.514154</td>\n",
              "      <td>109.384145</td>\n",
              "      <td>0.423046</td>\n",
              "      <td>25.460334</td>\n",
              "      <td>1.066570</td>\n",
              "      <td>0.497414</td>\n",
              "    </tr>\n",
              "    <tr>\n",
              "      <th>min</th>\n",
              "      <td>28.000000</td>\n",
              "      <td>0.000000</td>\n",
              "      <td>0.000000</td>\n",
              "      <td>0.000000</td>\n",
              "      <td>60.000000</td>\n",
              "      <td>-2.600000</td>\n",
              "      <td>0.000000</td>\n",
              "    </tr>\n",
              "    <tr>\n",
              "      <th>25%</th>\n",
              "      <td>47.000000</td>\n",
              "      <td>120.000000</td>\n",
              "      <td>173.250000</td>\n",
              "      <td>0.000000</td>\n",
              "      <td>120.000000</td>\n",
              "      <td>0.000000</td>\n",
              "      <td>0.000000</td>\n",
              "    </tr>\n",
              "    <tr>\n",
              "      <th>50%</th>\n",
              "      <td>54.000000</td>\n",
              "      <td>130.000000</td>\n",
              "      <td>223.000000</td>\n",
              "      <td>0.000000</td>\n",
              "      <td>138.000000</td>\n",
              "      <td>0.600000</td>\n",
              "      <td>1.000000</td>\n",
              "    </tr>\n",
              "    <tr>\n",
              "      <th>75%</th>\n",
              "      <td>60.000000</td>\n",
              "      <td>140.000000</td>\n",
              "      <td>267.000000</td>\n",
              "      <td>0.000000</td>\n",
              "      <td>156.000000</td>\n",
              "      <td>1.500000</td>\n",
              "      <td>1.000000</td>\n",
              "    </tr>\n",
              "    <tr>\n",
              "      <th>max</th>\n",
              "      <td>77.000000</td>\n",
              "      <td>200.000000</td>\n",
              "      <td>603.000000</td>\n",
              "      <td>1.000000</td>\n",
              "      <td>202.000000</td>\n",
              "      <td>6.200000</td>\n",
              "      <td>1.000000</td>\n",
              "    </tr>\n",
              "  </tbody>\n",
              "</table>\n",
              "</div>"
            ],
            "text/plain": [
              "              Age   RestingBP  ...     Oldpeak  HeartDisease\n",
              "count  918.000000  918.000000  ...  918.000000    918.000000\n",
              "mean    53.510893  132.396514  ...    0.887364      0.553377\n",
              "std      9.432617   18.514154  ...    1.066570      0.497414\n",
              "min     28.000000    0.000000  ...   -2.600000      0.000000\n",
              "25%     47.000000  120.000000  ...    0.000000      0.000000\n",
              "50%     54.000000  130.000000  ...    0.600000      1.000000\n",
              "75%     60.000000  140.000000  ...    1.500000      1.000000\n",
              "max     77.000000  200.000000  ...    6.200000      1.000000\n",
              "\n",
              "[8 rows x 7 columns]"
            ]
          },
          "metadata": {},
          "execution_count": 3
        }
      ]
    },
    {
      "cell_type": "code",
      "metadata": {
        "colab": {
          "base_uri": "https://localhost:8080/"
        },
        "id": "6Qi5qKqPlFl1",
        "outputId": "2969a6be-11fe-415c-9f8e-d2ea0b162596"
      },
      "source": [
        "# Do we have duplicates?\n",
        "print('Number of Duplicates:', len(data[data.duplicated()]))\n",
        "\n",
        "# Do we have missing values?\n",
        "print('Number of Missing Values:', data.isnull().sum().sum())"
      ],
      "execution_count": null,
      "outputs": [
        {
          "output_type": "stream",
          "name": "stdout",
          "text": [
            "Number of Duplicates: 0\n",
            "Number of Missing Values: 0\n"
          ]
        }
      ]
    },
    {
      "cell_type": "code",
      "metadata": {
        "id": "7UoLCsLwsc9c"
      },
      "source": [
        "#Convert text values to numerical values in (RestingECG,ChestPainType,ExerciseAngina,ST_Slope,Sex)\n",
        "def convert_text_to_num(x):\n",
        "  set_x=set(x)\n",
        "  index_w={}\n",
        "  w_index={}\n",
        "  for i,w in enumerate(set_x):\n",
        "    index_w[i]=w\n",
        "    w_index[w]=i\n",
        "  x=x.replace(w_index)\n",
        "  return x,w_index,index_w "
      ],
      "execution_count": null,
      "outputs": []
    },
    {
      "cell_type": "code",
      "metadata": {
        "id": "Dg-kmWXPsflQ"
      },
      "source": [
        "data.RestingECG,RestingECG_1_w_index,RestingECG_1_w_index=convert_text_to_num(data.RestingECG)\n",
        "data.ChestPainType,ChestPainType_1_w_index,ChestPainType_1_w_index=convert_text_to_num(data.ChestPainType)\n",
        "data.ExerciseAngina,ExerciseAngina_1_w_index,ExerciseAngina_1_w_index=convert_text_to_num(data.ExerciseAngina)\n",
        "data.ST_Slope,ST_Slope_1_w_index,ST_Slope_1_w_index=convert_text_to_num(data.ST_Slope)\n",
        "data.Sex,Sex_1_w_index,Sex_1_w_index=convert_text_to_num(data.Sex)"
      ],
      "execution_count": null,
      "outputs": []
    },
    {
      "cell_type": "code",
      "metadata": {
        "colab": {
          "base_uri": "https://localhost:8080/"
        },
        "id": "lIz-GmxLshfv",
        "outputId": "49cd6c54-5f2e-4a2d-e242-ee5998c626b4"
      },
      "source": [
        "# Set up X and y variables\n",
        "x=data.iloc[:,0:11] #Split the data  inputs(features (x))\n",
        "print('feauter are : ','\\n' ,x)\n",
        "\n",
        "y=data.iloc[:,11:]#split the data output(target(y))\n",
        "print('target is:','\\n' ,y)"
      ],
      "execution_count": null,
      "outputs": [
        {
          "output_type": "stream",
          "name": "stdout",
          "text": [
            "feauter are :  \n",
            "      Age  Sex  ChestPainType  ...  ExerciseAngina  Oldpeak  ST_Slope\n",
            "0     40    0              1  ...               1      0.0         0\n",
            "1     49    1              0  ...               1      1.0         2\n",
            "2     37    0              1  ...               1      0.0         0\n",
            "3     48    1              2  ...               0      1.5         2\n",
            "4     54    0              0  ...               1      0.0         0\n",
            "..   ...  ...            ...  ...             ...      ...       ...\n",
            "913   45    0              3  ...               1      1.2         2\n",
            "914   68    0              2  ...               1      3.4         2\n",
            "915   57    0              2  ...               0      1.2         2\n",
            "916   57    1              1  ...               1      0.0         2\n",
            "917   38    0              0  ...               1      0.0         0\n",
            "\n",
            "[918 rows x 11 columns]\n",
            "target is: \n",
            "      HeartDisease\n",
            "0               0\n",
            "1               1\n",
            "2               0\n",
            "3               1\n",
            "4               0\n",
            "..            ...\n",
            "913             1\n",
            "914             1\n",
            "915             1\n",
            "916             1\n",
            "917             0\n",
            "\n",
            "[918 rows x 1 columns]\n"
          ]
        }
      ]
    },
    {
      "cell_type": "code",
      "metadata": {
        "colab": {
          "base_uri": "https://localhost:8080/",
          "height": 435
        },
        "id": "Gl-HptX2snvI",
        "outputId": "479a64b3-e6d2-4d24-aa47-cc18c867c218"
      },
      "source": [
        "plt.hist(data) #show the histogram "
      ],
      "execution_count": null,
      "outputs": [
        {
          "output_type": "execute_result",
          "data": {
            "text/plain": [
              "(array([[9., 0., 2., ..., 0., 0., 0.],\n",
              "        [9., 0., 2., ..., 0., 0., 0.],\n",
              "        [9., 1., 1., ..., 0., 0., 0.],\n",
              "        ...,\n",
              "        [9., 1., 2., ..., 0., 0., 0.],\n",
              "        [9., 0., 2., ..., 0., 0., 0.],\n",
              "        [9., 0., 3., ..., 0., 0., 0.]]),\n",
              " array([ -2.6 ,  57.96, 118.52, 179.08, 239.64, 300.2 , 360.76, 421.32,\n",
              "        481.88, 542.44, 603.  ]),\n",
              " <a list of 918 Lists of Patches objects>)"
            ]
          },
          "metadata": {},
          "execution_count": 23
        },
        {
          "output_type": "display_data",
          "data": {
            "image/png": "[encoded data removed]",
            "text/plain": [
              "<Figure size 432x288 with 1 Axes>"
            ]
          },
          "metadata": {
            "needs_background": "light"
          }
        }
      ]
    },
    {
      "cell_type": "code",
      "metadata": {
        "id": "7UtWXvbfsp3v"
      },
      "source": [
        "#normalization for features\n",
        "x_normalizer=preprocessing.StandardScaler()\n",
        "x_norm=x_normalizer.fit_transform(x)\n"
      ],
      "execution_count": null,
      "outputs": []
    },
    {
      "cell_type": "code",
      "metadata": {
        "colab": {
          "base_uri": "https://localhost:8080/"
        },
        "id": "-G96g7SJst8c",
        "outputId": "650b727f-7ec8-4ce1-aa2c-f6301c541aab"
      },
      "source": [
        "# Split the data into training and test samples\n",
        "x_train,x_test,y_train,y_test=model_selection.train_test_split(x_norm,y,test_size=0.1,random_state=42,stratify=y)\n",
        "print('x_train :',x_train.shape), print('y_train: ',y_train.shape)\n",
        "print('x_test :',x_test.shape), print('y_test :',y_test.shape)\n"
      ],
      "execution_count": null,
      "outputs": [
        {
          "output_type": "stream",
          "name": "stdout",
          "text": [
            "x_train : (826, 11)\n",
            "y_train:  (826, 1)\n",
            "x_test : (92, 11)\n",
            "y_test : (92, 1)\n"
          ]
        },
        {
          "output_type": "execute_result",
          "data": {
            "text/plain": [
              "(None, None)"
            ]
          },
          "metadata": {},
          "execution_count": 9
        }
      ]
    },
    {
      "cell_type": "markdown",
      "metadata": {
        "id": "YRTslCyOqL_8"
      },
      "source": [
        "#Modelling"
      ]
    },
    {
      "cell_type": "markdown",
      "metadata": {
        "id": "iX9wkBUmta1b"
      },
      "source": [
        "#1- KNN"
      ]
    },
    {
      "cell_type": "code",
      "metadata": {
        "colab": {
          "base_uri": "https://localhost:8080/"
        },
        "id": "VmT1MHXNtb-o",
        "outputId": "01c3af18-10ba-409f-fd8e-d839b882bf24"
      },
      "source": [
        "#create KNN Classifier\n",
        "neig=neighbors.KNeighborsClassifier(n_neighbors=12,metric= 'manhattan')\n",
        "#train the model\n",
        "neig.fit(x_train,y_train)"
      ],
      "execution_count": null,
      "outputs": [
        {
          "output_type": "stream",
          "name": "stderr",
          "text": [
            "/usr/local/lib/python3.7/dist-packages/ipykernel_launcher.py:4: DataConversionWarning: A column-vector y was passed when a 1d array was expected. Please change the shape of y to (n_samples, ), for example using ravel().\n",
            "  after removing the cwd from sys.path.\n"
          ]
        },
        {
          "output_type": "execute_result",
          "data": {
            "text/plain": [
              "KNeighborsClassifier(algorithm='auto', leaf_size=30, metric='manhattan',\n",
              "                     metric_params=None, n_jobs=None, n_neighbors=12, p=2,\n",
              "                     weights='uniform')"
            ]
          },
          "metadata": {},
          "execution_count": 10
        }
      ]
    },
    {
      "cell_type": "code",
      "metadata": {
        "id": "BfCZAAL5tcnf"
      },
      "source": [
        "\n",
        "scoring = {\n",
        "    'accuracy': metrics.make_scorer(metrics.accuracy_score),\n",
        "    'precision': metrics.make_scorer(metrics.precision_score), \n",
        "    'recall': metrics.make_scorer(metrics.recall_score)\n",
        "    }\n",
        "   \n",
        "params = {'n_neighbors' :[1 ,2,3,4,5,6,7,8,9,10],\n",
        "          'metric' :['euclidean','manhattan','minkowski'],\n",
        "          'weights':['uniform', 'distance']\n",
        "\n",
        "          \n",
        "          \n",
        " \n",
        "\n",
        "    \n",
        "          }\n",
        "   \n",
        "\n",
        "gs = model_selection.GridSearchCV(neig, params, scoring=scoring, refit='recall', verbose=2)"
      ],
      "execution_count": null,
      "outputs": []
    },
    {
      "cell_type": "code",
      "metadata": {
        "id": "Iz-DHFB9thVH",
        "colab": {
          "base_uri": "https://localhost:8080/"
        },
        "outputId": "90c57eff-c9b7-4a76-99ac-1138a8614894"
      },
      "source": [
        "gs.fit(x_norm,y)"
      ],
      "execution_count": null,
      "outputs": [
        {
          "output_type": "stream",
          "name": "stdout",
          "text": [
            "Fitting 5 folds for each of 60 candidates, totalling 300 fits\n",
            "[CV] metric=euclidean, n_neighbors=1, weights=uniform ................\n",
            "[CV] . metric=euclidean, n_neighbors=1, weights=uniform, total=   0.0s\n",
            "[CV] metric=euclidean, n_neighbors=1, weights=uniform ................\n",
            "[CV] . metric=euclidean, n_neighbors=1, weights=uniform, total=   0.0s\n",
            "[CV] metric=euclidean, n_neighbors=1, weights=uniform ................\n",
            "[CV] . metric=euclidean, n_neighbors=1, weights=uniform, total=   0.0s\n",
            "[CV] metric=euclidean, n_neighbors=1, weights=uniform ................\n",
            "[CV] . metric=euclidean, n_neighbors=1, weights=uniform, total=   0.0s\n",
            "[CV] metric=euclidean, n_neighbors=1, weights=uniform ................\n",
            "[CV] . metric=euclidean, n_neighbors=1, weights=uniform, total=   0.0s\n",
            "[CV] metric=euclidean, n_neighbors=1, weights=distance ...............\n",
            "[CV]  metric=euclidean, n_neighbors=1, weights=distance, total=   0.0s\n",
            "[CV] metric=euclidean, n_neighbors=1, weights=distance ...............\n",
            "[CV]  metric=euclidean, n_neighbors=1, weights=distance, total=   0.0s\n",
            "[CV] metric=euclidean, n_neighbors=1, weights=distance ...............\n",
            "[CV]  metric=euclidean, n_neighbors=1, weights=distance, total=   0.0s\n",
            "[CV] metric=euclidean, n_neighbors=1, weights=distance ...............\n",
            "[CV]  metric=euclidean, n_neighbors=1, weights=distance, total=   0.0s\n",
            "[CV] metric=euclidean, n_neighbors=1, weights=distance ...............\n",
            "[CV]  metric=euclidean, n_neighbors=1, weights=distance, total=   0.0s\n",
            "[CV] metric=euclidean, n_neighbors=2, weights=uniform ................\n",
            "[CV] . metric=euclidean, n_neighbors=2, weights=uniform, total=   0.0s\n",
            "[CV] metric=euclidean, n_neighbors=2, weights=uniform ................\n",
            "[CV] . metric=euclidean, n_neighbors=2, weights=uniform, total=   0.0s\n",
            "[CV] metric=euclidean, n_neighbors=2, weights=uniform ................\n",
            "[CV] . metric=euclidean, n_neighbors=2, weights=uniform, total=   0.0s\n",
            "[CV] metric=euclidean, n_neighbors=2, weights=uniform ................\n"
          ]
        },
        {
          "output_type": "stream",
          "name": "stderr",
          "text": [
            "[Parallel(n_jobs=1)]: Using backend SequentialBackend with 1 concurrent workers.\n",
            "/usr/local/lib/python3.7/dist-packages/sklearn/model_selection/_validation.py:515: DataConversionWarning: A column-vector y was passed when a 1d array was expected. Please change the shape of y to (n_samples, ), for example using ravel().\n",
            "  estimator.fit(X_train, y_train, **fit_params)\n",
            "[Parallel(n_jobs=1)]: Done   1 out of   1 | elapsed:    0.0s remaining:    0.0s\n",
            "/usr/local/lib/python3.7/dist-packages/sklearn/model_selection/_validation.py:515: DataConversionWarning: A column-vector y was passed when a 1d array was expected. Please change the shape of y to (n_samples, ), for example using ravel().\n",
            "  estimator.fit(X_train, y_train, **fit_params)\n",
            "/usr/local/lib/python3.7/dist-packages/sklearn/model_selection/_validation.py:515: DataConversionWarning: A column-vector y was passed when a 1d array was expected. Please change the shape of y to (n_samples, ), for example using ravel().\n",
            "  estimator.fit(X_train, y_train, **fit_params)\n",
            "/usr/local/lib/python3.7/dist-packages/sklearn/model_selection/_validation.py:515: DataConversionWarning: A column-vector y was passed when a 1d array was expected. Please change the shape of y to (n_samples, ), for example using ravel().\n",
            "  estimator.fit(X_train, y_train, **fit_params)\n",
            "/usr/local/lib/python3.7/dist-packages/sklearn/model_selection/_validation.py:515: DataConversionWarning: A column-vector y was passed when a 1d array was expected. Please change the shape of y to (n_samples, ), for example using ravel().\n",
            "  estimator.fit(X_train, y_train, **fit_params)\n",
            "/usr/local/lib/python3.7/dist-packages/sklearn/model_selection/_validation.py:515: DataConversionWarning: A column-vector y was passed when a 1d array was expected. Please change the shape of y to (n_samples, ), for example using ravel().\n",
            "  estimator.fit(X_train, y_train, **fit_params)\n",
            "/usr/local/lib/python3.7/dist-packages/sklearn/model_selection/_validation.py:515: DataConversionWarning: A column-vector y was passed when a 1d array was expected. Please change the shape of y to (n_samples, ), for example using ravel().\n",
            "  estimator.fit(X_train, y_train, **fit_params)\n",
            "/usr/local/lib/python3.7/dist-packages/sklearn/model_selection/_validation.py:515: DataConversionWarning: A column-vector y was passed when a 1d array was expected. Please change the shape of y to (n_samples, ), for example using ravel().\n",
            "  estimator.fit(X_train, y_train, **fit_params)\n",
            "/usr/local/lib/python3.7/dist-packages/sklearn/model_selection/_validation.py:515: DataConversionWarning: A column-vector y was passed when a 1d array was expected. Please change the shape of y to (n_samples, ), for example using ravel().\n",
            "  estimator.fit(X_train, y_train, **fit_params)\n",
            "/usr/local/lib/python3.7/dist-packages/sklearn/model_selection/_validation.py:515: DataConversionWarning: A column-vector y was passed when a 1d array was expected. Please change the shape of y to (n_samples, ), for example using ravel().\n",
            "  estimator.fit(X_train, y_train, **fit_params)\n",
            "/usr/local/lib/python3.7/dist-packages/sklearn/model_selection/_validation.py:515: DataConversionWarning: A column-vector y was passed when a 1d array was expected. Please change the shape of y to (n_samples, ), for example using ravel().\n",
            "  estimator.fit(X_train, y_train, **fit_params)\n",
            "/usr/local/lib/python3.7/dist-packages/sklearn/model_selection/_validation.py:515: DataConversionWarning: A column-vector y was passed when a 1d array was expected. Please change the shape of y to (n_samples, ), for example using ravel().\n",
            "  estimator.fit(X_train, y_train, **fit_params)\n",
            "/usr/local/lib/python3.7/dist-packages/sklearn/model_selection/_validation.py:515: DataConversionWarning: A column-vector y was passed when a 1d array was expected. Please change the shape of y to (n_samples, ), for example using ravel().\n",
            "  estimator.fit(X_train, y_train, **fit_params)\n",
            "/usr/local/lib/python3.7/dist-packages/sklearn/model_selection/_validation.py:515: DataConversionWarning: A column-vector y was passed when a 1d array was expected. Please change the shape of y to (n_samples, ), for example using ravel().\n",
            "  estimator.fit(X_train, y_train, **fit_params)\n",
            "/usr/local/lib/python3.7/dist-packages/sklearn/model_selection/_validation.py:515: DataConversionWarning: A column-vector y was passed when a 1d array was expected. Please change the shape of y to (n_samples, ), for example using ravel().\n",
            "  estimator.fit(X_train, y_train, **fit_params)\n"
          ]
        },
        {
          "output_type": "stream",
          "name": "stdout",
          "text": [
            "[CV] . metric=euclidean, n_neighbors=2, weights=uniform, total=   0.0s\n",
            "[CV] metric=euclidean, n_neighbors=2, weights=uniform ................\n",
            "[CV] . metric=euclidean, n_neighbors=2, weights=uniform, total=   0.0s\n",
            "[CV] metric=euclidean, n_neighbors=2, weights=distance ...............\n",
            "[CV]  metric=euclidean, n_neighbors=2, weights=distance, total=   0.0s\n",
            "[CV] metric=euclidean, n_neighbors=2, weights=distance ...............\n",
            "[CV]  metric=euclidean, n_neighbors=2, weights=distance, total=   0.0s\n",
            "[CV] metric=euclidean, n_neighbors=2, weights=distance ...............\n",
            "[CV]  metric=euclidean, n_neighbors=2, weights=distance, total=   0.0s\n",
            "[CV] metric=euclidean, n_neighbors=2, weights=distance ...............\n",
            "[CV]  metric=euclidean, n_neighbors=2, weights=distance, total=   0.0s\n",
            "[CV] metric=euclidean, n_neighbors=2, weights=distance ...............\n",
            "[CV]  metric=euclidean, n_neighbors=2, weights=distance, total=   0.0s\n",
            "[CV] metric=euclidean, n_neighbors=3, weights=uniform ................\n",
            "[CV] . metric=euclidean, n_neighbors=3, weights=uniform, total=   0.0s\n",
            "[CV] metric=euclidean, n_neighbors=3, weights=uniform ................\n",
            "[CV] . metric=euclidean, n_neighbors=3, weights=uniform, total=   0.0s\n",
            "[CV] metric=euclidean, n_neighbors=3, weights=uniform ................\n",
            "[CV] . metric=euclidean, n_neighbors=3, weights=uniform, total=   0.0s\n",
            "[CV] metric=euclidean, n_neighbors=3, weights=uniform ................\n",
            "[CV] . metric=euclidean, n_neighbors=3, weights=uniform, total=   0.0s\n",
            "[CV] metric=euclidean, n_neighbors=3, weights=uniform ................\n",
            "[CV] . metric=euclidean, n_neighbors=3, weights=uniform, total=   0.0s\n",
            "[CV] metric=euclidean, n_neighbors=3, weights=distance ...............\n",
            "[CV]  metric=euclidean, n_neighbors=3, weights=distance, total=   0.0s\n",
            "[CV] metric=euclidean, n_neighbors=3, weights=distance ...............\n",
            "[CV]  metric=euclidean, n_neighbors=3, weights=distance, total=   0.0s\n",
            "[CV] metric=euclidean, n_neighbors=3, weights=distance ...............\n",
            "[CV]  metric=euclidean, n_neighbors=3, weights=distance, total=   0.0s\n",
            "[CV] metric=euclidean, n_neighbors=3, weights=distance ...............\n",
            "[CV]  metric=euclidean, n_neighbors=3, weights=distance, total=   0.0s\n",
            "[CV] metric=euclidean, n_neighbors=3, weights=distance ...............\n"
          ]
        },
        {
          "output_type": "stream",
          "name": "stderr",
          "text": [
            "/usr/local/lib/python3.7/dist-packages/sklearn/model_selection/_validation.py:515: DataConversionWarning: A column-vector y was passed when a 1d array was expected. Please change the shape of y to (n_samples, ), for example using ravel().\n",
            "  estimator.fit(X_train, y_train, **fit_params)\n",
            "/usr/local/lib/python3.7/dist-packages/sklearn/model_selection/_validation.py:515: DataConversionWarning: A column-vector y was passed when a 1d array was expected. Please change the shape of y to (n_samples, ), for example using ravel().\n",
            "  estimator.fit(X_train, y_train, **fit_params)\n",
            "/usr/local/lib/python3.7/dist-packages/sklearn/model_selection/_validation.py:515: DataConversionWarning: A column-vector y was passed when a 1d array was expected. Please change the shape of y to (n_samples, ), for example using ravel().\n",
            "  estimator.fit(X_train, y_train, **fit_params)\n",
            "/usr/local/lib/python3.7/dist-packages/sklearn/model_selection/_validation.py:515: DataConversionWarning: A column-vector y was passed when a 1d array was expected. Please change the shape of y to (n_samples, ), for example using ravel().\n",
            "  estimator.fit(X_train, y_train, **fit_params)\n",
            "/usr/local/lib/python3.7/dist-packages/sklearn/model_selection/_validation.py:515: DataConversionWarning: A column-vector y was passed when a 1d array was expected. Please change the shape of y to (n_samples, ), for example using ravel().\n",
            "  estimator.fit(X_train, y_train, **fit_params)\n",
            "/usr/local/lib/python3.7/dist-packages/sklearn/model_selection/_validation.py:515: DataConversionWarning: A column-vector y was passed when a 1d array was expected. Please change the shape of y to (n_samples, ), for example using ravel().\n",
            "  estimator.fit(X_train, y_train, **fit_params)\n",
            "/usr/local/lib/python3.7/dist-packages/sklearn/model_selection/_validation.py:515: DataConversionWarning: A column-vector y was passed when a 1d array was expected. Please change the shape of y to (n_samples, ), for example using ravel().\n",
            "  estimator.fit(X_train, y_train, **fit_params)\n",
            "/usr/local/lib/python3.7/dist-packages/sklearn/model_selection/_validation.py:515: DataConversionWarning: A column-vector y was passed when a 1d array was expected. Please change the shape of y to (n_samples, ), for example using ravel().\n",
            "  estimator.fit(X_train, y_train, **fit_params)\n",
            "/usr/local/lib/python3.7/dist-packages/sklearn/model_selection/_validation.py:515: DataConversionWarning: A column-vector y was passed when a 1d array was expected. Please change the shape of y to (n_samples, ), for example using ravel().\n",
            "  estimator.fit(X_train, y_train, **fit_params)\n",
            "/usr/local/lib/python3.7/dist-packages/sklearn/model_selection/_validation.py:515: DataConversionWarning: A column-vector y was passed when a 1d array was expected. Please change the shape of y to (n_samples, ), for example using ravel().\n",
            "  estimator.fit(X_train, y_train, **fit_params)\n",
            "/usr/local/lib/python3.7/dist-packages/sklearn/model_selection/_validation.py:515: DataConversionWarning: A column-vector y was passed when a 1d array was expected. Please change the shape of y to (n_samples, ), for example using ravel().\n",
            "  estimator.fit(X_train, y_train, **fit_params)\n",
            "/usr/local/lib/python3.7/dist-packages/sklearn/model_selection/_validation.py:515: DataConversionWarning: A column-vector y was passed when a 1d array was expected. Please change the shape of y to (n_samples, ), for example using ravel().\n",
            "  estimator.fit(X_train, y_train, **fit_params)\n",
            "/usr/local/lib/python3.7/dist-packages/sklearn/model_selection/_validation.py:515: DataConversionWarning: A column-vector y was passed when a 1d array was expected. Please change the shape of y to (n_samples, ), for example using ravel().\n",
            "  estimator.fit(X_train, y_train, **fit_params)\n",
            "/usr/local/lib/python3.7/dist-packages/sklearn/model_selection/_validation.py:515: DataConversionWarning: A column-vector y was passed when a 1d array was expected. Please change the shape of y to (n_samples, ), for example using ravel().\n",
            "  estimator.fit(X_train, y_train, **fit_params)\n",
            "/usr/local/lib/python3.7/dist-packages/sklearn/model_selection/_validation.py:515: DataConversionWarning: A column-vector y was passed when a 1d array was expected. Please change the shape of y to (n_samples, ), for example using ravel().\n",
            "  estimator.fit(X_train, y_train, **fit_params)\n",
            "/usr/local/lib/python3.7/dist-packages/sklearn/model_selection/_validation.py:515: DataConversionWarning: A column-vector y was passed when a 1d array was expected. Please change the shape of y to (n_samples, ), for example using ravel().\n",
            "  estimator.fit(X_train, y_train, **fit_params)\n"
          ]
        },
        {
          "output_type": "stream",
          "name": "stdout",
          "text": [
            "[CV]  metric=euclidean, n_neighbors=3, weights=distance, total=   0.0s\n",
            "[CV] metric=euclidean, n_neighbors=4, weights=uniform ................\n",
            "[CV] . metric=euclidean, n_neighbors=4, weights=uniform, total=   0.0s\n",
            "[CV] metric=euclidean, n_neighbors=4, weights=uniform ................\n",
            "[CV] . metric=euclidean, n_neighbors=4, weights=uniform, total=   0.0s\n",
            "[CV] metric=euclidean, n_neighbors=4, weights=uniform ................\n",
            "[CV] . metric=euclidean, n_neighbors=4, weights=uniform, total=   0.0s\n",
            "[CV] metric=euclidean, n_neighbors=4, weights=uniform ................\n",
            "[CV] . metric=euclidean, n_neighbors=4, weights=uniform, total=   0.0s\n",
            "[CV] metric=euclidean, n_neighbors=4, weights=uniform ................\n",
            "[CV] . metric=euclidean, n_neighbors=4, weights=uniform, total=   0.0s\n",
            "[CV] metric=euclidean, n_neighbors=4, weights=distance ...............\n",
            "[CV]  metric=euclidean, n_neighbors=4, weights=distance, total=   0.0s\n",
            "[CV] metric=euclidean, n_neighbors=4, weights=distance ...............\n",
            "[CV]  metric=euclidean, n_neighbors=4, weights=distance, total=   0.0s\n",
            "[CV] metric=euclidean, n_neighbors=4, weights=distance ...............\n",
            "[CV]  metric=euclidean, n_neighbors=4, weights=distance, total=   0.0s\n",
            "[CV] metric=euclidean, n_neighbors=4, weights=distance ...............\n",
            "[CV]  metric=euclidean, n_neighbors=4, weights=distance, total=   0.0s\n",
            "[CV] metric=euclidean, n_neighbors=4, weights=distance ...............\n",
            "[CV]  metric=euclidean, n_neighbors=4, weights=distance, total=   0.0s\n",
            "[CV] metric=euclidean, n_neighbors=5, weights=uniform ................\n",
            "[CV] . metric=euclidean, n_neighbors=5, weights=uniform, total=   0.0s\n",
            "[CV] metric=euclidean, n_neighbors=5, weights=uniform ................\n",
            "[CV] . metric=euclidean, n_neighbors=5, weights=uniform, total=   0.0s\n",
            "[CV] metric=euclidean, n_neighbors=5, weights=uniform ................\n",
            "[CV] . metric=euclidean, n_neighbors=5, weights=uniform, total=   0.0s\n",
            "[CV] metric=euclidean, n_neighbors=5, weights=uniform ................\n"
          ]
        },
        {
          "output_type": "stream",
          "name": "stderr",
          "text": [
            "/usr/local/lib/python3.7/dist-packages/sklearn/model_selection/_validation.py:515: DataConversionWarning: A column-vector y was passed when a 1d array was expected. Please change the shape of y to (n_samples, ), for example using ravel().\n",
            "  estimator.fit(X_train, y_train, **fit_params)\n",
            "/usr/local/lib/python3.7/dist-packages/sklearn/model_selection/_validation.py:515: DataConversionWarning: A column-vector y was passed when a 1d array was expected. Please change the shape of y to (n_samples, ), for example using ravel().\n",
            "  estimator.fit(X_train, y_train, **fit_params)\n",
            "/usr/local/lib/python3.7/dist-packages/sklearn/model_selection/_validation.py:515: DataConversionWarning: A column-vector y was passed when a 1d array was expected. Please change the shape of y to (n_samples, ), for example using ravel().\n",
            "  estimator.fit(X_train, y_train, **fit_params)\n",
            "/usr/local/lib/python3.7/dist-packages/sklearn/model_selection/_validation.py:515: DataConversionWarning: A column-vector y was passed when a 1d array was expected. Please change the shape of y to (n_samples, ), for example using ravel().\n",
            "  estimator.fit(X_train, y_train, **fit_params)\n",
            "/usr/local/lib/python3.7/dist-packages/sklearn/model_selection/_validation.py:515: DataConversionWarning: A column-vector y was passed when a 1d array was expected. Please change the shape of y to (n_samples, ), for example using ravel().\n",
            "  estimator.fit(X_train, y_train, **fit_params)\n",
            "/usr/local/lib/python3.7/dist-packages/sklearn/model_selection/_validation.py:515: DataConversionWarning: A column-vector y was passed when a 1d array was expected. Please change the shape of y to (n_samples, ), for example using ravel().\n",
            "  estimator.fit(X_train, y_train, **fit_params)\n",
            "/usr/local/lib/python3.7/dist-packages/sklearn/model_selection/_validation.py:515: DataConversionWarning: A column-vector y was passed when a 1d array was expected. Please change the shape of y to (n_samples, ), for example using ravel().\n",
            "  estimator.fit(X_train, y_train, **fit_params)\n",
            "/usr/local/lib/python3.7/dist-packages/sklearn/model_selection/_validation.py:515: DataConversionWarning: A column-vector y was passed when a 1d array was expected. Please change the shape of y to (n_samples, ), for example using ravel().\n",
            "  estimator.fit(X_train, y_train, **fit_params)\n",
            "/usr/local/lib/python3.7/dist-packages/sklearn/model_selection/_validation.py:515: DataConversionWarning: A column-vector y was passed when a 1d array was expected. Please change the shape of y to (n_samples, ), for example using ravel().\n",
            "  estimator.fit(X_train, y_train, **fit_params)\n",
            "/usr/local/lib/python3.7/dist-packages/sklearn/model_selection/_validation.py:515: DataConversionWarning: A column-vector y was passed when a 1d array was expected. Please change the shape of y to (n_samples, ), for example using ravel().\n",
            "  estimator.fit(X_train, y_train, **fit_params)\n",
            "/usr/local/lib/python3.7/dist-packages/sklearn/model_selection/_validation.py:515: DataConversionWarning: A column-vector y was passed when a 1d array was expected. Please change the shape of y to (n_samples, ), for example using ravel().\n",
            "  estimator.fit(X_train, y_train, **fit_params)\n",
            "/usr/local/lib/python3.7/dist-packages/sklearn/model_selection/_validation.py:515: DataConversionWarning: A column-vector y was passed when a 1d array was expected. Please change the shape of y to (n_samples, ), for example using ravel().\n",
            "  estimator.fit(X_train, y_train, **fit_params)\n",
            "/usr/local/lib/python3.7/dist-packages/sklearn/model_selection/_validation.py:515: DataConversionWarning: A column-vector y was passed when a 1d array was expected. Please change the shape of y to (n_samples, ), for example using ravel().\n",
            "  estimator.fit(X_train, y_train, **fit_params)\n",
            "/usr/local/lib/python3.7/dist-packages/sklearn/model_selection/_validation.py:515: DataConversionWarning: A column-vector y was passed when a 1d array was expected. Please change the shape of y to (n_samples, ), for example using ravel().\n",
            "  estimator.fit(X_train, y_train, **fit_params)\n"
          ]
        },
        {
          "output_type": "stream",
          "name": "stdout",
          "text": [
            "[CV] . metric=euclidean, n_neighbors=5, weights=uniform, total=   0.0s\n",
            "[CV] metric=euclidean, n_neighbors=5, weights=uniform ................\n",
            "[CV] . metric=euclidean, n_neighbors=5, weights=uniform, total=   0.0s\n",
            "[CV] metric=euclidean, n_neighbors=5, weights=distance ...............\n",
            "[CV]  metric=euclidean, n_neighbors=5, weights=distance, total=   0.0s\n",
            "[CV] metric=euclidean, n_neighbors=5, weights=distance ...............\n",
            "[CV]  metric=euclidean, n_neighbors=5, weights=distance, total=   0.0s\n",
            "[CV] metric=euclidean, n_neighbors=5, weights=distance ...............\n",
            "[CV]  metric=euclidean, n_neighbors=5, weights=distance, total=   0.0s\n",
            "[CV] metric=euclidean, n_neighbors=5, weights=distance ...............\n",
            "[CV]  metric=euclidean, n_neighbors=5, weights=distance, total=   0.0s\n",
            "[CV] metric=euclidean, n_neighbors=5, weights=distance ...............\n",
            "[CV]  metric=euclidean, n_neighbors=5, weights=distance, total=   0.0s\n",
            "[CV] metric=euclidean, n_neighbors=6, weights=uniform ................\n",
            "[CV] . metric=euclidean, n_neighbors=6, weights=uniform, total=   0.0s\n",
            "[CV] metric=euclidean, n_neighbors=6, weights=uniform ................\n",
            "[CV] . metric=euclidean, n_neighbors=6, weights=uniform, total=   0.0s\n",
            "[CV] metric=euclidean, n_neighbors=6, weights=uniform ................\n",
            "[CV] . metric=euclidean, n_neighbors=6, weights=uniform, total=   0.0s\n",
            "[CV] metric=euclidean, n_neighbors=6, weights=uniform ................\n",
            "[CV] . metric=euclidean, n_neighbors=6, weights=uniform, total=   0.0s\n",
            "[CV] metric=euclidean, n_neighbors=6, weights=uniform ................\n",
            "[CV] . metric=euclidean, n_neighbors=6, weights=uniform, total=   0.0s\n",
            "[CV] metric=euclidean, n_neighbors=6, weights=distance ...............\n",
            "[CV]  metric=euclidean, n_neighbors=6, weights=distance, total=   0.0s\n",
            "[CV] metric=euclidean, n_neighbors=6, weights=distance ...............\n",
            "[CV]  metric=euclidean, n_neighbors=6, weights=distance, total=   0.0s\n",
            "[CV] metric=euclidean, n_neighbors=6, weights=distance ...............\n",
            "[CV]  metric=euclidean, n_neighbors=6, weights=distance, total=   0.0s\n",
            "[CV] metric=euclidean, n_neighbors=6, weights=distance ...............\n"
          ]
        },
        {
          "output_type": "stream",
          "name": "stderr",
          "text": [
            "/usr/local/lib/python3.7/dist-packages/sklearn/model_selection/_validation.py:515: DataConversionWarning: A column-vector y was passed when a 1d array was expected. Please change the shape of y to (n_samples, ), for example using ravel().\n",
            "  estimator.fit(X_train, y_train, **fit_params)\n",
            "/usr/local/lib/python3.7/dist-packages/sklearn/model_selection/_validation.py:515: DataConversionWarning: A column-vector y was passed when a 1d array was expected. Please change the shape of y to (n_samples, ), for example using ravel().\n",
            "  estimator.fit(X_train, y_train, **fit_params)\n",
            "/usr/local/lib/python3.7/dist-packages/sklearn/model_selection/_validation.py:515: DataConversionWarning: A column-vector y was passed when a 1d array was expected. Please change the shape of y to (n_samples, ), for example using ravel().\n",
            "  estimator.fit(X_train, y_train, **fit_params)\n",
            "/usr/local/lib/python3.7/dist-packages/sklearn/model_selection/_validation.py:515: DataConversionWarning: A column-vector y was passed when a 1d array was expected. Please change the shape of y to (n_samples, ), for example using ravel().\n",
            "  estimator.fit(X_train, y_train, **fit_params)\n",
            "/usr/local/lib/python3.7/dist-packages/sklearn/model_selection/_validation.py:515: DataConversionWarning: A column-vector y was passed when a 1d array was expected. Please change the shape of y to (n_samples, ), for example using ravel().\n",
            "  estimator.fit(X_train, y_train, **fit_params)\n",
            "/usr/local/lib/python3.7/dist-packages/sklearn/model_selection/_validation.py:515: DataConversionWarning: A column-vector y was passed when a 1d array was expected. Please change the shape of y to (n_samples, ), for example using ravel().\n",
            "  estimator.fit(X_train, y_train, **fit_params)\n",
            "/usr/local/lib/python3.7/dist-packages/sklearn/model_selection/_validation.py:515: DataConversionWarning: A column-vector y was passed when a 1d array was expected. Please change the shape of y to (n_samples, ), for example using ravel().\n",
            "  estimator.fit(X_train, y_train, **fit_params)\n",
            "/usr/local/lib/python3.7/dist-packages/sklearn/model_selection/_validation.py:515: DataConversionWarning: A column-vector y was passed when a 1d array was expected. Please change the shape of y to (n_samples, ), for example using ravel().\n",
            "  estimator.fit(X_train, y_train, **fit_params)\n",
            "/usr/local/lib/python3.7/dist-packages/sklearn/model_selection/_validation.py:515: DataConversionWarning: A column-vector y was passed when a 1d array was expected. Please change the shape of y to (n_samples, ), for example using ravel().\n",
            "  estimator.fit(X_train, y_train, **fit_params)\n",
            "/usr/local/lib/python3.7/dist-packages/sklearn/model_selection/_validation.py:515: DataConversionWarning: A column-vector y was passed when a 1d array was expected. Please change the shape of y to (n_samples, ), for example using ravel().\n",
            "  estimator.fit(X_train, y_train, **fit_params)\n",
            "/usr/local/lib/python3.7/dist-packages/sklearn/model_selection/_validation.py:515: DataConversionWarning: A column-vector y was passed when a 1d array was expected. Please change the shape of y to (n_samples, ), for example using ravel().\n",
            "  estimator.fit(X_train, y_train, **fit_params)\n",
            "/usr/local/lib/python3.7/dist-packages/sklearn/model_selection/_validation.py:515: DataConversionWarning: A column-vector y was passed when a 1d array was expected. Please change the shape of y to (n_samples, ), for example using ravel().\n",
            "  estimator.fit(X_train, y_train, **fit_params)\n",
            "/usr/local/lib/python3.7/dist-packages/sklearn/model_selection/_validation.py:515: DataConversionWarning: A column-vector y was passed when a 1d array was expected. Please change the shape of y to (n_samples, ), for example using ravel().\n",
            "  estimator.fit(X_train, y_train, **fit_params)\n",
            "/usr/local/lib/python3.7/dist-packages/sklearn/model_selection/_validation.py:515: DataConversionWarning: A column-vector y was passed when a 1d array was expected. Please change the shape of y to (n_samples, ), for example using ravel().\n",
            "  estimator.fit(X_train, y_train, **fit_params)\n",
            "/usr/local/lib/python3.7/dist-packages/sklearn/model_selection/_validation.py:515: DataConversionWarning: A column-vector y was passed when a 1d array was expected. Please change the shape of y to (n_samples, ), for example using ravel().\n",
            "  estimator.fit(X_train, y_train, **fit_params)\n",
            "/usr/local/lib/python3.7/dist-packages/sklearn/model_selection/_validation.py:515: DataConversionWarning: A column-vector y was passed when a 1d array was expected. Please change the shape of y to (n_samples, ), for example using ravel().\n",
            "  estimator.fit(X_train, y_train, **fit_params)\n"
          ]
        },
        {
          "output_type": "stream",
          "name": "stdout",
          "text": [
            "[CV]  metric=euclidean, n_neighbors=6, weights=distance, total=   0.0s\n",
            "[CV] metric=euclidean, n_neighbors=6, weights=distance ...............\n",
            "[CV]  metric=euclidean, n_neighbors=6, weights=distance, total=   0.0s\n",
            "[CV] metric=euclidean, n_neighbors=7, weights=uniform ................\n",
            "[CV] . metric=euclidean, n_neighbors=7, weights=uniform, total=   0.0s\n",
            "[CV] metric=euclidean, n_neighbors=7, weights=uniform ................\n",
            "[CV] . metric=euclidean, n_neighbors=7, weights=uniform, total=   0.0s\n",
            "[CV] metric=euclidean, n_neighbors=7, weights=uniform ................\n",
            "[CV] . metric=euclidean, n_neighbors=7, weights=uniform, total=   0.0s\n",
            "[CV] metric=euclidean, n_neighbors=7, weights=uniform ................\n",
            "[CV] . metric=euclidean, n_neighbors=7, weights=uniform, total=   0.0s\n",
            "[CV] metric=euclidean, n_neighbors=7, weights=uniform ................\n",
            "[CV] . metric=euclidean, n_neighbors=7, weights=uniform, total=   0.0s\n",
            "[CV] metric=euclidean, n_neighbors=7, weights=distance ...............\n",
            "[CV]  metric=euclidean, n_neighbors=7, weights=distance, total=   0.0s\n",
            "[CV] metric=euclidean, n_neighbors=7, weights=distance ...............\n",
            "[CV]  metric=euclidean, n_neighbors=7, weights=distance, total=   0.0s\n",
            "[CV] metric=euclidean, n_neighbors=7, weights=distance ...............\n",
            "[CV]  metric=euclidean, n_neighbors=7, weights=distance, total=   0.0s\n",
            "[CV] metric=euclidean, n_neighbors=7, weights=distance ...............\n",
            "[CV]  metric=euclidean, n_neighbors=7, weights=distance, total=   0.0s\n",
            "[CV] metric=euclidean, n_neighbors=7, weights=distance ...............\n",
            "[CV]  metric=euclidean, n_neighbors=7, weights=distance, total=   0.0s\n",
            "[CV] metric=euclidean, n_neighbors=8, weights=uniform ................\n",
            "[CV] . metric=euclidean, n_neighbors=8, weights=uniform, total=   0.0s\n",
            "[CV] metric=euclidean, n_neighbors=8, weights=uniform ................\n",
            "[CV] . metric=euclidean, n_neighbors=8, weights=uniform, total=   0.0s\n",
            "[CV] metric=euclidean, n_neighbors=8, weights=uniform ................\n"
          ]
        },
        {
          "output_type": "stream",
          "name": "stderr",
          "text": [
            "/usr/local/lib/python3.7/dist-packages/sklearn/model_selection/_validation.py:515: DataConversionWarning: A column-vector y was passed when a 1d array was expected. Please change the shape of y to (n_samples, ), for example using ravel().\n",
            "  estimator.fit(X_train, y_train, **fit_params)\n",
            "/usr/local/lib/python3.7/dist-packages/sklearn/model_selection/_validation.py:515: DataConversionWarning: A column-vector y was passed when a 1d array was expected. Please change the shape of y to (n_samples, ), for example using ravel().\n",
            "  estimator.fit(X_train, y_train, **fit_params)\n",
            "/usr/local/lib/python3.7/dist-packages/sklearn/model_selection/_validation.py:515: DataConversionWarning: A column-vector y was passed when a 1d array was expected. Please change the shape of y to (n_samples, ), for example using ravel().\n",
            "  estimator.fit(X_train, y_train, **fit_params)\n",
            "/usr/local/lib/python3.7/dist-packages/sklearn/model_selection/_validation.py:515: DataConversionWarning: A column-vector y was passed when a 1d array was expected. Please change the shape of y to (n_samples, ), for example using ravel().\n",
            "  estimator.fit(X_train, y_train, **fit_params)\n",
            "/usr/local/lib/python3.7/dist-packages/sklearn/model_selection/_validation.py:515: DataConversionWarning: A column-vector y was passed when a 1d array was expected. Please change the shape of y to (n_samples, ), for example using ravel().\n",
            "  estimator.fit(X_train, y_train, **fit_params)\n",
            "/usr/local/lib/python3.7/dist-packages/sklearn/model_selection/_validation.py:515: DataConversionWarning: A column-vector y was passed when a 1d array was expected. Please change the shape of y to (n_samples, ), for example using ravel().\n",
            "  estimator.fit(X_train, y_train, **fit_params)\n",
            "/usr/local/lib/python3.7/dist-packages/sklearn/model_selection/_validation.py:515: DataConversionWarning: A column-vector y was passed when a 1d array was expected. Please change the shape of y to (n_samples, ), for example using ravel().\n",
            "  estimator.fit(X_train, y_train, **fit_params)\n",
            "/usr/local/lib/python3.7/dist-packages/sklearn/model_selection/_validation.py:515: DataConversionWarning: A column-vector y was passed when a 1d array was expected. Please change the shape of y to (n_samples, ), for example using ravel().\n",
            "  estimator.fit(X_train, y_train, **fit_params)\n",
            "/usr/local/lib/python3.7/dist-packages/sklearn/model_selection/_validation.py:515: DataConversionWarning: A column-vector y was passed when a 1d array was expected. Please change the shape of y to (n_samples, ), for example using ravel().\n",
            "  estimator.fit(X_train, y_train, **fit_params)\n",
            "/usr/local/lib/python3.7/dist-packages/sklearn/model_selection/_validation.py:515: DataConversionWarning: A column-vector y was passed when a 1d array was expected. Please change the shape of y to (n_samples, ), for example using ravel().\n",
            "  estimator.fit(X_train, y_train, **fit_params)\n",
            "/usr/local/lib/python3.7/dist-packages/sklearn/model_selection/_validation.py:515: DataConversionWarning: A column-vector y was passed when a 1d array was expected. Please change the shape of y to (n_samples, ), for example using ravel().\n",
            "  estimator.fit(X_train, y_train, **fit_params)\n",
            "/usr/local/lib/python3.7/dist-packages/sklearn/model_selection/_validation.py:515: DataConversionWarning: A column-vector y was passed when a 1d array was expected. Please change the shape of y to (n_samples, ), for example using ravel().\n",
            "  estimator.fit(X_train, y_train, **fit_params)\n",
            "/usr/local/lib/python3.7/dist-packages/sklearn/model_selection/_validation.py:515: DataConversionWarning: A column-vector y was passed when a 1d array was expected. Please change the shape of y to (n_samples, ), for example using ravel().\n",
            "  estimator.fit(X_train, y_train, **fit_params)\n"
          ]
        },
        {
          "output_type": "stream",
          "name": "stdout",
          "text": [
            "[CV] . metric=euclidean, n_neighbors=8, weights=uniform, total=   0.0s\n",
            "[CV] metric=euclidean, n_neighbors=8, weights=uniform ................\n",
            "[CV] . metric=euclidean, n_neighbors=8, weights=uniform, total=   0.0s\n",
            "[CV] metric=euclidean, n_neighbors=8, weights=uniform ................\n",
            "[CV] . metric=euclidean, n_neighbors=8, weights=uniform, total=   0.0s\n",
            "[CV] metric=euclidean, n_neighbors=8, weights=distance ...............\n",
            "[CV]  metric=euclidean, n_neighbors=8, weights=distance, total=   0.0s\n",
            "[CV] metric=euclidean, n_neighbors=8, weights=distance ...............\n",
            "[CV]  metric=euclidean, n_neighbors=8, weights=distance, total=   0.0s\n",
            "[CV] metric=euclidean, n_neighbors=8, weights=distance ...............\n",
            "[CV]  metric=euclidean, n_neighbors=8, weights=distance, total=   0.0s\n",
            "[CV] metric=euclidean, n_neighbors=8, weights=distance ...............\n",
            "[CV]  metric=euclidean, n_neighbors=8, weights=distance, total=   0.0s\n",
            "[CV] metric=euclidean, n_neighbors=8, weights=distance ...............\n",
            "[CV]  metric=euclidean, n_neighbors=8, weights=distance, total=   0.0s\n",
            "[CV] metric=euclidean, n_neighbors=9, weights=uniform ................\n",
            "[CV] . metric=euclidean, n_neighbors=9, weights=uniform, total=   0.0s\n",
            "[CV] metric=euclidean, n_neighbors=9, weights=uniform ................\n",
            "[CV] . metric=euclidean, n_neighbors=9, weights=uniform, total=   0.0s\n",
            "[CV] metric=euclidean, n_neighbors=9, weights=uniform ................\n",
            "[CV] . metric=euclidean, n_neighbors=9, weights=uniform, total=   0.0s\n",
            "[CV] metric=euclidean, n_neighbors=9, weights=uniform ................\n",
            "[CV] . metric=euclidean, n_neighbors=9, weights=uniform, total=   0.0s\n",
            "[CV] metric=euclidean, n_neighbors=9, weights=uniform ................\n",
            "[CV] . metric=euclidean, n_neighbors=9, weights=uniform, total=   0.0s\n",
            "[CV] metric=euclidean, n_neighbors=9, weights=distance ...............\n",
            "[CV]  metric=euclidean, n_neighbors=9, weights=distance, total=   0.0s\n",
            "[CV] metric=euclidean, n_neighbors=9, weights=distance ...............\n",
            "[CV]  metric=euclidean, n_neighbors=9, weights=distance, total=   0.0s\n",
            "[CV] metric=euclidean, n_neighbors=9, weights=distance ...............\n"
          ]
        },
        {
          "output_type": "stream",
          "name": "stderr",
          "text": [
            "/usr/local/lib/python3.7/dist-packages/sklearn/model_selection/_validation.py:515: DataConversionWarning: A column-vector y was passed when a 1d array was expected. Please change the shape of y to (n_samples, ), for example using ravel().\n",
            "  estimator.fit(X_train, y_train, **fit_params)\n",
            "/usr/local/lib/python3.7/dist-packages/sklearn/model_selection/_validation.py:515: DataConversionWarning: A column-vector y was passed when a 1d array was expected. Please change the shape of y to (n_samples, ), for example using ravel().\n",
            "  estimator.fit(X_train, y_train, **fit_params)\n",
            "/usr/local/lib/python3.7/dist-packages/sklearn/model_selection/_validation.py:515: DataConversionWarning: A column-vector y was passed when a 1d array was expected. Please change the shape of y to (n_samples, ), for example using ravel().\n",
            "  estimator.fit(X_train, y_train, **fit_params)\n",
            "/usr/local/lib/python3.7/dist-packages/sklearn/model_selection/_validation.py:515: DataConversionWarning: A column-vector y was passed when a 1d array was expected. Please change the shape of y to (n_samples, ), for example using ravel().\n",
            "  estimator.fit(X_train, y_train, **fit_params)\n",
            "/usr/local/lib/python3.7/dist-packages/sklearn/model_selection/_validation.py:515: DataConversionWarning: A column-vector y was passed when a 1d array was expected. Please change the shape of y to (n_samples, ), for example using ravel().\n",
            "  estimator.fit(X_train, y_train, **fit_params)\n",
            "/usr/local/lib/python3.7/dist-packages/sklearn/model_selection/_validation.py:515: DataConversionWarning: A column-vector y was passed when a 1d array was expected. Please change the shape of y to (n_samples, ), for example using ravel().\n",
            "  estimator.fit(X_train, y_train, **fit_params)\n",
            "/usr/local/lib/python3.7/dist-packages/sklearn/model_selection/_validation.py:515: DataConversionWarning: A column-vector y was passed when a 1d array was expected. Please change the shape of y to (n_samples, ), for example using ravel().\n",
            "  estimator.fit(X_train, y_train, **fit_params)\n",
            "/usr/local/lib/python3.7/dist-packages/sklearn/model_selection/_validation.py:515: DataConversionWarning: A column-vector y was passed when a 1d array was expected. Please change the shape of y to (n_samples, ), for example using ravel().\n",
            "  estimator.fit(X_train, y_train, **fit_params)\n",
            "/usr/local/lib/python3.7/dist-packages/sklearn/model_selection/_validation.py:515: DataConversionWarning: A column-vector y was passed when a 1d array was expected. Please change the shape of y to (n_samples, ), for example using ravel().\n",
            "  estimator.fit(X_train, y_train, **fit_params)\n",
            "/usr/local/lib/python3.7/dist-packages/sklearn/model_selection/_validation.py:515: DataConversionWarning: A column-vector y was passed when a 1d array was expected. Please change the shape of y to (n_samples, ), for example using ravel().\n",
            "  estimator.fit(X_train, y_train, **fit_params)\n",
            "/usr/local/lib/python3.7/dist-packages/sklearn/model_selection/_validation.py:515: DataConversionWarning: A column-vector y was passed when a 1d array was expected. Please change the shape of y to (n_samples, ), for example using ravel().\n",
            "  estimator.fit(X_train, y_train, **fit_params)\n",
            "/usr/local/lib/python3.7/dist-packages/sklearn/model_selection/_validation.py:515: DataConversionWarning: A column-vector y was passed when a 1d array was expected. Please change the shape of y to (n_samples, ), for example using ravel().\n",
            "  estimator.fit(X_train, y_train, **fit_params)\n",
            "/usr/local/lib/python3.7/dist-packages/sklearn/model_selection/_validation.py:515: DataConversionWarning: A column-vector y was passed when a 1d array was expected. Please change the shape of y to (n_samples, ), for example using ravel().\n",
            "  estimator.fit(X_train, y_train, **fit_params)\n",
            "/usr/local/lib/python3.7/dist-packages/sklearn/model_selection/_validation.py:515: DataConversionWarning: A column-vector y was passed when a 1d array was expected. Please change the shape of y to (n_samples, ), for example using ravel().\n",
            "  estimator.fit(X_train, y_train, **fit_params)\n",
            "/usr/local/lib/python3.7/dist-packages/sklearn/model_selection/_validation.py:515: DataConversionWarning: A column-vector y was passed when a 1d array was expected. Please change the shape of y to (n_samples, ), for example using ravel().\n",
            "  estimator.fit(X_train, y_train, **fit_params)\n"
          ]
        },
        {
          "output_type": "stream",
          "name": "stdout",
          "text": [
            "[CV]  metric=euclidean, n_neighbors=9, weights=distance, total=   0.0s\n",
            "[CV] metric=euclidean, n_neighbors=9, weights=distance ...............\n",
            "[CV]  metric=euclidean, n_neighbors=9, weights=distance, total=   0.0s\n",
            "[CV] metric=euclidean, n_neighbors=9, weights=distance ...............\n",
            "[CV]  metric=euclidean, n_neighbors=9, weights=distance, total=   0.0s\n",
            "[CV] metric=euclidean, n_neighbors=10, weights=uniform ...............\n",
            "[CV]  metric=euclidean, n_neighbors=10, weights=uniform, total=   0.0s\n",
            "[CV] metric=euclidean, n_neighbors=10, weights=uniform ...............\n",
            "[CV]  metric=euclidean, n_neighbors=10, weights=uniform, total=   0.0s\n",
            "[CV] metric=euclidean, n_neighbors=10, weights=uniform ...............\n",
            "[CV]  metric=euclidean, n_neighbors=10, weights=uniform, total=   0.0s\n",
            "[CV] metric=euclidean, n_neighbors=10, weights=uniform ...............\n",
            "[CV]  metric=euclidean, n_neighbors=10, weights=uniform, total=   0.0s\n",
            "[CV] metric=euclidean, n_neighbors=10, weights=uniform ...............\n",
            "[CV]  metric=euclidean, n_neighbors=10, weights=uniform, total=   0.0s\n",
            "[CV] metric=euclidean, n_neighbors=10, weights=distance ..............\n",
            "[CV]  metric=euclidean, n_neighbors=10, weights=distance, total=   0.0s\n",
            "[CV] metric=euclidean, n_neighbors=10, weights=distance ..............\n",
            "[CV]  metric=euclidean, n_neighbors=10, weights=distance, total=   0.0s\n",
            "[CV] metric=euclidean, n_neighbors=10, weights=distance ..............\n",
            "[CV]  metric=euclidean, n_neighbors=10, weights=distance, total=   0.0s\n",
            "[CV] metric=euclidean, n_neighbors=10, weights=distance ..............\n",
            "[CV]  metric=euclidean, n_neighbors=10, weights=distance, total=   0.0s\n",
            "[CV] metric=euclidean, n_neighbors=10, weights=distance ..............\n",
            "[CV]  metric=euclidean, n_neighbors=10, weights=distance, total=   0.0s\n",
            "[CV] metric=manhattan, n_neighbors=1, weights=uniform ................\n"
          ]
        },
        {
          "output_type": "stream",
          "name": "stderr",
          "text": [
            "/usr/local/lib/python3.7/dist-packages/sklearn/model_selection/_validation.py:515: DataConversionWarning: A column-vector y was passed when a 1d array was expected. Please change the shape of y to (n_samples, ), for example using ravel().\n",
            "  estimator.fit(X_train, y_train, **fit_params)\n",
            "/usr/local/lib/python3.7/dist-packages/sklearn/model_selection/_validation.py:515: DataConversionWarning: A column-vector y was passed when a 1d array was expected. Please change the shape of y to (n_samples, ), for example using ravel().\n",
            "  estimator.fit(X_train, y_train, **fit_params)\n",
            "/usr/local/lib/python3.7/dist-packages/sklearn/model_selection/_validation.py:515: DataConversionWarning: A column-vector y was passed when a 1d array was expected. Please change the shape of y to (n_samples, ), for example using ravel().\n",
            "  estimator.fit(X_train, y_train, **fit_params)\n",
            "/usr/local/lib/python3.7/dist-packages/sklearn/model_selection/_validation.py:515: DataConversionWarning: A column-vector y was passed when a 1d array was expected. Please change the shape of y to (n_samples, ), for example using ravel().\n",
            "  estimator.fit(X_train, y_train, **fit_params)\n",
            "/usr/local/lib/python3.7/dist-packages/sklearn/model_selection/_validation.py:515: DataConversionWarning: A column-vector y was passed when a 1d array was expected. Please change the shape of y to (n_samples, ), for example using ravel().\n",
            "  estimator.fit(X_train, y_train, **fit_params)\n",
            "/usr/local/lib/python3.7/dist-packages/sklearn/model_selection/_validation.py:515: DataConversionWarning: A column-vector y was passed when a 1d array was expected. Please change the shape of y to (n_samples, ), for example using ravel().\n",
            "  estimator.fit(X_train, y_train, **fit_params)\n",
            "/usr/local/lib/python3.7/dist-packages/sklearn/model_selection/_validation.py:515: DataConversionWarning: A column-vector y was passed when a 1d array was expected. Please change the shape of y to (n_samples, ), for example using ravel().\n",
            "  estimator.fit(X_train, y_train, **fit_params)\n",
            "/usr/local/lib/python3.7/dist-packages/sklearn/model_selection/_validation.py:515: DataConversionWarning: A column-vector y was passed when a 1d array was expected. Please change the shape of y to (n_samples, ), for example using ravel().\n",
            "  estimator.fit(X_train, y_train, **fit_params)\n",
            "/usr/local/lib/python3.7/dist-packages/sklearn/model_selection/_validation.py:515: DataConversionWarning: A column-vector y was passed when a 1d array was expected. Please change the shape of y to (n_samples, ), for example using ravel().\n",
            "  estimator.fit(X_train, y_train, **fit_params)\n",
            "/usr/local/lib/python3.7/dist-packages/sklearn/model_selection/_validation.py:515: DataConversionWarning: A column-vector y was passed when a 1d array was expected. Please change the shape of y to (n_samples, ), for example using ravel().\n",
            "  estimator.fit(X_train, y_train, **fit_params)\n",
            "/usr/local/lib/python3.7/dist-packages/sklearn/model_selection/_validation.py:515: DataConversionWarning: A column-vector y was passed when a 1d array was expected. Please change the shape of y to (n_samples, ), for example using ravel().\n",
            "  estimator.fit(X_train, y_train, **fit_params)\n",
            "/usr/local/lib/python3.7/dist-packages/sklearn/model_selection/_validation.py:515: DataConversionWarning: A column-vector y was passed when a 1d array was expected. Please change the shape of y to (n_samples, ), for example using ravel().\n",
            "  estimator.fit(X_train, y_train, **fit_params)\n",
            "/usr/local/lib/python3.7/dist-packages/sklearn/model_selection/_validation.py:515: DataConversionWarning: A column-vector y was passed when a 1d array was expected. Please change the shape of y to (n_samples, ), for example using ravel().\n",
            "  estimator.fit(X_train, y_train, **fit_params)\n"
          ]
        },
        {
          "output_type": "stream",
          "name": "stdout",
          "text": [
            "[CV] . metric=manhattan, n_neighbors=1, weights=uniform, total=   0.0s\n",
            "[CV] metric=manhattan, n_neighbors=1, weights=uniform ................\n",
            "[CV] . metric=manhattan, n_neighbors=1, weights=uniform, total=   0.0s\n",
            "[CV] metric=manhattan, n_neighbors=1, weights=uniform ................\n",
            "[CV] . metric=manhattan, n_neighbors=1, weights=uniform, total=   0.0s\n",
            "[CV] metric=manhattan, n_neighbors=1, weights=uniform ................\n",
            "[CV] . metric=manhattan, n_neighbors=1, weights=uniform, total=   0.0s\n",
            "[CV] metric=manhattan, n_neighbors=1, weights=uniform ................\n",
            "[CV] . metric=manhattan, n_neighbors=1, weights=uniform, total=   0.0s\n",
            "[CV] metric=manhattan, n_neighbors=1, weights=distance ...............\n",
            "[CV]  metric=manhattan, n_neighbors=1, weights=distance, total=   0.0s\n",
            "[CV] metric=manhattan, n_neighbors=1, weights=distance ...............\n",
            "[CV]  metric=manhattan, n_neighbors=1, weights=distance, total=   0.0s\n",
            "[CV] metric=manhattan, n_neighbors=1, weights=distance ...............\n",
            "[CV]  metric=manhattan, n_neighbors=1, weights=distance, total=   0.0s\n",
            "[CV] metric=manhattan, n_neighbors=1, weights=distance ...............\n",
            "[CV]  metric=manhattan, n_neighbors=1, weights=distance, total=   0.0s\n",
            "[CV] metric=manhattan, n_neighbors=1, weights=distance ...............\n",
            "[CV]  metric=manhattan, n_neighbors=1, weights=distance, total=   0.0s\n",
            "[CV] metric=manhattan, n_neighbors=2, weights=uniform ................\n",
            "[CV] . metric=manhattan, n_neighbors=2, weights=uniform, total=   0.0s\n",
            "[CV] metric=manhattan, n_neighbors=2, weights=uniform ................\n",
            "[CV] . metric=manhattan, n_neighbors=2, weights=uniform, total=   0.0s\n",
            "[CV] metric=manhattan, n_neighbors=2, weights=uniform ................\n",
            "[CV] . metric=manhattan, n_neighbors=2, weights=uniform, total=   0.0s\n",
            "[CV] metric=manhattan, n_neighbors=2, weights=uniform ................\n",
            "[CV] . metric=manhattan, n_neighbors=2, weights=uniform, total=   0.0s\n",
            "[CV] metric=manhattan, n_neighbors=2, weights=uniform ................\n",
            "[CV] . metric=manhattan, n_neighbors=2, weights=uniform, total=   0.0s\n",
            "[CV] metric=manhattan, n_neighbors=2, weights=distance ...............\n"
          ]
        },
        {
          "output_type": "stream",
          "name": "stderr",
          "text": [
            "/usr/local/lib/python3.7/dist-packages/sklearn/model_selection/_validation.py:515: DataConversionWarning: A column-vector y was passed when a 1d array was expected. Please change the shape of y to (n_samples, ), for example using ravel().\n",
            "  estimator.fit(X_train, y_train, **fit_params)\n",
            "/usr/local/lib/python3.7/dist-packages/sklearn/model_selection/_validation.py:515: DataConversionWarning: A column-vector y was passed when a 1d array was expected. Please change the shape of y to (n_samples, ), for example using ravel().\n",
            "  estimator.fit(X_train, y_train, **fit_params)\n",
            "/usr/local/lib/python3.7/dist-packages/sklearn/model_selection/_validation.py:515: DataConversionWarning: A column-vector y was passed when a 1d array was expected. Please change the shape of y to (n_samples, ), for example using ravel().\n",
            "  estimator.fit(X_train, y_train, **fit_params)\n",
            "/usr/local/lib/python3.7/dist-packages/sklearn/model_selection/_validation.py:515: DataConversionWarning: A column-vector y was passed when a 1d array was expected. Please change the shape of y to (n_samples, ), for example using ravel().\n",
            "  estimator.fit(X_train, y_train, **fit_params)\n",
            "/usr/local/lib/python3.7/dist-packages/sklearn/model_selection/_validation.py:515: DataConversionWarning: A column-vector y was passed when a 1d array was expected. Please change the shape of y to (n_samples, ), for example using ravel().\n",
            "  estimator.fit(X_train, y_train, **fit_params)\n",
            "/usr/local/lib/python3.7/dist-packages/sklearn/model_selection/_validation.py:515: DataConversionWarning: A column-vector y was passed when a 1d array was expected. Please change the shape of y to (n_samples, ), for example using ravel().\n",
            "  estimator.fit(X_train, y_train, **fit_params)\n",
            "/usr/local/lib/python3.7/dist-packages/sklearn/model_selection/_validation.py:515: DataConversionWarning: A column-vector y was passed when a 1d array was expected. Please change the shape of y to (n_samples, ), for example using ravel().\n",
            "  estimator.fit(X_train, y_train, **fit_params)\n",
            "/usr/local/lib/python3.7/dist-packages/sklearn/model_selection/_validation.py:515: DataConversionWarning: A column-vector y was passed when a 1d array was expected. Please change the shape of y to (n_samples, ), for example using ravel().\n",
            "  estimator.fit(X_train, y_train, **fit_params)\n",
            "/usr/local/lib/python3.7/dist-packages/sklearn/model_selection/_validation.py:515: DataConversionWarning: A column-vector y was passed when a 1d array was expected. Please change the shape of y to (n_samples, ), for example using ravel().\n",
            "  estimator.fit(X_train, y_train, **fit_params)\n",
            "/usr/local/lib/python3.7/dist-packages/sklearn/model_selection/_validation.py:515: DataConversionWarning: A column-vector y was passed when a 1d array was expected. Please change the shape of y to (n_samples, ), for example using ravel().\n",
            "  estimator.fit(X_train, y_train, **fit_params)\n",
            "/usr/local/lib/python3.7/dist-packages/sklearn/model_selection/_validation.py:515: DataConversionWarning: A column-vector y was passed when a 1d array was expected. Please change the shape of y to (n_samples, ), for example using ravel().\n",
            "  estimator.fit(X_train, y_train, **fit_params)\n",
            "/usr/local/lib/python3.7/dist-packages/sklearn/model_selection/_validation.py:515: DataConversionWarning: A column-vector y was passed when a 1d array was expected. Please change the shape of y to (n_samples, ), for example using ravel().\n",
            "  estimator.fit(X_train, y_train, **fit_params)\n",
            "/usr/local/lib/python3.7/dist-packages/sklearn/model_selection/_validation.py:515: DataConversionWarning: A column-vector y was passed when a 1d array was expected. Please change the shape of y to (n_samples, ), for example using ravel().\n",
            "  estimator.fit(X_train, y_train, **fit_params)\n",
            "/usr/local/lib/python3.7/dist-packages/sklearn/model_selection/_validation.py:515: DataConversionWarning: A column-vector y was passed when a 1d array was expected. Please change the shape of y to (n_samples, ), for example using ravel().\n",
            "  estimator.fit(X_train, y_train, **fit_params)\n",
            "/usr/local/lib/python3.7/dist-packages/sklearn/model_selection/_validation.py:515: DataConversionWarning: A column-vector y was passed when a 1d array was expected. Please change the shape of y to (n_samples, ), for example using ravel().\n",
            "  estimator.fit(X_train, y_train, **fit_params)\n"
          ]
        },
        {
          "output_type": "stream",
          "name": "stdout",
          "text": [
            "[CV]  metric=manhattan, n_neighbors=2, weights=distance, total=   0.0s\n",
            "[CV] metric=manhattan, n_neighbors=2, weights=distance ...............\n",
            "[CV]  metric=manhattan, n_neighbors=2, weights=distance, total=   0.0s\n",
            "[CV] metric=manhattan, n_neighbors=2, weights=distance ...............\n",
            "[CV]  metric=manhattan, n_neighbors=2, weights=distance, total=   0.0s\n",
            "[CV] metric=manhattan, n_neighbors=2, weights=distance ...............\n",
            "[CV]  metric=manhattan, n_neighbors=2, weights=distance, total=   0.0s\n",
            "[CV] metric=manhattan, n_neighbors=2, weights=distance ...............\n",
            "[CV]  metric=manhattan, n_neighbors=2, weights=distance, total=   0.0s\n",
            "[CV] metric=manhattan, n_neighbors=3, weights=uniform ................\n",
            "[CV] . metric=manhattan, n_neighbors=3, weights=uniform, total=   0.0s\n",
            "[CV] metric=manhattan, n_neighbors=3, weights=uniform ................\n",
            "[CV] . metric=manhattan, n_neighbors=3, weights=uniform, total=   0.0s\n",
            "[CV] metric=manhattan, n_neighbors=3, weights=uniform ................\n",
            "[CV] . metric=manhattan, n_neighbors=3, weights=uniform, total=   0.0s\n",
            "[CV] metric=manhattan, n_neighbors=3, weights=uniform ................\n",
            "[CV] . metric=manhattan, n_neighbors=3, weights=uniform, total=   0.0s\n",
            "[CV] metric=manhattan, n_neighbors=3, weights=uniform ................\n",
            "[CV] . metric=manhattan, n_neighbors=3, weights=uniform, total=   0.0s\n",
            "[CV] metric=manhattan, n_neighbors=3, weights=distance ...............\n",
            "[CV]  metric=manhattan, n_neighbors=3, weights=distance, total=   0.0s\n",
            "[CV] metric=manhattan, n_neighbors=3, weights=distance ...............\n",
            "[CV]  metric=manhattan, n_neighbors=3, weights=distance, total=   0.0s\n",
            "[CV] metric=manhattan, n_neighbors=3, weights=distance ...............\n",
            "[CV]  metric=manhattan, n_neighbors=3, weights=distance, total=   0.0s\n",
            "[CV] metric=manhattan, n_neighbors=3, weights=distance ...............\n",
            "[CV]  metric=manhattan, n_neighbors=3, weights=distance, total=   0.0s\n",
            "[CV] metric=manhattan, n_neighbors=3, weights=distance ...............\n",
            "[CV]  metric=manhattan, n_neighbors=3, weights=distance, total=   0.0s\n",
            "[CV] metric=manhattan, n_neighbors=4, weights=uniform ................\n"
          ]
        },
        {
          "output_type": "stream",
          "name": "stderr",
          "text": [
            "/usr/local/lib/python3.7/dist-packages/sklearn/model_selection/_validation.py:515: DataConversionWarning: A column-vector y was passed when a 1d array was expected. Please change the shape of y to (n_samples, ), for example using ravel().\n",
            "  estimator.fit(X_train, y_train, **fit_params)\n",
            "/usr/local/lib/python3.7/dist-packages/sklearn/model_selection/_validation.py:515: DataConversionWarning: A column-vector y was passed when a 1d array was expected. Please change the shape of y to (n_samples, ), for example using ravel().\n",
            "  estimator.fit(X_train, y_train, **fit_params)\n",
            "/usr/local/lib/python3.7/dist-packages/sklearn/model_selection/_validation.py:515: DataConversionWarning: A column-vector y was passed when a 1d array was expected. Please change the shape of y to (n_samples, ), for example using ravel().\n",
            "  estimator.fit(X_train, y_train, **fit_params)\n",
            "/usr/local/lib/python3.7/dist-packages/sklearn/model_selection/_validation.py:515: DataConversionWarning: A column-vector y was passed when a 1d array was expected. Please change the shape of y to (n_samples, ), for example using ravel().\n",
            "  estimator.fit(X_train, y_train, **fit_params)\n",
            "/usr/local/lib/python3.7/dist-packages/sklearn/model_selection/_validation.py:515: DataConversionWarning: A column-vector y was passed when a 1d array was expected. Please change the shape of y to (n_samples, ), for example using ravel().\n",
            "  estimator.fit(X_train, y_train, **fit_params)\n",
            "/usr/local/lib/python3.7/dist-packages/sklearn/model_selection/_validation.py:515: DataConversionWarning: A column-vector y was passed when a 1d array was expected. Please change the shape of y to (n_samples, ), for example using ravel().\n",
            "  estimator.fit(X_train, y_train, **fit_params)\n",
            "/usr/local/lib/python3.7/dist-packages/sklearn/model_selection/_validation.py:515: DataConversionWarning: A column-vector y was passed when a 1d array was expected. Please change the shape of y to (n_samples, ), for example using ravel().\n",
            "  estimator.fit(X_train, y_train, **fit_params)\n",
            "/usr/local/lib/python3.7/dist-packages/sklearn/model_selection/_validation.py:515: DataConversionWarning: A column-vector y was passed when a 1d array was expected. Please change the shape of y to (n_samples, ), for example using ravel().\n",
            "  estimator.fit(X_train, y_train, **fit_params)\n",
            "/usr/local/lib/python3.7/dist-packages/sklearn/model_selection/_validation.py:515: DataConversionWarning: A column-vector y was passed when a 1d array was expected. Please change the shape of y to (n_samples, ), for example using ravel().\n",
            "  estimator.fit(X_train, y_train, **fit_params)\n",
            "/usr/local/lib/python3.7/dist-packages/sklearn/model_selection/_validation.py:515: DataConversionWarning: A column-vector y was passed when a 1d array was expected. Please change the shape of y to (n_samples, ), for example using ravel().\n",
            "  estimator.fit(X_train, y_train, **fit_params)\n",
            "/usr/local/lib/python3.7/dist-packages/sklearn/model_selection/_validation.py:515: DataConversionWarning: A column-vector y was passed when a 1d array was expected. Please change the shape of y to (n_samples, ), for example using ravel().\n",
            "  estimator.fit(X_train, y_train, **fit_params)\n",
            "/usr/local/lib/python3.7/dist-packages/sklearn/model_selection/_validation.py:515: DataConversionWarning: A column-vector y was passed when a 1d array was expected. Please change the shape of y to (n_samples, ), for example using ravel().\n",
            "  estimator.fit(X_train, y_train, **fit_params)\n",
            "/usr/local/lib/python3.7/dist-packages/sklearn/model_selection/_validation.py:515: DataConversionWarning: A column-vector y was passed when a 1d array was expected. Please change the shape of y to (n_samples, ), for example using ravel().\n",
            "  estimator.fit(X_train, y_train, **fit_params)\n",
            "/usr/local/lib/python3.7/dist-packages/sklearn/model_selection/_validation.py:515: DataConversionWarning: A column-vector y was passed when a 1d array was expected. Please change the shape of y to (n_samples, ), for example using ravel().\n",
            "  estimator.fit(X_train, y_train, **fit_params)\n",
            "/usr/local/lib/python3.7/dist-packages/sklearn/model_selection/_validation.py:515: DataConversionWarning: A column-vector y was passed when a 1d array was expected. Please change the shape of y to (n_samples, ), for example using ravel().\n",
            "  estimator.fit(X_train, y_train, **fit_params)\n"
          ]
        },
        {
          "output_type": "stream",
          "name": "stdout",
          "text": [
            "[CV] . metric=manhattan, n_neighbors=4, weights=uniform, total=   0.0s\n",
            "[CV] metric=manhattan, n_neighbors=4, weights=uniform ................\n",
            "[CV] . metric=manhattan, n_neighbors=4, weights=uniform, total=   0.0s\n",
            "[CV] metric=manhattan, n_neighbors=4, weights=uniform ................\n",
            "[CV] . metric=manhattan, n_neighbors=4, weights=uniform, total=   0.0s\n",
            "[CV] metric=manhattan, n_neighbors=4, weights=uniform ................\n",
            "[CV] . metric=manhattan, n_neighbors=4, weights=uniform, total=   0.0s\n",
            "[CV] metric=manhattan, n_neighbors=4, weights=uniform ................\n",
            "[CV] . metric=manhattan, n_neighbors=4, weights=uniform, total=   0.0s\n",
            "[CV] metric=manhattan, n_neighbors=4, weights=distance ...............\n",
            "[CV]  metric=manhattan, n_neighbors=4, weights=distance, total=   0.0s\n",
            "[CV] metric=manhattan, n_neighbors=4, weights=distance ...............\n",
            "[CV]  metric=manhattan, n_neighbors=4, weights=distance, total=   0.0s\n",
            "[CV] metric=manhattan, n_neighbors=4, weights=distance ...............\n",
            "[CV]  metric=manhattan, n_neighbors=4, weights=distance, total=   0.0s\n",
            "[CV] metric=manhattan, n_neighbors=4, weights=distance ...............\n",
            "[CV]  metric=manhattan, n_neighbors=4, weights=distance, total=   0.0s\n",
            "[CV] metric=manhattan, n_neighbors=4, weights=distance ...............\n",
            "[CV]  metric=manhattan, n_neighbors=4, weights=distance, total=   0.0s\n",
            "[CV] metric=manhattan, n_neighbors=5, weights=uniform ................\n",
            "[CV] . metric=manhattan, n_neighbors=5, weights=uniform, total=   0.0s\n",
            "[CV] metric=manhattan, n_neighbors=5, weights=uniform ................\n",
            "[CV] . metric=manhattan, n_neighbors=5, weights=uniform, total=   0.0s\n",
            "[CV] metric=manhattan, n_neighbors=5, weights=uniform ................\n",
            "[CV] . metric=manhattan, n_neighbors=5, weights=uniform, total=   0.0s\n",
            "[CV] metric=manhattan, n_neighbors=5, weights=uniform ................\n",
            "[CV] . metric=manhattan, n_neighbors=5, weights=uniform, total=   0.0s\n",
            "[CV] metric=manhattan, n_neighbors=5, weights=uniform ................\n"
          ]
        },
        {
          "output_type": "stream",
          "name": "stderr",
          "text": [
            "/usr/local/lib/python3.7/dist-packages/sklearn/model_selection/_validation.py:515: DataConversionWarning: A column-vector y was passed when a 1d array was expected. Please change the shape of y to (n_samples, ), for example using ravel().\n",
            "  estimator.fit(X_train, y_train, **fit_params)\n",
            "/usr/local/lib/python3.7/dist-packages/sklearn/model_selection/_validation.py:515: DataConversionWarning: A column-vector y was passed when a 1d array was expected. Please change the shape of y to (n_samples, ), for example using ravel().\n",
            "  estimator.fit(X_train, y_train, **fit_params)\n",
            "/usr/local/lib/python3.7/dist-packages/sklearn/model_selection/_validation.py:515: DataConversionWarning: A column-vector y was passed when a 1d array was expected. Please change the shape of y to (n_samples, ), for example using ravel().\n",
            "  estimator.fit(X_train, y_train, **fit_params)\n",
            "/usr/local/lib/python3.7/dist-packages/sklearn/model_selection/_validation.py:515: DataConversionWarning: A column-vector y was passed when a 1d array was expected. Please change the shape of y to (n_samples, ), for example using ravel().\n",
            "  estimator.fit(X_train, y_train, **fit_params)\n",
            "/usr/local/lib/python3.7/dist-packages/sklearn/model_selection/_validation.py:515: DataConversionWarning: A column-vector y was passed when a 1d array was expected. Please change the shape of y to (n_samples, ), for example using ravel().\n",
            "  estimator.fit(X_train, y_train, **fit_params)\n",
            "/usr/local/lib/python3.7/dist-packages/sklearn/model_selection/_validation.py:515: DataConversionWarning: A column-vector y was passed when a 1d array was expected. Please change the shape of y to (n_samples, ), for example using ravel().\n",
            "  estimator.fit(X_train, y_train, **fit_params)\n",
            "/usr/local/lib/python3.7/dist-packages/sklearn/model_selection/_validation.py:515: DataConversionWarning: A column-vector y was passed when a 1d array was expected. Please change the shape of y to (n_samples, ), for example using ravel().\n",
            "  estimator.fit(X_train, y_train, **fit_params)\n",
            "/usr/local/lib/python3.7/dist-packages/sklearn/model_selection/_validation.py:515: DataConversionWarning: A column-vector y was passed when a 1d array was expected. Please change the shape of y to (n_samples, ), for example using ravel().\n",
            "  estimator.fit(X_train, y_train, **fit_params)\n",
            "/usr/local/lib/python3.7/dist-packages/sklearn/model_selection/_validation.py:515: DataConversionWarning: A column-vector y was passed when a 1d array was expected. Please change the shape of y to (n_samples, ), for example using ravel().\n",
            "  estimator.fit(X_train, y_train, **fit_params)\n",
            "/usr/local/lib/python3.7/dist-packages/sklearn/model_selection/_validation.py:515: DataConversionWarning: A column-vector y was passed when a 1d array was expected. Please change the shape of y to (n_samples, ), for example using ravel().\n",
            "  estimator.fit(X_train, y_train, **fit_params)\n",
            "/usr/local/lib/python3.7/dist-packages/sklearn/model_selection/_validation.py:515: DataConversionWarning: A column-vector y was passed when a 1d array was expected. Please change the shape of y to (n_samples, ), for example using ravel().\n",
            "  estimator.fit(X_train, y_train, **fit_params)\n",
            "/usr/local/lib/python3.7/dist-packages/sklearn/model_selection/_validation.py:515: DataConversionWarning: A column-vector y was passed when a 1d array was expected. Please change the shape of y to (n_samples, ), for example using ravel().\n",
            "  estimator.fit(X_train, y_train, **fit_params)\n",
            "/usr/local/lib/python3.7/dist-packages/sklearn/model_selection/_validation.py:515: DataConversionWarning: A column-vector y was passed when a 1d array was expected. Please change the shape of y to (n_samples, ), for example using ravel().\n",
            "  estimator.fit(X_train, y_train, **fit_params)\n",
            "/usr/local/lib/python3.7/dist-packages/sklearn/model_selection/_validation.py:515: DataConversionWarning: A column-vector y was passed when a 1d array was expected. Please change the shape of y to (n_samples, ), for example using ravel().\n",
            "  estimator.fit(X_train, y_train, **fit_params)\n"
          ]
        },
        {
          "output_type": "stream",
          "name": "stdout",
          "text": [
            "[CV] . metric=manhattan, n_neighbors=5, weights=uniform, total=   0.0s\n",
            "[CV] metric=manhattan, n_neighbors=5, weights=distance ...............\n",
            "[CV]  metric=manhattan, n_neighbors=5, weights=distance, total=   0.0s\n",
            "[CV] metric=manhattan, n_neighbors=5, weights=distance ...............\n",
            "[CV]  metric=manhattan, n_neighbors=5, weights=distance, total=   0.0s\n",
            "[CV] metric=manhattan, n_neighbors=5, weights=distance ...............\n",
            "[CV]  metric=manhattan, n_neighbors=5, weights=distance, total=   0.0s\n",
            "[CV] metric=manhattan, n_neighbors=5, weights=distance ...............\n",
            "[CV]  metric=manhattan, n_neighbors=5, weights=distance, total=   0.0s\n",
            "[CV] metric=manhattan, n_neighbors=5, weights=distance ...............\n",
            "[CV]  metric=manhattan, n_neighbors=5, weights=distance, total=   0.0s\n",
            "[CV] metric=manhattan, n_neighbors=6, weights=uniform ................\n",
            "[CV] . metric=manhattan, n_neighbors=6, weights=uniform, total=   0.0s\n",
            "[CV] metric=manhattan, n_neighbors=6, weights=uniform ................\n",
            "[CV] . metric=manhattan, n_neighbors=6, weights=uniform, total=   0.0s\n",
            "[CV] metric=manhattan, n_neighbors=6, weights=uniform ................\n",
            "[CV] . metric=manhattan, n_neighbors=6, weights=uniform, total=   0.0s\n",
            "[CV] metric=manhattan, n_neighbors=6, weights=uniform ................\n",
            "[CV] . metric=manhattan, n_neighbors=6, weights=uniform, total=   0.0s\n",
            "[CV] metric=manhattan, n_neighbors=6, weights=uniform ................\n",
            "[CV] . metric=manhattan, n_neighbors=6, weights=uniform, total=   0.0s\n",
            "[CV] metric=manhattan, n_neighbors=6, weights=distance ...............\n",
            "[CV]  metric=manhattan, n_neighbors=6, weights=distance, total=   0.0s\n",
            "[CV] metric=manhattan, n_neighbors=6, weights=distance ...............\n",
            "[CV]  metric=manhattan, n_neighbors=6, weights=distance, total=   0.0s\n",
            "[CV] metric=manhattan, n_neighbors=6, weights=distance ...............\n",
            "[CV]  metric=manhattan, n_neighbors=6, weights=distance, total=   0.0s\n",
            "[CV] metric=manhattan, n_neighbors=6, weights=distance ...............\n"
          ]
        },
        {
          "output_type": "stream",
          "name": "stderr",
          "text": [
            "/usr/local/lib/python3.7/dist-packages/sklearn/model_selection/_validation.py:515: DataConversionWarning: A column-vector y was passed when a 1d array was expected. Please change the shape of y to (n_samples, ), for example using ravel().\n",
            "  estimator.fit(X_train, y_train, **fit_params)\n",
            "/usr/local/lib/python3.7/dist-packages/sklearn/model_selection/_validation.py:515: DataConversionWarning: A column-vector y was passed when a 1d array was expected. Please change the shape of y to (n_samples, ), for example using ravel().\n",
            "  estimator.fit(X_train, y_train, **fit_params)\n",
            "/usr/local/lib/python3.7/dist-packages/sklearn/model_selection/_validation.py:515: DataConversionWarning: A column-vector y was passed when a 1d array was expected. Please change the shape of y to (n_samples, ), for example using ravel().\n",
            "  estimator.fit(X_train, y_train, **fit_params)\n",
            "/usr/local/lib/python3.7/dist-packages/sklearn/model_selection/_validation.py:515: DataConversionWarning: A column-vector y was passed when a 1d array was expected. Please change the shape of y to (n_samples, ), for example using ravel().\n",
            "  estimator.fit(X_train, y_train, **fit_params)\n",
            "/usr/local/lib/python3.7/dist-packages/sklearn/model_selection/_validation.py:515: DataConversionWarning: A column-vector y was passed when a 1d array was expected. Please change the shape of y to (n_samples, ), for example using ravel().\n",
            "  estimator.fit(X_train, y_train, **fit_params)\n",
            "/usr/local/lib/python3.7/dist-packages/sklearn/model_selection/_validation.py:515: DataConversionWarning: A column-vector y was passed when a 1d array was expected. Please change the shape of y to (n_samples, ), for example using ravel().\n",
            "  estimator.fit(X_train, y_train, **fit_params)\n",
            "/usr/local/lib/python3.7/dist-packages/sklearn/model_selection/_validation.py:515: DataConversionWarning: A column-vector y was passed when a 1d array was expected. Please change the shape of y to (n_samples, ), for example using ravel().\n",
            "  estimator.fit(X_train, y_train, **fit_params)\n",
            "/usr/local/lib/python3.7/dist-packages/sklearn/model_selection/_validation.py:515: DataConversionWarning: A column-vector y was passed when a 1d array was expected. Please change the shape of y to (n_samples, ), for example using ravel().\n",
            "  estimator.fit(X_train, y_train, **fit_params)\n",
            "/usr/local/lib/python3.7/dist-packages/sklearn/model_selection/_validation.py:515: DataConversionWarning: A column-vector y was passed when a 1d array was expected. Please change the shape of y to (n_samples, ), for example using ravel().\n",
            "  estimator.fit(X_train, y_train, **fit_params)\n",
            "/usr/local/lib/python3.7/dist-packages/sklearn/model_selection/_validation.py:515: DataConversionWarning: A column-vector y was passed when a 1d array was expected. Please change the shape of y to (n_samples, ), for example using ravel().\n",
            "  estimator.fit(X_train, y_train, **fit_params)\n",
            "/usr/local/lib/python3.7/dist-packages/sklearn/model_selection/_validation.py:515: DataConversionWarning: A column-vector y was passed when a 1d array was expected. Please change the shape of y to (n_samples, ), for example using ravel().\n",
            "  estimator.fit(X_train, y_train, **fit_params)\n",
            "/usr/local/lib/python3.7/dist-packages/sklearn/model_selection/_validation.py:515: DataConversionWarning: A column-vector y was passed when a 1d array was expected. Please change the shape of y to (n_samples, ), for example using ravel().\n",
            "  estimator.fit(X_train, y_train, **fit_params)\n",
            "/usr/local/lib/python3.7/dist-packages/sklearn/model_selection/_validation.py:515: DataConversionWarning: A column-vector y was passed when a 1d array was expected. Please change the shape of y to (n_samples, ), for example using ravel().\n",
            "  estimator.fit(X_train, y_train, **fit_params)\n",
            "/usr/local/lib/python3.7/dist-packages/sklearn/model_selection/_validation.py:515: DataConversionWarning: A column-vector y was passed when a 1d array was expected. Please change the shape of y to (n_samples, ), for example using ravel().\n",
            "  estimator.fit(X_train, y_train, **fit_params)\n",
            "/usr/local/lib/python3.7/dist-packages/sklearn/model_selection/_validation.py:515: DataConversionWarning: A column-vector y was passed when a 1d array was expected. Please change the shape of y to (n_samples, ), for example using ravel().\n",
            "  estimator.fit(X_train, y_train, **fit_params)\n"
          ]
        },
        {
          "output_type": "stream",
          "name": "stdout",
          "text": [
            "[CV]  metric=manhattan, n_neighbors=6, weights=distance, total=   0.0s\n",
            "[CV] metric=manhattan, n_neighbors=6, weights=distance ...............\n",
            "[CV]  metric=manhattan, n_neighbors=6, weights=distance, total=   0.0s\n",
            "[CV] metric=manhattan, n_neighbors=7, weights=uniform ................\n",
            "[CV] . metric=manhattan, n_neighbors=7, weights=uniform, total=   0.0s\n",
            "[CV] metric=manhattan, n_neighbors=7, weights=uniform ................\n",
            "[CV] . metric=manhattan, n_neighbors=7, weights=uniform, total=   0.0s\n",
            "[CV] metric=manhattan, n_neighbors=7, weights=uniform ................\n",
            "[CV] . metric=manhattan, n_neighbors=7, weights=uniform, total=   0.0s\n",
            "[CV] metric=manhattan, n_neighbors=7, weights=uniform ................\n",
            "[CV] . metric=manhattan, n_neighbors=7, weights=uniform, total=   0.0s\n",
            "[CV] metric=manhattan, n_neighbors=7, weights=uniform ................\n",
            "[CV] . metric=manhattan, n_neighbors=7, weights=uniform, total=   0.0s\n",
            "[CV] metric=manhattan, n_neighbors=7, weights=distance ...............\n",
            "[CV]  metric=manhattan, n_neighbors=7, weights=distance, total=   0.0s\n",
            "[CV] metric=manhattan, n_neighbors=7, weights=distance ...............\n",
            "[CV]  metric=manhattan, n_neighbors=7, weights=distance, total=   0.0s\n",
            "[CV] metric=manhattan, n_neighbors=7, weights=distance ...............\n",
            "[CV]  metric=manhattan, n_neighbors=7, weights=distance, total=   0.0s\n",
            "[CV] metric=manhattan, n_neighbors=7, weights=distance ...............\n",
            "[CV]  metric=manhattan, n_neighbors=7, weights=distance, total=   0.0s\n",
            "[CV] metric=manhattan, n_neighbors=7, weights=distance ...............\n",
            "[CV]  metric=manhattan, n_neighbors=7, weights=distance, total=   0.0s\n",
            "[CV] metric=manhattan, n_neighbors=8, weights=uniform ................\n",
            "[CV] . metric=manhattan, n_neighbors=8, weights=uniform, total=   0.0s\n",
            "[CV] metric=manhattan, n_neighbors=8, weights=uniform ................\n"
          ]
        },
        {
          "output_type": "stream",
          "name": "stderr",
          "text": [
            "/usr/local/lib/python3.7/dist-packages/sklearn/model_selection/_validation.py:515: DataConversionWarning: A column-vector y was passed when a 1d array was expected. Please change the shape of y to (n_samples, ), for example using ravel().\n",
            "  estimator.fit(X_train, y_train, **fit_params)\n",
            "/usr/local/lib/python3.7/dist-packages/sklearn/model_selection/_validation.py:515: DataConversionWarning: A column-vector y was passed when a 1d array was expected. Please change the shape of y to (n_samples, ), for example using ravel().\n",
            "  estimator.fit(X_train, y_train, **fit_params)\n",
            "/usr/local/lib/python3.7/dist-packages/sklearn/model_selection/_validation.py:515: DataConversionWarning: A column-vector y was passed when a 1d array was expected. Please change the shape of y to (n_samples, ), for example using ravel().\n",
            "  estimator.fit(X_train, y_train, **fit_params)\n",
            "/usr/local/lib/python3.7/dist-packages/sklearn/model_selection/_validation.py:515: DataConversionWarning: A column-vector y was passed when a 1d array was expected. Please change the shape of y to (n_samples, ), for example using ravel().\n",
            "  estimator.fit(X_train, y_train, **fit_params)\n",
            "/usr/local/lib/python3.7/dist-packages/sklearn/model_selection/_validation.py:515: DataConversionWarning: A column-vector y was passed when a 1d array was expected. Please change the shape of y to (n_samples, ), for example using ravel().\n",
            "  estimator.fit(X_train, y_train, **fit_params)\n",
            "/usr/local/lib/python3.7/dist-packages/sklearn/model_selection/_validation.py:515: DataConversionWarning: A column-vector y was passed when a 1d array was expected. Please change the shape of y to (n_samples, ), for example using ravel().\n",
            "  estimator.fit(X_train, y_train, **fit_params)\n",
            "/usr/local/lib/python3.7/dist-packages/sklearn/model_selection/_validation.py:515: DataConversionWarning: A column-vector y was passed when a 1d array was expected. Please change the shape of y to (n_samples, ), for example using ravel().\n",
            "  estimator.fit(X_train, y_train, **fit_params)\n",
            "/usr/local/lib/python3.7/dist-packages/sklearn/model_selection/_validation.py:515: DataConversionWarning: A column-vector y was passed when a 1d array was expected. Please change the shape of y to (n_samples, ), for example using ravel().\n",
            "  estimator.fit(X_train, y_train, **fit_params)\n",
            "/usr/local/lib/python3.7/dist-packages/sklearn/model_selection/_validation.py:515: DataConversionWarning: A column-vector y was passed when a 1d array was expected. Please change the shape of y to (n_samples, ), for example using ravel().\n",
            "  estimator.fit(X_train, y_train, **fit_params)\n",
            "/usr/local/lib/python3.7/dist-packages/sklearn/model_selection/_validation.py:515: DataConversionWarning: A column-vector y was passed when a 1d array was expected. Please change the shape of y to (n_samples, ), for example using ravel().\n",
            "  estimator.fit(X_train, y_train, **fit_params)\n",
            "/usr/local/lib/python3.7/dist-packages/sklearn/model_selection/_validation.py:515: DataConversionWarning: A column-vector y was passed when a 1d array was expected. Please change the shape of y to (n_samples, ), for example using ravel().\n",
            "  estimator.fit(X_train, y_train, **fit_params)\n",
            "/usr/local/lib/python3.7/dist-packages/sklearn/model_selection/_validation.py:515: DataConversionWarning: A column-vector y was passed when a 1d array was expected. Please change the shape of y to (n_samples, ), for example using ravel().\n",
            "  estimator.fit(X_train, y_train, **fit_params)\n",
            "/usr/local/lib/python3.7/dist-packages/sklearn/model_selection/_validation.py:515: DataConversionWarning: A column-vector y was passed when a 1d array was expected. Please change the shape of y to (n_samples, ), for example using ravel().\n",
            "  estimator.fit(X_train, y_train, **fit_params)\n"
          ]
        },
        {
          "output_type": "stream",
          "name": "stdout",
          "text": [
            "[CV] . metric=manhattan, n_neighbors=8, weights=uniform, total=   0.0s\n",
            "[CV] metric=manhattan, n_neighbors=8, weights=uniform ................\n",
            "[CV] . metric=manhattan, n_neighbors=8, weights=uniform, total=   0.0s\n",
            "[CV] metric=manhattan, n_neighbors=8, weights=uniform ................\n",
            "[CV] . metric=manhattan, n_neighbors=8, weights=uniform, total=   0.0s\n",
            "[CV] metric=manhattan, n_neighbors=8, weights=uniform ................\n",
            "[CV] . metric=manhattan, n_neighbors=8, weights=uniform, total=   0.0s\n",
            "[CV] metric=manhattan, n_neighbors=8, weights=distance ...............\n",
            "[CV]  metric=manhattan, n_neighbors=8, weights=distance, total=   0.0s\n",
            "[CV] metric=manhattan, n_neighbors=8, weights=distance ...............\n",
            "[CV]  metric=manhattan, n_neighbors=8, weights=distance, total=   0.0s\n",
            "[CV] metric=manhattan, n_neighbors=8, weights=distance ...............\n",
            "[CV]  metric=manhattan, n_neighbors=8, weights=distance, total=   0.0s\n",
            "[CV] metric=manhattan, n_neighbors=8, weights=distance ...............\n",
            "[CV]  metric=manhattan, n_neighbors=8, weights=distance, total=   0.0s\n",
            "[CV] metric=manhattan, n_neighbors=8, weights=distance ...............\n",
            "[CV]  metric=manhattan, n_neighbors=8, weights=distance, total=   0.0s\n",
            "[CV] metric=manhattan, n_neighbors=9, weights=uniform ................\n",
            "[CV] . metric=manhattan, n_neighbors=9, weights=uniform, total=   0.0s\n",
            "[CV] metric=manhattan, n_neighbors=9, weights=uniform ................\n",
            "[CV] . metric=manhattan, n_neighbors=9, weights=uniform, total=   0.0s\n",
            "[CV] metric=manhattan, n_neighbors=9, weights=uniform ................\n",
            "[CV] . metric=manhattan, n_neighbors=9, weights=uniform, total=   0.0s\n",
            "[CV] metric=manhattan, n_neighbors=9, weights=uniform ................\n",
            "[CV] . metric=manhattan, n_neighbors=9, weights=uniform, total=   0.0s\n",
            "[CV] metric=manhattan, n_neighbors=9, weights=uniform ................\n",
            "[CV] . metric=manhattan, n_neighbors=9, weights=uniform, total=   0.0s\n",
            "[CV] metric=manhattan, n_neighbors=9, weights=distance ...............\n"
          ]
        },
        {
          "output_type": "stream",
          "name": "stderr",
          "text": [
            "/usr/local/lib/python3.7/dist-packages/sklearn/model_selection/_validation.py:515: DataConversionWarning: A column-vector y was passed when a 1d array was expected. Please change the shape of y to (n_samples, ), for example using ravel().\n",
            "  estimator.fit(X_train, y_train, **fit_params)\n",
            "/usr/local/lib/python3.7/dist-packages/sklearn/model_selection/_validation.py:515: DataConversionWarning: A column-vector y was passed when a 1d array was expected. Please change the shape of y to (n_samples, ), for example using ravel().\n",
            "  estimator.fit(X_train, y_train, **fit_params)\n",
            "/usr/local/lib/python3.7/dist-packages/sklearn/model_selection/_validation.py:515: DataConversionWarning: A column-vector y was passed when a 1d array was expected. Please change the shape of y to (n_samples, ), for example using ravel().\n",
            "  estimator.fit(X_train, y_train, **fit_params)\n",
            "/usr/local/lib/python3.7/dist-packages/sklearn/model_selection/_validation.py:515: DataConversionWarning: A column-vector y was passed when a 1d array was expected. Please change the shape of y to (n_samples, ), for example using ravel().\n",
            "  estimator.fit(X_train, y_train, **fit_params)\n",
            "/usr/local/lib/python3.7/dist-packages/sklearn/model_selection/_validation.py:515: DataConversionWarning: A column-vector y was passed when a 1d array was expected. Please change the shape of y to (n_samples, ), for example using ravel().\n",
            "  estimator.fit(X_train, y_train, **fit_params)\n",
            "/usr/local/lib/python3.7/dist-packages/sklearn/model_selection/_validation.py:515: DataConversionWarning: A column-vector y was passed when a 1d array was expected. Please change the shape of y to (n_samples, ), for example using ravel().\n",
            "  estimator.fit(X_train, y_train, **fit_params)\n",
            "/usr/local/lib/python3.7/dist-packages/sklearn/model_selection/_validation.py:515: DataConversionWarning: A column-vector y was passed when a 1d array was expected. Please change the shape of y to (n_samples, ), for example using ravel().\n",
            "  estimator.fit(X_train, y_train, **fit_params)\n",
            "/usr/local/lib/python3.7/dist-packages/sklearn/model_selection/_validation.py:515: DataConversionWarning: A column-vector y was passed when a 1d array was expected. Please change the shape of y to (n_samples, ), for example using ravel().\n",
            "  estimator.fit(X_train, y_train, **fit_params)\n",
            "/usr/local/lib/python3.7/dist-packages/sklearn/model_selection/_validation.py:515: DataConversionWarning: A column-vector y was passed when a 1d array was expected. Please change the shape of y to (n_samples, ), for example using ravel().\n",
            "  estimator.fit(X_train, y_train, **fit_params)\n",
            "/usr/local/lib/python3.7/dist-packages/sklearn/model_selection/_validation.py:515: DataConversionWarning: A column-vector y was passed when a 1d array was expected. Please change the shape of y to (n_samples, ), for example using ravel().\n",
            "  estimator.fit(X_train, y_train, **fit_params)\n",
            "/usr/local/lib/python3.7/dist-packages/sklearn/model_selection/_validation.py:515: DataConversionWarning: A column-vector y was passed when a 1d array was expected. Please change the shape of y to (n_samples, ), for example using ravel().\n",
            "  estimator.fit(X_train, y_train, **fit_params)\n",
            "/usr/local/lib/python3.7/dist-packages/sklearn/model_selection/_validation.py:515: DataConversionWarning: A column-vector y was passed when a 1d array was expected. Please change the shape of y to (n_samples, ), for example using ravel().\n",
            "  estimator.fit(X_train, y_train, **fit_params)\n",
            "/usr/local/lib/python3.7/dist-packages/sklearn/model_selection/_validation.py:515: DataConversionWarning: A column-vector y was passed when a 1d array was expected. Please change the shape of y to (n_samples, ), for example using ravel().\n",
            "  estimator.fit(X_train, y_train, **fit_params)\n",
            "/usr/local/lib/python3.7/dist-packages/sklearn/model_selection/_validation.py:515: DataConversionWarning: A column-vector y was passed when a 1d array was expected. Please change the shape of y to (n_samples, ), for example using ravel().\n",
            "  estimator.fit(X_train, y_train, **fit_params)\n",
            "/usr/local/lib/python3.7/dist-packages/sklearn/model_selection/_validation.py:515: DataConversionWarning: A column-vector y was passed when a 1d array was expected. Please change the shape of y to (n_samples, ), for example using ravel().\n",
            "  estimator.fit(X_train, y_train, **fit_params)\n"
          ]
        },
        {
          "output_type": "stream",
          "name": "stdout",
          "text": [
            "[CV]  metric=manhattan, n_neighbors=9, weights=distance, total=   0.0s\n",
            "[CV] metric=manhattan, n_neighbors=9, weights=distance ...............\n",
            "[CV]  metric=manhattan, n_neighbors=9, weights=distance, total=   0.0s\n",
            "[CV] metric=manhattan, n_neighbors=9, weights=distance ...............\n",
            "[CV]  metric=manhattan, n_neighbors=9, weights=distance, total=   0.0s\n",
            "[CV] metric=manhattan, n_neighbors=9, weights=distance ...............\n",
            "[CV]  metric=manhattan, n_neighbors=9, weights=distance, total=   0.0s\n",
            "[CV] metric=manhattan, n_neighbors=9, weights=distance ...............\n",
            "[CV]  metric=manhattan, n_neighbors=9, weights=distance, total=   0.0s\n",
            "[CV] metric=manhattan, n_neighbors=10, weights=uniform ...............\n",
            "[CV]  metric=manhattan, n_neighbors=10, weights=uniform, total=   0.0s\n",
            "[CV] metric=manhattan, n_neighbors=10, weights=uniform ...............\n",
            "[CV]  metric=manhattan, n_neighbors=10, weights=uniform, total=   0.0s\n",
            "[CV] metric=manhattan, n_neighbors=10, weights=uniform ...............\n",
            "[CV]  metric=manhattan, n_neighbors=10, weights=uniform, total=   0.0s\n",
            "[CV] metric=manhattan, n_neighbors=10, weights=uniform ...............\n",
            "[CV]  metric=manhattan, n_neighbors=10, weights=uniform, total=   0.0s\n",
            "[CV] metric=manhattan, n_neighbors=10, weights=uniform ...............\n",
            "[CV]  metric=manhattan, n_neighbors=10, weights=uniform, total=   0.0s\n",
            "[CV] metric=manhattan, n_neighbors=10, weights=distance ..............\n",
            "[CV]  metric=manhattan, n_neighbors=10, weights=distance, total=   0.0s\n",
            "[CV] metric=manhattan, n_neighbors=10, weights=distance ..............\n",
            "[CV]  metric=manhattan, n_neighbors=10, weights=distance, total=   0.0s\n",
            "[CV] metric=manhattan, n_neighbors=10, weights=distance ..............\n",
            "[CV]  metric=manhattan, n_neighbors=10, weights=distance, total=   0.0s\n",
            "[CV] metric=manhattan, n_neighbors=10, weights=distance ..............\n",
            "[CV]  metric=manhattan, n_neighbors=10, weights=distance, total=   0.0s\n",
            "[CV] metric=manhattan, n_neighbors=10, weights=distance ..............\n"
          ]
        },
        {
          "output_type": "stream",
          "name": "stderr",
          "text": [
            "/usr/local/lib/python3.7/dist-packages/sklearn/model_selection/_validation.py:515: DataConversionWarning: A column-vector y was passed when a 1d array was expected. Please change the shape of y to (n_samples, ), for example using ravel().\n",
            "  estimator.fit(X_train, y_train, **fit_params)\n",
            "/usr/local/lib/python3.7/dist-packages/sklearn/model_selection/_validation.py:515: DataConversionWarning: A column-vector y was passed when a 1d array was expected. Please change the shape of y to (n_samples, ), for example using ravel().\n",
            "  estimator.fit(X_train, y_train, **fit_params)\n",
            "/usr/local/lib/python3.7/dist-packages/sklearn/model_selection/_validation.py:515: DataConversionWarning: A column-vector y was passed when a 1d array was expected. Please change the shape of y to (n_samples, ), for example using ravel().\n",
            "  estimator.fit(X_train, y_train, **fit_params)\n",
            "/usr/local/lib/python3.7/dist-packages/sklearn/model_selection/_validation.py:515: DataConversionWarning: A column-vector y was passed when a 1d array was expected. Please change the shape of y to (n_samples, ), for example using ravel().\n",
            "  estimator.fit(X_train, y_train, **fit_params)\n",
            "/usr/local/lib/python3.7/dist-packages/sklearn/model_selection/_validation.py:515: DataConversionWarning: A column-vector y was passed when a 1d array was expected. Please change the shape of y to (n_samples, ), for example using ravel().\n",
            "  estimator.fit(X_train, y_train, **fit_params)\n",
            "/usr/local/lib/python3.7/dist-packages/sklearn/model_selection/_validation.py:515: DataConversionWarning: A column-vector y was passed when a 1d array was expected. Please change the shape of y to (n_samples, ), for example using ravel().\n",
            "  estimator.fit(X_train, y_train, **fit_params)\n",
            "/usr/local/lib/python3.7/dist-packages/sklearn/model_selection/_validation.py:515: DataConversionWarning: A column-vector y was passed when a 1d array was expected. Please change the shape of y to (n_samples, ), for example using ravel().\n",
            "  estimator.fit(X_train, y_train, **fit_params)\n",
            "/usr/local/lib/python3.7/dist-packages/sklearn/model_selection/_validation.py:515: DataConversionWarning: A column-vector y was passed when a 1d array was expected. Please change the shape of y to (n_samples, ), for example using ravel().\n",
            "  estimator.fit(X_train, y_train, **fit_params)\n",
            "/usr/local/lib/python3.7/dist-packages/sklearn/model_selection/_validation.py:515: DataConversionWarning: A column-vector y was passed when a 1d array was expected. Please change the shape of y to (n_samples, ), for example using ravel().\n",
            "  estimator.fit(X_train, y_train, **fit_params)\n",
            "/usr/local/lib/python3.7/dist-packages/sklearn/model_selection/_validation.py:515: DataConversionWarning: A column-vector y was passed when a 1d array was expected. Please change the shape of y to (n_samples, ), for example using ravel().\n",
            "  estimator.fit(X_train, y_train, **fit_params)\n",
            "/usr/local/lib/python3.7/dist-packages/sklearn/model_selection/_validation.py:515: DataConversionWarning: A column-vector y was passed when a 1d array was expected. Please change the shape of y to (n_samples, ), for example using ravel().\n",
            "  estimator.fit(X_train, y_train, **fit_params)\n",
            "/usr/local/lib/python3.7/dist-packages/sklearn/model_selection/_validation.py:515: DataConversionWarning: A column-vector y was passed when a 1d array was expected. Please change the shape of y to (n_samples, ), for example using ravel().\n",
            "  estimator.fit(X_train, y_train, **fit_params)\n",
            "/usr/local/lib/python3.7/dist-packages/sklearn/model_selection/_validation.py:515: DataConversionWarning: A column-vector y was passed when a 1d array was expected. Please change the shape of y to (n_samples, ), for example using ravel().\n",
            "  estimator.fit(X_train, y_train, **fit_params)\n",
            "/usr/local/lib/python3.7/dist-packages/sklearn/model_selection/_validation.py:515: DataConversionWarning: A column-vector y was passed when a 1d array was expected. Please change the shape of y to (n_samples, ), for example using ravel().\n",
            "  estimator.fit(X_train, y_train, **fit_params)\n"
          ]
        },
        {
          "output_type": "stream",
          "name": "stdout",
          "text": [
            "[CV]  metric=manhattan, n_neighbors=10, weights=distance, total=   0.0s\n",
            "[CV] metric=minkowski, n_neighbors=1, weights=uniform ................\n",
            "[CV] . metric=minkowski, n_neighbors=1, weights=uniform, total=   0.0s\n",
            "[CV] metric=minkowski, n_neighbors=1, weights=uniform ................\n",
            "[CV] . metric=minkowski, n_neighbors=1, weights=uniform, total=   0.0s\n",
            "[CV] metric=minkowski, n_neighbors=1, weights=uniform ................\n",
            "[CV] . metric=minkowski, n_neighbors=1, weights=uniform, total=   0.0s\n",
            "[CV] metric=minkowski, n_neighbors=1, weights=uniform ................\n",
            "[CV] . metric=minkowski, n_neighbors=1, weights=uniform, total=   0.0s\n",
            "[CV] metric=minkowski, n_neighbors=1, weights=uniform ................\n",
            "[CV] . metric=minkowski, n_neighbors=1, weights=uniform, total=   0.0s\n",
            "[CV] metric=minkowski, n_neighbors=1, weights=distance ...............\n",
            "[CV]  metric=minkowski, n_neighbors=1, weights=distance, total=   0.0s\n",
            "[CV] metric=minkowski, n_neighbors=1, weights=distance ...............\n",
            "[CV]  metric=minkowski, n_neighbors=1, weights=distance, total=   0.0s\n",
            "[CV] metric=minkowski, n_neighbors=1, weights=distance ...............\n",
            "[CV]  metric=minkowski, n_neighbors=1, weights=distance, total=   0.0s\n",
            "[CV] metric=minkowski, n_neighbors=1, weights=distance ...............\n",
            "[CV]  metric=minkowski, n_neighbors=1, weights=distance, total=   0.0s\n",
            "[CV] metric=minkowski, n_neighbors=1, weights=distance ...............\n",
            "[CV]  metric=minkowski, n_neighbors=1, weights=distance, total=   0.0s\n",
            "[CV] metric=minkowski, n_neighbors=2, weights=uniform ................\n",
            "[CV] . metric=minkowski, n_neighbors=2, weights=uniform, total=   0.0s\n",
            "[CV] metric=minkowski, n_neighbors=2, weights=uniform ................\n",
            "[CV] . metric=minkowski, n_neighbors=2, weights=uniform, total=   0.0s\n",
            "[CV] metric=minkowski, n_neighbors=2, weights=uniform ................\n",
            "[CV] . metric=minkowski, n_neighbors=2, weights=uniform, total=   0.0s\n",
            "[CV] metric=minkowski, n_neighbors=2, weights=uniform ................\n"
          ]
        },
        {
          "output_type": "stream",
          "name": "stderr",
          "text": [
            "/usr/local/lib/python3.7/dist-packages/sklearn/model_selection/_validation.py:515: DataConversionWarning: A column-vector y was passed when a 1d array was expected. Please change the shape of y to (n_samples, ), for example using ravel().\n",
            "  estimator.fit(X_train, y_train, **fit_params)\n",
            "/usr/local/lib/python3.7/dist-packages/sklearn/model_selection/_validation.py:515: DataConversionWarning: A column-vector y was passed when a 1d array was expected. Please change the shape of y to (n_samples, ), for example using ravel().\n",
            "  estimator.fit(X_train, y_train, **fit_params)\n",
            "/usr/local/lib/python3.7/dist-packages/sklearn/model_selection/_validation.py:515: DataConversionWarning: A column-vector y was passed when a 1d array was expected. Please change the shape of y to (n_samples, ), for example using ravel().\n",
            "  estimator.fit(X_train, y_train, **fit_params)\n",
            "/usr/local/lib/python3.7/dist-packages/sklearn/model_selection/_validation.py:515: DataConversionWarning: A column-vector y was passed when a 1d array was expected. Please change the shape of y to (n_samples, ), for example using ravel().\n",
            "  estimator.fit(X_train, y_train, **fit_params)\n",
            "/usr/local/lib/python3.7/dist-packages/sklearn/model_selection/_validation.py:515: DataConversionWarning: A column-vector y was passed when a 1d array was expected. Please change the shape of y to (n_samples, ), for example using ravel().\n",
            "  estimator.fit(X_train, y_train, **fit_params)\n",
            "/usr/local/lib/python3.7/dist-packages/sklearn/model_selection/_validation.py:515: DataConversionWarning: A column-vector y was passed when a 1d array was expected. Please change the shape of y to (n_samples, ), for example using ravel().\n",
            "  estimator.fit(X_train, y_train, **fit_params)\n",
            "/usr/local/lib/python3.7/dist-packages/sklearn/model_selection/_validation.py:515: DataConversionWarning: A column-vector y was passed when a 1d array was expected. Please change the shape of y to (n_samples, ), for example using ravel().\n",
            "  estimator.fit(X_train, y_train, **fit_params)\n",
            "/usr/local/lib/python3.7/dist-packages/sklearn/model_selection/_validation.py:515: DataConversionWarning: A column-vector y was passed when a 1d array was expected. Please change the shape of y to (n_samples, ), for example using ravel().\n",
            "  estimator.fit(X_train, y_train, **fit_params)\n",
            "/usr/local/lib/python3.7/dist-packages/sklearn/model_selection/_validation.py:515: DataConversionWarning: A column-vector y was passed when a 1d array was expected. Please change the shape of y to (n_samples, ), for example using ravel().\n",
            "  estimator.fit(X_train, y_train, **fit_params)\n",
            "/usr/local/lib/python3.7/dist-packages/sklearn/model_selection/_validation.py:515: DataConversionWarning: A column-vector y was passed when a 1d array was expected. Please change the shape of y to (n_samples, ), for example using ravel().\n",
            "  estimator.fit(X_train, y_train, **fit_params)\n",
            "/usr/local/lib/python3.7/dist-packages/sklearn/model_selection/_validation.py:515: DataConversionWarning: A column-vector y was passed when a 1d array was expected. Please change the shape of y to (n_samples, ), for example using ravel().\n",
            "  estimator.fit(X_train, y_train, **fit_params)\n",
            "/usr/local/lib/python3.7/dist-packages/sklearn/model_selection/_validation.py:515: DataConversionWarning: A column-vector y was passed when a 1d array was expected. Please change the shape of y to (n_samples, ), for example using ravel().\n",
            "  estimator.fit(X_train, y_train, **fit_params)\n",
            "/usr/local/lib/python3.7/dist-packages/sklearn/model_selection/_validation.py:515: DataConversionWarning: A column-vector y was passed when a 1d array was expected. Please change the shape of y to (n_samples, ), for example using ravel().\n",
            "  estimator.fit(X_train, y_train, **fit_params)\n",
            "/usr/local/lib/python3.7/dist-packages/sklearn/model_selection/_validation.py:515: DataConversionWarning: A column-vector y was passed when a 1d array was expected. Please change the shape of y to (n_samples, ), for example using ravel().\n",
            "  estimator.fit(X_train, y_train, **fit_params)\n"
          ]
        },
        {
          "output_type": "stream",
          "name": "stdout",
          "text": [
            "[CV] . metric=minkowski, n_neighbors=2, weights=uniform, total=   0.0s\n",
            "[CV] metric=minkowski, n_neighbors=2, weights=uniform ................\n",
            "[CV] . metric=minkowski, n_neighbors=2, weights=uniform, total=   0.0s\n",
            "[CV] metric=minkowski, n_neighbors=2, weights=distance ...............\n",
            "[CV]  metric=minkowski, n_neighbors=2, weights=distance, total=   0.0s\n",
            "[CV] metric=minkowski, n_neighbors=2, weights=distance ...............\n",
            "[CV]  metric=minkowski, n_neighbors=2, weights=distance, total=   0.0s\n",
            "[CV] metric=minkowski, n_neighbors=2, weights=distance ...............\n",
            "[CV]  metric=minkowski, n_neighbors=2, weights=distance, total=   0.0s\n",
            "[CV] metric=minkowski, n_neighbors=2, weights=distance ...............\n",
            "[CV]  metric=minkowski, n_neighbors=2, weights=distance, total=   0.0s\n",
            "[CV] metric=minkowski, n_neighbors=2, weights=distance ...............\n",
            "[CV]  metric=minkowski, n_neighbors=2, weights=distance, total=   0.0s\n",
            "[CV] metric=minkowski, n_neighbors=3, weights=uniform ................\n",
            "[CV] . metric=minkowski, n_neighbors=3, weights=uniform, total=   0.0s\n",
            "[CV] metric=minkowski, n_neighbors=3, weights=uniform ................\n",
            "[CV] . metric=minkowski, n_neighbors=3, weights=uniform, total=   0.0s\n",
            "[CV] metric=minkowski, n_neighbors=3, weights=uniform ................\n",
            "[CV] . metric=minkowski, n_neighbors=3, weights=uniform, total=   0.0s\n",
            "[CV] metric=minkowski, n_neighbors=3, weights=uniform ................\n",
            "[CV] . metric=minkowski, n_neighbors=3, weights=uniform, total=   0.0s\n",
            "[CV] metric=minkowski, n_neighbors=3, weights=uniform ................\n",
            "[CV] . metric=minkowski, n_neighbors=3, weights=uniform, total=   0.0s\n",
            "[CV] metric=minkowski, n_neighbors=3, weights=distance ...............\n",
            "[CV]  metric=minkowski, n_neighbors=3, weights=distance, total=   0.0s\n",
            "[CV] metric=minkowski, n_neighbors=3, weights=distance ...............\n",
            "[CV]  metric=minkowski, n_neighbors=3, weights=distance, total=   0.0s\n",
            "[CV] metric=minkowski, n_neighbors=3, weights=distance ...............\n",
            "[CV]  metric=minkowski, n_neighbors=3, weights=distance, total=   0.0s\n",
            "[CV] metric=minkowski, n_neighbors=3, weights=distance ...............\n"
          ]
        },
        {
          "output_type": "stream",
          "name": "stderr",
          "text": [
            "/usr/local/lib/python3.7/dist-packages/sklearn/model_selection/_validation.py:515: DataConversionWarning: A column-vector y was passed when a 1d array was expected. Please change the shape of y to (n_samples, ), for example using ravel().\n",
            "  estimator.fit(X_train, y_train, **fit_params)\n",
            "/usr/local/lib/python3.7/dist-packages/sklearn/model_selection/_validation.py:515: DataConversionWarning: A column-vector y was passed when a 1d array was expected. Please change the shape of y to (n_samples, ), for example using ravel().\n",
            "  estimator.fit(X_train, y_train, **fit_params)\n",
            "/usr/local/lib/python3.7/dist-packages/sklearn/model_selection/_validation.py:515: DataConversionWarning: A column-vector y was passed when a 1d array was expected. Please change the shape of y to (n_samples, ), for example using ravel().\n",
            "  estimator.fit(X_train, y_train, **fit_params)\n",
            "/usr/local/lib/python3.7/dist-packages/sklearn/model_selection/_validation.py:515: DataConversionWarning: A column-vector y was passed when a 1d array was expected. Please change the shape of y to (n_samples, ), for example using ravel().\n",
            "  estimator.fit(X_train, y_train, **fit_params)\n",
            "/usr/local/lib/python3.7/dist-packages/sklearn/model_selection/_validation.py:515: DataConversionWarning: A column-vector y was passed when a 1d array was expected. Please change the shape of y to (n_samples, ), for example using ravel().\n",
            "  estimator.fit(X_train, y_train, **fit_params)\n",
            "/usr/local/lib/python3.7/dist-packages/sklearn/model_selection/_validation.py:515: DataConversionWarning: A column-vector y was passed when a 1d array was expected. Please change the shape of y to (n_samples, ), for example using ravel().\n",
            "  estimator.fit(X_train, y_train, **fit_params)\n",
            "/usr/local/lib/python3.7/dist-packages/sklearn/model_selection/_validation.py:515: DataConversionWarning: A column-vector y was passed when a 1d array was expected. Please change the shape of y to (n_samples, ), for example using ravel().\n",
            "  estimator.fit(X_train, y_train, **fit_params)\n",
            "/usr/local/lib/python3.7/dist-packages/sklearn/model_selection/_validation.py:515: DataConversionWarning: A column-vector y was passed when a 1d array was expected. Please change the shape of y to (n_samples, ), for example using ravel().\n",
            "  estimator.fit(X_train, y_train, **fit_params)\n",
            "/usr/local/lib/python3.7/dist-packages/sklearn/model_selection/_validation.py:515: DataConversionWarning: A column-vector y was passed when a 1d array was expected. Please change the shape of y to (n_samples, ), for example using ravel().\n",
            "  estimator.fit(X_train, y_train, **fit_params)\n",
            "/usr/local/lib/python3.7/dist-packages/sklearn/model_selection/_validation.py:515: DataConversionWarning: A column-vector y was passed when a 1d array was expected. Please change the shape of y to (n_samples, ), for example using ravel().\n",
            "  estimator.fit(X_train, y_train, **fit_params)\n",
            "/usr/local/lib/python3.7/dist-packages/sklearn/model_selection/_validation.py:515: DataConversionWarning: A column-vector y was passed when a 1d array was expected. Please change the shape of y to (n_samples, ), for example using ravel().\n",
            "  estimator.fit(X_train, y_train, **fit_params)\n",
            "/usr/local/lib/python3.7/dist-packages/sklearn/model_selection/_validation.py:515: DataConversionWarning: A column-vector y was passed when a 1d array was expected. Please change the shape of y to (n_samples, ), for example using ravel().\n",
            "  estimator.fit(X_train, y_train, **fit_params)\n",
            "/usr/local/lib/python3.7/dist-packages/sklearn/model_selection/_validation.py:515: DataConversionWarning: A column-vector y was passed when a 1d array was expected. Please change the shape of y to (n_samples, ), for example using ravel().\n",
            "  estimator.fit(X_train, y_train, **fit_params)\n",
            "/usr/local/lib/python3.7/dist-packages/sklearn/model_selection/_validation.py:515: DataConversionWarning: A column-vector y was passed when a 1d array was expected. Please change the shape of y to (n_samples, ), for example using ravel().\n",
            "  estimator.fit(X_train, y_train, **fit_params)\n",
            "/usr/local/lib/python3.7/dist-packages/sklearn/model_selection/_validation.py:515: DataConversionWarning: A column-vector y was passed when a 1d array was expected. Please change the shape of y to (n_samples, ), for example using ravel().\n",
            "  estimator.fit(X_train, y_train, **fit_params)\n"
          ]
        },
        {
          "output_type": "stream",
          "name": "stdout",
          "text": [
            "[CV]  metric=minkowski, n_neighbors=3, weights=distance, total=   0.0s\n",
            "[CV] metric=minkowski, n_neighbors=3, weights=distance ...............\n",
            "[CV]  metric=minkowski, n_neighbors=3, weights=distance, total=   0.0s\n",
            "[CV] metric=minkowski, n_neighbors=4, weights=uniform ................\n",
            "[CV] . metric=minkowski, n_neighbors=4, weights=uniform, total=   0.0s\n",
            "[CV] metric=minkowski, n_neighbors=4, weights=uniform ................\n",
            "[CV] . metric=minkowski, n_neighbors=4, weights=uniform, total=   0.0s\n",
            "[CV] metric=minkowski, n_neighbors=4, weights=uniform ................\n",
            "[CV] . metric=minkowski, n_neighbors=4, weights=uniform, total=   0.0s\n",
            "[CV] metric=minkowski, n_neighbors=4, weights=uniform ................\n",
            "[CV] . metric=minkowski, n_neighbors=4, weights=uniform, total=   0.0s\n",
            "[CV] metric=minkowski, n_neighbors=4, weights=uniform ................\n",
            "[CV] . metric=minkowski, n_neighbors=4, weights=uniform, total=   0.0s\n",
            "[CV] metric=minkowski, n_neighbors=4, weights=distance ...............\n",
            "[CV]  metric=minkowski, n_neighbors=4, weights=distance, total=   0.0s\n",
            "[CV] metric=minkowski, n_neighbors=4, weights=distance ...............\n",
            "[CV]  metric=minkowski, n_neighbors=4, weights=distance, total=   0.0s\n",
            "[CV] metric=minkowski, n_neighbors=4, weights=distance ...............\n",
            "[CV]  metric=minkowski, n_neighbors=4, weights=distance, total=   0.0s\n",
            "[CV] metric=minkowski, n_neighbors=4, weights=distance ...............\n",
            "[CV]  metric=minkowski, n_neighbors=4, weights=distance, total=   0.0s\n",
            "[CV] metric=minkowski, n_neighbors=4, weights=distance ...............\n",
            "[CV]  metric=minkowski, n_neighbors=4, weights=distance, total=   0.0s\n",
            "[CV] metric=minkowski, n_neighbors=5, weights=uniform ................\n",
            "[CV] . metric=minkowski, n_neighbors=5, weights=uniform, total=   0.0s\n",
            "[CV] metric=minkowski, n_neighbors=5, weights=uniform ................\n",
            "[CV] . metric=minkowski, n_neighbors=5, weights=uniform, total=   0.0s\n",
            "[CV] metric=minkowski, n_neighbors=5, weights=uniform ................\n",
            "[CV] . metric=minkowski, n_neighbors=5, weights=uniform, total=   0.0s\n",
            "[CV] metric=minkowski, n_neighbors=5, weights=uniform ................\n"
          ]
        },
        {
          "output_type": "stream",
          "name": "stderr",
          "text": [
            "/usr/local/lib/python3.7/dist-packages/sklearn/model_selection/_validation.py:515: DataConversionWarning: A column-vector y was passed when a 1d array was expected. Please change the shape of y to (n_samples, ), for example using ravel().\n",
            "  estimator.fit(X_train, y_train, **fit_params)\n",
            "/usr/local/lib/python3.7/dist-packages/sklearn/model_selection/_validation.py:515: DataConversionWarning: A column-vector y was passed when a 1d array was expected. Please change the shape of y to (n_samples, ), for example using ravel().\n",
            "  estimator.fit(X_train, y_train, **fit_params)\n",
            "/usr/local/lib/python3.7/dist-packages/sklearn/model_selection/_validation.py:515: DataConversionWarning: A column-vector y was passed when a 1d array was expected. Please change the shape of y to (n_samples, ), for example using ravel().\n",
            "  estimator.fit(X_train, y_train, **fit_params)\n",
            "/usr/local/lib/python3.7/dist-packages/sklearn/model_selection/_validation.py:515: DataConversionWarning: A column-vector y was passed when a 1d array was expected. Please change the shape of y to (n_samples, ), for example using ravel().\n",
            "  estimator.fit(X_train, y_train, **fit_params)\n",
            "/usr/local/lib/python3.7/dist-packages/sklearn/model_selection/_validation.py:515: DataConversionWarning: A column-vector y was passed when a 1d array was expected. Please change the shape of y to (n_samples, ), for example using ravel().\n",
            "  estimator.fit(X_train, y_train, **fit_params)\n",
            "/usr/local/lib/python3.7/dist-packages/sklearn/model_selection/_validation.py:515: DataConversionWarning: A column-vector y was passed when a 1d array was expected. Please change the shape of y to (n_samples, ), for example using ravel().\n",
            "  estimator.fit(X_train, y_train, **fit_params)\n",
            "/usr/local/lib/python3.7/dist-packages/sklearn/model_selection/_validation.py:515: DataConversionWarning: A column-vector y was passed when a 1d array was expected. Please change the shape of y to (n_samples, ), for example using ravel().\n",
            "  estimator.fit(X_train, y_train, **fit_params)\n",
            "/usr/local/lib/python3.7/dist-packages/sklearn/model_selection/_validation.py:515: DataConversionWarning: A column-vector y was passed when a 1d array was expected. Please change the shape of y to (n_samples, ), for example using ravel().\n",
            "  estimator.fit(X_train, y_train, **fit_params)\n",
            "/usr/local/lib/python3.7/dist-packages/sklearn/model_selection/_validation.py:515: DataConversionWarning: A column-vector y was passed when a 1d array was expected. Please change the shape of y to (n_samples, ), for example using ravel().\n",
            "  estimator.fit(X_train, y_train, **fit_params)\n",
            "/usr/local/lib/python3.7/dist-packages/sklearn/model_selection/_validation.py:515: DataConversionWarning: A column-vector y was passed when a 1d array was expected. Please change the shape of y to (n_samples, ), for example using ravel().\n",
            "  estimator.fit(X_train, y_train, **fit_params)\n",
            "/usr/local/lib/python3.7/dist-packages/sklearn/model_selection/_validation.py:515: DataConversionWarning: A column-vector y was passed when a 1d array was expected. Please change the shape of y to (n_samples, ), for example using ravel().\n",
            "  estimator.fit(X_train, y_train, **fit_params)\n",
            "/usr/local/lib/python3.7/dist-packages/sklearn/model_selection/_validation.py:515: DataConversionWarning: A column-vector y was passed when a 1d array was expected. Please change the shape of y to (n_samples, ), for example using ravel().\n",
            "  estimator.fit(X_train, y_train, **fit_params)\n",
            "/usr/local/lib/python3.7/dist-packages/sklearn/model_selection/_validation.py:515: DataConversionWarning: A column-vector y was passed when a 1d array was expected. Please change the shape of y to (n_samples, ), for example using ravel().\n",
            "  estimator.fit(X_train, y_train, **fit_params)\n",
            "/usr/local/lib/python3.7/dist-packages/sklearn/model_selection/_validation.py:515: DataConversionWarning: A column-vector y was passed when a 1d array was expected. Please change the shape of y to (n_samples, ), for example using ravel().\n",
            "  estimator.fit(X_train, y_train, **fit_params)\n",
            "/usr/local/lib/python3.7/dist-packages/sklearn/model_selection/_validation.py:515: DataConversionWarning: A column-vector y was passed when a 1d array was expected. Please change the shape of y to (n_samples, ), for example using ravel().\n",
            "  estimator.fit(X_train, y_train, **fit_params)\n",
            "/usr/local/lib/python3.7/dist-packages/sklearn/model_selection/_validation.py:515: DataConversionWarning: A column-vector y was passed when a 1d array was expected. Please change the shape of y to (n_samples, ), for example using ravel().\n",
            "  estimator.fit(X_train, y_train, **fit_params)\n"
          ]
        },
        {
          "output_type": "stream",
          "name": "stdout",
          "text": [
            "[CV] . metric=minkowski, n_neighbors=5, weights=uniform, total=   0.0s\n",
            "[CV] metric=minkowski, n_neighbors=5, weights=uniform ................\n",
            "[CV] . metric=minkowski, n_neighbors=5, weights=uniform, total=   0.0s\n",
            "[CV] metric=minkowski, n_neighbors=5, weights=distance ...............\n",
            "[CV]  metric=minkowski, n_neighbors=5, weights=distance, total=   0.0s\n",
            "[CV] metric=minkowski, n_neighbors=5, weights=distance ...............\n",
            "[CV]  metric=minkowski, n_neighbors=5, weights=distance, total=   0.0s\n",
            "[CV] metric=minkowski, n_neighbors=5, weights=distance ...............\n",
            "[CV]  metric=minkowski, n_neighbors=5, weights=distance, total=   0.0s\n",
            "[CV] metric=minkowski, n_neighbors=5, weights=distance ...............\n",
            "[CV]  metric=minkowski, n_neighbors=5, weights=distance, total=   0.0s\n",
            "[CV] metric=minkowski, n_neighbors=5, weights=distance ...............\n",
            "[CV]  metric=minkowski, n_neighbors=5, weights=distance, total=   0.0s\n",
            "[CV] metric=minkowski, n_neighbors=6, weights=uniform ................\n",
            "[CV] . metric=minkowski, n_neighbors=6, weights=uniform, total=   0.0s\n",
            "[CV] metric=minkowski, n_neighbors=6, weights=uniform ................\n",
            "[CV] . metric=minkowski, n_neighbors=6, weights=uniform, total=   0.0s\n",
            "[CV] metric=minkowski, n_neighbors=6, weights=uniform ................\n",
            "[CV] . metric=minkowski, n_neighbors=6, weights=uniform, total=   0.0s\n",
            "[CV] metric=minkowski, n_neighbors=6, weights=uniform ................\n",
            "[CV] . metric=minkowski, n_neighbors=6, weights=uniform, total=   0.0s\n",
            "[CV] metric=minkowski, n_neighbors=6, weights=uniform ................\n",
            "[CV] . metric=minkowski, n_neighbors=6, weights=uniform, total=   0.0s\n",
            "[CV] metric=minkowski, n_neighbors=6, weights=distance ...............\n",
            "[CV]  metric=minkowski, n_neighbors=6, weights=distance, total=   0.0s\n",
            "[CV] metric=minkowski, n_neighbors=6, weights=distance ...............\n",
            "[CV]  metric=minkowski, n_neighbors=6, weights=distance, total=   0.0s\n",
            "[CV] metric=minkowski, n_neighbors=6, weights=distance ...............\n",
            "[CV]  metric=minkowski, n_neighbors=6, weights=distance, total=   0.0s\n",
            "[CV] metric=minkowski, n_neighbors=6, weights=distance ...............\n",
            "[CV]  metric=minkowski, n_neighbors=6, weights=distance, total=   0.0s\n",
            "[CV] metric=minkowski, n_neighbors=6, weights=distance ...............\n"
          ]
        },
        {
          "output_type": "stream",
          "name": "stderr",
          "text": [
            "/usr/local/lib/python3.7/dist-packages/sklearn/model_selection/_validation.py:515: DataConversionWarning: A column-vector y was passed when a 1d array was expected. Please change the shape of y to (n_samples, ), for example using ravel().\n",
            "  estimator.fit(X_train, y_train, **fit_params)\n",
            "/usr/local/lib/python3.7/dist-packages/sklearn/model_selection/_validation.py:515: DataConversionWarning: A column-vector y was passed when a 1d array was expected. Please change the shape of y to (n_samples, ), for example using ravel().\n",
            "  estimator.fit(X_train, y_train, **fit_params)\n",
            "/usr/local/lib/python3.7/dist-packages/sklearn/model_selection/_validation.py:515: DataConversionWarning: A column-vector y was passed when a 1d array was expected. Please change the shape of y to (n_samples, ), for example using ravel().\n",
            "  estimator.fit(X_train, y_train, **fit_params)\n",
            "/usr/local/lib/python3.7/dist-packages/sklearn/model_selection/_validation.py:515: DataConversionWarning: A column-vector y was passed when a 1d array was expected. Please change the shape of y to (n_samples, ), for example using ravel().\n",
            "  estimator.fit(X_train, y_train, **fit_params)\n",
            "/usr/local/lib/python3.7/dist-packages/sklearn/model_selection/_validation.py:515: DataConversionWarning: A column-vector y was passed when a 1d array was expected. Please change the shape of y to (n_samples, ), for example using ravel().\n",
            "  estimator.fit(X_train, y_train, **fit_params)\n",
            "/usr/local/lib/python3.7/dist-packages/sklearn/model_selection/_validation.py:515: DataConversionWarning: A column-vector y was passed when a 1d array was expected. Please change the shape of y to (n_samples, ), for example using ravel().\n",
            "  estimator.fit(X_train, y_train, **fit_params)\n",
            "/usr/local/lib/python3.7/dist-packages/sklearn/model_selection/_validation.py:515: DataConversionWarning: A column-vector y was passed when a 1d array was expected. Please change the shape of y to (n_samples, ), for example using ravel().\n",
            "  estimator.fit(X_train, y_train, **fit_params)\n",
            "/usr/local/lib/python3.7/dist-packages/sklearn/model_selection/_validation.py:515: DataConversionWarning: A column-vector y was passed when a 1d array was expected. Please change the shape of y to (n_samples, ), for example using ravel().\n",
            "  estimator.fit(X_train, y_train, **fit_params)\n",
            "/usr/local/lib/python3.7/dist-packages/sklearn/model_selection/_validation.py:515: DataConversionWarning: A column-vector y was passed when a 1d array was expected. Please change the shape of y to (n_samples, ), for example using ravel().\n",
            "  estimator.fit(X_train, y_train, **fit_params)\n",
            "/usr/local/lib/python3.7/dist-packages/sklearn/model_selection/_validation.py:515: DataConversionWarning: A column-vector y was passed when a 1d array was expected. Please change the shape of y to (n_samples, ), for example using ravel().\n",
            "  estimator.fit(X_train, y_train, **fit_params)\n",
            "/usr/local/lib/python3.7/dist-packages/sklearn/model_selection/_validation.py:515: DataConversionWarning: A column-vector y was passed when a 1d array was expected. Please change the shape of y to (n_samples, ), for example using ravel().\n",
            "  estimator.fit(X_train, y_train, **fit_params)\n",
            "/usr/local/lib/python3.7/dist-packages/sklearn/model_selection/_validation.py:515: DataConversionWarning: A column-vector y was passed when a 1d array was expected. Please change the shape of y to (n_samples, ), for example using ravel().\n",
            "  estimator.fit(X_train, y_train, **fit_params)\n",
            "/usr/local/lib/python3.7/dist-packages/sklearn/model_selection/_validation.py:515: DataConversionWarning: A column-vector y was passed when a 1d array was expected. Please change the shape of y to (n_samples, ), for example using ravel().\n",
            "  estimator.fit(X_train, y_train, **fit_params)\n",
            "/usr/local/lib/python3.7/dist-packages/sklearn/model_selection/_validation.py:515: DataConversionWarning: A column-vector y was passed when a 1d array was expected. Please change the shape of y to (n_samples, ), for example using ravel().\n",
            "  estimator.fit(X_train, y_train, **fit_params)\n",
            "/usr/local/lib/python3.7/dist-packages/sklearn/model_selection/_validation.py:515: DataConversionWarning: A column-vector y was passed when a 1d array was expected. Please change the shape of y to (n_samples, ), for example using ravel().\n",
            "  estimator.fit(X_train, y_train, **fit_params)\n"
          ]
        },
        {
          "output_type": "stream",
          "name": "stdout",
          "text": [
            "[CV]  metric=minkowski, n_neighbors=6, weights=distance, total=   0.0s\n",
            "[CV] metric=minkowski, n_neighbors=7, weights=uniform ................\n",
            "[CV] . metric=minkowski, n_neighbors=7, weights=uniform, total=   0.0s\n",
            "[CV] metric=minkowski, n_neighbors=7, weights=uniform ................\n",
            "[CV] . metric=minkowski, n_neighbors=7, weights=uniform, total=   0.0s\n",
            "[CV] metric=minkowski, n_neighbors=7, weights=uniform ................\n",
            "[CV] . metric=minkowski, n_neighbors=7, weights=uniform, total=   0.0s\n",
            "[CV] metric=minkowski, n_neighbors=7, weights=uniform ................\n",
            "[CV] . metric=minkowski, n_neighbors=7, weights=uniform, total=   0.0s\n",
            "[CV] metric=minkowski, n_neighbors=7, weights=uniform ................\n",
            "[CV] . metric=minkowski, n_neighbors=7, weights=uniform, total=   0.0s\n",
            "[CV] metric=minkowski, n_neighbors=7, weights=distance ...............\n",
            "[CV]  metric=minkowski, n_neighbors=7, weights=distance, total=   0.0s\n",
            "[CV] metric=minkowski, n_neighbors=7, weights=distance ...............\n",
            "[CV]  metric=minkowski, n_neighbors=7, weights=distance, total=   0.0s\n",
            "[CV] metric=minkowski, n_neighbors=7, weights=distance ...............\n",
            "[CV]  metric=minkowski, n_neighbors=7, weights=distance, total=   0.0s\n",
            "[CV] metric=minkowski, n_neighbors=7, weights=distance ...............\n",
            "[CV]  metric=minkowski, n_neighbors=7, weights=distance, total=   0.0s\n",
            "[CV] metric=minkowski, n_neighbors=7, weights=distance ...............\n",
            "[CV]  metric=minkowski, n_neighbors=7, weights=distance, total=   0.0s\n",
            "[CV] metric=minkowski, n_neighbors=8, weights=uniform ................\n",
            "[CV] . metric=minkowski, n_neighbors=8, weights=uniform, total=   0.0s\n",
            "[CV] metric=minkowski, n_neighbors=8, weights=uniform ................\n",
            "[CV] . metric=minkowski, n_neighbors=8, weights=uniform, total=   0.0s\n",
            "[CV] metric=minkowski, n_neighbors=8, weights=uniform ................\n",
            "[CV] . metric=minkowski, n_neighbors=8, weights=uniform, total=   0.0s\n",
            "[CV] metric=minkowski, n_neighbors=8, weights=uniform ................\n"
          ]
        },
        {
          "output_type": "stream",
          "name": "stderr",
          "text": [
            "/usr/local/lib/python3.7/dist-packages/sklearn/model_selection/_validation.py:515: DataConversionWarning: A column-vector y was passed when a 1d array was expected. Please change the shape of y to (n_samples, ), for example using ravel().\n",
            "  estimator.fit(X_train, y_train, **fit_params)\n",
            "/usr/local/lib/python3.7/dist-packages/sklearn/model_selection/_validation.py:515: DataConversionWarning: A column-vector y was passed when a 1d array was expected. Please change the shape of y to (n_samples, ), for example using ravel().\n",
            "  estimator.fit(X_train, y_train, **fit_params)\n",
            "/usr/local/lib/python3.7/dist-packages/sklearn/model_selection/_validation.py:515: DataConversionWarning: A column-vector y was passed when a 1d array was expected. Please change the shape of y to (n_samples, ), for example using ravel().\n",
            "  estimator.fit(X_train, y_train, **fit_params)\n",
            "/usr/local/lib/python3.7/dist-packages/sklearn/model_selection/_validation.py:515: DataConversionWarning: A column-vector y was passed when a 1d array was expected. Please change the shape of y to (n_samples, ), for example using ravel().\n",
            "  estimator.fit(X_train, y_train, **fit_params)\n",
            "/usr/local/lib/python3.7/dist-packages/sklearn/model_selection/_validation.py:515: DataConversionWarning: A column-vector y was passed when a 1d array was expected. Please change the shape of y to (n_samples, ), for example using ravel().\n",
            "  estimator.fit(X_train, y_train, **fit_params)\n",
            "/usr/local/lib/python3.7/dist-packages/sklearn/model_selection/_validation.py:515: DataConversionWarning: A column-vector y was passed when a 1d array was expected. Please change the shape of y to (n_samples, ), for example using ravel().\n",
            "  estimator.fit(X_train, y_train, **fit_params)\n",
            "/usr/local/lib/python3.7/dist-packages/sklearn/model_selection/_validation.py:515: DataConversionWarning: A column-vector y was passed when a 1d array was expected. Please change the shape of y to (n_samples, ), for example using ravel().\n",
            "  estimator.fit(X_train, y_train, **fit_params)\n",
            "/usr/local/lib/python3.7/dist-packages/sklearn/model_selection/_validation.py:515: DataConversionWarning: A column-vector y was passed when a 1d array was expected. Please change the shape of y to (n_samples, ), for example using ravel().\n",
            "  estimator.fit(X_train, y_train, **fit_params)\n",
            "/usr/local/lib/python3.7/dist-packages/sklearn/model_selection/_validation.py:515: DataConversionWarning: A column-vector y was passed when a 1d array was expected. Please change the shape of y to (n_samples, ), for example using ravel().\n",
            "  estimator.fit(X_train, y_train, **fit_params)\n",
            "/usr/local/lib/python3.7/dist-packages/sklearn/model_selection/_validation.py:515: DataConversionWarning: A column-vector y was passed when a 1d array was expected. Please change the shape of y to (n_samples, ), for example using ravel().\n",
            "  estimator.fit(X_train, y_train, **fit_params)\n",
            "/usr/local/lib/python3.7/dist-packages/sklearn/model_selection/_validation.py:515: DataConversionWarning: A column-vector y was passed when a 1d array was expected. Please change the shape of y to (n_samples, ), for example using ravel().\n",
            "  estimator.fit(X_train, y_train, **fit_params)\n",
            "/usr/local/lib/python3.7/dist-packages/sklearn/model_selection/_validation.py:515: DataConversionWarning: A column-vector y was passed when a 1d array was expected. Please change the shape of y to (n_samples, ), for example using ravel().\n",
            "  estimator.fit(X_train, y_train, **fit_params)\n",
            "/usr/local/lib/python3.7/dist-packages/sklearn/model_selection/_validation.py:515: DataConversionWarning: A column-vector y was passed when a 1d array was expected. Please change the shape of y to (n_samples, ), for example using ravel().\n",
            "  estimator.fit(X_train, y_train, **fit_params)\n",
            "/usr/local/lib/python3.7/dist-packages/sklearn/model_selection/_validation.py:515: DataConversionWarning: A column-vector y was passed when a 1d array was expected. Please change the shape of y to (n_samples, ), for example using ravel().\n",
            "  estimator.fit(X_train, y_train, **fit_params)\n"
          ]
        },
        {
          "output_type": "stream",
          "name": "stdout",
          "text": [
            "[CV] . metric=minkowski, n_neighbors=8, weights=uniform, total=   0.0s\n",
            "[CV] metric=minkowski, n_neighbors=8, weights=uniform ................\n",
            "[CV] . metric=minkowski, n_neighbors=8, weights=uniform, total=   0.0s\n",
            "[CV] metric=minkowski, n_neighbors=8, weights=distance ...............\n",
            "[CV]  metric=minkowski, n_neighbors=8, weights=distance, total=   0.0s\n",
            "[CV] metric=minkowski, n_neighbors=8, weights=distance ...............\n",
            "[CV]  metric=minkowski, n_neighbors=8, weights=distance, total=   0.0s\n",
            "[CV] metric=minkowski, n_neighbors=8, weights=distance ...............\n",
            "[CV]  metric=minkowski, n_neighbors=8, weights=distance, total=   0.0s\n",
            "[CV] metric=minkowski, n_neighbors=8, weights=distance ...............\n",
            "[CV]  metric=minkowski, n_neighbors=8, weights=distance, total=   0.0s\n",
            "[CV] metric=minkowski, n_neighbors=8, weights=distance ...............\n",
            "[CV]  metric=minkowski, n_neighbors=8, weights=distance, total=   0.0s\n",
            "[CV] metric=minkowski, n_neighbors=9, weights=uniform ................\n",
            "[CV] . metric=minkowski, n_neighbors=9, weights=uniform, total=   0.0s\n",
            "[CV] metric=minkowski, n_neighbors=9, weights=uniform ................\n",
            "[CV] . metric=minkowski, n_neighbors=9, weights=uniform, total=   0.0s\n",
            "[CV] metric=minkowski, n_neighbors=9, weights=uniform ................\n",
            "[CV] . metric=minkowski, n_neighbors=9, weights=uniform, total=   0.0s\n",
            "[CV] metric=minkowski, n_neighbors=9, weights=uniform ................\n",
            "[CV] . metric=minkowski, n_neighbors=9, weights=uniform, total=   0.0s\n",
            "[CV] metric=minkowski, n_neighbors=9, weights=uniform ................\n",
            "[CV] . metric=minkowski, n_neighbors=9, weights=uniform, total=   0.0s\n",
            "[CV] metric=minkowski, n_neighbors=9, weights=distance ...............\n",
            "[CV]  metric=minkowski, n_neighbors=9, weights=distance, total=   0.0s\n",
            "[CV] metric=minkowski, n_neighbors=9, weights=distance ...............\n",
            "[CV]  metric=minkowski, n_neighbors=9, weights=distance, total=   0.0s\n",
            "[CV] metric=minkowski, n_neighbors=9, weights=distance ...............\n",
            "[CV]  metric=minkowski, n_neighbors=9, weights=distance, total=   0.0s\n",
            "[CV] metric=minkowski, n_neighbors=9, weights=distance ...............\n"
          ]
        },
        {
          "output_type": "stream",
          "name": "stderr",
          "text": [
            "/usr/local/lib/python3.7/dist-packages/sklearn/model_selection/_validation.py:515: DataConversionWarning: A column-vector y was passed when a 1d array was expected. Please change the shape of y to (n_samples, ), for example using ravel().\n",
            "  estimator.fit(X_train, y_train, **fit_params)\n",
            "/usr/local/lib/python3.7/dist-packages/sklearn/model_selection/_validation.py:515: DataConversionWarning: A column-vector y was passed when a 1d array was expected. Please change the shape of y to (n_samples, ), for example using ravel().\n",
            "  estimator.fit(X_train, y_train, **fit_params)\n",
            "/usr/local/lib/python3.7/dist-packages/sklearn/model_selection/_validation.py:515: DataConversionWarning: A column-vector y was passed when a 1d array was expected. Please change the shape of y to (n_samples, ), for example using ravel().\n",
            "  estimator.fit(X_train, y_train, **fit_params)\n",
            "/usr/local/lib/python3.7/dist-packages/sklearn/model_selection/_validation.py:515: DataConversionWarning: A column-vector y was passed when a 1d array was expected. Please change the shape of y to (n_samples, ), for example using ravel().\n",
            "  estimator.fit(X_train, y_train, **fit_params)\n",
            "/usr/local/lib/python3.7/dist-packages/sklearn/model_selection/_validation.py:515: DataConversionWarning: A column-vector y was passed when a 1d array was expected. Please change the shape of y to (n_samples, ), for example using ravel().\n",
            "  estimator.fit(X_train, y_train, **fit_params)\n",
            "/usr/local/lib/python3.7/dist-packages/sklearn/model_selection/_validation.py:515: DataConversionWarning: A column-vector y was passed when a 1d array was expected. Please change the shape of y to (n_samples, ), for example using ravel().\n",
            "  estimator.fit(X_train, y_train, **fit_params)\n",
            "/usr/local/lib/python3.7/dist-packages/sklearn/model_selection/_validation.py:515: DataConversionWarning: A column-vector y was passed when a 1d array was expected. Please change the shape of y to (n_samples, ), for example using ravel().\n",
            "  estimator.fit(X_train, y_train, **fit_params)\n",
            "/usr/local/lib/python3.7/dist-packages/sklearn/model_selection/_validation.py:515: DataConversionWarning: A column-vector y was passed when a 1d array was expected. Please change the shape of y to (n_samples, ), for example using ravel().\n",
            "  estimator.fit(X_train, y_train, **fit_params)\n",
            "/usr/local/lib/python3.7/dist-packages/sklearn/model_selection/_validation.py:515: DataConversionWarning: A column-vector y was passed when a 1d array was expected. Please change the shape of y to (n_samples, ), for example using ravel().\n",
            "  estimator.fit(X_train, y_train, **fit_params)\n",
            "/usr/local/lib/python3.7/dist-packages/sklearn/model_selection/_validation.py:515: DataConversionWarning: A column-vector y was passed when a 1d array was expected. Please change the shape of y to (n_samples, ), for example using ravel().\n",
            "  estimator.fit(X_train, y_train, **fit_params)\n",
            "/usr/local/lib/python3.7/dist-packages/sklearn/model_selection/_validation.py:515: DataConversionWarning: A column-vector y was passed when a 1d array was expected. Please change the shape of y to (n_samples, ), for example using ravel().\n",
            "  estimator.fit(X_train, y_train, **fit_params)\n",
            "/usr/local/lib/python3.7/dist-packages/sklearn/model_selection/_validation.py:515: DataConversionWarning: A column-vector y was passed when a 1d array was expected. Please change the shape of y to (n_samples, ), for example using ravel().\n",
            "  estimator.fit(X_train, y_train, **fit_params)\n",
            "/usr/local/lib/python3.7/dist-packages/sklearn/model_selection/_validation.py:515: DataConversionWarning: A column-vector y was passed when a 1d array was expected. Please change the shape of y to (n_samples, ), for example using ravel().\n",
            "  estimator.fit(X_train, y_train, **fit_params)\n",
            "/usr/local/lib/python3.7/dist-packages/sklearn/model_selection/_validation.py:515: DataConversionWarning: A column-vector y was passed when a 1d array was expected. Please change the shape of y to (n_samples, ), for example using ravel().\n",
            "  estimator.fit(X_train, y_train, **fit_params)\n"
          ]
        },
        {
          "output_type": "stream",
          "name": "stdout",
          "text": [
            "[CV]  metric=minkowski, n_neighbors=9, weights=distance, total=   0.0s\n",
            "[CV] metric=minkowski, n_neighbors=9, weights=distance ...............\n",
            "[CV]  metric=minkowski, n_neighbors=9, weights=distance, total=   0.0s\n",
            "[CV] metric=minkowski, n_neighbors=10, weights=uniform ...............\n",
            "[CV]  metric=minkowski, n_neighbors=10, weights=uniform, total=   0.0s\n",
            "[CV] metric=minkowski, n_neighbors=10, weights=uniform ...............\n",
            "[CV]  metric=minkowski, n_neighbors=10, weights=uniform, total=   0.0s\n",
            "[CV] metric=minkowski, n_neighbors=10, weights=uniform ...............\n",
            "[CV]  metric=minkowski, n_neighbors=10, weights=uniform, total=   0.0s\n",
            "[CV] metric=minkowski, n_neighbors=10, weights=uniform ...............\n",
            "[CV]  metric=minkowski, n_neighbors=10, weights=uniform, total=   0.0s\n",
            "[CV] metric=minkowski, n_neighbors=10, weights=uniform ...............\n",
            "[CV]  metric=minkowski, n_neighbors=10, weights=uniform, total=   0.0s\n",
            "[CV] metric=minkowski, n_neighbors=10, weights=distance ..............\n",
            "[CV]  metric=minkowski, n_neighbors=10, weights=distance, total=   0.0s\n",
            "[CV] metric=minkowski, n_neighbors=10, weights=distance ..............\n",
            "[CV]  metric=minkowski, n_neighbors=10, weights=distance, total=   0.0s\n",
            "[CV] metric=minkowski, n_neighbors=10, weights=distance ..............\n",
            "[CV]  metric=minkowski, n_neighbors=10, weights=distance, total=   0.0s\n",
            "[CV] metric=minkowski, n_neighbors=10, weights=distance ..............\n",
            "[CV]  metric=minkowski, n_neighbors=10, weights=distance, total=   0.0s\n",
            "[CV] metric=minkowski, n_neighbors=10, weights=distance ..............\n",
            "[CV]  metric=minkowski, n_neighbors=10, weights=distance, total=   0.0s\n"
          ]
        },
        {
          "output_type": "stream",
          "name": "stderr",
          "text": [
            "/usr/local/lib/python3.7/dist-packages/sklearn/model_selection/_validation.py:515: DataConversionWarning: A column-vector y was passed when a 1d array was expected. Please change the shape of y to (n_samples, ), for example using ravel().\n",
            "  estimator.fit(X_train, y_train, **fit_params)\n",
            "/usr/local/lib/python3.7/dist-packages/sklearn/model_selection/_validation.py:515: DataConversionWarning: A column-vector y was passed when a 1d array was expected. Please change the shape of y to (n_samples, ), for example using ravel().\n",
            "  estimator.fit(X_train, y_train, **fit_params)\n",
            "/usr/local/lib/python3.7/dist-packages/sklearn/model_selection/_validation.py:515: DataConversionWarning: A column-vector y was passed when a 1d array was expected. Please change the shape of y to (n_samples, ), for example using ravel().\n",
            "  estimator.fit(X_train, y_train, **fit_params)\n",
            "/usr/local/lib/python3.7/dist-packages/sklearn/model_selection/_validation.py:515: DataConversionWarning: A column-vector y was passed when a 1d array was expected. Please change the shape of y to (n_samples, ), for example using ravel().\n",
            "  estimator.fit(X_train, y_train, **fit_params)\n",
            "/usr/local/lib/python3.7/dist-packages/sklearn/model_selection/_validation.py:515: DataConversionWarning: A column-vector y was passed when a 1d array was expected. Please change the shape of y to (n_samples, ), for example using ravel().\n",
            "  estimator.fit(X_train, y_train, **fit_params)\n",
            "/usr/local/lib/python3.7/dist-packages/sklearn/model_selection/_validation.py:515: DataConversionWarning: A column-vector y was passed when a 1d array was expected. Please change the shape of y to (n_samples, ), for example using ravel().\n",
            "  estimator.fit(X_train, y_train, **fit_params)\n",
            "/usr/local/lib/python3.7/dist-packages/sklearn/model_selection/_validation.py:515: DataConversionWarning: A column-vector y was passed when a 1d array was expected. Please change the shape of y to (n_samples, ), for example using ravel().\n",
            "  estimator.fit(X_train, y_train, **fit_params)\n",
            "/usr/local/lib/python3.7/dist-packages/sklearn/model_selection/_validation.py:515: DataConversionWarning: A column-vector y was passed when a 1d array was expected. Please change the shape of y to (n_samples, ), for example using ravel().\n",
            "  estimator.fit(X_train, y_train, **fit_params)\n",
            "/usr/local/lib/python3.7/dist-packages/sklearn/model_selection/_validation.py:515: DataConversionWarning: A column-vector y was passed when a 1d array was expected. Please change the shape of y to (n_samples, ), for example using ravel().\n",
            "  estimator.fit(X_train, y_train, **fit_params)\n",
            "[Parallel(n_jobs=1)]: Done 300 out of 300 | elapsed:    4.4s finished\n",
            "/usr/local/lib/python3.7/dist-packages/sklearn/model_selection/_search.py:739: DataConversionWarning: A column-vector y was passed when a 1d array was expected. Please change the shape of y to (n_samples, ), for example using ravel().\n",
            "  self.best_estimator_.fit(X, y, **fit_params)\n"
          ]
        },
        {
          "output_type": "execute_result",
          "data": {
            "text/plain": [
              "GridSearchCV(cv=None, error_score=nan,\n",
              "             estimator=KNeighborsClassifier(algorithm='auto', leaf_size=30,\n",
              "                                            metric='manhattan',\n",
              "                                            metric_params=None, n_jobs=None,\n",
              "                                            n_neighbors=12, p=2,\n",
              "                                            weights='uniform'),\n",
              "             iid='deprecated', n_jobs=None,\n",
              "             param_grid={'metric': ['euclidean', 'manhattan', 'minkowski'],\n",
              "                         'n_neighbors': [1, 2, 3, 4, 5, 6, 7, 8, 9, 10],\n",
              "                         'weights': ['uniform', 'distance']},\n",
              "             pre_dispatch='2*n_jobs', refit='recall', return_train_score=False,\n",
              "             scoring={'accuracy': make_scorer(accuracy_score),\n",
              "                      'precision': make_scorer(precision_score),\n",
              "                      'recall': make_scorer(recall_score)},\n",
              "             verbose=2)"
            ]
          },
          "metadata": {},
          "execution_count": 13
        }
      ]
    },
    {
      "cell_type": "code",
      "metadata": {
        "id": "F0Pih1fxtm62",
        "colab": {
          "base_uri": "https://localhost:8080/"
        },
        "outputId": "06a8c01c-9d7e-4ee8-8b68-d36621f9196a"
      },
      "source": [
        "print(\"Best Hyperparameters:\", gs.best_params_)"
      ],
      "execution_count": null,
      "outputs": [
        {
          "output_type": "stream",
          "name": "stdout",
          "text": [
            "Best Hyperparameters: {'metric': 'manhattan', 'n_neighbors': 7, 'weights': 'uniform'}\n"
          ]
        }
      ]
    },
    {
      "cell_type": "code",
      "metadata": {
        "id": "Sl1xvl2Kqf0x"
      },
      "source": [
        "#predict output\n",
        "y_pred=neig.predict(x_test)"
      ],
      "execution_count": null,
      "outputs": []
    },
    {
      "cell_type": "markdown",
      "metadata": {
        "id": "6uaaxsfQtpO9"
      },
      "source": [
        "##testing"
      ]
    },
    {
      "cell_type": "code",
      "metadata": {
        "colab": {
          "base_uri": "https://localhost:8080/",
          "height": 347
        },
        "id": "aufAUsn1trHN",
        "outputId": "d3ff8b33-2d49-4e90-8c57-8a1d9beb2ee1"
      },
      "source": [
        "print('accuracy_score :',metrics.accuracy_score(y_test,y_pred))\n",
        "precision = metrics.precision_score(y_test, y_pred,average='weighted')\n",
        "print(\"Precision Score:\", precision)\n",
        "recall = metrics.recall_score(y_test, y_pred,average='weighted')\n",
        "print(\"Recall Score:\", recall)\n",
        "metrics.plot_confusion_matrix(neig,x_test,y_test)#plot confusion matrix"
      ],
      "execution_count": null,
      "outputs": [
        {
          "output_type": "stream",
          "name": "stdout",
          "text": [
            "accuracy_score : 0.8913043478260869\n",
            "Precision Score: 0.8941605505844934\n",
            "Recall Score: 0.8913043478260869\n"
          ]
        },
        {
          "output_type": "execute_result",
          "data": {
            "text/plain": [
              "<sklearn.metrics._plot.confusion_matrix.ConfusionMatrixDisplay at 0x7fe59fc4fbd0>"
            ]
          },
          "metadata": {},
          "execution_count": 73
        },
        {
          "output_type": "display_data",
          "data": {
            "image/png": "[encoded data removed]",
            "text/plain": [
              "<Figure size 432x288 with 2 Axes>"
            ]
          },
          "metadata": {
            "needs_background": "light"
          }
        }
      ]
    },
    {
      "cell_type": "code",
      "metadata": {
        "id": "8HToW3Yntt0i"
      },
      "source": [
        ""
      ],
      "execution_count": null,
      "outputs": []
    },
    {
      "cell_type": "markdown",
      "metadata": {
        "id": "aImImQxgtzMv"
      },
      "source": [
        "#2- SVM"
      ]
    },
    {
      "cell_type": "code",
      "metadata": {
        "colab": {
          "base_uri": "https://localhost:8080/"
        },
        "id": "vilSSX8Q_Jjf",
        "outputId": "296276cd-6666-4ba1-ddcd-1900bd6cef3e"
      },
      "source": [
        "# Create SVM classifer\n",
        "svm_model= svm.SVC(  C=0.1, gamma='auto', kernel='rbf',)\n",
        "# Train SVM Classifer\n",
        "svm_model.fit(x_train,y_train)"
      ],
      "execution_count": null,
      "outputs": [
        {
          "output_type": "stream",
          "name": "stderr",
          "text": [
            "/usr/local/lib/python3.7/dist-packages/sklearn/utils/validation.py:760: DataConversionWarning: A column-vector y was passed when a 1d array was expected. Please change the shape of y to (n_samples, ), for example using ravel().\n",
            "  y = column_or_1d(y, warn=True)\n"
          ]
        },
        {
          "output_type": "execute_result",
          "data": {
            "text/plain": [
              "SVC(C=0.1, break_ties=False, cache_size=200, class_weight=None, coef0=0.0,\n",
              "    decision_function_shape='ovr', degree=3, gamma='auto', kernel='rbf',\n",
              "    max_iter=-1, probability=False, random_state=None, shrinking=True,\n",
              "    tol=0.001, verbose=False)"
            ]
          },
          "metadata": {},
          "execution_count": 17
        }
      ]
    },
    {
      "cell_type": "code",
      "metadata": {
        "id": "WjtB_mXc_Jjh"
      },
      "source": [
        "scoring = {\n",
        "    'accuracy': metrics.make_scorer(metrics.accuracy_score),\n",
        "    'precision': metrics.make_scorer(metrics.precision_score), \n",
        "    'recall': metrics.make_scorer(metrics.recall_score)\n",
        "    }\n",
        "params = {'kernel': ['linear', 'rbf','poly'], 'C': [0.1, 1, 10,100,1000], 'gamma': ['scale', 'auto', 0.1, 1,0.01,0.001]}    "
      ],
      "execution_count": null,
      "outputs": []
    },
    {
      "cell_type": "code",
      "metadata": {
        "id": "RtO1Jf1T_Jji"
      },
      "source": [
        "gs = model_selection.GridSearchCV(svm_model, params, scoring=scoring, refit='precision', verbose=3)"
      ],
      "execution_count": null,
      "outputs": []
    },
    {
      "cell_type": "code",
      "metadata": {
        "colab": {
          "base_uri": "https://localhost:8080/"
        },
        "id": "LYTOPsUf_Jjj",
        "outputId": "4b6b916a-1b70-4124-c894-04a192b1c8e4"
      },
      "source": [
        "gs.fit(x_norm, y)"
      ],
      "execution_count": null,
      "outputs": [
        {
          "output_type": "stream",
          "name": "stdout",
          "text": [
            "Fitting 5 folds for each of 90 candidates, totalling 450 fits\n",
            "[CV] C=0.1, gamma=scale, kernel=linear ...............................\n",
            "[CV]  C=0.1, gamma=scale, kernel=linear, accuracy=0.853, precision=0.912, recall=0.814, total=   0.0s\n",
            "[CV] C=0.1, gamma=scale, kernel=linear ...............................\n",
            "[CV]  C=0.1, gamma=scale, kernel=linear, accuracy=0.832, precision=0.918, recall=0.765, total=   0.0s\n",
            "[CV] C=0.1, gamma=scale, kernel=linear ...............................\n",
            "[CV]  C=0.1, gamma=scale, kernel=linear, accuracy=0.853, precision=0.800, recall=0.980, total=   0.0s\n",
            "[CV] C=0.1, gamma=scale, kernel=linear ...............................\n",
            "[CV]  C=0.1, gamma=scale, kernel=linear, accuracy=0.842, precision=0.833, recall=0.891, total=   0.0s\n",
            "[CV] C=0.1, gamma=scale, kernel=linear ...............................\n",
            "[CV]  C=0.1, gamma=scale, kernel=linear, accuracy=0.765, precision=0.815, recall=0.743, total=   0.0s\n",
            "[CV] C=0.1, gamma=scale, kernel=rbf ..................................\n",
            "[CV]  C=0.1, gamma=scale, kernel=rbf, accuracy=0.891, precision=0.927, recall=0.873, total=   0.0s\n",
            "[CV] C=0.1, gamma=scale, kernel=rbf ..................................\n",
            "[CV]  C=0.1, gamma=scale, kernel=rbf, accuracy=0.897, precision=0.911, recall=0.902, total=   0.0s\n",
            "[CV] C=0.1, gamma=scale, kernel=rbf ..................................\n",
            "[CV]  C=0.1, gamma=scale, kernel=rbf, accuracy=0.804, precision=0.739, recall=1.000, total=   0.0s\n",
            "[CV] C=0.1, gamma=scale, kernel=rbf ..................................\n",
            "[CV]  C=0.1, gamma=scale, kernel=rbf, accuracy=0.820, precision=0.793, recall=0.911, total=   0.0s\n",
            "[CV] C=0.1, gamma=scale, kernel=rbf ..................................\n"
          ]
        },
        {
          "output_type": "stream",
          "name": "stderr",
          "text": [
            "[Parallel(n_jobs=1)]: Using backend SequentialBackend with 1 concurrent workers.\n",
            "/usr/local/lib/python3.7/dist-packages/sklearn/utils/validation.py:760: DataConversionWarning: A column-vector y was passed when a 1d array was expected. Please change the shape of y to (n_samples, ), for example using ravel().\n",
            "  y = column_or_1d(y, warn=True)\n",
            "[Parallel(n_jobs=1)]: Done   1 out of   1 | elapsed:    0.0s remaining:    0.0s\n",
            "/usr/local/lib/python3.7/dist-packages/sklearn/utils/validation.py:760: DataConversionWarning: A column-vector y was passed when a 1d array was expected. Please change the shape of y to (n_samples, ), for example using ravel().\n",
            "  y = column_or_1d(y, warn=True)\n",
            "[Parallel(n_jobs=1)]: Done   2 out of   2 | elapsed:    0.0s remaining:    0.0s\n",
            "/usr/local/lib/python3.7/dist-packages/sklearn/utils/validation.py:760: DataConversionWarning: A column-vector y was passed when a 1d array was expected. Please change the shape of y to (n_samples, ), for example using ravel().\n",
            "  y = column_or_1d(y, warn=True)\n",
            "/usr/local/lib/python3.7/dist-packages/sklearn/utils/validation.py:760: DataConversionWarning: A column-vector y was passed when a 1d array was expected. Please change the shape of y to (n_samples, ), for example using ravel().\n",
            "  y = column_or_1d(y, warn=True)\n",
            "/usr/local/lib/python3.7/dist-packages/sklearn/utils/validation.py:760: DataConversionWarning: A column-vector y was passed when a 1d array was expected. Please change the shape of y to (n_samples, ), for example using ravel().\n",
            "  y = column_or_1d(y, warn=True)\n",
            "/usr/local/lib/python3.7/dist-packages/sklearn/utils/validation.py:760: DataConversionWarning: A column-vector y was passed when a 1d array was expected. Please change the shape of y to (n_samples, ), for example using ravel().\n",
            "  y = column_or_1d(y, warn=True)\n",
            "/usr/local/lib/python3.7/dist-packages/sklearn/utils/validation.py:760: DataConversionWarning: A column-vector y was passed when a 1d array was expected. Please change the shape of y to (n_samples, ), for example using ravel().\n",
            "  y = column_or_1d(y, warn=True)\n",
            "/usr/local/lib/python3.7/dist-packages/sklearn/utils/validation.py:760: DataConversionWarning: A column-vector y was passed when a 1d array was expected. Please change the shape of y to (n_samples, ), for example using ravel().\n",
            "  y = column_or_1d(y, warn=True)\n",
            "/usr/local/lib/python3.7/dist-packages/sklearn/utils/validation.py:760: DataConversionWarning: A column-vector y was passed when a 1d array was expected. Please change the shape of y to (n_samples, ), for example using ravel().\n",
            "  y = column_or_1d(y, warn=True)\n",
            "/usr/local/lib/python3.7/dist-packages/sklearn/utils/validation.py:760: DataConversionWarning: A column-vector y was passed when a 1d array was expected. Please change the shape of y to (n_samples, ), for example using ravel().\n",
            "  y = column_or_1d(y, warn=True)\n"
          ]
        },
        {
          "output_type": "stream",
          "name": "stdout",
          "text": [
            "[CV]  C=0.1, gamma=scale, kernel=rbf, accuracy=0.760, precision=0.771, recall=0.802, total=   0.0s\n",
            "[CV] C=0.1, gamma=scale, kernel=poly .................................\n",
            "[CV]  C=0.1, gamma=scale, kernel=poly, accuracy=0.859, precision=0.913, recall=0.824, total=   0.0s\n",
            "[CV] C=0.1, gamma=scale, kernel=poly .................................\n",
            "[CV]  C=0.1, gamma=scale, kernel=poly, accuracy=0.837, precision=0.875, recall=0.824, total=   0.0s\n",
            "[CV] C=0.1, gamma=scale, kernel=poly .................................\n",
            "[CV]  C=0.1, gamma=scale, kernel=poly, accuracy=0.777, precision=0.716, recall=0.990, total=   0.0s\n",
            "[CV] C=0.1, gamma=scale, kernel=poly .................................\n",
            "[CV]  C=0.1, gamma=scale, kernel=poly, accuracy=0.836, precision=0.820, recall=0.901, total=   0.0s\n",
            "[CV] C=0.1, gamma=scale, kernel=poly .................................\n",
            "[CV]  C=0.1, gamma=scale, kernel=poly, accuracy=0.781, precision=0.828, recall=0.762, total=   0.0s\n",
            "[CV] C=0.1, gamma=auto, kernel=linear ................................\n",
            "[CV]  C=0.1, gamma=auto, kernel=linear, accuracy=0.853, precision=0.912, recall=0.814, total=   0.0s\n",
            "[CV] C=0.1, gamma=auto, kernel=linear ................................\n",
            "[CV]  C=0.1, gamma=auto, kernel=linear, accuracy=0.832, precision=0.918, recall=0.765, total=   0.0s\n",
            "[CV] C=0.1, gamma=auto, kernel=linear ................................\n",
            "[CV]  C=0.1, gamma=auto, kernel=linear, accuracy=0.853, precision=0.800, recall=0.980, total=   0.0s\n",
            "[CV] C=0.1, gamma=auto, kernel=linear ................................\n",
            "[CV]  C=0.1, gamma=auto, kernel=linear, accuracy=0.842, precision=0.833, recall=0.891, total=   0.0s\n",
            "[CV] C=0.1, gamma=auto, kernel=linear ................................\n",
            "[CV]  C=0.1, gamma=auto, kernel=linear, accuracy=0.765, precision=0.815, recall=0.743, total=   0.0s\n",
            "[CV] C=0.1, gamma=auto, kernel=rbf ...................................\n",
            "[CV]  C=0.1, gamma=auto, kernel=rbf, accuracy=0.891, precision=0.927, recall=0.873, total=   0.0s\n",
            "[CV] C=0.1, gamma=auto, kernel=rbf ...................................\n"
          ]
        },
        {
          "output_type": "stream",
          "name": "stderr",
          "text": [
            "/usr/local/lib/python3.7/dist-packages/sklearn/utils/validation.py:760: DataConversionWarning: A column-vector y was passed when a 1d array was expected. Please change the shape of y to (n_samples, ), for example using ravel().\n",
            "  y = column_or_1d(y, warn=True)\n",
            "/usr/local/lib/python3.7/dist-packages/sklearn/utils/validation.py:760: DataConversionWarning: A column-vector y was passed when a 1d array was expected. Please change the shape of y to (n_samples, ), for example using ravel().\n",
            "  y = column_or_1d(y, warn=True)\n",
            "/usr/local/lib/python3.7/dist-packages/sklearn/utils/validation.py:760: DataConversionWarning: A column-vector y was passed when a 1d array was expected. Please change the shape of y to (n_samples, ), for example using ravel().\n",
            "  y = column_or_1d(y, warn=True)\n",
            "/usr/local/lib/python3.7/dist-packages/sklearn/utils/validation.py:760: DataConversionWarning: A column-vector y was passed when a 1d array was expected. Please change the shape of y to (n_samples, ), for example using ravel().\n",
            "  y = column_or_1d(y, warn=True)\n",
            "/usr/local/lib/python3.7/dist-packages/sklearn/utils/validation.py:760: DataConversionWarning: A column-vector y was passed when a 1d array was expected. Please change the shape of y to (n_samples, ), for example using ravel().\n",
            "  y = column_or_1d(y, warn=True)\n",
            "/usr/local/lib/python3.7/dist-packages/sklearn/utils/validation.py:760: DataConversionWarning: A column-vector y was passed when a 1d array was expected. Please change the shape of y to (n_samples, ), for example using ravel().\n",
            "  y = column_or_1d(y, warn=True)\n",
            "/usr/local/lib/python3.7/dist-packages/sklearn/utils/validation.py:760: DataConversionWarning: A column-vector y was passed when a 1d array was expected. Please change the shape of y to (n_samples, ), for example using ravel().\n",
            "  y = column_or_1d(y, warn=True)\n",
            "/usr/local/lib/python3.7/dist-packages/sklearn/utils/validation.py:760: DataConversionWarning: A column-vector y was passed when a 1d array was expected. Please change the shape of y to (n_samples, ), for example using ravel().\n",
            "  y = column_or_1d(y, warn=True)\n",
            "/usr/local/lib/python3.7/dist-packages/sklearn/utils/validation.py:760: DataConversionWarning: A column-vector y was passed when a 1d array was expected. Please change the shape of y to (n_samples, ), for example using ravel().\n",
            "  y = column_or_1d(y, warn=True)\n",
            "/usr/local/lib/python3.7/dist-packages/sklearn/utils/validation.py:760: DataConversionWarning: A column-vector y was passed when a 1d array was expected. Please change the shape of y to (n_samples, ), for example using ravel().\n",
            "  y = column_or_1d(y, warn=True)\n",
            "/usr/local/lib/python3.7/dist-packages/sklearn/utils/validation.py:760: DataConversionWarning: A column-vector y was passed when a 1d array was expected. Please change the shape of y to (n_samples, ), for example using ravel().\n",
            "  y = column_or_1d(y, warn=True)\n",
            "/usr/local/lib/python3.7/dist-packages/sklearn/utils/validation.py:760: DataConversionWarning: A column-vector y was passed when a 1d array was expected. Please change the shape of y to (n_samples, ), for example using ravel().\n",
            "  y = column_or_1d(y, warn=True)\n"
          ]
        },
        {
          "output_type": "stream",
          "name": "stdout",
          "text": [
            "[CV]  C=0.1, gamma=auto, kernel=rbf, accuracy=0.902, precision=0.920, recall=0.902, total=   0.0s\n",
            "[CV] C=0.1, gamma=auto, kernel=rbf ...................................\n",
            "[CV]  C=0.1, gamma=auto, kernel=rbf, accuracy=0.804, precision=0.739, recall=1.000, total=   0.0s\n",
            "[CV] C=0.1, gamma=auto, kernel=rbf ...................................\n",
            "[CV]  C=0.1, gamma=auto, kernel=rbf, accuracy=0.820, precision=0.793, recall=0.911, total=   0.0s\n",
            "[CV] C=0.1, gamma=auto, kernel=rbf ...................................\n",
            "[CV]  C=0.1, gamma=auto, kernel=rbf, accuracy=0.760, precision=0.771, recall=0.802, total=   0.0s\n",
            "[CV] C=0.1, gamma=auto, kernel=poly ..................................\n",
            "[CV]  C=0.1, gamma=auto, kernel=poly, accuracy=0.853, precision=0.912, recall=0.814, total=   0.0s\n",
            "[CV] C=0.1, gamma=auto, kernel=poly ..................................\n",
            "[CV]  C=0.1, gamma=auto, kernel=poly, accuracy=0.837, precision=0.875, recall=0.824, total=   0.0s\n",
            "[CV] C=0.1, gamma=auto, kernel=poly ..................................\n",
            "[CV]  C=0.1, gamma=auto, kernel=poly, accuracy=0.766, precision=0.706, recall=0.990, total=   0.0s\n",
            "[CV] C=0.1, gamma=auto, kernel=poly ..................................\n",
            "[CV]  C=0.1, gamma=auto, kernel=poly, accuracy=0.836, precision=0.820, recall=0.901, total=   0.0s\n",
            "[CV] C=0.1, gamma=auto, kernel=poly ..................................\n",
            "[CV]  C=0.1, gamma=auto, kernel=poly, accuracy=0.787, precision=0.830, recall=0.772, total=   0.0s\n",
            "[CV] C=0.1, gamma=0.1, kernel=linear .................................\n",
            "[CV]  C=0.1, gamma=0.1, kernel=linear, accuracy=0.853, precision=0.912, recall=0.814, total=   0.0s\n",
            "[CV] C=0.1, gamma=0.1, kernel=linear .................................\n",
            "[CV]  C=0.1, gamma=0.1, kernel=linear, accuracy=0.832, precision=0.918, recall=0.765, total=   0.0s\n",
            "[CV] C=0.1, gamma=0.1, kernel=linear .................................\n"
          ]
        },
        {
          "output_type": "stream",
          "name": "stderr",
          "text": [
            "/usr/local/lib/python3.7/dist-packages/sklearn/utils/validation.py:760: DataConversionWarning: A column-vector y was passed when a 1d array was expected. Please change the shape of y to (n_samples, ), for example using ravel().\n",
            "  y = column_or_1d(y, warn=True)\n",
            "/usr/local/lib/python3.7/dist-packages/sklearn/utils/validation.py:760: DataConversionWarning: A column-vector y was passed when a 1d array was expected. Please change the shape of y to (n_samples, ), for example using ravel().\n",
            "  y = column_or_1d(y, warn=True)\n",
            "/usr/local/lib/python3.7/dist-packages/sklearn/utils/validation.py:760: DataConversionWarning: A column-vector y was passed when a 1d array was expected. Please change the shape of y to (n_samples, ), for example using ravel().\n",
            "  y = column_or_1d(y, warn=True)\n",
            "/usr/local/lib/python3.7/dist-packages/sklearn/utils/validation.py:760: DataConversionWarning: A column-vector y was passed when a 1d array was expected. Please change the shape of y to (n_samples, ), for example using ravel().\n",
            "  y = column_or_1d(y, warn=True)\n",
            "/usr/local/lib/python3.7/dist-packages/sklearn/utils/validation.py:760: DataConversionWarning: A column-vector y was passed when a 1d array was expected. Please change the shape of y to (n_samples, ), for example using ravel().\n",
            "  y = column_or_1d(y, warn=True)\n",
            "/usr/local/lib/python3.7/dist-packages/sklearn/utils/validation.py:760: DataConversionWarning: A column-vector y was passed when a 1d array was expected. Please change the shape of y to (n_samples, ), for example using ravel().\n",
            "  y = column_or_1d(y, warn=True)\n",
            "/usr/local/lib/python3.7/dist-packages/sklearn/utils/validation.py:760: DataConversionWarning: A column-vector y was passed when a 1d array was expected. Please change the shape of y to (n_samples, ), for example using ravel().\n",
            "  y = column_or_1d(y, warn=True)\n",
            "/usr/local/lib/python3.7/dist-packages/sklearn/utils/validation.py:760: DataConversionWarning: A column-vector y was passed when a 1d array was expected. Please change the shape of y to (n_samples, ), for example using ravel().\n",
            "  y = column_or_1d(y, warn=True)\n",
            "/usr/local/lib/python3.7/dist-packages/sklearn/utils/validation.py:760: DataConversionWarning: A column-vector y was passed when a 1d array was expected. Please change the shape of y to (n_samples, ), for example using ravel().\n",
            "  y = column_or_1d(y, warn=True)\n",
            "/usr/local/lib/python3.7/dist-packages/sklearn/utils/validation.py:760: DataConversionWarning: A column-vector y was passed when a 1d array was expected. Please change the shape of y to (n_samples, ), for example using ravel().\n",
            "  y = column_or_1d(y, warn=True)\n",
            "/usr/local/lib/python3.7/dist-packages/sklearn/utils/validation.py:760: DataConversionWarning: A column-vector y was passed when a 1d array was expected. Please change the shape of y to (n_samples, ), for example using ravel().\n",
            "  y = column_or_1d(y, warn=True)\n"
          ]
        },
        {
          "output_type": "stream",
          "name": "stdout",
          "text": [
            "[CV]  C=0.1, gamma=0.1, kernel=linear, accuracy=0.853, precision=0.800, recall=0.980, total=   0.0s\n",
            "[CV] C=0.1, gamma=0.1, kernel=linear .................................\n",
            "[CV]  C=0.1, gamma=0.1, kernel=linear, accuracy=0.842, precision=0.833, recall=0.891, total=   0.0s\n",
            "[CV] C=0.1, gamma=0.1, kernel=linear .................................\n",
            "[CV]  C=0.1, gamma=0.1, kernel=linear, accuracy=0.765, precision=0.815, recall=0.743, total=   0.0s\n",
            "[CV] C=0.1, gamma=0.1, kernel=rbf ....................................\n",
            "[CV]  C=0.1, gamma=0.1, kernel=rbf, accuracy=0.891, precision=0.927, recall=0.873, total=   0.0s\n",
            "[CV] C=0.1, gamma=0.1, kernel=rbf ....................................\n",
            "[CV]  C=0.1, gamma=0.1, kernel=rbf, accuracy=0.897, precision=0.911, recall=0.902, total=   0.0s\n",
            "[CV] C=0.1, gamma=0.1, kernel=rbf ....................................\n",
            "[CV]  C=0.1, gamma=0.1, kernel=rbf, accuracy=0.804, precision=0.739, recall=1.000, total=   0.0s\n",
            "[CV] C=0.1, gamma=0.1, kernel=rbf ....................................\n",
            "[CV]  C=0.1, gamma=0.1, kernel=rbf, accuracy=0.809, precision=0.780, recall=0.911, total=   0.0s\n",
            "[CV] C=0.1, gamma=0.1, kernel=rbf ....................................\n",
            "[CV]  C=0.1, gamma=0.1, kernel=rbf, accuracy=0.760, precision=0.771, recall=0.802, total=   0.0s\n",
            "[CV] C=0.1, gamma=0.1, kernel=poly ...................................\n",
            "[CV]  C=0.1, gamma=0.1, kernel=poly, accuracy=0.842, precision=0.910, recall=0.794, total=   0.0s\n",
            "[CV] C=0.1, gamma=0.1, kernel=poly ...................................\n",
            "[CV]  C=0.1, gamma=0.1, kernel=poly, accuracy=0.832, precision=0.874, recall=0.814, total=   0.0s\n",
            "[CV] C=0.1, gamma=0.1, kernel=poly ...................................\n"
          ]
        },
        {
          "output_type": "stream",
          "name": "stderr",
          "text": [
            "/usr/local/lib/python3.7/dist-packages/sklearn/utils/validation.py:760: DataConversionWarning: A column-vector y was passed when a 1d array was expected. Please change the shape of y to (n_samples, ), for example using ravel().\n",
            "  y = column_or_1d(y, warn=True)\n",
            "/usr/local/lib/python3.7/dist-packages/sklearn/utils/validation.py:760: DataConversionWarning: A column-vector y was passed when a 1d array was expected. Please change the shape of y to (n_samples, ), for example using ravel().\n",
            "  y = column_or_1d(y, warn=True)\n",
            "/usr/local/lib/python3.7/dist-packages/sklearn/utils/validation.py:760: DataConversionWarning: A column-vector y was passed when a 1d array was expected. Please change the shape of y to (n_samples, ), for example using ravel().\n",
            "  y = column_or_1d(y, warn=True)\n",
            "/usr/local/lib/python3.7/dist-packages/sklearn/utils/validation.py:760: DataConversionWarning: A column-vector y was passed when a 1d array was expected. Please change the shape of y to (n_samples, ), for example using ravel().\n",
            "  y = column_or_1d(y, warn=True)\n",
            "/usr/local/lib/python3.7/dist-packages/sklearn/utils/validation.py:760: DataConversionWarning: A column-vector y was passed when a 1d array was expected. Please change the shape of y to (n_samples, ), for example using ravel().\n",
            "  y = column_or_1d(y, warn=True)\n",
            "/usr/local/lib/python3.7/dist-packages/sklearn/utils/validation.py:760: DataConversionWarning: A column-vector y was passed when a 1d array was expected. Please change the shape of y to (n_samples, ), for example using ravel().\n",
            "  y = column_or_1d(y, warn=True)\n",
            "/usr/local/lib/python3.7/dist-packages/sklearn/utils/validation.py:760: DataConversionWarning: A column-vector y was passed when a 1d array was expected. Please change the shape of y to (n_samples, ), for example using ravel().\n",
            "  y = column_or_1d(y, warn=True)\n",
            "/usr/local/lib/python3.7/dist-packages/sklearn/utils/validation.py:760: DataConversionWarning: A column-vector y was passed when a 1d array was expected. Please change the shape of y to (n_samples, ), for example using ravel().\n",
            "  y = column_or_1d(y, warn=True)\n",
            "/usr/local/lib/python3.7/dist-packages/sklearn/utils/validation.py:760: DataConversionWarning: A column-vector y was passed when a 1d array was expected. Please change the shape of y to (n_samples, ), for example using ravel().\n",
            "  y = column_or_1d(y, warn=True)\n",
            "/usr/local/lib/python3.7/dist-packages/sklearn/utils/validation.py:760: DataConversionWarning: A column-vector y was passed when a 1d array was expected. Please change the shape of y to (n_samples, ), for example using ravel().\n",
            "  y = column_or_1d(y, warn=True)\n"
          ]
        },
        {
          "output_type": "stream",
          "name": "stdout",
          "text": [
            "[CV]  C=0.1, gamma=0.1, kernel=poly, accuracy=0.788, precision=0.727, recall=0.990, total=   0.0s\n",
            "[CV] C=0.1, gamma=0.1, kernel=poly ...................................\n",
            "[CV]  C=0.1, gamma=0.1, kernel=poly, accuracy=0.831, precision=0.818, recall=0.891, total=   0.0s\n",
            "[CV] C=0.1, gamma=0.1, kernel=poly ...................................\n",
            "[CV]  C=0.1, gamma=0.1, kernel=poly, accuracy=0.781, precision=0.828, recall=0.762, total=   0.0s\n",
            "[CV] C=0.1, gamma=1, kernel=linear ...................................\n",
            "[CV]  C=0.1, gamma=1, kernel=linear, accuracy=0.853, precision=0.912, recall=0.814, total=   0.0s\n",
            "[CV] C=0.1, gamma=1, kernel=linear ...................................\n",
            "[CV]  C=0.1, gamma=1, kernel=linear, accuracy=0.832, precision=0.918, recall=0.765, total=   0.0s\n",
            "[CV] C=0.1, gamma=1, kernel=linear ...................................\n",
            "[CV]  C=0.1, gamma=1, kernel=linear, accuracy=0.853, precision=0.800, recall=0.980, total=   0.0s\n",
            "[CV] C=0.1, gamma=1, kernel=linear ...................................\n",
            "[CV]  C=0.1, gamma=1, kernel=linear, accuracy=0.842, precision=0.833, recall=0.891, total=   0.0s\n",
            "[CV] C=0.1, gamma=1, kernel=linear ...................................\n",
            "[CV]  C=0.1, gamma=1, kernel=linear, accuracy=0.765, precision=0.815, recall=0.743, total=   0.0s\n",
            "[CV] C=0.1, gamma=1, kernel=rbf ......................................\n",
            "[CV]  C=0.1, gamma=1, kernel=rbf, accuracy=0.554, precision=0.554, recall=1.000, total=   0.0s\n",
            "[CV] C=0.1, gamma=1, kernel=rbf ......................................\n",
            "[CV]  C=0.1, gamma=1, kernel=rbf, accuracy=0.571, precision=0.564, recall=1.000, total=   0.0s\n",
            "[CV] C=0.1, gamma=1, kernel=rbf ......................................\n"
          ]
        },
        {
          "output_type": "stream",
          "name": "stderr",
          "text": [
            "/usr/local/lib/python3.7/dist-packages/sklearn/utils/validation.py:760: DataConversionWarning: A column-vector y was passed when a 1d array was expected. Please change the shape of y to (n_samples, ), for example using ravel().\n",
            "  y = column_or_1d(y, warn=True)\n",
            "/usr/local/lib/python3.7/dist-packages/sklearn/utils/validation.py:760: DataConversionWarning: A column-vector y was passed when a 1d array was expected. Please change the shape of y to (n_samples, ), for example using ravel().\n",
            "  y = column_or_1d(y, warn=True)\n",
            "/usr/local/lib/python3.7/dist-packages/sklearn/utils/validation.py:760: DataConversionWarning: A column-vector y was passed when a 1d array was expected. Please change the shape of y to (n_samples, ), for example using ravel().\n",
            "  y = column_or_1d(y, warn=True)\n",
            "/usr/local/lib/python3.7/dist-packages/sklearn/utils/validation.py:760: DataConversionWarning: A column-vector y was passed when a 1d array was expected. Please change the shape of y to (n_samples, ), for example using ravel().\n",
            "  y = column_or_1d(y, warn=True)\n",
            "/usr/local/lib/python3.7/dist-packages/sklearn/utils/validation.py:760: DataConversionWarning: A column-vector y was passed when a 1d array was expected. Please change the shape of y to (n_samples, ), for example using ravel().\n",
            "  y = column_or_1d(y, warn=True)\n",
            "/usr/local/lib/python3.7/dist-packages/sklearn/utils/validation.py:760: DataConversionWarning: A column-vector y was passed when a 1d array was expected. Please change the shape of y to (n_samples, ), for example using ravel().\n",
            "  y = column_or_1d(y, warn=True)\n",
            "/usr/local/lib/python3.7/dist-packages/sklearn/utils/validation.py:760: DataConversionWarning: A column-vector y was passed when a 1d array was expected. Please change the shape of y to (n_samples, ), for example using ravel().\n",
            "  y = column_or_1d(y, warn=True)\n",
            "/usr/local/lib/python3.7/dist-packages/sklearn/utils/validation.py:760: DataConversionWarning: A column-vector y was passed when a 1d array was expected. Please change the shape of y to (n_samples, ), for example using ravel().\n",
            "  y = column_or_1d(y, warn=True)\n",
            "/usr/local/lib/python3.7/dist-packages/sklearn/utils/validation.py:760: DataConversionWarning: A column-vector y was passed when a 1d array was expected. Please change the shape of y to (n_samples, ), for example using ravel().\n",
            "  y = column_or_1d(y, warn=True)\n",
            "/usr/local/lib/python3.7/dist-packages/sklearn/utils/validation.py:760: DataConversionWarning: A column-vector y was passed when a 1d array was expected. Please change the shape of y to (n_samples, ), for example using ravel().\n",
            "  y = column_or_1d(y, warn=True)\n"
          ]
        },
        {
          "output_type": "stream",
          "name": "stdout",
          "text": [
            "[CV]  C=0.1, gamma=1, kernel=rbf, accuracy=0.560, precision=0.557, recall=1.000, total=   0.0s\n",
            "[CV] C=0.1, gamma=1, kernel=rbf ......................................\n",
            "[CV]  C=0.1, gamma=1, kernel=rbf, accuracy=0.557, precision=0.555, recall=1.000, total=   0.0s\n",
            "[CV] C=0.1, gamma=1, kernel=rbf ......................................\n",
            "[CV]  C=0.1, gamma=1, kernel=rbf, accuracy=0.563, precision=0.558, recall=1.000, total=   0.0s\n",
            "[CV] C=0.1, gamma=1, kernel=poly .....................................\n",
            "[CV]  C=0.1, gamma=1, kernel=poly, accuracy=0.799, precision=0.901, recall=0.716, total=   0.1s\n",
            "[CV] C=0.1, gamma=1, kernel=poly .....................................\n",
            "[CV]  C=0.1, gamma=1, kernel=poly, accuracy=0.783, precision=0.860, recall=0.725, total=   0.1s\n",
            "[CV] C=0.1, gamma=1, kernel=poly .....................................\n"
          ]
        },
        {
          "output_type": "stream",
          "name": "stderr",
          "text": [
            "/usr/local/lib/python3.7/dist-packages/sklearn/utils/validation.py:760: DataConversionWarning: A column-vector y was passed when a 1d array was expected. Please change the shape of y to (n_samples, ), for example using ravel().\n",
            "  y = column_or_1d(y, warn=True)\n",
            "/usr/local/lib/python3.7/dist-packages/sklearn/utils/validation.py:760: DataConversionWarning: A column-vector y was passed when a 1d array was expected. Please change the shape of y to (n_samples, ), for example using ravel().\n",
            "  y = column_or_1d(y, warn=True)\n",
            "/usr/local/lib/python3.7/dist-packages/sklearn/utils/validation.py:760: DataConversionWarning: A column-vector y was passed when a 1d array was expected. Please change the shape of y to (n_samples, ), for example using ravel().\n",
            "  y = column_or_1d(y, warn=True)\n",
            "/usr/local/lib/python3.7/dist-packages/sklearn/utils/validation.py:760: DataConversionWarning: A column-vector y was passed when a 1d array was expected. Please change the shape of y to (n_samples, ), for example using ravel().\n",
            "  y = column_or_1d(y, warn=True)\n",
            "/usr/local/lib/python3.7/dist-packages/sklearn/utils/validation.py:760: DataConversionWarning: A column-vector y was passed when a 1d array was expected. Please change the shape of y to (n_samples, ), for example using ravel().\n",
            "  y = column_or_1d(y, warn=True)\n"
          ]
        },
        {
          "output_type": "stream",
          "name": "stdout",
          "text": [
            "[CV]  C=0.1, gamma=1, kernel=poly, accuracy=0.772, precision=0.768, recall=0.843, total=   0.1s\n",
            "[CV] C=0.1, gamma=1, kernel=poly .....................................\n",
            "[CV]  C=0.1, gamma=1, kernel=poly, accuracy=0.732, precision=0.745, recall=0.782, total=   0.0s\n",
            "[CV] C=0.1, gamma=1, kernel=poly .....................................\n",
            "[CV]  C=0.1, gamma=1, kernel=poly, accuracy=0.694, precision=0.778, recall=0.624, total=   0.0s\n",
            "[CV] C=0.1, gamma=0.01, kernel=linear ................................\n",
            "[CV]  C=0.1, gamma=0.01, kernel=linear, accuracy=0.853, precision=0.912, recall=0.814, total=   0.0s\n",
            "[CV] C=0.1, gamma=0.01, kernel=linear ................................\n",
            "[CV]  C=0.1, gamma=0.01, kernel=linear, accuracy=0.832, precision=0.918, recall=0.765, total=   0.0s\n",
            "[CV] C=0.1, gamma=0.01, kernel=linear ................................\n",
            "[CV]  C=0.1, gamma=0.01, kernel=linear, accuracy=0.853, precision=0.800, recall=0.980, total=   0.0s\n",
            "[CV] C=0.1, gamma=0.01, kernel=linear ................................\n",
            "[CV]  C=0.1, gamma=0.01, kernel=linear, accuracy=0.842, precision=0.833, recall=0.891, total=   0.0s\n",
            "[CV] C=0.1, gamma=0.01, kernel=linear ................................\n",
            "[CV]  C=0.1, gamma=0.01, kernel=linear, accuracy=0.765, precision=0.815, recall=0.743, total=   0.0s\n",
            "[CV] C=0.1, gamma=0.01, kernel=rbf ...................................\n",
            "[CV]  C=0.1, gamma=0.01, kernel=rbf, accuracy=0.859, precision=0.922, recall=0.814, total=   0.0s\n",
            "[CV] C=0.1, gamma=0.01, kernel=rbf ...................................\n"
          ]
        },
        {
          "output_type": "stream",
          "name": "stderr",
          "text": [
            "/usr/local/lib/python3.7/dist-packages/sklearn/utils/validation.py:760: DataConversionWarning: A column-vector y was passed when a 1d array was expected. Please change the shape of y to (n_samples, ), for example using ravel().\n",
            "  y = column_or_1d(y, warn=True)\n",
            "/usr/local/lib/python3.7/dist-packages/sklearn/utils/validation.py:760: DataConversionWarning: A column-vector y was passed when a 1d array was expected. Please change the shape of y to (n_samples, ), for example using ravel().\n",
            "  y = column_or_1d(y, warn=True)\n",
            "/usr/local/lib/python3.7/dist-packages/sklearn/utils/validation.py:760: DataConversionWarning: A column-vector y was passed when a 1d array was expected. Please change the shape of y to (n_samples, ), for example using ravel().\n",
            "  y = column_or_1d(y, warn=True)\n",
            "/usr/local/lib/python3.7/dist-packages/sklearn/utils/validation.py:760: DataConversionWarning: A column-vector y was passed when a 1d array was expected. Please change the shape of y to (n_samples, ), for example using ravel().\n",
            "  y = column_or_1d(y, warn=True)\n",
            "/usr/local/lib/python3.7/dist-packages/sklearn/utils/validation.py:760: DataConversionWarning: A column-vector y was passed when a 1d array was expected. Please change the shape of y to (n_samples, ), for example using ravel().\n",
            "  y = column_or_1d(y, warn=True)\n",
            "/usr/local/lib/python3.7/dist-packages/sklearn/utils/validation.py:760: DataConversionWarning: A column-vector y was passed when a 1d array was expected. Please change the shape of y to (n_samples, ), for example using ravel().\n",
            "  y = column_or_1d(y, warn=True)\n",
            "/usr/local/lib/python3.7/dist-packages/sklearn/utils/validation.py:760: DataConversionWarning: A column-vector y was passed when a 1d array was expected. Please change the shape of y to (n_samples, ), for example using ravel().\n",
            "  y = column_or_1d(y, warn=True)\n",
            "/usr/local/lib/python3.7/dist-packages/sklearn/utils/validation.py:760: DataConversionWarning: A column-vector y was passed when a 1d array was expected. Please change the shape of y to (n_samples, ), for example using ravel().\n",
            "  y = column_or_1d(y, warn=True)\n",
            "/usr/local/lib/python3.7/dist-packages/sklearn/utils/validation.py:760: DataConversionWarning: A column-vector y was passed when a 1d array was expected. Please change the shape of y to (n_samples, ), for example using ravel().\n",
            "  y = column_or_1d(y, warn=True)\n"
          ]
        },
        {
          "output_type": "stream",
          "name": "stdout",
          "text": [
            "[CV]  C=0.1, gamma=0.01, kernel=rbf, accuracy=0.853, precision=0.912, recall=0.814, total=   0.0s\n",
            "[CV] C=0.1, gamma=0.01, kernel=rbf ...................................\n",
            "[CV]  C=0.1, gamma=0.01, kernel=rbf, accuracy=0.842, precision=0.787, recall=0.980, total=   0.0s\n",
            "[CV] C=0.1, gamma=0.01, kernel=rbf ...................................\n",
            "[CV]  C=0.1, gamma=0.01, kernel=rbf, accuracy=0.842, precision=0.827, recall=0.901, total=   0.0s\n",
            "[CV] C=0.1, gamma=0.01, kernel=rbf ...................................\n",
            "[CV]  C=0.1, gamma=0.01, kernel=rbf, accuracy=0.770, precision=0.804, recall=0.772, total=   0.0s\n",
            "[CV] C=0.1, gamma=0.01, kernel=poly ..................................\n",
            "[CV]  C=0.1, gamma=0.01, kernel=poly, accuracy=0.554, precision=0.554, recall=1.000, total=   0.0s\n",
            "[CV] C=0.1, gamma=0.01, kernel=poly ..................................\n",
            "[CV]  C=0.1, gamma=0.01, kernel=poly, accuracy=0.554, precision=0.554, recall=1.000, total=   0.0s\n",
            "[CV] C=0.1, gamma=0.01, kernel=poly ..................................\n",
            "[CV]  C=0.1, gamma=0.01, kernel=poly, accuracy=0.554, precision=0.554, recall=1.000, total=   0.0s\n",
            "[CV] C=0.1, gamma=0.01, kernel=poly ..................................\n",
            "[CV]  C=0.1, gamma=0.01, kernel=poly, accuracy=0.552, precision=0.552, recall=1.000, total=   0.0s\n",
            "[CV] C=0.1, gamma=0.01, kernel=poly ..................................\n",
            "[CV]  C=0.1, gamma=0.01, kernel=poly, accuracy=0.552, precision=0.552, recall=1.000, total=   0.0s\n",
            "[CV] C=0.1, gamma=0.001, kernel=linear ...............................\n"
          ]
        },
        {
          "output_type": "stream",
          "name": "stderr",
          "text": [
            "/usr/local/lib/python3.7/dist-packages/sklearn/utils/validation.py:760: DataConversionWarning: A column-vector y was passed when a 1d array was expected. Please change the shape of y to (n_samples, ), for example using ravel().\n",
            "  y = column_or_1d(y, warn=True)\n",
            "/usr/local/lib/python3.7/dist-packages/sklearn/utils/validation.py:760: DataConversionWarning: A column-vector y was passed when a 1d array was expected. Please change the shape of y to (n_samples, ), for example using ravel().\n",
            "  y = column_or_1d(y, warn=True)\n",
            "/usr/local/lib/python3.7/dist-packages/sklearn/utils/validation.py:760: DataConversionWarning: A column-vector y was passed when a 1d array was expected. Please change the shape of y to (n_samples, ), for example using ravel().\n",
            "  y = column_or_1d(y, warn=True)\n",
            "/usr/local/lib/python3.7/dist-packages/sklearn/utils/validation.py:760: DataConversionWarning: A column-vector y was passed when a 1d array was expected. Please change the shape of y to (n_samples, ), for example using ravel().\n",
            "  y = column_or_1d(y, warn=True)\n",
            "/usr/local/lib/python3.7/dist-packages/sklearn/utils/validation.py:760: DataConversionWarning: A column-vector y was passed when a 1d array was expected. Please change the shape of y to (n_samples, ), for example using ravel().\n",
            "  y = column_or_1d(y, warn=True)\n",
            "/usr/local/lib/python3.7/dist-packages/sklearn/utils/validation.py:760: DataConversionWarning: A column-vector y was passed when a 1d array was expected. Please change the shape of y to (n_samples, ), for example using ravel().\n",
            "  y = column_or_1d(y, warn=True)\n",
            "/usr/local/lib/python3.7/dist-packages/sklearn/utils/validation.py:760: DataConversionWarning: A column-vector y was passed when a 1d array was expected. Please change the shape of y to (n_samples, ), for example using ravel().\n",
            "  y = column_or_1d(y, warn=True)\n",
            "/usr/local/lib/python3.7/dist-packages/sklearn/utils/validation.py:760: DataConversionWarning: A column-vector y was passed when a 1d array was expected. Please change the shape of y to (n_samples, ), for example using ravel().\n",
            "  y = column_or_1d(y, warn=True)\n",
            "/usr/local/lib/python3.7/dist-packages/sklearn/utils/validation.py:760: DataConversionWarning: A column-vector y was passed when a 1d array was expected. Please change the shape of y to (n_samples, ), for example using ravel().\n",
            "  y = column_or_1d(y, warn=True)\n"
          ]
        },
        {
          "output_type": "stream",
          "name": "stdout",
          "text": [
            "[CV]  C=0.1, gamma=0.001, kernel=linear, accuracy=0.853, precision=0.912, recall=0.814, total=   0.0s\n",
            "[CV] C=0.1, gamma=0.001, kernel=linear ...............................\n",
            "[CV]  C=0.1, gamma=0.001, kernel=linear, accuracy=0.832, precision=0.918, recall=0.765, total=   0.0s\n",
            "[CV] C=0.1, gamma=0.001, kernel=linear ...............................\n",
            "[CV]  C=0.1, gamma=0.001, kernel=linear, accuracy=0.853, precision=0.800, recall=0.980, total=   0.0s\n",
            "[CV] C=0.1, gamma=0.001, kernel=linear ...............................\n",
            "[CV]  C=0.1, gamma=0.001, kernel=linear, accuracy=0.842, precision=0.833, recall=0.891, total=   0.0s\n",
            "[CV] C=0.1, gamma=0.001, kernel=linear ...............................\n",
            "[CV]  C=0.1, gamma=0.001, kernel=linear, accuracy=0.765, precision=0.815, recall=0.743, total=   0.0s\n",
            "[CV] C=0.1, gamma=0.001, kernel=rbf ..................................\n",
            "[CV]  C=0.1, gamma=0.001, kernel=rbf, accuracy=0.554, precision=0.554, recall=1.000, total=   0.0s\n",
            "[CV] C=0.1, gamma=0.001, kernel=rbf ..................................\n",
            "[CV]  C=0.1, gamma=0.001, kernel=rbf, accuracy=0.554, precision=0.554, recall=1.000, total=   0.0s\n",
            "[CV] C=0.1, gamma=0.001, kernel=rbf ..................................\n",
            "[CV]  C=0.1, gamma=0.001, kernel=rbf, accuracy=0.554, precision=0.554, recall=1.000, total=   0.0s\n",
            "[CV] C=0.1, gamma=0.001, kernel=rbf ..................................\n",
            "[CV]  C=0.1, gamma=0.001, kernel=rbf, accuracy=0.552, precision=0.552, recall=1.000, total=   0.0s\n",
            "[CV] C=0.1, gamma=0.001, kernel=rbf ..................................\n"
          ]
        },
        {
          "output_type": "stream",
          "name": "stderr",
          "text": [
            "/usr/local/lib/python3.7/dist-packages/sklearn/utils/validation.py:760: DataConversionWarning: A column-vector y was passed when a 1d array was expected. Please change the shape of y to (n_samples, ), for example using ravel().\n",
            "  y = column_or_1d(y, warn=True)\n",
            "/usr/local/lib/python3.7/dist-packages/sklearn/utils/validation.py:760: DataConversionWarning: A column-vector y was passed when a 1d array was expected. Please change the shape of y to (n_samples, ), for example using ravel().\n",
            "  y = column_or_1d(y, warn=True)\n",
            "/usr/local/lib/python3.7/dist-packages/sklearn/utils/validation.py:760: DataConversionWarning: A column-vector y was passed when a 1d array was expected. Please change the shape of y to (n_samples, ), for example using ravel().\n",
            "  y = column_or_1d(y, warn=True)\n",
            "/usr/local/lib/python3.7/dist-packages/sklearn/utils/validation.py:760: DataConversionWarning: A column-vector y was passed when a 1d array was expected. Please change the shape of y to (n_samples, ), for example using ravel().\n",
            "  y = column_or_1d(y, warn=True)\n",
            "/usr/local/lib/python3.7/dist-packages/sklearn/utils/validation.py:760: DataConversionWarning: A column-vector y was passed when a 1d array was expected. Please change the shape of y to (n_samples, ), for example using ravel().\n",
            "  y = column_or_1d(y, warn=True)\n",
            "/usr/local/lib/python3.7/dist-packages/sklearn/utils/validation.py:760: DataConversionWarning: A column-vector y was passed when a 1d array was expected. Please change the shape of y to (n_samples, ), for example using ravel().\n",
            "  y = column_or_1d(y, warn=True)\n",
            "/usr/local/lib/python3.7/dist-packages/sklearn/utils/validation.py:760: DataConversionWarning: A column-vector y was passed when a 1d array was expected. Please change the shape of y to (n_samples, ), for example using ravel().\n",
            "  y = column_or_1d(y, warn=True)\n",
            "/usr/local/lib/python3.7/dist-packages/sklearn/utils/validation.py:760: DataConversionWarning: A column-vector y was passed when a 1d array was expected. Please change the shape of y to (n_samples, ), for example using ravel().\n",
            "  y = column_or_1d(y, warn=True)\n",
            "/usr/local/lib/python3.7/dist-packages/sklearn/utils/validation.py:760: DataConversionWarning: A column-vector y was passed when a 1d array was expected. Please change the shape of y to (n_samples, ), for example using ravel().\n",
            "  y = column_or_1d(y, warn=True)\n",
            "/usr/local/lib/python3.7/dist-packages/sklearn/utils/validation.py:760: DataConversionWarning: A column-vector y was passed when a 1d array was expected. Please change the shape of y to (n_samples, ), for example using ravel().\n",
            "  y = column_or_1d(y, warn=True)\n",
            "/usr/local/lib/python3.7/dist-packages/sklearn/utils/validation.py:760: DataConversionWarning: A column-vector y was passed when a 1d array was expected. Please change the shape of y to (n_samples, ), for example using ravel().\n",
            "  y = column_or_1d(y, warn=True)\n",
            "/usr/local/lib/python3.7/dist-packages/sklearn/utils/validation.py:760: DataConversionWarning: A column-vector y was passed when a 1d array was expected. Please change the shape of y to (n_samples, ), for example using ravel().\n",
            "  y = column_or_1d(y, warn=True)\n",
            "/usr/local/lib/python3.7/dist-packages/sklearn/utils/validation.py:760: DataConversionWarning: A column-vector y was passed when a 1d array was expected. Please change the shape of y to (n_samples, ), for example using ravel().\n",
            "  y = column_or_1d(y, warn=True)\n",
            "/usr/local/lib/python3.7/dist-packages/sklearn/utils/validation.py:760: DataConversionWarning: A column-vector y was passed when a 1d array was expected. Please change the shape of y to (n_samples, ), for example using ravel().\n",
            "  y = column_or_1d(y, warn=True)\n",
            "/usr/local/lib/python3.7/dist-packages/sklearn/utils/validation.py:760: DataConversionWarning: A column-vector y was passed when a 1d array was expected. Please change the shape of y to (n_samples, ), for example using ravel().\n",
            "  y = column_or_1d(y, warn=True)\n",
            "/usr/local/lib/python3.7/dist-packages/sklearn/utils/validation.py:760: DataConversionWarning: A column-vector y was passed when a 1d array was expected. Please change the shape of y to (n_samples, ), for example using ravel().\n",
            "  y = column_or_1d(y, warn=True)\n",
            "/usr/local/lib/python3.7/dist-packages/sklearn/utils/validation.py:760: DataConversionWarning: A column-vector y was passed when a 1d array was expected. Please change the shape of y to (n_samples, ), for example using ravel().\n",
            "  y = column_or_1d(y, warn=True)\n",
            "/usr/local/lib/python3.7/dist-packages/sklearn/utils/validation.py:760: DataConversionWarning: A column-vector y was passed when a 1d array was expected. Please change the shape of y to (n_samples, ), for example using ravel().\n",
            "  y = column_or_1d(y, warn=True)\n"
          ]
        },
        {
          "output_type": "stream",
          "name": "stdout",
          "text": [
            "[CV]  C=0.1, gamma=0.001, kernel=rbf, accuracy=0.552, precision=0.552, recall=1.000, total=   0.0s\n",
            "[CV] C=0.1, gamma=0.001, kernel=poly .................................\n",
            "[CV]  C=0.1, gamma=0.001, kernel=poly, accuracy=0.554, precision=0.554, recall=1.000, total=   0.0s\n",
            "[CV] C=0.1, gamma=0.001, kernel=poly .................................\n",
            "[CV]  C=0.1, gamma=0.001, kernel=poly, accuracy=0.554, precision=0.554, recall=1.000, total=   0.0s\n",
            "[CV] C=0.1, gamma=0.001, kernel=poly .................................\n",
            "[CV]  C=0.1, gamma=0.001, kernel=poly, accuracy=0.554, precision=0.554, recall=1.000, total=   0.0s\n",
            "[CV] C=0.1, gamma=0.001, kernel=poly .................................\n",
            "[CV]  C=0.1, gamma=0.001, kernel=poly, accuracy=0.552, precision=0.552, recall=1.000, total=   0.0s\n",
            "[CV] C=0.1, gamma=0.001, kernel=poly .................................\n",
            "[CV]  C=0.1, gamma=0.001, kernel=poly, accuracy=0.552, precision=0.552, recall=1.000, total=   0.0s\n",
            "[CV] C=1, gamma=scale, kernel=linear .................................\n",
            "[CV]  C=1, gamma=scale, kernel=linear, accuracy=0.859, precision=0.913, recall=0.824, total=   0.0s\n",
            "[CV] C=1, gamma=scale, kernel=linear .................................\n",
            "[CV]  C=1, gamma=scale, kernel=linear, accuracy=0.832, precision=0.908, recall=0.775, total=   0.0s\n",
            "[CV] C=1, gamma=scale, kernel=linear .................................\n",
            "[CV]  C=1, gamma=scale, kernel=linear, accuracy=0.859, precision=0.806, recall=0.980, total=   0.0s\n",
            "[CV] C=1, gamma=scale, kernel=linear .................................\n",
            "[CV]  C=1, gamma=scale, kernel=linear, accuracy=0.847, precision=0.835, recall=0.901, total=   0.0s\n",
            "[CV] C=1, gamma=scale, kernel=linear .................................\n",
            "[CV]  C=1, gamma=scale, kernel=linear, accuracy=0.749, precision=0.802, recall=0.723, total=   0.0s\n",
            "[CV] C=1, gamma=scale, kernel=rbf ....................................\n"
          ]
        },
        {
          "output_type": "stream",
          "name": "stderr",
          "text": [
            "/usr/local/lib/python3.7/dist-packages/sklearn/utils/validation.py:760: DataConversionWarning: A column-vector y was passed when a 1d array was expected. Please change the shape of y to (n_samples, ), for example using ravel().\n",
            "  y = column_or_1d(y, warn=True)\n",
            "/usr/local/lib/python3.7/dist-packages/sklearn/utils/validation.py:760: DataConversionWarning: A column-vector y was passed when a 1d array was expected. Please change the shape of y to (n_samples, ), for example using ravel().\n",
            "  y = column_or_1d(y, warn=True)\n",
            "/usr/local/lib/python3.7/dist-packages/sklearn/utils/validation.py:760: DataConversionWarning: A column-vector y was passed when a 1d array was expected. Please change the shape of y to (n_samples, ), for example using ravel().\n",
            "  y = column_or_1d(y, warn=True)\n",
            "/usr/local/lib/python3.7/dist-packages/sklearn/utils/validation.py:760: DataConversionWarning: A column-vector y was passed when a 1d array was expected. Please change the shape of y to (n_samples, ), for example using ravel().\n",
            "  y = column_or_1d(y, warn=True)\n",
            "/usr/local/lib/python3.7/dist-packages/sklearn/utils/validation.py:760: DataConversionWarning: A column-vector y was passed when a 1d array was expected. Please change the shape of y to (n_samples, ), for example using ravel().\n",
            "  y = column_or_1d(y, warn=True)\n",
            "/usr/local/lib/python3.7/dist-packages/sklearn/utils/validation.py:760: DataConversionWarning: A column-vector y was passed when a 1d array was expected. Please change the shape of y to (n_samples, ), for example using ravel().\n",
            "  y = column_or_1d(y, warn=True)\n",
            "/usr/local/lib/python3.7/dist-packages/sklearn/utils/validation.py:760: DataConversionWarning: A column-vector y was passed when a 1d array was expected. Please change the shape of y to (n_samples, ), for example using ravel().\n",
            "  y = column_or_1d(y, warn=True)\n",
            "/usr/local/lib/python3.7/dist-packages/sklearn/utils/validation.py:760: DataConversionWarning: A column-vector y was passed when a 1d array was expected. Please change the shape of y to (n_samples, ), for example using ravel().\n",
            "  y = column_or_1d(y, warn=True)\n",
            "/usr/local/lib/python3.7/dist-packages/sklearn/utils/validation.py:760: DataConversionWarning: A column-vector y was passed when a 1d array was expected. Please change the shape of y to (n_samples, ), for example using ravel().\n",
            "  y = column_or_1d(y, warn=True)\n",
            "/usr/local/lib/python3.7/dist-packages/sklearn/utils/validation.py:760: DataConversionWarning: A column-vector y was passed when a 1d array was expected. Please change the shape of y to (n_samples, ), for example using ravel().\n",
            "  y = column_or_1d(y, warn=True)\n"
          ]
        },
        {
          "output_type": "stream",
          "name": "stdout",
          "text": [
            "[CV]  C=1, gamma=scale, kernel=rbf, accuracy=0.870, precision=0.924, recall=0.833, total=   0.0s\n",
            "[CV] C=1, gamma=scale, kernel=rbf ....................................\n",
            "[CV]  C=1, gamma=scale, kernel=rbf, accuracy=0.875, precision=0.907, recall=0.863, total=   0.0s\n",
            "[CV] C=1, gamma=scale, kernel=rbf ....................................\n",
            "[CV]  C=1, gamma=scale, kernel=rbf, accuracy=0.837, precision=0.773, recall=1.000, total=   0.0s\n",
            "[CV] C=1, gamma=scale, kernel=rbf ....................................\n",
            "[CV]  C=1, gamma=scale, kernel=rbf, accuracy=0.820, precision=0.815, recall=0.871, total=   0.0s\n",
            "[CV] C=1, gamma=scale, kernel=rbf ....................................\n",
            "[CV]  C=1, gamma=scale, kernel=rbf, accuracy=0.792, precision=0.839, recall=0.772, total=   0.0s\n",
            "[CV] C=1, gamma=scale, kernel=poly ...................................\n",
            "[CV]  C=1, gamma=scale, kernel=poly, accuracy=0.848, precision=0.930, recall=0.784, total=   0.0s\n",
            "[CV] C=1, gamma=scale, kernel=poly ...................................\n",
            "[CV]  C=1, gamma=scale, kernel=poly, accuracy=0.842, precision=0.910, recall=0.794, total=   0.0s\n",
            "[CV] C=1, gamma=scale, kernel=poly ...................................\n",
            "[CV]  C=1, gamma=scale, kernel=poly, accuracy=0.853, precision=0.810, recall=0.961, total=   0.0s\n",
            "[CV] C=1, gamma=scale, kernel=poly ...................................\n",
            "[CV]  C=1, gamma=scale, kernel=poly, accuracy=0.825, precision=0.829, recall=0.861, total=   0.0s\n",
            "[CV] C=1, gamma=scale, kernel=poly ...................................\n",
            "[CV]  C=1, gamma=scale, kernel=poly, accuracy=0.754, precision=0.798, recall=0.743, total=   0.0s\n",
            "[CV] C=1, gamma=auto, kernel=linear ..................................\n"
          ]
        },
        {
          "output_type": "stream",
          "name": "stderr",
          "text": [
            "/usr/local/lib/python3.7/dist-packages/sklearn/utils/validation.py:760: DataConversionWarning: A column-vector y was passed when a 1d array was expected. Please change the shape of y to (n_samples, ), for example using ravel().\n",
            "  y = column_or_1d(y, warn=True)\n",
            "/usr/local/lib/python3.7/dist-packages/sklearn/utils/validation.py:760: DataConversionWarning: A column-vector y was passed when a 1d array was expected. Please change the shape of y to (n_samples, ), for example using ravel().\n",
            "  y = column_or_1d(y, warn=True)\n",
            "/usr/local/lib/python3.7/dist-packages/sklearn/utils/validation.py:760: DataConversionWarning: A column-vector y was passed when a 1d array was expected. Please change the shape of y to (n_samples, ), for example using ravel().\n",
            "  y = column_or_1d(y, warn=True)\n",
            "/usr/local/lib/python3.7/dist-packages/sklearn/utils/validation.py:760: DataConversionWarning: A column-vector y was passed when a 1d array was expected. Please change the shape of y to (n_samples, ), for example using ravel().\n",
            "  y = column_or_1d(y, warn=True)\n",
            "/usr/local/lib/python3.7/dist-packages/sklearn/utils/validation.py:760: DataConversionWarning: A column-vector y was passed when a 1d array was expected. Please change the shape of y to (n_samples, ), for example using ravel().\n",
            "  y = column_or_1d(y, warn=True)\n",
            "/usr/local/lib/python3.7/dist-packages/sklearn/utils/validation.py:760: DataConversionWarning: A column-vector y was passed when a 1d array was expected. Please change the shape of y to (n_samples, ), for example using ravel().\n",
            "  y = column_or_1d(y, warn=True)\n",
            "/usr/local/lib/python3.7/dist-packages/sklearn/utils/validation.py:760: DataConversionWarning: A column-vector y was passed when a 1d array was expected. Please change the shape of y to (n_samples, ), for example using ravel().\n",
            "  y = column_or_1d(y, warn=True)\n",
            "/usr/local/lib/python3.7/dist-packages/sklearn/utils/validation.py:760: DataConversionWarning: A column-vector y was passed when a 1d array was expected. Please change the shape of y to (n_samples, ), for example using ravel().\n",
            "  y = column_or_1d(y, warn=True)\n",
            "/usr/local/lib/python3.7/dist-packages/sklearn/utils/validation.py:760: DataConversionWarning: A column-vector y was passed when a 1d array was expected. Please change the shape of y to (n_samples, ), for example using ravel().\n",
            "  y = column_or_1d(y, warn=True)\n",
            "/usr/local/lib/python3.7/dist-packages/sklearn/utils/validation.py:760: DataConversionWarning: A column-vector y was passed when a 1d array was expected. Please change the shape of y to (n_samples, ), for example using ravel().\n",
            "  y = column_or_1d(y, warn=True)\n"
          ]
        },
        {
          "output_type": "stream",
          "name": "stdout",
          "text": [
            "[CV]  C=1, gamma=auto, kernel=linear, accuracy=0.859, precision=0.913, recall=0.824, total=   0.0s\n",
            "[CV] C=1, gamma=auto, kernel=linear ..................................\n",
            "[CV]  C=1, gamma=auto, kernel=linear, accuracy=0.832, precision=0.908, recall=0.775, total=   0.0s\n",
            "[CV] C=1, gamma=auto, kernel=linear ..................................\n",
            "[CV]  C=1, gamma=auto, kernel=linear, accuracy=0.859, precision=0.806, recall=0.980, total=   0.0s\n",
            "[CV] C=1, gamma=auto, kernel=linear ..................................\n",
            "[CV]  C=1, gamma=auto, kernel=linear, accuracy=0.847, precision=0.835, recall=0.901, total=   0.0s\n",
            "[CV] C=1, gamma=auto, kernel=linear ..................................\n",
            "[CV]  C=1, gamma=auto, kernel=linear, accuracy=0.749, precision=0.802, recall=0.723, total=   0.0s\n",
            "[CV] C=1, gamma=auto, kernel=rbf .....................................\n",
            "[CV]  C=1, gamma=auto, kernel=rbf, accuracy=0.864, precision=0.923, recall=0.824, total=   0.0s\n",
            "[CV] C=1, gamma=auto, kernel=rbf .....................................\n",
            "[CV]  C=1, gamma=auto, kernel=rbf, accuracy=0.875, precision=0.907, recall=0.863, total=   0.0s\n",
            "[CV] C=1, gamma=auto, kernel=rbf .....................................\n",
            "[CV]  C=1, gamma=auto, kernel=rbf, accuracy=0.837, precision=0.773, recall=1.000, total=   0.0s\n",
            "[CV] C=1, gamma=auto, kernel=rbf .....................................\n",
            "[CV]  C=1, gamma=auto, kernel=rbf, accuracy=0.820, precision=0.815, recall=0.871, total=   0.0s\n",
            "[CV] C=1, gamma=auto, kernel=rbf .....................................\n",
            "[CV]  C=1, gamma=auto, kernel=rbf, accuracy=0.792, precision=0.839, recall=0.772, total=   0.0s\n",
            "[CV] C=1, gamma=auto, kernel=poly ....................................\n"
          ]
        },
        {
          "output_type": "stream",
          "name": "stderr",
          "text": [
            "/usr/local/lib/python3.7/dist-packages/sklearn/utils/validation.py:760: DataConversionWarning: A column-vector y was passed when a 1d array was expected. Please change the shape of y to (n_samples, ), for example using ravel().\n",
            "  y = column_or_1d(y, warn=True)\n",
            "/usr/local/lib/python3.7/dist-packages/sklearn/utils/validation.py:760: DataConversionWarning: A column-vector y was passed when a 1d array was expected. Please change the shape of y to (n_samples, ), for example using ravel().\n",
            "  y = column_or_1d(y, warn=True)\n",
            "/usr/local/lib/python3.7/dist-packages/sklearn/utils/validation.py:760: DataConversionWarning: A column-vector y was passed when a 1d array was expected. Please change the shape of y to (n_samples, ), for example using ravel().\n",
            "  y = column_or_1d(y, warn=True)\n",
            "/usr/local/lib/python3.7/dist-packages/sklearn/utils/validation.py:760: DataConversionWarning: A column-vector y was passed when a 1d array was expected. Please change the shape of y to (n_samples, ), for example using ravel().\n",
            "  y = column_or_1d(y, warn=True)\n",
            "/usr/local/lib/python3.7/dist-packages/sklearn/utils/validation.py:760: DataConversionWarning: A column-vector y was passed when a 1d array was expected. Please change the shape of y to (n_samples, ), for example using ravel().\n",
            "  y = column_or_1d(y, warn=True)\n",
            "/usr/local/lib/python3.7/dist-packages/sklearn/utils/validation.py:760: DataConversionWarning: A column-vector y was passed when a 1d array was expected. Please change the shape of y to (n_samples, ), for example using ravel().\n",
            "  y = column_or_1d(y, warn=True)\n",
            "/usr/local/lib/python3.7/dist-packages/sklearn/utils/validation.py:760: DataConversionWarning: A column-vector y was passed when a 1d array was expected. Please change the shape of y to (n_samples, ), for example using ravel().\n",
            "  y = column_or_1d(y, warn=True)\n",
            "/usr/local/lib/python3.7/dist-packages/sklearn/utils/validation.py:760: DataConversionWarning: A column-vector y was passed when a 1d array was expected. Please change the shape of y to (n_samples, ), for example using ravel().\n",
            "  y = column_or_1d(y, warn=True)\n",
            "/usr/local/lib/python3.7/dist-packages/sklearn/utils/validation.py:760: DataConversionWarning: A column-vector y was passed when a 1d array was expected. Please change the shape of y to (n_samples, ), for example using ravel().\n",
            "  y = column_or_1d(y, warn=True)\n",
            "/usr/local/lib/python3.7/dist-packages/sklearn/utils/validation.py:760: DataConversionWarning: A column-vector y was passed when a 1d array was expected. Please change the shape of y to (n_samples, ), for example using ravel().\n",
            "  y = column_or_1d(y, warn=True)\n"
          ]
        },
        {
          "output_type": "stream",
          "name": "stdout",
          "text": [
            "[CV]  C=1, gamma=auto, kernel=poly, accuracy=0.842, precision=0.920, recall=0.784, total=   0.0s\n",
            "[CV] C=1, gamma=auto, kernel=poly ....................................\n",
            "[CV]  C=1, gamma=auto, kernel=poly, accuracy=0.842, precision=0.910, recall=0.794, total=   0.0s\n",
            "[CV] C=1, gamma=auto, kernel=poly ....................................\n",
            "[CV]  C=1, gamma=auto, kernel=poly, accuracy=0.853, precision=0.810, recall=0.961, total=   0.0s\n",
            "[CV] C=1, gamma=auto, kernel=poly ....................................\n",
            "[CV]  C=1, gamma=auto, kernel=poly, accuracy=0.831, precision=0.837, recall=0.861, total=   0.0s\n",
            "[CV] C=1, gamma=auto, kernel=poly ....................................\n",
            "[CV]  C=1, gamma=auto, kernel=poly, accuracy=0.754, precision=0.798, recall=0.743, total=   0.0s\n",
            "[CV] C=1, gamma=0.1, kernel=linear ...................................\n",
            "[CV]  C=1, gamma=0.1, kernel=linear, accuracy=0.859, precision=0.913, recall=0.824, total=   0.0s\n",
            "[CV] C=1, gamma=0.1, kernel=linear ...................................\n",
            "[CV]  C=1, gamma=0.1, kernel=linear, accuracy=0.832, precision=0.908, recall=0.775, total=   0.0s\n",
            "[CV] C=1, gamma=0.1, kernel=linear ...................................\n",
            "[CV]  C=1, gamma=0.1, kernel=linear, accuracy=0.859, precision=0.806, recall=0.980, total=   0.0s\n",
            "[CV] C=1, gamma=0.1, kernel=linear ...................................\n",
            "[CV]  C=1, gamma=0.1, kernel=linear, accuracy=0.847, precision=0.835, recall=0.901, total=   0.0s\n",
            "[CV] C=1, gamma=0.1, kernel=linear ...................................\n",
            "[CV]  C=1, gamma=0.1, kernel=linear, accuracy=0.749, precision=0.802, recall=0.723, total=   0.0s\n",
            "[CV] C=1, gamma=0.1, kernel=rbf ......................................\n"
          ]
        },
        {
          "output_type": "stream",
          "name": "stderr",
          "text": [
            "/usr/local/lib/python3.7/dist-packages/sklearn/utils/validation.py:760: DataConversionWarning: A column-vector y was passed when a 1d array was expected. Please change the shape of y to (n_samples, ), for example using ravel().\n",
            "  y = column_or_1d(y, warn=True)\n",
            "/usr/local/lib/python3.7/dist-packages/sklearn/utils/validation.py:760: DataConversionWarning: A column-vector y was passed when a 1d array was expected. Please change the shape of y to (n_samples, ), for example using ravel().\n",
            "  y = column_or_1d(y, warn=True)\n",
            "/usr/local/lib/python3.7/dist-packages/sklearn/utils/validation.py:760: DataConversionWarning: A column-vector y was passed when a 1d array was expected. Please change the shape of y to (n_samples, ), for example using ravel().\n",
            "  y = column_or_1d(y, warn=True)\n",
            "/usr/local/lib/python3.7/dist-packages/sklearn/utils/validation.py:760: DataConversionWarning: A column-vector y was passed when a 1d array was expected. Please change the shape of y to (n_samples, ), for example using ravel().\n",
            "  y = column_or_1d(y, warn=True)\n",
            "/usr/local/lib/python3.7/dist-packages/sklearn/utils/validation.py:760: DataConversionWarning: A column-vector y was passed when a 1d array was expected. Please change the shape of y to (n_samples, ), for example using ravel().\n",
            "  y = column_or_1d(y, warn=True)\n",
            "/usr/local/lib/python3.7/dist-packages/sklearn/utils/validation.py:760: DataConversionWarning: A column-vector y was passed when a 1d array was expected. Please change the shape of y to (n_samples, ), for example using ravel().\n",
            "  y = column_or_1d(y, warn=True)\n",
            "/usr/local/lib/python3.7/dist-packages/sklearn/utils/validation.py:760: DataConversionWarning: A column-vector y was passed when a 1d array was expected. Please change the shape of y to (n_samples, ), for example using ravel().\n",
            "  y = column_or_1d(y, warn=True)\n",
            "/usr/local/lib/python3.7/dist-packages/sklearn/utils/validation.py:760: DataConversionWarning: A column-vector y was passed when a 1d array was expected. Please change the shape of y to (n_samples, ), for example using ravel().\n",
            "  y = column_or_1d(y, warn=True)\n",
            "/usr/local/lib/python3.7/dist-packages/sklearn/utils/validation.py:760: DataConversionWarning: A column-vector y was passed when a 1d array was expected. Please change the shape of y to (n_samples, ), for example using ravel().\n",
            "  y = column_or_1d(y, warn=True)\n",
            "/usr/local/lib/python3.7/dist-packages/sklearn/utils/validation.py:760: DataConversionWarning: A column-vector y was passed when a 1d array was expected. Please change the shape of y to (n_samples, ), for example using ravel().\n",
            "  y = column_or_1d(y, warn=True)\n"
          ]
        },
        {
          "output_type": "stream",
          "name": "stdout",
          "text": [
            "[CV]  C=1, gamma=0.1, kernel=rbf, accuracy=0.864, precision=0.923, recall=0.824, total=   0.0s\n",
            "[CV] C=1, gamma=0.1, kernel=rbf ......................................\n",
            "[CV]  C=1, gamma=0.1, kernel=rbf, accuracy=0.875, precision=0.907, recall=0.863, total=   0.0s\n",
            "[CV] C=1, gamma=0.1, kernel=rbf ......................................\n",
            "[CV]  C=1, gamma=0.1, kernel=rbf, accuracy=0.832, precision=0.767, recall=1.000, total=   0.0s\n",
            "[CV] C=1, gamma=0.1, kernel=rbf ......................................\n",
            "[CV]  C=1, gamma=0.1, kernel=rbf, accuracy=0.814, precision=0.807, recall=0.871, total=   0.0s\n",
            "[CV] C=1, gamma=0.1, kernel=rbf ......................................\n",
            "[CV]  C=1, gamma=0.1, kernel=rbf, accuracy=0.792, precision=0.839, recall=0.772, total=   0.0s\n",
            "[CV] C=1, gamma=0.1, kernel=poly .....................................\n",
            "[CV]  C=1, gamma=0.1, kernel=poly, accuracy=0.832, precision=0.918, recall=0.765, total=   0.0s\n",
            "[CV] C=1, gamma=0.1, kernel=poly .....................................\n",
            "[CV]  C=1, gamma=0.1, kernel=poly, accuracy=0.826, precision=0.907, recall=0.765, total=   0.0s\n",
            "[CV] C=1, gamma=0.1, kernel=poly .....................................\n",
            "[CV]  C=1, gamma=0.1, kernel=poly, accuracy=0.859, precision=0.811, recall=0.971, total=   0.0s\n",
            "[CV] C=1, gamma=0.1, kernel=poly .....................................\n",
            "[CV]  C=1, gamma=0.1, kernel=poly, accuracy=0.820, precision=0.821, recall=0.861, total=   0.0s\n",
            "[CV] C=1, gamma=0.1, kernel=poly .....................................\n",
            "[CV]  C=1, gamma=0.1, kernel=poly, accuracy=0.738, precision=0.791, recall=0.713, total=   0.0s\n",
            "[CV] C=1, gamma=1, kernel=linear .....................................\n"
          ]
        },
        {
          "output_type": "stream",
          "name": "stderr",
          "text": [
            "/usr/local/lib/python3.7/dist-packages/sklearn/utils/validation.py:760: DataConversionWarning: A column-vector y was passed when a 1d array was expected. Please change the shape of y to (n_samples, ), for example using ravel().\n",
            "  y = column_or_1d(y, warn=True)\n",
            "/usr/local/lib/python3.7/dist-packages/sklearn/utils/validation.py:760: DataConversionWarning: A column-vector y was passed when a 1d array was expected. Please change the shape of y to (n_samples, ), for example using ravel().\n",
            "  y = column_or_1d(y, warn=True)\n",
            "/usr/local/lib/python3.7/dist-packages/sklearn/utils/validation.py:760: DataConversionWarning: A column-vector y was passed when a 1d array was expected. Please change the shape of y to (n_samples, ), for example using ravel().\n",
            "  y = column_or_1d(y, warn=True)\n",
            "/usr/local/lib/python3.7/dist-packages/sklearn/utils/validation.py:760: DataConversionWarning: A column-vector y was passed when a 1d array was expected. Please change the shape of y to (n_samples, ), for example using ravel().\n",
            "  y = column_or_1d(y, warn=True)\n",
            "/usr/local/lib/python3.7/dist-packages/sklearn/utils/validation.py:760: DataConversionWarning: A column-vector y was passed when a 1d array was expected. Please change the shape of y to (n_samples, ), for example using ravel().\n",
            "  y = column_or_1d(y, warn=True)\n",
            "/usr/local/lib/python3.7/dist-packages/sklearn/utils/validation.py:760: DataConversionWarning: A column-vector y was passed when a 1d array was expected. Please change the shape of y to (n_samples, ), for example using ravel().\n",
            "  y = column_or_1d(y, warn=True)\n",
            "/usr/local/lib/python3.7/dist-packages/sklearn/utils/validation.py:760: DataConversionWarning: A column-vector y was passed when a 1d array was expected. Please change the shape of y to (n_samples, ), for example using ravel().\n",
            "  y = column_or_1d(y, warn=True)\n",
            "/usr/local/lib/python3.7/dist-packages/sklearn/utils/validation.py:760: DataConversionWarning: A column-vector y was passed when a 1d array was expected. Please change the shape of y to (n_samples, ), for example using ravel().\n",
            "  y = column_or_1d(y, warn=True)\n"
          ]
        },
        {
          "output_type": "stream",
          "name": "stdout",
          "text": [
            "[CV]  C=1, gamma=1, kernel=linear, accuracy=0.859, precision=0.913, recall=0.824, total=   0.0s\n",
            "[CV] C=1, gamma=1, kernel=linear .....................................\n",
            "[CV]  C=1, gamma=1, kernel=linear, accuracy=0.832, precision=0.908, recall=0.775, total=   0.0s\n",
            "[CV] C=1, gamma=1, kernel=linear .....................................\n",
            "[CV]  C=1, gamma=1, kernel=linear, accuracy=0.859, precision=0.806, recall=0.980, total=   0.0s\n",
            "[CV] C=1, gamma=1, kernel=linear .....................................\n",
            "[CV]  C=1, gamma=1, kernel=linear, accuracy=0.847, precision=0.835, recall=0.901, total=   0.0s\n",
            "[CV] C=1, gamma=1, kernel=linear .....................................\n",
            "[CV]  C=1, gamma=1, kernel=linear, accuracy=0.749, precision=0.802, recall=0.723, total=   0.0s\n",
            "[CV] C=1, gamma=1, kernel=rbf ........................................\n",
            "[CV]  C=1, gamma=1, kernel=rbf, accuracy=0.837, precision=0.805, recall=0.931, total=   0.0s\n",
            "[CV] C=1, gamma=1, kernel=rbf ........................................\n",
            "[CV]  C=1, gamma=1, kernel=rbf, accuracy=0.870, precision=0.820, recall=0.980, total=   0.0s\n",
            "[CV] C=1, gamma=1, kernel=rbf ........................................\n"
          ]
        },
        {
          "output_type": "stream",
          "name": "stderr",
          "text": [
            "/usr/local/lib/python3.7/dist-packages/sklearn/utils/validation.py:760: DataConversionWarning: A column-vector y was passed when a 1d array was expected. Please change the shape of y to (n_samples, ), for example using ravel().\n",
            "  y = column_or_1d(y, warn=True)\n",
            "/usr/local/lib/python3.7/dist-packages/sklearn/utils/validation.py:760: DataConversionWarning: A column-vector y was passed when a 1d array was expected. Please change the shape of y to (n_samples, ), for example using ravel().\n",
            "  y = column_or_1d(y, warn=True)\n",
            "/usr/local/lib/python3.7/dist-packages/sklearn/utils/validation.py:760: DataConversionWarning: A column-vector y was passed when a 1d array was expected. Please change the shape of y to (n_samples, ), for example using ravel().\n",
            "  y = column_or_1d(y, warn=True)\n",
            "/usr/local/lib/python3.7/dist-packages/sklearn/utils/validation.py:760: DataConversionWarning: A column-vector y was passed when a 1d array was expected. Please change the shape of y to (n_samples, ), for example using ravel().\n",
            "  y = column_or_1d(y, warn=True)\n"
          ]
        },
        {
          "output_type": "stream",
          "name": "stdout",
          "text": [
            "[CV]  C=1, gamma=1, kernel=rbf, accuracy=0.701, precision=0.650, recall=1.000, total=   0.0s\n",
            "[CV] C=1, gamma=1, kernel=rbf ........................................\n",
            "[CV]  C=1, gamma=1, kernel=rbf, accuracy=0.716, precision=0.671, recall=0.950, total=   0.0s\n",
            "[CV] C=1, gamma=1, kernel=rbf ........................................\n",
            "[CV]  C=1, gamma=1, kernel=rbf, accuracy=0.683, precision=0.659, recall=0.881, total=   0.0s\n",
            "[CV] C=1, gamma=1, kernel=poly .......................................\n",
            "[CV]  C=1, gamma=1, kernel=poly, accuracy=0.793, precision=0.872, recall=0.735, total=   0.1s\n",
            "[CV] C=1, gamma=1, kernel=poly .......................................\n"
          ]
        },
        {
          "output_type": "stream",
          "name": "stderr",
          "text": [
            "/usr/local/lib/python3.7/dist-packages/sklearn/utils/validation.py:760: DataConversionWarning: A column-vector y was passed when a 1d array was expected. Please change the shape of y to (n_samples, ), for example using ravel().\n",
            "  y = column_or_1d(y, warn=True)\n",
            "/usr/local/lib/python3.7/dist-packages/sklearn/utils/validation.py:760: DataConversionWarning: A column-vector y was passed when a 1d array was expected. Please change the shape of y to (n_samples, ), for example using ravel().\n",
            "  y = column_or_1d(y, warn=True)\n",
            "/usr/local/lib/python3.7/dist-packages/sklearn/utils/validation.py:760: DataConversionWarning: A column-vector y was passed when a 1d array was expected. Please change the shape of y to (n_samples, ), for example using ravel().\n",
            "  y = column_or_1d(y, warn=True)\n"
          ]
        },
        {
          "output_type": "stream",
          "name": "stdout",
          "text": [
            "[CV]  C=1, gamma=1, kernel=poly, accuracy=0.755, precision=0.843, recall=0.686, total=   0.1s\n",
            "[CV] C=1, gamma=1, kernel=poly .......................................\n",
            "[CV]  C=1, gamma=1, kernel=poly, accuracy=0.761, precision=0.769, recall=0.814, total=   0.1s\n",
            "[CV] C=1, gamma=1, kernel=poly .......................................\n",
            "[CV]  C=1, gamma=1, kernel=poly, accuracy=0.721, precision=0.745, recall=0.752, total=   0.1s\n",
            "[CV] C=1, gamma=1, kernel=poly .......................................\n"
          ]
        },
        {
          "output_type": "stream",
          "name": "stderr",
          "text": [
            "/usr/local/lib/python3.7/dist-packages/sklearn/utils/validation.py:760: DataConversionWarning: A column-vector y was passed when a 1d array was expected. Please change the shape of y to (n_samples, ), for example using ravel().\n",
            "  y = column_or_1d(y, warn=True)\n",
            "/usr/local/lib/python3.7/dist-packages/sklearn/utils/validation.py:760: DataConversionWarning: A column-vector y was passed when a 1d array was expected. Please change the shape of y to (n_samples, ), for example using ravel().\n",
            "  y = column_or_1d(y, warn=True)\n",
            "/usr/local/lib/python3.7/dist-packages/sklearn/utils/validation.py:760: DataConversionWarning: A column-vector y was passed when a 1d array was expected. Please change the shape of y to (n_samples, ), for example using ravel().\n",
            "  y = column_or_1d(y, warn=True)\n",
            "/usr/local/lib/python3.7/dist-packages/sklearn/utils/validation.py:760: DataConversionWarning: A column-vector y was passed when a 1d array was expected. Please change the shape of y to (n_samples, ), for example using ravel().\n",
            "  y = column_or_1d(y, warn=True)\n",
            "/usr/local/lib/python3.7/dist-packages/sklearn/utils/validation.py:760: DataConversionWarning: A column-vector y was passed when a 1d array was expected. Please change the shape of y to (n_samples, ), for example using ravel().\n",
            "  y = column_or_1d(y, warn=True)\n",
            "/usr/local/lib/python3.7/dist-packages/sklearn/utils/validation.py:760: DataConversionWarning: A column-vector y was passed when a 1d array was expected. Please change the shape of y to (n_samples, ), for example using ravel().\n",
            "  y = column_or_1d(y, warn=True)\n",
            "/usr/local/lib/python3.7/dist-packages/sklearn/utils/validation.py:760: DataConversionWarning: A column-vector y was passed when a 1d array was expected. Please change the shape of y to (n_samples, ), for example using ravel().\n",
            "  y = column_or_1d(y, warn=True)\n",
            "/usr/local/lib/python3.7/dist-packages/sklearn/utils/validation.py:760: DataConversionWarning: A column-vector y was passed when a 1d array was expected. Please change the shape of y to (n_samples, ), for example using ravel().\n",
            "  y = column_or_1d(y, warn=True)\n"
          ]
        },
        {
          "output_type": "stream",
          "name": "stdout",
          "text": [
            "[CV]  C=1, gamma=1, kernel=poly, accuracy=0.656, precision=0.744, recall=0.574, total=   0.1s\n",
            "[CV] C=1, gamma=0.01, kernel=linear ..................................\n",
            "[CV]  C=1, gamma=0.01, kernel=linear, accuracy=0.859, precision=0.913, recall=0.824, total=   0.0s\n",
            "[CV] C=1, gamma=0.01, kernel=linear ..................................\n",
            "[CV]  C=1, gamma=0.01, kernel=linear, accuracy=0.832, precision=0.908, recall=0.775, total=   0.0s\n",
            "[CV] C=1, gamma=0.01, kernel=linear ..................................\n",
            "[CV]  C=1, gamma=0.01, kernel=linear, accuracy=0.859, precision=0.806, recall=0.980, total=   0.0s\n",
            "[CV] C=1, gamma=0.01, kernel=linear ..................................\n",
            "[CV]  C=1, gamma=0.01, kernel=linear, accuracy=0.847, precision=0.835, recall=0.901, total=   0.0s\n",
            "[CV] C=1, gamma=0.01, kernel=linear ..................................\n",
            "[CV]  C=1, gamma=0.01, kernel=linear, accuracy=0.749, precision=0.802, recall=0.723, total=   0.0s\n",
            "[CV] C=1, gamma=0.01, kernel=rbf .....................................\n",
            "[CV]  C=1, gamma=0.01, kernel=rbf, accuracy=0.853, precision=0.912, recall=0.814, total=   0.0s\n",
            "[CV] C=1, gamma=0.01, kernel=rbf .....................................\n",
            "[CV]  C=1, gamma=0.01, kernel=rbf, accuracy=0.832, precision=0.918, recall=0.765, total=   0.0s\n",
            "[CV] C=1, gamma=0.01, kernel=rbf .....................................\n",
            "[CV]  C=1, gamma=0.01, kernel=rbf, accuracy=0.859, precision=0.806, recall=0.980, total=   0.0s\n",
            "[CV] C=1, gamma=0.01, kernel=rbf .....................................\n",
            "[CV]  C=1, gamma=0.01, kernel=rbf, accuracy=0.842, precision=0.833, recall=0.891, total=   0.0s\n",
            "[CV] C=1, gamma=0.01, kernel=rbf .....................................\n"
          ]
        },
        {
          "output_type": "stream",
          "name": "stderr",
          "text": [
            "/usr/local/lib/python3.7/dist-packages/sklearn/utils/validation.py:760: DataConversionWarning: A column-vector y was passed when a 1d array was expected. Please change the shape of y to (n_samples, ), for example using ravel().\n",
            "  y = column_or_1d(y, warn=True)\n",
            "/usr/local/lib/python3.7/dist-packages/sklearn/utils/validation.py:760: DataConversionWarning: A column-vector y was passed when a 1d array was expected. Please change the shape of y to (n_samples, ), for example using ravel().\n",
            "  y = column_or_1d(y, warn=True)\n",
            "/usr/local/lib/python3.7/dist-packages/sklearn/utils/validation.py:760: DataConversionWarning: A column-vector y was passed when a 1d array was expected. Please change the shape of y to (n_samples, ), for example using ravel().\n",
            "  y = column_or_1d(y, warn=True)\n",
            "/usr/local/lib/python3.7/dist-packages/sklearn/utils/validation.py:760: DataConversionWarning: A column-vector y was passed when a 1d array was expected. Please change the shape of y to (n_samples, ), for example using ravel().\n",
            "  y = column_or_1d(y, warn=True)\n",
            "/usr/local/lib/python3.7/dist-packages/sklearn/utils/validation.py:760: DataConversionWarning: A column-vector y was passed when a 1d array was expected. Please change the shape of y to (n_samples, ), for example using ravel().\n",
            "  y = column_or_1d(y, warn=True)\n",
            "/usr/local/lib/python3.7/dist-packages/sklearn/utils/validation.py:760: DataConversionWarning: A column-vector y was passed when a 1d array was expected. Please change the shape of y to (n_samples, ), for example using ravel().\n",
            "  y = column_or_1d(y, warn=True)\n",
            "/usr/local/lib/python3.7/dist-packages/sklearn/utils/validation.py:760: DataConversionWarning: A column-vector y was passed when a 1d array was expected. Please change the shape of y to (n_samples, ), for example using ravel().\n",
            "  y = column_or_1d(y, warn=True)\n",
            "/usr/local/lib/python3.7/dist-packages/sklearn/utils/validation.py:760: DataConversionWarning: A column-vector y was passed when a 1d array was expected. Please change the shape of y to (n_samples, ), for example using ravel().\n",
            "  y = column_or_1d(y, warn=True)\n",
            "/usr/local/lib/python3.7/dist-packages/sklearn/utils/validation.py:760: DataConversionWarning: A column-vector y was passed when a 1d array was expected. Please change the shape of y to (n_samples, ), for example using ravel().\n",
            "  y = column_or_1d(y, warn=True)\n"
          ]
        },
        {
          "output_type": "stream",
          "name": "stdout",
          "text": [
            "[CV]  C=1, gamma=0.01, kernel=rbf, accuracy=0.760, precision=0.800, recall=0.752, total=   0.0s\n",
            "[CV] C=1, gamma=0.01, kernel=poly ....................................\n",
            "[CV]  C=1, gamma=0.01, kernel=poly, accuracy=0.554, precision=0.554, recall=1.000, total=   0.0s\n",
            "[CV] C=1, gamma=0.01, kernel=poly ....................................\n",
            "[CV]  C=1, gamma=0.01, kernel=poly, accuracy=0.554, precision=0.554, recall=1.000, total=   0.0s\n",
            "[CV] C=1, gamma=0.01, kernel=poly ....................................\n",
            "[CV]  C=1, gamma=0.01, kernel=poly, accuracy=0.554, precision=0.554, recall=1.000, total=   0.0s\n",
            "[CV] C=1, gamma=0.01, kernel=poly ....................................\n",
            "[CV]  C=1, gamma=0.01, kernel=poly, accuracy=0.552, precision=0.552, recall=1.000, total=   0.0s\n",
            "[CV] C=1, gamma=0.01, kernel=poly ....................................\n",
            "[CV]  C=1, gamma=0.01, kernel=poly, accuracy=0.552, precision=0.552, recall=1.000, total=   0.0s\n",
            "[CV] C=1, gamma=0.001, kernel=linear .................................\n",
            "[CV]  C=1, gamma=0.001, kernel=linear, accuracy=0.859, precision=0.913, recall=0.824, total=   0.0s\n",
            "[CV] C=1, gamma=0.001, kernel=linear .................................\n",
            "[CV]  C=1, gamma=0.001, kernel=linear, accuracy=0.832, precision=0.908, recall=0.775, total=   0.0s\n",
            "[CV] C=1, gamma=0.001, kernel=linear .................................\n",
            "[CV]  C=1, gamma=0.001, kernel=linear, accuracy=0.859, precision=0.806, recall=0.980, total=   0.0s\n",
            "[CV] C=1, gamma=0.001, kernel=linear .................................\n",
            "[CV]  C=1, gamma=0.001, kernel=linear, accuracy=0.847, precision=0.835, recall=0.901, total=   0.0s\n",
            "[CV] C=1, gamma=0.001, kernel=linear .................................\n"
          ]
        },
        {
          "output_type": "stream",
          "name": "stderr",
          "text": [
            "/usr/local/lib/python3.7/dist-packages/sklearn/utils/validation.py:760: DataConversionWarning: A column-vector y was passed when a 1d array was expected. Please change the shape of y to (n_samples, ), for example using ravel().\n",
            "  y = column_or_1d(y, warn=True)\n",
            "/usr/local/lib/python3.7/dist-packages/sklearn/utils/validation.py:760: DataConversionWarning: A column-vector y was passed when a 1d array was expected. Please change the shape of y to (n_samples, ), for example using ravel().\n",
            "  y = column_or_1d(y, warn=True)\n",
            "/usr/local/lib/python3.7/dist-packages/sklearn/utils/validation.py:760: DataConversionWarning: A column-vector y was passed when a 1d array was expected. Please change the shape of y to (n_samples, ), for example using ravel().\n",
            "  y = column_or_1d(y, warn=True)\n",
            "/usr/local/lib/python3.7/dist-packages/sklearn/utils/validation.py:760: DataConversionWarning: A column-vector y was passed when a 1d array was expected. Please change the shape of y to (n_samples, ), for example using ravel().\n",
            "  y = column_or_1d(y, warn=True)\n",
            "/usr/local/lib/python3.7/dist-packages/sklearn/utils/validation.py:760: DataConversionWarning: A column-vector y was passed when a 1d array was expected. Please change the shape of y to (n_samples, ), for example using ravel().\n",
            "  y = column_or_1d(y, warn=True)\n",
            "/usr/local/lib/python3.7/dist-packages/sklearn/utils/validation.py:760: DataConversionWarning: A column-vector y was passed when a 1d array was expected. Please change the shape of y to (n_samples, ), for example using ravel().\n",
            "  y = column_or_1d(y, warn=True)\n",
            "/usr/local/lib/python3.7/dist-packages/sklearn/utils/validation.py:760: DataConversionWarning: A column-vector y was passed when a 1d array was expected. Please change the shape of y to (n_samples, ), for example using ravel().\n",
            "  y = column_or_1d(y, warn=True)\n",
            "/usr/local/lib/python3.7/dist-packages/sklearn/utils/validation.py:760: DataConversionWarning: A column-vector y was passed when a 1d array was expected. Please change the shape of y to (n_samples, ), for example using ravel().\n",
            "  y = column_or_1d(y, warn=True)\n",
            "/usr/local/lib/python3.7/dist-packages/sklearn/utils/validation.py:760: DataConversionWarning: A column-vector y was passed when a 1d array was expected. Please change the shape of y to (n_samples, ), for example using ravel().\n",
            "  y = column_or_1d(y, warn=True)\n"
          ]
        },
        {
          "output_type": "stream",
          "name": "stdout",
          "text": [
            "[CV]  C=1, gamma=0.001, kernel=linear, accuracy=0.749, precision=0.802, recall=0.723, total=   0.0s\n",
            "[CV] C=1, gamma=0.001, kernel=rbf ....................................\n",
            "[CV]  C=1, gamma=0.001, kernel=rbf, accuracy=0.853, precision=0.903, recall=0.824, total=   0.0s\n",
            "[CV] C=1, gamma=0.001, kernel=rbf ....................................\n",
            "[CV]  C=1, gamma=0.001, kernel=rbf, accuracy=0.837, precision=0.909, recall=0.784, total=   0.0s\n",
            "[CV] C=1, gamma=0.001, kernel=rbf ....................................\n",
            "[CV]  C=1, gamma=0.001, kernel=rbf, accuracy=0.853, precision=0.800, recall=0.980, total=   0.0s\n",
            "[CV] C=1, gamma=0.001, kernel=rbf ....................................\n",
            "[CV]  C=1, gamma=0.001, kernel=rbf, accuracy=0.847, precision=0.835, recall=0.901, total=   0.0s\n",
            "[CV] C=1, gamma=0.001, kernel=rbf ....................................\n",
            "[CV]  C=1, gamma=0.001, kernel=rbf, accuracy=0.765, precision=0.802, recall=0.762, total=   0.0s\n",
            "[CV] C=1, gamma=0.001, kernel=poly ...................................\n",
            "[CV]  C=1, gamma=0.001, kernel=poly, accuracy=0.554, precision=0.554, recall=1.000, total=   0.0s\n",
            "[CV] C=1, gamma=0.001, kernel=poly ...................................\n",
            "[CV]  C=1, gamma=0.001, kernel=poly, accuracy=0.554, precision=0.554, recall=1.000, total=   0.0s\n",
            "[CV] C=1, gamma=0.001, kernel=poly ...................................\n",
            "[CV]  C=1, gamma=0.001, kernel=poly, accuracy=0.554, precision=0.554, recall=1.000, total=   0.0s\n",
            "[CV] C=1, gamma=0.001, kernel=poly ...................................\n"
          ]
        },
        {
          "output_type": "stream",
          "name": "stderr",
          "text": [
            "/usr/local/lib/python3.7/dist-packages/sklearn/utils/validation.py:760: DataConversionWarning: A column-vector y was passed when a 1d array was expected. Please change the shape of y to (n_samples, ), for example using ravel().\n",
            "  y = column_or_1d(y, warn=True)\n",
            "/usr/local/lib/python3.7/dist-packages/sklearn/utils/validation.py:760: DataConversionWarning: A column-vector y was passed when a 1d array was expected. Please change the shape of y to (n_samples, ), for example using ravel().\n",
            "  y = column_or_1d(y, warn=True)\n",
            "/usr/local/lib/python3.7/dist-packages/sklearn/utils/validation.py:760: DataConversionWarning: A column-vector y was passed when a 1d array was expected. Please change the shape of y to (n_samples, ), for example using ravel().\n",
            "  y = column_or_1d(y, warn=True)\n",
            "/usr/local/lib/python3.7/dist-packages/sklearn/utils/validation.py:760: DataConversionWarning: A column-vector y was passed when a 1d array was expected. Please change the shape of y to (n_samples, ), for example using ravel().\n",
            "  y = column_or_1d(y, warn=True)\n",
            "/usr/local/lib/python3.7/dist-packages/sklearn/utils/validation.py:760: DataConversionWarning: A column-vector y was passed when a 1d array was expected. Please change the shape of y to (n_samples, ), for example using ravel().\n",
            "  y = column_or_1d(y, warn=True)\n",
            "/usr/local/lib/python3.7/dist-packages/sklearn/utils/validation.py:760: DataConversionWarning: A column-vector y was passed when a 1d array was expected. Please change the shape of y to (n_samples, ), for example using ravel().\n",
            "  y = column_or_1d(y, warn=True)\n",
            "/usr/local/lib/python3.7/dist-packages/sklearn/utils/validation.py:760: DataConversionWarning: A column-vector y was passed when a 1d array was expected. Please change the shape of y to (n_samples, ), for example using ravel().\n",
            "  y = column_or_1d(y, warn=True)\n"
          ]
        },
        {
          "output_type": "stream",
          "name": "stdout",
          "text": [
            "[CV]  C=1, gamma=0.001, kernel=poly, accuracy=0.552, precision=0.552, recall=1.000, total=   0.0s\n",
            "[CV] C=1, gamma=0.001, kernel=poly ...................................\n",
            "[CV]  C=1, gamma=0.001, kernel=poly, accuracy=0.552, precision=0.552, recall=1.000, total=   0.0s\n",
            "[CV] C=10, gamma=scale, kernel=linear ................................\n",
            "[CV]  C=10, gamma=scale, kernel=linear, accuracy=0.859, precision=0.913, recall=0.824, total=   0.1s\n",
            "[CV] C=10, gamma=scale, kernel=linear ................................\n",
            "[CV]  C=10, gamma=scale, kernel=linear, accuracy=0.832, precision=0.908, recall=0.775, total=   0.1s\n",
            "[CV] C=10, gamma=scale, kernel=linear ................................\n"
          ]
        },
        {
          "output_type": "stream",
          "name": "stderr",
          "text": [
            "/usr/local/lib/python3.7/dist-packages/sklearn/utils/validation.py:760: DataConversionWarning: A column-vector y was passed when a 1d array was expected. Please change the shape of y to (n_samples, ), for example using ravel().\n",
            "  y = column_or_1d(y, warn=True)\n",
            "/usr/local/lib/python3.7/dist-packages/sklearn/utils/validation.py:760: DataConversionWarning: A column-vector y was passed when a 1d array was expected. Please change the shape of y to (n_samples, ), for example using ravel().\n",
            "  y = column_or_1d(y, warn=True)\n",
            "/usr/local/lib/python3.7/dist-packages/sklearn/utils/validation.py:760: DataConversionWarning: A column-vector y was passed when a 1d array was expected. Please change the shape of y to (n_samples, ), for example using ravel().\n",
            "  y = column_or_1d(y, warn=True)\n",
            "/usr/local/lib/python3.7/dist-packages/sklearn/utils/validation.py:760: DataConversionWarning: A column-vector y was passed when a 1d array was expected. Please change the shape of y to (n_samples, ), for example using ravel().\n",
            "  y = column_or_1d(y, warn=True)\n"
          ]
        },
        {
          "output_type": "stream",
          "name": "stdout",
          "text": [
            "[CV]  C=10, gamma=scale, kernel=linear, accuracy=0.859, precision=0.806, recall=0.980, total=   0.1s\n",
            "[CV] C=10, gamma=scale, kernel=linear ................................\n",
            "[CV]  C=10, gamma=scale, kernel=linear, accuracy=0.847, precision=0.835, recall=0.901, total=   0.1s\n",
            "[CV] C=10, gamma=scale, kernel=linear ................................\n",
            "[CV]  C=10, gamma=scale, kernel=linear, accuracy=0.749, precision=0.802, recall=0.723, total=   0.0s\n",
            "[CV] C=10, gamma=scale, kernel=rbf ...................................\n",
            "[CV]  C=10, gamma=scale, kernel=rbf, accuracy=0.815, precision=0.915, recall=0.735, total=   0.0s\n",
            "[CV] C=10, gamma=scale, kernel=rbf ...................................\n",
            "[CV]  C=10, gamma=scale, kernel=rbf, accuracy=0.815, precision=0.862, recall=0.794, total=   0.0s\n",
            "[CV] C=10, gamma=scale, kernel=rbf ...................................\n"
          ]
        },
        {
          "output_type": "stream",
          "name": "stderr",
          "text": [
            "/usr/local/lib/python3.7/dist-packages/sklearn/utils/validation.py:760: DataConversionWarning: A column-vector y was passed when a 1d array was expected. Please change the shape of y to (n_samples, ), for example using ravel().\n",
            "  y = column_or_1d(y, warn=True)\n",
            "/usr/local/lib/python3.7/dist-packages/sklearn/utils/validation.py:760: DataConversionWarning: A column-vector y was passed when a 1d array was expected. Please change the shape of y to (n_samples, ), for example using ravel().\n",
            "  y = column_or_1d(y, warn=True)\n",
            "/usr/local/lib/python3.7/dist-packages/sklearn/utils/validation.py:760: DataConversionWarning: A column-vector y was passed when a 1d array was expected. Please change the shape of y to (n_samples, ), for example using ravel().\n",
            "  y = column_or_1d(y, warn=True)\n",
            "/usr/local/lib/python3.7/dist-packages/sklearn/utils/validation.py:760: DataConversionWarning: A column-vector y was passed when a 1d array was expected. Please change the shape of y to (n_samples, ), for example using ravel().\n",
            "  y = column_or_1d(y, warn=True)\n",
            "/usr/local/lib/python3.7/dist-packages/sklearn/utils/validation.py:760: DataConversionWarning: A column-vector y was passed when a 1d array was expected. Please change the shape of y to (n_samples, ), for example using ravel().\n",
            "  y = column_or_1d(y, warn=True)\n",
            "/usr/local/lib/python3.7/dist-packages/sklearn/utils/validation.py:760: DataConversionWarning: A column-vector y was passed when a 1d array was expected. Please change the shape of y to (n_samples, ), for example using ravel().\n",
            "  y = column_or_1d(y, warn=True)\n",
            "/usr/local/lib/python3.7/dist-packages/sklearn/utils/validation.py:760: DataConversionWarning: A column-vector y was passed when a 1d array was expected. Please change the shape of y to (n_samples, ), for example using ravel().\n",
            "  y = column_or_1d(y, warn=True)\n",
            "/usr/local/lib/python3.7/dist-packages/sklearn/utils/validation.py:760: DataConversionWarning: A column-vector y was passed when a 1d array was expected. Please change the shape of y to (n_samples, ), for example using ravel().\n",
            "  y = column_or_1d(y, warn=True)\n"
          ]
        },
        {
          "output_type": "stream",
          "name": "stdout",
          "text": [
            "[CV]  C=10, gamma=scale, kernel=rbf, accuracy=0.837, precision=0.786, recall=0.971, total=   0.0s\n",
            "[CV] C=10, gamma=scale, kernel=rbf ...................................\n",
            "[CV]  C=10, gamma=scale, kernel=rbf, accuracy=0.798, precision=0.786, recall=0.871, total=   0.0s\n",
            "[CV] C=10, gamma=scale, kernel=rbf ...................................\n",
            "[CV]  C=10, gamma=scale, kernel=rbf, accuracy=0.765, precision=0.822, recall=0.733, total=   0.0s\n",
            "[CV] C=10, gamma=scale, kernel=poly ..................................\n",
            "[CV]  C=10, gamma=scale, kernel=poly, accuracy=0.826, precision=0.907, recall=0.765, total=   0.0s\n",
            "[CV] C=10, gamma=scale, kernel=poly ..................................\n",
            "[CV]  C=10, gamma=scale, kernel=poly, accuracy=0.799, precision=0.874, recall=0.745, total=   0.0s\n",
            "[CV] C=10, gamma=scale, kernel=poly ..................................\n",
            "[CV]  C=10, gamma=scale, kernel=poly, accuracy=0.810, precision=0.786, recall=0.902, total=   0.0s\n",
            "[CV] C=10, gamma=scale, kernel=poly ..................................\n",
            "[CV]  C=10, gamma=scale, kernel=poly, accuracy=0.787, precision=0.792, recall=0.832, total=   0.0s\n",
            "[CV] C=10, gamma=scale, kernel=poly ..................................\n",
            "[CV]  C=10, gamma=scale, kernel=poly, accuracy=0.667, precision=0.744, recall=0.604, total=   0.0s\n",
            "[CV] C=10, gamma=auto, kernel=linear .................................\n"
          ]
        },
        {
          "output_type": "stream",
          "name": "stderr",
          "text": [
            "/usr/local/lib/python3.7/dist-packages/sklearn/utils/validation.py:760: DataConversionWarning: A column-vector y was passed when a 1d array was expected. Please change the shape of y to (n_samples, ), for example using ravel().\n",
            "  y = column_or_1d(y, warn=True)\n",
            "/usr/local/lib/python3.7/dist-packages/sklearn/utils/validation.py:760: DataConversionWarning: A column-vector y was passed when a 1d array was expected. Please change the shape of y to (n_samples, ), for example using ravel().\n",
            "  y = column_or_1d(y, warn=True)\n",
            "/usr/local/lib/python3.7/dist-packages/sklearn/utils/validation.py:760: DataConversionWarning: A column-vector y was passed when a 1d array was expected. Please change the shape of y to (n_samples, ), for example using ravel().\n",
            "  y = column_or_1d(y, warn=True)\n",
            "/usr/local/lib/python3.7/dist-packages/sklearn/utils/validation.py:760: DataConversionWarning: A column-vector y was passed when a 1d array was expected. Please change the shape of y to (n_samples, ), for example using ravel().\n",
            "  y = column_or_1d(y, warn=True)\n"
          ]
        },
        {
          "output_type": "stream",
          "name": "stdout",
          "text": [
            "[CV]  C=10, gamma=auto, kernel=linear, accuracy=0.859, precision=0.913, recall=0.824, total=   0.1s\n",
            "[CV] C=10, gamma=auto, kernel=linear .................................\n",
            "[CV]  C=10, gamma=auto, kernel=linear, accuracy=0.832, precision=0.908, recall=0.775, total=   0.1s\n",
            "[CV] C=10, gamma=auto, kernel=linear .................................\n",
            "[CV]  C=10, gamma=auto, kernel=linear, accuracy=0.859, precision=0.806, recall=0.980, total=   0.1s\n",
            "[CV] C=10, gamma=auto, kernel=linear .................................\n"
          ]
        },
        {
          "output_type": "stream",
          "name": "stderr",
          "text": [
            "/usr/local/lib/python3.7/dist-packages/sklearn/utils/validation.py:760: DataConversionWarning: A column-vector y was passed when a 1d array was expected. Please change the shape of y to (n_samples, ), for example using ravel().\n",
            "  y = column_or_1d(y, warn=True)\n",
            "/usr/local/lib/python3.7/dist-packages/sklearn/utils/validation.py:760: DataConversionWarning: A column-vector y was passed when a 1d array was expected. Please change the shape of y to (n_samples, ), for example using ravel().\n",
            "  y = column_or_1d(y, warn=True)\n",
            "/usr/local/lib/python3.7/dist-packages/sklearn/utils/validation.py:760: DataConversionWarning: A column-vector y was passed when a 1d array was expected. Please change the shape of y to (n_samples, ), for example using ravel().\n",
            "  y = column_or_1d(y, warn=True)\n",
            "/usr/local/lib/python3.7/dist-packages/sklearn/utils/validation.py:760: DataConversionWarning: A column-vector y was passed when a 1d array was expected. Please change the shape of y to (n_samples, ), for example using ravel().\n",
            "  y = column_or_1d(y, warn=True)\n",
            "/usr/local/lib/python3.7/dist-packages/sklearn/utils/validation.py:760: DataConversionWarning: A column-vector y was passed when a 1d array was expected. Please change the shape of y to (n_samples, ), for example using ravel().\n",
            "  y = column_or_1d(y, warn=True)\n",
            "/usr/local/lib/python3.7/dist-packages/sklearn/utils/validation.py:760: DataConversionWarning: A column-vector y was passed when a 1d array was expected. Please change the shape of y to (n_samples, ), for example using ravel().\n",
            "  y = column_or_1d(y, warn=True)\n"
          ]
        },
        {
          "output_type": "stream",
          "name": "stdout",
          "text": [
            "[CV]  C=10, gamma=auto, kernel=linear, accuracy=0.847, precision=0.835, recall=0.901, total=   0.1s\n",
            "[CV] C=10, gamma=auto, kernel=linear .................................\n",
            "[CV]  C=10, gamma=auto, kernel=linear, accuracy=0.749, precision=0.802, recall=0.723, total=   0.0s\n",
            "[CV] C=10, gamma=auto, kernel=rbf ....................................\n",
            "[CV]  C=10, gamma=auto, kernel=rbf, accuracy=0.815, precision=0.915, recall=0.735, total=   0.0s\n",
            "[CV] C=10, gamma=auto, kernel=rbf ....................................\n",
            "[CV]  C=10, gamma=auto, kernel=rbf, accuracy=0.815, precision=0.870, recall=0.784, total=   0.0s\n",
            "[CV] C=10, gamma=auto, kernel=rbf ....................................\n",
            "[CV]  C=10, gamma=auto, kernel=rbf, accuracy=0.837, precision=0.786, recall=0.971, total=   0.0s\n",
            "[CV] C=10, gamma=auto, kernel=rbf ....................................\n",
            "[CV]  C=10, gamma=auto, kernel=rbf, accuracy=0.792, precision=0.784, recall=0.861, total=   0.0s\n",
            "[CV] C=10, gamma=auto, kernel=rbf ....................................\n",
            "[CV]  C=10, gamma=auto, kernel=rbf, accuracy=0.770, precision=0.831, recall=0.733, total=   0.0s\n",
            "[CV] C=10, gamma=auto, kernel=poly ...................................\n"
          ]
        },
        {
          "output_type": "stream",
          "name": "stderr",
          "text": [
            "/usr/local/lib/python3.7/dist-packages/sklearn/utils/validation.py:760: DataConversionWarning: A column-vector y was passed when a 1d array was expected. Please change the shape of y to (n_samples, ), for example using ravel().\n",
            "  y = column_or_1d(y, warn=True)\n",
            "/usr/local/lib/python3.7/dist-packages/sklearn/utils/validation.py:760: DataConversionWarning: A column-vector y was passed when a 1d array was expected. Please change the shape of y to (n_samples, ), for example using ravel().\n",
            "  y = column_or_1d(y, warn=True)\n",
            "/usr/local/lib/python3.7/dist-packages/sklearn/utils/validation.py:760: DataConversionWarning: A column-vector y was passed when a 1d array was expected. Please change the shape of y to (n_samples, ), for example using ravel().\n",
            "  y = column_or_1d(y, warn=True)\n",
            "/usr/local/lib/python3.7/dist-packages/sklearn/utils/validation.py:760: DataConversionWarning: A column-vector y was passed when a 1d array was expected. Please change the shape of y to (n_samples, ), for example using ravel().\n",
            "  y = column_or_1d(y, warn=True)\n",
            "/usr/local/lib/python3.7/dist-packages/sklearn/utils/validation.py:760: DataConversionWarning: A column-vector y was passed when a 1d array was expected. Please change the shape of y to (n_samples, ), for example using ravel().\n",
            "  y = column_or_1d(y, warn=True)\n",
            "/usr/local/lib/python3.7/dist-packages/sklearn/utils/validation.py:760: DataConversionWarning: A column-vector y was passed when a 1d array was expected. Please change the shape of y to (n_samples, ), for example using ravel().\n",
            "  y = column_or_1d(y, warn=True)\n",
            "/usr/local/lib/python3.7/dist-packages/sklearn/utils/validation.py:760: DataConversionWarning: A column-vector y was passed when a 1d array was expected. Please change the shape of y to (n_samples, ), for example using ravel().\n",
            "  y = column_or_1d(y, warn=True)\n"
          ]
        },
        {
          "output_type": "stream",
          "name": "stdout",
          "text": [
            "[CV]  C=10, gamma=auto, kernel=poly, accuracy=0.826, precision=0.907, recall=0.765, total=   0.0s\n",
            "[CV] C=10, gamma=auto, kernel=poly ...................................\n",
            "[CV]  C=10, gamma=auto, kernel=poly, accuracy=0.793, precision=0.872, recall=0.735, total=   0.0s\n",
            "[CV] C=10, gamma=auto, kernel=poly ...................................\n",
            "[CV]  C=10, gamma=auto, kernel=poly, accuracy=0.810, precision=0.786, recall=0.902, total=   0.0s\n",
            "[CV] C=10, gamma=auto, kernel=poly ...................................\n",
            "[CV]  C=10, gamma=auto, kernel=poly, accuracy=0.787, precision=0.792, recall=0.832, total=   0.0s\n",
            "[CV] C=10, gamma=auto, kernel=poly ...................................\n",
            "[CV]  C=10, gamma=auto, kernel=poly, accuracy=0.667, precision=0.744, recall=0.604, total=   0.0s\n",
            "[CV] C=10, gamma=0.1, kernel=linear ..................................\n",
            "[CV]  C=10, gamma=0.1, kernel=linear, accuracy=0.859, precision=0.913, recall=0.824, total=   0.1s\n",
            "[CV] C=10, gamma=0.1, kernel=linear ..................................\n"
          ]
        },
        {
          "output_type": "stream",
          "name": "stderr",
          "text": [
            "/usr/local/lib/python3.7/dist-packages/sklearn/utils/validation.py:760: DataConversionWarning: A column-vector y was passed when a 1d array was expected. Please change the shape of y to (n_samples, ), for example using ravel().\n",
            "  y = column_or_1d(y, warn=True)\n",
            "/usr/local/lib/python3.7/dist-packages/sklearn/utils/validation.py:760: DataConversionWarning: A column-vector y was passed when a 1d array was expected. Please change the shape of y to (n_samples, ), for example using ravel().\n",
            "  y = column_or_1d(y, warn=True)\n",
            "/usr/local/lib/python3.7/dist-packages/sklearn/utils/validation.py:760: DataConversionWarning: A column-vector y was passed when a 1d array was expected. Please change the shape of y to (n_samples, ), for example using ravel().\n",
            "  y = column_or_1d(y, warn=True)\n"
          ]
        },
        {
          "output_type": "stream",
          "name": "stdout",
          "text": [
            "[CV]  C=10, gamma=0.1, kernel=linear, accuracy=0.832, precision=0.908, recall=0.775, total=   0.1s\n",
            "[CV] C=10, gamma=0.1, kernel=linear ..................................\n",
            "[CV]  C=10, gamma=0.1, kernel=linear, accuracy=0.859, precision=0.806, recall=0.980, total=   0.1s\n",
            "[CV] C=10, gamma=0.1, kernel=linear ..................................\n",
            "[CV]  C=10, gamma=0.1, kernel=linear, accuracy=0.847, precision=0.835, recall=0.901, total=   0.1s\n",
            "[CV] C=10, gamma=0.1, kernel=linear ..................................\n",
            "[CV]  C=10, gamma=0.1, kernel=linear, accuracy=0.749, precision=0.802, recall=0.723, total=   0.1s\n",
            "[CV] C=10, gamma=0.1, kernel=rbf .....................................\n"
          ]
        },
        {
          "output_type": "stream",
          "name": "stderr",
          "text": [
            "/usr/local/lib/python3.7/dist-packages/sklearn/utils/validation.py:760: DataConversionWarning: A column-vector y was passed when a 1d array was expected. Please change the shape of y to (n_samples, ), for example using ravel().\n",
            "  y = column_or_1d(y, warn=True)\n",
            "/usr/local/lib/python3.7/dist-packages/sklearn/utils/validation.py:760: DataConversionWarning: A column-vector y was passed when a 1d array was expected. Please change the shape of y to (n_samples, ), for example using ravel().\n",
            "  y = column_or_1d(y, warn=True)\n",
            "/usr/local/lib/python3.7/dist-packages/sklearn/utils/validation.py:760: DataConversionWarning: A column-vector y was passed when a 1d array was expected. Please change the shape of y to (n_samples, ), for example using ravel().\n",
            "  y = column_or_1d(y, warn=True)\n",
            "/usr/local/lib/python3.7/dist-packages/sklearn/utils/validation.py:760: DataConversionWarning: A column-vector y was passed when a 1d array was expected. Please change the shape of y to (n_samples, ), for example using ravel().\n",
            "  y = column_or_1d(y, warn=True)\n",
            "/usr/local/lib/python3.7/dist-packages/sklearn/utils/validation.py:760: DataConversionWarning: A column-vector y was passed when a 1d array was expected. Please change the shape of y to (n_samples, ), for example using ravel().\n",
            "  y = column_or_1d(y, warn=True)\n",
            "/usr/local/lib/python3.7/dist-packages/sklearn/utils/validation.py:760: DataConversionWarning: A column-vector y was passed when a 1d array was expected. Please change the shape of y to (n_samples, ), for example using ravel().\n",
            "  y = column_or_1d(y, warn=True)\n",
            "/usr/local/lib/python3.7/dist-packages/sklearn/utils/validation.py:760: DataConversionWarning: A column-vector y was passed when a 1d array was expected. Please change the shape of y to (n_samples, ), for example using ravel().\n",
            "  y = column_or_1d(y, warn=True)\n"
          ]
        },
        {
          "output_type": "stream",
          "name": "stdout",
          "text": [
            "[CV]  C=10, gamma=0.1, kernel=rbf, accuracy=0.842, precision=0.920, recall=0.784, total=   0.0s\n",
            "[CV] C=10, gamma=0.1, kernel=rbf .....................................\n",
            "[CV]  C=10, gamma=0.1, kernel=rbf, accuracy=0.815, precision=0.862, recall=0.794, total=   0.0s\n",
            "[CV] C=10, gamma=0.1, kernel=rbf .....................................\n",
            "[CV]  C=10, gamma=0.1, kernel=rbf, accuracy=0.832, precision=0.780, recall=0.971, total=   0.0s\n",
            "[CV] C=10, gamma=0.1, kernel=rbf .....................................\n",
            "[CV]  C=10, gamma=0.1, kernel=rbf, accuracy=0.803, precision=0.798, recall=0.861, total=   0.0s\n",
            "[CV] C=10, gamma=0.1, kernel=rbf .....................................\n",
            "[CV]  C=10, gamma=0.1, kernel=rbf, accuracy=0.754, precision=0.818, recall=0.713, total=   0.0s\n",
            "[CV] C=10, gamma=0.1, kernel=poly ....................................\n",
            "[CV]  C=10, gamma=0.1, kernel=poly, accuracy=0.815, precision=0.905, recall=0.745, total=   0.0s\n",
            "[CV] C=10, gamma=0.1, kernel=poly ....................................\n",
            "[CV]  C=10, gamma=0.1, kernel=poly, accuracy=0.788, precision=0.862, recall=0.735, total=   0.0s\n",
            "[CV] C=10, gamma=0.1, kernel=poly ....................................\n",
            "[CV]  C=10, gamma=0.1, kernel=poly, accuracy=0.810, precision=0.791, recall=0.892, total=   0.0s\n",
            "[CV] C=10, gamma=0.1, kernel=poly ....................................\n"
          ]
        },
        {
          "output_type": "stream",
          "name": "stderr",
          "text": [
            "/usr/local/lib/python3.7/dist-packages/sklearn/utils/validation.py:760: DataConversionWarning: A column-vector y was passed when a 1d array was expected. Please change the shape of y to (n_samples, ), for example using ravel().\n",
            "  y = column_or_1d(y, warn=True)\n",
            "/usr/local/lib/python3.7/dist-packages/sklearn/utils/validation.py:760: DataConversionWarning: A column-vector y was passed when a 1d array was expected. Please change the shape of y to (n_samples, ), for example using ravel().\n",
            "  y = column_or_1d(y, warn=True)\n",
            "/usr/local/lib/python3.7/dist-packages/sklearn/utils/validation.py:760: DataConversionWarning: A column-vector y was passed when a 1d array was expected. Please change the shape of y to (n_samples, ), for example using ravel().\n",
            "  y = column_or_1d(y, warn=True)\n",
            "/usr/local/lib/python3.7/dist-packages/sklearn/utils/validation.py:760: DataConversionWarning: A column-vector y was passed when a 1d array was expected. Please change the shape of y to (n_samples, ), for example using ravel().\n",
            "  y = column_or_1d(y, warn=True)\n",
            "/usr/local/lib/python3.7/dist-packages/sklearn/utils/validation.py:760: DataConversionWarning: A column-vector y was passed when a 1d array was expected. Please change the shape of y to (n_samples, ), for example using ravel().\n",
            "  y = column_or_1d(y, warn=True)\n",
            "/usr/local/lib/python3.7/dist-packages/sklearn/utils/validation.py:760: DataConversionWarning: A column-vector y was passed when a 1d array was expected. Please change the shape of y to (n_samples, ), for example using ravel().\n",
            "  y = column_or_1d(y, warn=True)\n"
          ]
        },
        {
          "output_type": "stream",
          "name": "stdout",
          "text": [
            "[CV]  C=10, gamma=0.1, kernel=poly, accuracy=0.792, precision=0.800, recall=0.832, total=   0.0s\n",
            "[CV] C=10, gamma=0.1, kernel=poly ....................................\n",
            "[CV]  C=10, gamma=0.1, kernel=poly, accuracy=0.694, precision=0.785, recall=0.614, total=   0.0s\n",
            "[CV] C=10, gamma=1, kernel=linear ....................................\n",
            "[CV]  C=10, gamma=1, kernel=linear, accuracy=0.859, precision=0.913, recall=0.824, total=   0.1s\n",
            "[CV] C=10, gamma=1, kernel=linear ....................................\n",
            "[CV]  C=10, gamma=1, kernel=linear, accuracy=0.832, precision=0.908, recall=0.775, total=   0.1s\n",
            "[CV] C=10, gamma=1, kernel=linear ....................................\n"
          ]
        },
        {
          "output_type": "stream",
          "name": "stderr",
          "text": [
            "/usr/local/lib/python3.7/dist-packages/sklearn/utils/validation.py:760: DataConversionWarning: A column-vector y was passed when a 1d array was expected. Please change the shape of y to (n_samples, ), for example using ravel().\n",
            "  y = column_or_1d(y, warn=True)\n",
            "/usr/local/lib/python3.7/dist-packages/sklearn/utils/validation.py:760: DataConversionWarning: A column-vector y was passed when a 1d array was expected. Please change the shape of y to (n_samples, ), for example using ravel().\n",
            "  y = column_or_1d(y, warn=True)\n",
            "/usr/local/lib/python3.7/dist-packages/sklearn/utils/validation.py:760: DataConversionWarning: A column-vector y was passed when a 1d array was expected. Please change the shape of y to (n_samples, ), for example using ravel().\n",
            "  y = column_or_1d(y, warn=True)\n",
            "/usr/local/lib/python3.7/dist-packages/sklearn/utils/validation.py:760: DataConversionWarning: A column-vector y was passed when a 1d array was expected. Please change the shape of y to (n_samples, ), for example using ravel().\n",
            "  y = column_or_1d(y, warn=True)\n"
          ]
        },
        {
          "output_type": "stream",
          "name": "stdout",
          "text": [
            "[CV]  C=10, gamma=1, kernel=linear, accuracy=0.859, precision=0.806, recall=0.980, total=   0.1s\n",
            "[CV] C=10, gamma=1, kernel=linear ....................................\n",
            "[CV]  C=10, gamma=1, kernel=linear, accuracy=0.847, precision=0.835, recall=0.901, total=   0.1s\n",
            "[CV] C=10, gamma=1, kernel=linear ....................................\n",
            "[CV]  C=10, gamma=1, kernel=linear, accuracy=0.749, precision=0.802, recall=0.723, total=   0.0s\n",
            "[CV] C=10, gamma=1, kernel=rbf .......................................\n",
            "[CV]  C=10, gamma=1, kernel=rbf, accuracy=0.821, precision=0.800, recall=0.902, total=   0.0s\n",
            "[CV] C=10, gamma=1, kernel=rbf .......................................\n"
          ]
        },
        {
          "output_type": "stream",
          "name": "stderr",
          "text": [
            "/usr/local/lib/python3.7/dist-packages/sklearn/utils/validation.py:760: DataConversionWarning: A column-vector y was passed when a 1d array was expected. Please change the shape of y to (n_samples, ), for example using ravel().\n",
            "  y = column_or_1d(y, warn=True)\n",
            "/usr/local/lib/python3.7/dist-packages/sklearn/utils/validation.py:760: DataConversionWarning: A column-vector y was passed when a 1d array was expected. Please change the shape of y to (n_samples, ), for example using ravel().\n",
            "  y = column_or_1d(y, warn=True)\n",
            "/usr/local/lib/python3.7/dist-packages/sklearn/utils/validation.py:760: DataConversionWarning: A column-vector y was passed when a 1d array was expected. Please change the shape of y to (n_samples, ), for example using ravel().\n",
            "  y = column_or_1d(y, warn=True)\n",
            "/usr/local/lib/python3.7/dist-packages/sklearn/utils/validation.py:760: DataConversionWarning: A column-vector y was passed when a 1d array was expected. Please change the shape of y to (n_samples, ), for example using ravel().\n",
            "  y = column_or_1d(y, warn=True)\n",
            "/usr/local/lib/python3.7/dist-packages/sklearn/utils/validation.py:760: DataConversionWarning: A column-vector y was passed when a 1d array was expected. Please change the shape of y to (n_samples, ), for example using ravel().\n",
            "  y = column_or_1d(y, warn=True)\n"
          ]
        },
        {
          "output_type": "stream",
          "name": "stdout",
          "text": [
            "[CV]  C=10, gamma=1, kernel=rbf, accuracy=0.875, precision=0.832, recall=0.971, total=   0.0s\n",
            "[CV] C=10, gamma=1, kernel=rbf .......................................\n",
            "[CV]  C=10, gamma=1, kernel=rbf, accuracy=0.701, precision=0.650, recall=1.000, total=   0.0s\n",
            "[CV] C=10, gamma=1, kernel=rbf .......................................\n",
            "[CV]  C=10, gamma=1, kernel=rbf, accuracy=0.699, precision=0.669, recall=0.901, total=   0.0s\n",
            "[CV] C=10, gamma=1, kernel=rbf .......................................\n",
            "[CV]  C=10, gamma=1, kernel=rbf, accuracy=0.710, precision=0.690, recall=0.861, total=   0.0s\n",
            "[CV] C=10, gamma=1, kernel=poly ......................................\n",
            "[CV]  C=10, gamma=1, kernel=poly, accuracy=0.793, precision=0.881, recall=0.725, total=   0.1s\n",
            "[CV] C=10, gamma=1, kernel=poly ......................................\n",
            "[CV]  C=10, gamma=1, kernel=poly, accuracy=0.761, precision=0.822, recall=0.725, total=   0.1s\n",
            "[CV] C=10, gamma=1, kernel=poly ......................................\n",
            "[CV]  C=10, gamma=1, kernel=poly, accuracy=0.772, precision=0.783, recall=0.814, total=   0.1s\n",
            "[CV] C=10, gamma=1, kernel=poly ......................................\n"
          ]
        },
        {
          "output_type": "stream",
          "name": "stderr",
          "text": [
            "/usr/local/lib/python3.7/dist-packages/sklearn/utils/validation.py:760: DataConversionWarning: A column-vector y was passed when a 1d array was expected. Please change the shape of y to (n_samples, ), for example using ravel().\n",
            "  y = column_or_1d(y, warn=True)\n",
            "/usr/local/lib/python3.7/dist-packages/sklearn/utils/validation.py:760: DataConversionWarning: A column-vector y was passed when a 1d array was expected. Please change the shape of y to (n_samples, ), for example using ravel().\n",
            "  y = column_or_1d(y, warn=True)\n",
            "/usr/local/lib/python3.7/dist-packages/sklearn/utils/validation.py:760: DataConversionWarning: A column-vector y was passed when a 1d array was expected. Please change the shape of y to (n_samples, ), for example using ravel().\n",
            "  y = column_or_1d(y, warn=True)\n"
          ]
        },
        {
          "output_type": "stream",
          "name": "stdout",
          "text": [
            "[CV]  C=10, gamma=1, kernel=poly, accuracy=0.721, precision=0.745, recall=0.752, total=   0.1s\n",
            "[CV] C=10, gamma=1, kernel=poly ......................................\n",
            "[CV]  C=10, gamma=1, kernel=poly, accuracy=0.656, precision=0.744, recall=0.574, total=   0.1s\n",
            "[CV] C=10, gamma=0.01, kernel=linear .................................\n",
            "[CV]  C=10, gamma=0.01, kernel=linear, accuracy=0.859, precision=0.913, recall=0.824, total=   0.1s\n",
            "[CV] C=10, gamma=0.01, kernel=linear .................................\n"
          ]
        },
        {
          "output_type": "stream",
          "name": "stderr",
          "text": [
            "/usr/local/lib/python3.7/dist-packages/sklearn/utils/validation.py:760: DataConversionWarning: A column-vector y was passed when a 1d array was expected. Please change the shape of y to (n_samples, ), for example using ravel().\n",
            "  y = column_or_1d(y, warn=True)\n",
            "/usr/local/lib/python3.7/dist-packages/sklearn/utils/validation.py:760: DataConversionWarning: A column-vector y was passed when a 1d array was expected. Please change the shape of y to (n_samples, ), for example using ravel().\n",
            "  y = column_or_1d(y, warn=True)\n",
            "/usr/local/lib/python3.7/dist-packages/sklearn/utils/validation.py:760: DataConversionWarning: A column-vector y was passed when a 1d array was expected. Please change the shape of y to (n_samples, ), for example using ravel().\n",
            "  y = column_or_1d(y, warn=True)\n"
          ]
        },
        {
          "output_type": "stream",
          "name": "stdout",
          "text": [
            "[CV]  C=10, gamma=0.01, kernel=linear, accuracy=0.832, precision=0.908, recall=0.775, total=   0.1s\n",
            "[CV] C=10, gamma=0.01, kernel=linear .................................\n",
            "[CV]  C=10, gamma=0.01, kernel=linear, accuracy=0.859, precision=0.806, recall=0.980, total=   0.1s\n",
            "[CV] C=10, gamma=0.01, kernel=linear .................................\n",
            "[CV]  C=10, gamma=0.01, kernel=linear, accuracy=0.847, precision=0.835, recall=0.901, total=   0.1s\n",
            "[CV] C=10, gamma=0.01, kernel=linear .................................\n",
            "[CV]  C=10, gamma=0.01, kernel=linear, accuracy=0.749, precision=0.802, recall=0.723, total=   0.0s\n",
            "[CV] C=10, gamma=0.01, kernel=rbf ....................................\n",
            "[CV]  C=10, gamma=0.01, kernel=rbf, accuracy=0.859, precision=0.913, recall=0.824, total=   0.0s\n",
            "[CV] C=10, gamma=0.01, kernel=rbf ....................................\n"
          ]
        },
        {
          "output_type": "stream",
          "name": "stderr",
          "text": [
            "/usr/local/lib/python3.7/dist-packages/sklearn/utils/validation.py:760: DataConversionWarning: A column-vector y was passed when a 1d array was expected. Please change the shape of y to (n_samples, ), for example using ravel().\n",
            "  y = column_or_1d(y, warn=True)\n",
            "/usr/local/lib/python3.7/dist-packages/sklearn/utils/validation.py:760: DataConversionWarning: A column-vector y was passed when a 1d array was expected. Please change the shape of y to (n_samples, ), for example using ravel().\n",
            "  y = column_or_1d(y, warn=True)\n",
            "/usr/local/lib/python3.7/dist-packages/sklearn/utils/validation.py:760: DataConversionWarning: A column-vector y was passed when a 1d array was expected. Please change the shape of y to (n_samples, ), for example using ravel().\n",
            "  y = column_or_1d(y, warn=True)\n",
            "/usr/local/lib/python3.7/dist-packages/sklearn/utils/validation.py:760: DataConversionWarning: A column-vector y was passed when a 1d array was expected. Please change the shape of y to (n_samples, ), for example using ravel().\n",
            "  y = column_or_1d(y, warn=True)\n",
            "/usr/local/lib/python3.7/dist-packages/sklearn/utils/validation.py:760: DataConversionWarning: A column-vector y was passed when a 1d array was expected. Please change the shape of y to (n_samples, ), for example using ravel().\n",
            "  y = column_or_1d(y, warn=True)\n",
            "/usr/local/lib/python3.7/dist-packages/sklearn/utils/validation.py:760: DataConversionWarning: A column-vector y was passed when a 1d array was expected. Please change the shape of y to (n_samples, ), for example using ravel().\n",
            "  y = column_or_1d(y, warn=True)\n",
            "/usr/local/lib/python3.7/dist-packages/sklearn/utils/validation.py:760: DataConversionWarning: A column-vector y was passed when a 1d array was expected. Please change the shape of y to (n_samples, ), for example using ravel().\n",
            "  y = column_or_1d(y, warn=True)\n",
            "/usr/local/lib/python3.7/dist-packages/sklearn/utils/validation.py:760: DataConversionWarning: A column-vector y was passed when a 1d array was expected. Please change the shape of y to (n_samples, ), for example using ravel().\n",
            "  y = column_or_1d(y, warn=True)\n",
            "/usr/local/lib/python3.7/dist-packages/sklearn/utils/validation.py:760: DataConversionWarning: A column-vector y was passed when a 1d array was expected. Please change the shape of y to (n_samples, ), for example using ravel().\n",
            "  y = column_or_1d(y, warn=True)\n",
            "/usr/local/lib/python3.7/dist-packages/sklearn/utils/validation.py:760: DataConversionWarning: A column-vector y was passed when a 1d array was expected. Please change the shape of y to (n_samples, ), for example using ravel().\n",
            "  y = column_or_1d(y, warn=True)\n",
            "/usr/local/lib/python3.7/dist-packages/sklearn/utils/validation.py:760: DataConversionWarning: A column-vector y was passed when a 1d array was expected. Please change the shape of y to (n_samples, ), for example using ravel().\n",
            "  y = column_or_1d(y, warn=True)\n",
            "/usr/local/lib/python3.7/dist-packages/sklearn/utils/validation.py:760: DataConversionWarning: A column-vector y was passed when a 1d array was expected. Please change the shape of y to (n_samples, ), for example using ravel().\n",
            "  y = column_or_1d(y, warn=True)\n",
            "/usr/local/lib/python3.7/dist-packages/sklearn/utils/validation.py:760: DataConversionWarning: A column-vector y was passed when a 1d array was expected. Please change the shape of y to (n_samples, ), for example using ravel().\n",
            "  y = column_or_1d(y, warn=True)\n",
            "/usr/local/lib/python3.7/dist-packages/sklearn/utils/validation.py:760: DataConversionWarning: A column-vector y was passed when a 1d array was expected. Please change the shape of y to (n_samples, ), for example using ravel().\n",
            "  y = column_or_1d(y, warn=True)\n"
          ]
        },
        {
          "output_type": "stream",
          "name": "stdout",
          "text": [
            "[CV]  C=10, gamma=0.01, kernel=rbf, accuracy=0.832, precision=0.918, recall=0.765, total=   0.0s\n",
            "[CV] C=10, gamma=0.01, kernel=rbf ....................................\n",
            "[CV]  C=10, gamma=0.01, kernel=rbf, accuracy=0.853, precision=0.791, recall=1.000, total=   0.0s\n",
            "[CV] C=10, gamma=0.01, kernel=rbf ....................................\n",
            "[CV]  C=10, gamma=0.01, kernel=rbf, accuracy=0.820, precision=0.815, recall=0.871, total=   0.0s\n",
            "[CV] C=10, gamma=0.01, kernel=rbf ....................................\n",
            "[CV]  C=10, gamma=0.01, kernel=rbf, accuracy=0.776, precision=0.849, recall=0.723, total=   0.0s\n",
            "[CV] C=10, gamma=0.01, kernel=poly ...................................\n",
            "[CV]  C=10, gamma=0.01, kernel=poly, accuracy=0.707, precision=0.654, recall=1.000, total=   0.0s\n",
            "[CV] C=10, gamma=0.01, kernel=poly ...................................\n",
            "[CV]  C=10, gamma=0.01, kernel=poly, accuracy=0.652, precision=0.616, recall=0.990, total=   0.0s\n",
            "[CV] C=10, gamma=0.01, kernel=poly ...................................\n",
            "[CV]  C=10, gamma=0.01, kernel=poly, accuracy=0.598, precision=0.580, recall=1.000, total=   0.0s\n",
            "[CV] C=10, gamma=0.01, kernel=poly ...................................\n",
            "[CV]  C=10, gamma=0.01, kernel=poly, accuracy=0.650, precision=0.613, recall=0.990, total=   0.0s\n",
            "[CV] C=10, gamma=0.01, kernel=poly ...................................\n",
            "[CV]  C=10, gamma=0.01, kernel=poly, accuracy=0.661, precision=0.623, recall=0.980, total=   0.0s\n",
            "[CV] C=10, gamma=0.001, kernel=linear ................................\n",
            "[CV]  C=10, gamma=0.001, kernel=linear, accuracy=0.859, precision=0.913, recall=0.824, total=   0.1s\n",
            "[CV] C=10, gamma=0.001, kernel=linear ................................\n",
            "[CV]  C=10, gamma=0.001, kernel=linear, accuracy=0.832, precision=0.908, recall=0.775, total=   0.1s\n",
            "[CV] C=10, gamma=0.001, kernel=linear ................................\n",
            "[CV]  C=10, gamma=0.001, kernel=linear, accuracy=0.859, precision=0.806, recall=0.980, total=   0.1s\n",
            "[CV] C=10, gamma=0.001, kernel=linear ................................\n"
          ]
        },
        {
          "output_type": "stream",
          "name": "stderr",
          "text": [
            "/usr/local/lib/python3.7/dist-packages/sklearn/utils/validation.py:760: DataConversionWarning: A column-vector y was passed when a 1d array was expected. Please change the shape of y to (n_samples, ), for example using ravel().\n",
            "  y = column_or_1d(y, warn=True)\n",
            "/usr/local/lib/python3.7/dist-packages/sklearn/utils/validation.py:760: DataConversionWarning: A column-vector y was passed when a 1d array was expected. Please change the shape of y to (n_samples, ), for example using ravel().\n",
            "  y = column_or_1d(y, warn=True)\n",
            "/usr/local/lib/python3.7/dist-packages/sklearn/utils/validation.py:760: DataConversionWarning: A column-vector y was passed when a 1d array was expected. Please change the shape of y to (n_samples, ), for example using ravel().\n",
            "  y = column_or_1d(y, warn=True)\n"
          ]
        },
        {
          "output_type": "stream",
          "name": "stdout",
          "text": [
            "[CV]  C=10, gamma=0.001, kernel=linear, accuracy=0.847, precision=0.835, recall=0.901, total=   0.1s\n",
            "[CV] C=10, gamma=0.001, kernel=linear ................................\n",
            "[CV]  C=10, gamma=0.001, kernel=linear, accuracy=0.749, precision=0.802, recall=0.723, total=   0.1s\n",
            "[CV] C=10, gamma=0.001, kernel=rbf ...................................\n",
            "[CV]  C=10, gamma=0.001, kernel=rbf, accuracy=0.853, precision=0.912, recall=0.814, total=   0.0s\n",
            "[CV] C=10, gamma=0.001, kernel=rbf ...................................\n",
            "[CV]  C=10, gamma=0.001, kernel=rbf, accuracy=0.826, precision=0.917, recall=0.755, total=   0.0s\n",
            "[CV] C=10, gamma=0.001, kernel=rbf ...................................\n",
            "[CV]  C=10, gamma=0.001, kernel=rbf, accuracy=0.864, precision=0.808, recall=0.990, total=   0.0s\n",
            "[CV] C=10, gamma=0.001, kernel=rbf ...................................\n",
            "[CV]  C=10, gamma=0.001, kernel=rbf, accuracy=0.847, precision=0.841, recall=0.891, total=   0.0s\n",
            "[CV] C=10, gamma=0.001, kernel=rbf ...................................\n",
            "[CV]  C=10, gamma=0.001, kernel=rbf, accuracy=0.760, precision=0.800, recall=0.752, total=   0.0s\n",
            "[CV] C=10, gamma=0.001, kernel=poly ..................................\n",
            "[CV]  C=10, gamma=0.001, kernel=poly, accuracy=0.554, precision=0.554, recall=1.000, total=   0.0s\n",
            "[CV] C=10, gamma=0.001, kernel=poly ..................................\n",
            "[CV]  C=10, gamma=0.001, kernel=poly, accuracy=0.554, precision=0.554, recall=1.000, total=   0.0s\n",
            "[CV] C=10, gamma=0.001, kernel=poly ..................................\n"
          ]
        },
        {
          "output_type": "stream",
          "name": "stderr",
          "text": [
            "/usr/local/lib/python3.7/dist-packages/sklearn/utils/validation.py:760: DataConversionWarning: A column-vector y was passed when a 1d array was expected. Please change the shape of y to (n_samples, ), for example using ravel().\n",
            "  y = column_or_1d(y, warn=True)\n",
            "/usr/local/lib/python3.7/dist-packages/sklearn/utils/validation.py:760: DataConversionWarning: A column-vector y was passed when a 1d array was expected. Please change the shape of y to (n_samples, ), for example using ravel().\n",
            "  y = column_or_1d(y, warn=True)\n",
            "/usr/local/lib/python3.7/dist-packages/sklearn/utils/validation.py:760: DataConversionWarning: A column-vector y was passed when a 1d array was expected. Please change the shape of y to (n_samples, ), for example using ravel().\n",
            "  y = column_or_1d(y, warn=True)\n",
            "/usr/local/lib/python3.7/dist-packages/sklearn/utils/validation.py:760: DataConversionWarning: A column-vector y was passed when a 1d array was expected. Please change the shape of y to (n_samples, ), for example using ravel().\n",
            "  y = column_or_1d(y, warn=True)\n",
            "/usr/local/lib/python3.7/dist-packages/sklearn/utils/validation.py:760: DataConversionWarning: A column-vector y was passed when a 1d array was expected. Please change the shape of y to (n_samples, ), for example using ravel().\n",
            "  y = column_or_1d(y, warn=True)\n",
            "/usr/local/lib/python3.7/dist-packages/sklearn/utils/validation.py:760: DataConversionWarning: A column-vector y was passed when a 1d array was expected. Please change the shape of y to (n_samples, ), for example using ravel().\n",
            "  y = column_or_1d(y, warn=True)\n",
            "/usr/local/lib/python3.7/dist-packages/sklearn/utils/validation.py:760: DataConversionWarning: A column-vector y was passed when a 1d array was expected. Please change the shape of y to (n_samples, ), for example using ravel().\n",
            "  y = column_or_1d(y, warn=True)\n",
            "/usr/local/lib/python3.7/dist-packages/sklearn/utils/validation.py:760: DataConversionWarning: A column-vector y was passed when a 1d array was expected. Please change the shape of y to (n_samples, ), for example using ravel().\n",
            "  y = column_or_1d(y, warn=True)\n",
            "/usr/local/lib/python3.7/dist-packages/sklearn/utils/validation.py:760: DataConversionWarning: A column-vector y was passed when a 1d array was expected. Please change the shape of y to (n_samples, ), for example using ravel().\n",
            "  y = column_or_1d(y, warn=True)\n"
          ]
        },
        {
          "output_type": "stream",
          "name": "stdout",
          "text": [
            "[CV]  C=10, gamma=0.001, kernel=poly, accuracy=0.554, precision=0.554, recall=1.000, total=   0.0s\n",
            "[CV] C=10, gamma=0.001, kernel=poly ..................................\n",
            "[CV]  C=10, gamma=0.001, kernel=poly, accuracy=0.552, precision=0.552, recall=1.000, total=   0.0s\n",
            "[CV] C=10, gamma=0.001, kernel=poly ..................................\n",
            "[CV]  C=10, gamma=0.001, kernel=poly, accuracy=0.552, precision=0.552, recall=1.000, total=   0.0s\n",
            "[CV] C=100, gamma=scale, kernel=linear ...............................\n"
          ]
        },
        {
          "output_type": "stream",
          "name": "stderr",
          "text": [
            "/usr/local/lib/python3.7/dist-packages/sklearn/utils/validation.py:760: DataConversionWarning: A column-vector y was passed when a 1d array was expected. Please change the shape of y to (n_samples, ), for example using ravel().\n",
            "  y = column_or_1d(y, warn=True)\n",
            "/usr/local/lib/python3.7/dist-packages/sklearn/utils/validation.py:760: DataConversionWarning: A column-vector y was passed when a 1d array was expected. Please change the shape of y to (n_samples, ), for example using ravel().\n",
            "  y = column_or_1d(y, warn=True)\n",
            "/usr/local/lib/python3.7/dist-packages/sklearn/utils/validation.py:760: DataConversionWarning: A column-vector y was passed when a 1d array was expected. Please change the shape of y to (n_samples, ), for example using ravel().\n",
            "  y = column_or_1d(y, warn=True)\n"
          ]
        },
        {
          "output_type": "stream",
          "name": "stdout",
          "text": [
            "[CV]  C=100, gamma=scale, kernel=linear, accuracy=0.859, precision=0.913, recall=0.824, total=   0.5s\n",
            "[CV] C=100, gamma=scale, kernel=linear ...............................\n"
          ]
        },
        {
          "output_type": "stream",
          "name": "stderr",
          "text": [
            "/usr/local/lib/python3.7/dist-packages/sklearn/utils/validation.py:760: DataConversionWarning: A column-vector y was passed when a 1d array was expected. Please change the shape of y to (n_samples, ), for example using ravel().\n",
            "  y = column_or_1d(y, warn=True)\n"
          ]
        },
        {
          "output_type": "stream",
          "name": "stdout",
          "text": [
            "[CV]  C=100, gamma=scale, kernel=linear, accuracy=0.832, precision=0.908, recall=0.775, total=   0.6s\n",
            "[CV] C=100, gamma=scale, kernel=linear ...............................\n"
          ]
        },
        {
          "output_type": "stream",
          "name": "stderr",
          "text": [
            "/usr/local/lib/python3.7/dist-packages/sklearn/utils/validation.py:760: DataConversionWarning: A column-vector y was passed when a 1d array was expected. Please change the shape of y to (n_samples, ), for example using ravel().\n",
            "  y = column_or_1d(y, warn=True)\n"
          ]
        },
        {
          "output_type": "stream",
          "name": "stdout",
          "text": [
            "[CV]  C=100, gamma=scale, kernel=linear, accuracy=0.859, precision=0.806, recall=0.980, total=   0.5s\n",
            "[CV] C=100, gamma=scale, kernel=linear ...............................\n"
          ]
        },
        {
          "output_type": "stream",
          "name": "stderr",
          "text": [
            "/usr/local/lib/python3.7/dist-packages/sklearn/utils/validation.py:760: DataConversionWarning: A column-vector y was passed when a 1d array was expected. Please change the shape of y to (n_samples, ), for example using ravel().\n",
            "  y = column_or_1d(y, warn=True)\n"
          ]
        },
        {
          "output_type": "stream",
          "name": "stdout",
          "text": [
            "[CV]  C=100, gamma=scale, kernel=linear, accuracy=0.847, precision=0.835, recall=0.901, total=   0.5s\n",
            "[CV] C=100, gamma=scale, kernel=linear ...............................\n"
          ]
        },
        {
          "output_type": "stream",
          "name": "stderr",
          "text": [
            "/usr/local/lib/python3.7/dist-packages/sklearn/utils/validation.py:760: DataConversionWarning: A column-vector y was passed when a 1d array was expected. Please change the shape of y to (n_samples, ), for example using ravel().\n",
            "  y = column_or_1d(y, warn=True)\n"
          ]
        },
        {
          "output_type": "stream",
          "name": "stdout",
          "text": [
            "[CV]  C=100, gamma=scale, kernel=linear, accuracy=0.749, precision=0.802, recall=0.723, total=   0.5s\n",
            "[CV] C=100, gamma=scale, kernel=rbf ..................................\n",
            "[CV]  C=100, gamma=scale, kernel=rbf, accuracy=0.804, precision=0.902, recall=0.725, total=   0.0s\n",
            "[CV] C=100, gamma=scale, kernel=rbf ..................................\n",
            "[CV]  C=100, gamma=scale, kernel=rbf, accuracy=0.832, precision=0.866, recall=0.824, total=   0.0s\n",
            "[CV] C=100, gamma=scale, kernel=rbf ..................................\n",
            "[CV]  C=100, gamma=scale, kernel=rbf, accuracy=0.804, precision=0.770, recall=0.922, total=   0.0s\n",
            "[CV] C=100, gamma=scale, kernel=rbf ..................................\n",
            "[CV]  C=100, gamma=scale, kernel=rbf, accuracy=0.787, precision=0.782, recall=0.851, total=   0.0s\n",
            "[CV] C=100, gamma=scale, kernel=rbf ..................................\n",
            "[CV]  C=100, gamma=scale, kernel=rbf, accuracy=0.721, precision=0.772, recall=0.703, total=   0.0s\n",
            "[CV] C=100, gamma=scale, kernel=poly .................................\n"
          ]
        },
        {
          "output_type": "stream",
          "name": "stderr",
          "text": [
            "/usr/local/lib/python3.7/dist-packages/sklearn/utils/validation.py:760: DataConversionWarning: A column-vector y was passed when a 1d array was expected. Please change the shape of y to (n_samples, ), for example using ravel().\n",
            "  y = column_or_1d(y, warn=True)\n",
            "/usr/local/lib/python3.7/dist-packages/sklearn/utils/validation.py:760: DataConversionWarning: A column-vector y was passed when a 1d array was expected. Please change the shape of y to (n_samples, ), for example using ravel().\n",
            "  y = column_or_1d(y, warn=True)\n",
            "/usr/local/lib/python3.7/dist-packages/sklearn/utils/validation.py:760: DataConversionWarning: A column-vector y was passed when a 1d array was expected. Please change the shape of y to (n_samples, ), for example using ravel().\n",
            "  y = column_or_1d(y, warn=True)\n",
            "/usr/local/lib/python3.7/dist-packages/sklearn/utils/validation.py:760: DataConversionWarning: A column-vector y was passed when a 1d array was expected. Please change the shape of y to (n_samples, ), for example using ravel().\n",
            "  y = column_or_1d(y, warn=True)\n",
            "/usr/local/lib/python3.7/dist-packages/sklearn/utils/validation.py:760: DataConversionWarning: A column-vector y was passed when a 1d array was expected. Please change the shape of y to (n_samples, ), for example using ravel().\n",
            "  y = column_or_1d(y, warn=True)\n",
            "/usr/local/lib/python3.7/dist-packages/sklearn/utils/validation.py:760: DataConversionWarning: A column-vector y was passed when a 1d array was expected. Please change the shape of y to (n_samples, ), for example using ravel().\n",
            "  y = column_or_1d(y, warn=True)\n"
          ]
        },
        {
          "output_type": "stream",
          "name": "stdout",
          "text": [
            "[CV]  C=100, gamma=scale, kernel=poly, accuracy=0.783, precision=0.897, recall=0.686, total=   0.1s\n",
            "[CV] C=100, gamma=scale, kernel=poly .................................\n",
            "[CV]  C=100, gamma=scale, kernel=poly, accuracy=0.772, precision=0.857, recall=0.706, total=   0.1s\n",
            "[CV] C=100, gamma=scale, kernel=poly .................................\n",
            "[CV]  C=100, gamma=scale, kernel=poly, accuracy=0.783, precision=0.787, recall=0.833, total=   0.0s\n",
            "[CV] C=100, gamma=scale, kernel=poly .................................\n",
            "[CV]  C=100, gamma=scale, kernel=poly, accuracy=0.732, precision=0.745, recall=0.782, total=   0.0s\n",
            "[CV] C=100, gamma=scale, kernel=poly .................................\n",
            "[CV]  C=100, gamma=scale, kernel=poly, accuracy=0.694, precision=0.778, recall=0.624, total=   0.0s\n",
            "[CV] C=100, gamma=auto, kernel=linear ................................\n"
          ]
        },
        {
          "output_type": "stream",
          "name": "stderr",
          "text": [
            "/usr/local/lib/python3.7/dist-packages/sklearn/utils/validation.py:760: DataConversionWarning: A column-vector y was passed when a 1d array was expected. Please change the shape of y to (n_samples, ), for example using ravel().\n",
            "  y = column_or_1d(y, warn=True)\n",
            "/usr/local/lib/python3.7/dist-packages/sklearn/utils/validation.py:760: DataConversionWarning: A column-vector y was passed when a 1d array was expected. Please change the shape of y to (n_samples, ), for example using ravel().\n",
            "  y = column_or_1d(y, warn=True)\n",
            "/usr/local/lib/python3.7/dist-packages/sklearn/utils/validation.py:760: DataConversionWarning: A column-vector y was passed when a 1d array was expected. Please change the shape of y to (n_samples, ), for example using ravel().\n",
            "  y = column_or_1d(y, warn=True)\n",
            "/usr/local/lib/python3.7/dist-packages/sklearn/utils/validation.py:760: DataConversionWarning: A column-vector y was passed when a 1d array was expected. Please change the shape of y to (n_samples, ), for example using ravel().\n",
            "  y = column_or_1d(y, warn=True)\n",
            "/usr/local/lib/python3.7/dist-packages/sklearn/utils/validation.py:760: DataConversionWarning: A column-vector y was passed when a 1d array was expected. Please change the shape of y to (n_samples, ), for example using ravel().\n",
            "  y = column_or_1d(y, warn=True)\n"
          ]
        },
        {
          "output_type": "stream",
          "name": "stdout",
          "text": [
            "[CV]  C=100, gamma=auto, kernel=linear, accuracy=0.859, precision=0.913, recall=0.824, total=   0.6s\n",
            "[CV] C=100, gamma=auto, kernel=linear ................................\n"
          ]
        },
        {
          "output_type": "stream",
          "name": "stderr",
          "text": [
            "/usr/local/lib/python3.7/dist-packages/sklearn/utils/validation.py:760: DataConversionWarning: A column-vector y was passed when a 1d array was expected. Please change the shape of y to (n_samples, ), for example using ravel().\n",
            "  y = column_or_1d(y, warn=True)\n"
          ]
        },
        {
          "output_type": "stream",
          "name": "stdout",
          "text": [
            "[CV]  C=100, gamma=auto, kernel=linear, accuracy=0.832, precision=0.908, recall=0.775, total=   0.6s\n",
            "[CV] C=100, gamma=auto, kernel=linear ................................\n"
          ]
        },
        {
          "output_type": "stream",
          "name": "stderr",
          "text": [
            "/usr/local/lib/python3.7/dist-packages/sklearn/utils/validation.py:760: DataConversionWarning: A column-vector y was passed when a 1d array was expected. Please change the shape of y to (n_samples, ), for example using ravel().\n",
            "  y = column_or_1d(y, warn=True)\n"
          ]
        },
        {
          "output_type": "stream",
          "name": "stdout",
          "text": [
            "[CV]  C=100, gamma=auto, kernel=linear, accuracy=0.859, precision=0.806, recall=0.980, total=   0.5s\n",
            "[CV] C=100, gamma=auto, kernel=linear ................................\n"
          ]
        },
        {
          "output_type": "stream",
          "name": "stderr",
          "text": [
            "/usr/local/lib/python3.7/dist-packages/sklearn/utils/validation.py:760: DataConversionWarning: A column-vector y was passed when a 1d array was expected. Please change the shape of y to (n_samples, ), for example using ravel().\n",
            "  y = column_or_1d(y, warn=True)\n"
          ]
        },
        {
          "output_type": "stream",
          "name": "stdout",
          "text": [
            "[CV]  C=100, gamma=auto, kernel=linear, accuracy=0.847, precision=0.835, recall=0.901, total=   0.5s\n",
            "[CV] C=100, gamma=auto, kernel=linear ................................\n"
          ]
        },
        {
          "output_type": "stream",
          "name": "stderr",
          "text": [
            "/usr/local/lib/python3.7/dist-packages/sklearn/utils/validation.py:760: DataConversionWarning: A column-vector y was passed when a 1d array was expected. Please change the shape of y to (n_samples, ), for example using ravel().\n",
            "  y = column_or_1d(y, warn=True)\n"
          ]
        },
        {
          "output_type": "stream",
          "name": "stdout",
          "text": [
            "[CV]  C=100, gamma=auto, kernel=linear, accuracy=0.749, precision=0.802, recall=0.723, total=   0.6s\n",
            "[CV] C=100, gamma=auto, kernel=rbf ...................................\n",
            "[CV]  C=100, gamma=auto, kernel=rbf, accuracy=0.804, precision=0.902, recall=0.725, total=   0.0s\n",
            "[CV] C=100, gamma=auto, kernel=rbf ...................................\n",
            "[CV]  C=100, gamma=auto, kernel=rbf, accuracy=0.832, precision=0.866, recall=0.824, total=   0.0s\n",
            "[CV] C=100, gamma=auto, kernel=rbf ...................................\n",
            "[CV]  C=100, gamma=auto, kernel=rbf, accuracy=0.804, precision=0.770, recall=0.922, total=   0.0s\n",
            "[CV] C=100, gamma=auto, kernel=rbf ...................................\n",
            "[CV]  C=100, gamma=auto, kernel=rbf, accuracy=0.787, precision=0.782, recall=0.851, total=   0.0s\n",
            "[CV] C=100, gamma=auto, kernel=rbf ...................................\n",
            "[CV]  C=100, gamma=auto, kernel=rbf, accuracy=0.721, precision=0.772, recall=0.703, total=   0.0s\n",
            "[CV] C=100, gamma=auto, kernel=poly ..................................\n"
          ]
        },
        {
          "output_type": "stream",
          "name": "stderr",
          "text": [
            "/usr/local/lib/python3.7/dist-packages/sklearn/utils/validation.py:760: DataConversionWarning: A column-vector y was passed when a 1d array was expected. Please change the shape of y to (n_samples, ), for example using ravel().\n",
            "  y = column_or_1d(y, warn=True)\n",
            "/usr/local/lib/python3.7/dist-packages/sklearn/utils/validation.py:760: DataConversionWarning: A column-vector y was passed when a 1d array was expected. Please change the shape of y to (n_samples, ), for example using ravel().\n",
            "  y = column_or_1d(y, warn=True)\n",
            "/usr/local/lib/python3.7/dist-packages/sklearn/utils/validation.py:760: DataConversionWarning: A column-vector y was passed when a 1d array was expected. Please change the shape of y to (n_samples, ), for example using ravel().\n",
            "  y = column_or_1d(y, warn=True)\n",
            "/usr/local/lib/python3.7/dist-packages/sklearn/utils/validation.py:760: DataConversionWarning: A column-vector y was passed when a 1d array was expected. Please change the shape of y to (n_samples, ), for example using ravel().\n",
            "  y = column_or_1d(y, warn=True)\n",
            "/usr/local/lib/python3.7/dist-packages/sklearn/utils/validation.py:760: DataConversionWarning: A column-vector y was passed when a 1d array was expected. Please change the shape of y to (n_samples, ), for example using ravel().\n",
            "  y = column_or_1d(y, warn=True)\n",
            "/usr/local/lib/python3.7/dist-packages/sklearn/utils/validation.py:760: DataConversionWarning: A column-vector y was passed when a 1d array was expected. Please change the shape of y to (n_samples, ), for example using ravel().\n",
            "  y = column_or_1d(y, warn=True)\n"
          ]
        },
        {
          "output_type": "stream",
          "name": "stdout",
          "text": [
            "[CV]  C=100, gamma=auto, kernel=poly, accuracy=0.793, precision=0.900, recall=0.706, total=   0.1s\n",
            "[CV] C=100, gamma=auto, kernel=poly ..................................\n",
            "[CV]  C=100, gamma=auto, kernel=poly, accuracy=0.772, precision=0.857, recall=0.706, total=   0.1s\n",
            "[CV] C=100, gamma=auto, kernel=poly ..................................\n",
            "[CV]  C=100, gamma=auto, kernel=poly, accuracy=0.777, precision=0.785, recall=0.824, total=   0.0s\n",
            "[CV] C=100, gamma=auto, kernel=poly ..................................\n",
            "[CV]  C=100, gamma=auto, kernel=poly, accuracy=0.732, precision=0.745, recall=0.782, total=   0.0s\n",
            "[CV] C=100, gamma=auto, kernel=poly ..................................\n",
            "[CV]  C=100, gamma=auto, kernel=poly, accuracy=0.705, precision=0.783, recall=0.644, total=   0.0s\n",
            "[CV] C=100, gamma=0.1, kernel=linear .................................\n"
          ]
        },
        {
          "output_type": "stream",
          "name": "stderr",
          "text": [
            "/usr/local/lib/python3.7/dist-packages/sklearn/utils/validation.py:760: DataConversionWarning: A column-vector y was passed when a 1d array was expected. Please change the shape of y to (n_samples, ), for example using ravel().\n",
            "  y = column_or_1d(y, warn=True)\n",
            "/usr/local/lib/python3.7/dist-packages/sklearn/utils/validation.py:760: DataConversionWarning: A column-vector y was passed when a 1d array was expected. Please change the shape of y to (n_samples, ), for example using ravel().\n",
            "  y = column_or_1d(y, warn=True)\n",
            "/usr/local/lib/python3.7/dist-packages/sklearn/utils/validation.py:760: DataConversionWarning: A column-vector y was passed when a 1d array was expected. Please change the shape of y to (n_samples, ), for example using ravel().\n",
            "  y = column_or_1d(y, warn=True)\n",
            "/usr/local/lib/python3.7/dist-packages/sklearn/utils/validation.py:760: DataConversionWarning: A column-vector y was passed when a 1d array was expected. Please change the shape of y to (n_samples, ), for example using ravel().\n",
            "  y = column_or_1d(y, warn=True)\n",
            "/usr/local/lib/python3.7/dist-packages/sklearn/utils/validation.py:760: DataConversionWarning: A column-vector y was passed when a 1d array was expected. Please change the shape of y to (n_samples, ), for example using ravel().\n",
            "  y = column_or_1d(y, warn=True)\n"
          ]
        },
        {
          "output_type": "stream",
          "name": "stdout",
          "text": [
            "[CV]  C=100, gamma=0.1, kernel=linear, accuracy=0.859, precision=0.913, recall=0.824, total=   0.5s\n",
            "[CV] C=100, gamma=0.1, kernel=linear .................................\n"
          ]
        },
        {
          "output_type": "stream",
          "name": "stderr",
          "text": [
            "/usr/local/lib/python3.7/dist-packages/sklearn/utils/validation.py:760: DataConversionWarning: A column-vector y was passed when a 1d array was expected. Please change the shape of y to (n_samples, ), for example using ravel().\n",
            "  y = column_or_1d(y, warn=True)\n"
          ]
        },
        {
          "output_type": "stream",
          "name": "stdout",
          "text": [
            "[CV]  C=100, gamma=0.1, kernel=linear, accuracy=0.832, precision=0.908, recall=0.775, total=   0.6s\n",
            "[CV] C=100, gamma=0.1, kernel=linear .................................\n"
          ]
        },
        {
          "output_type": "stream",
          "name": "stderr",
          "text": [
            "/usr/local/lib/python3.7/dist-packages/sklearn/utils/validation.py:760: DataConversionWarning: A column-vector y was passed when a 1d array was expected. Please change the shape of y to (n_samples, ), for example using ravel().\n",
            "  y = column_or_1d(y, warn=True)\n"
          ]
        },
        {
          "output_type": "stream",
          "name": "stdout",
          "text": [
            "[CV]  C=100, gamma=0.1, kernel=linear, accuracy=0.859, precision=0.806, recall=0.980, total=   0.5s\n",
            "[CV] C=100, gamma=0.1, kernel=linear .................................\n"
          ]
        },
        {
          "output_type": "stream",
          "name": "stderr",
          "text": [
            "/usr/local/lib/python3.7/dist-packages/sklearn/utils/validation.py:760: DataConversionWarning: A column-vector y was passed when a 1d array was expected. Please change the shape of y to (n_samples, ), for example using ravel().\n",
            "  y = column_or_1d(y, warn=True)\n"
          ]
        },
        {
          "output_type": "stream",
          "name": "stdout",
          "text": [
            "[CV]  C=100, gamma=0.1, kernel=linear, accuracy=0.847, precision=0.835, recall=0.901, total=   0.5s\n",
            "[CV] C=100, gamma=0.1, kernel=linear .................................\n"
          ]
        },
        {
          "output_type": "stream",
          "name": "stderr",
          "text": [
            "/usr/local/lib/python3.7/dist-packages/sklearn/utils/validation.py:760: DataConversionWarning: A column-vector y was passed when a 1d array was expected. Please change the shape of y to (n_samples, ), for example using ravel().\n",
            "  y = column_or_1d(y, warn=True)\n"
          ]
        },
        {
          "output_type": "stream",
          "name": "stdout",
          "text": [
            "[CV]  C=100, gamma=0.1, kernel=linear, accuracy=0.749, precision=0.802, recall=0.723, total=   0.5s\n",
            "[CV] C=100, gamma=0.1, kernel=rbf ....................................\n",
            "[CV]  C=100, gamma=0.1, kernel=rbf, accuracy=0.810, precision=0.904, recall=0.735, total=   0.0s\n",
            "[CV] C=100, gamma=0.1, kernel=rbf ....................................\n",
            "[CV]  C=100, gamma=0.1, kernel=rbf, accuracy=0.826, precision=0.865, recall=0.814, total=   0.0s\n",
            "[CV] C=100, gamma=0.1, kernel=rbf ....................................\n",
            "[CV]  C=100, gamma=0.1, kernel=rbf, accuracy=0.799, precision=0.769, recall=0.912, total=   0.0s\n",
            "[CV] C=100, gamma=0.1, kernel=rbf ....................................\n",
            "[CV]  C=100, gamma=0.1, kernel=rbf, accuracy=0.781, precision=0.775, recall=0.851, total=   0.0s\n",
            "[CV] C=100, gamma=0.1, kernel=rbf ....................................\n",
            "[CV]  C=100, gamma=0.1, kernel=rbf, accuracy=0.738, precision=0.791, recall=0.713, total=   0.0s\n",
            "[CV] C=100, gamma=0.1, kernel=poly ...................................\n"
          ]
        },
        {
          "output_type": "stream",
          "name": "stderr",
          "text": [
            "/usr/local/lib/python3.7/dist-packages/sklearn/utils/validation.py:760: DataConversionWarning: A column-vector y was passed when a 1d array was expected. Please change the shape of y to (n_samples, ), for example using ravel().\n",
            "  y = column_or_1d(y, warn=True)\n",
            "/usr/local/lib/python3.7/dist-packages/sklearn/utils/validation.py:760: DataConversionWarning: A column-vector y was passed when a 1d array was expected. Please change the shape of y to (n_samples, ), for example using ravel().\n",
            "  y = column_or_1d(y, warn=True)\n",
            "/usr/local/lib/python3.7/dist-packages/sklearn/utils/validation.py:760: DataConversionWarning: A column-vector y was passed when a 1d array was expected. Please change the shape of y to (n_samples, ), for example using ravel().\n",
            "  y = column_or_1d(y, warn=True)\n",
            "/usr/local/lib/python3.7/dist-packages/sklearn/utils/validation.py:760: DataConversionWarning: A column-vector y was passed when a 1d array was expected. Please change the shape of y to (n_samples, ), for example using ravel().\n",
            "  y = column_or_1d(y, warn=True)\n",
            "/usr/local/lib/python3.7/dist-packages/sklearn/utils/validation.py:760: DataConversionWarning: A column-vector y was passed when a 1d array was expected. Please change the shape of y to (n_samples, ), for example using ravel().\n",
            "  y = column_or_1d(y, warn=True)\n",
            "/usr/local/lib/python3.7/dist-packages/sklearn/utils/validation.py:760: DataConversionWarning: A column-vector y was passed when a 1d array was expected. Please change the shape of y to (n_samples, ), for example using ravel().\n",
            "  y = column_or_1d(y, warn=True)\n",
            "/usr/local/lib/python3.7/dist-packages/sklearn/utils/validation.py:760: DataConversionWarning: A column-vector y was passed when a 1d array was expected. Please change the shape of y to (n_samples, ), for example using ravel().\n",
            "  y = column_or_1d(y, warn=True)\n"
          ]
        },
        {
          "output_type": "stream",
          "name": "stdout",
          "text": [
            "[CV]  C=100, gamma=0.1, kernel=poly, accuracy=0.799, precision=0.901, recall=0.716, total=   0.1s\n",
            "[CV] C=100, gamma=0.1, kernel=poly ...................................\n",
            "[CV]  C=100, gamma=0.1, kernel=poly, accuracy=0.783, precision=0.860, recall=0.725, total=   0.1s\n",
            "[CV] C=100, gamma=0.1, kernel=poly ...................................\n",
            "[CV]  C=100, gamma=0.1, kernel=poly, accuracy=0.772, precision=0.768, recall=0.843, total=   0.1s\n",
            "[CV] C=100, gamma=0.1, kernel=poly ...................................\n",
            "[CV]  C=100, gamma=0.1, kernel=poly, accuracy=0.732, precision=0.745, recall=0.782, total=   0.0s\n",
            "[CV] C=100, gamma=0.1, kernel=poly ...................................\n"
          ]
        },
        {
          "output_type": "stream",
          "name": "stderr",
          "text": [
            "/usr/local/lib/python3.7/dist-packages/sklearn/utils/validation.py:760: DataConversionWarning: A column-vector y was passed when a 1d array was expected. Please change the shape of y to (n_samples, ), for example using ravel().\n",
            "  y = column_or_1d(y, warn=True)\n",
            "/usr/local/lib/python3.7/dist-packages/sklearn/utils/validation.py:760: DataConversionWarning: A column-vector y was passed when a 1d array was expected. Please change the shape of y to (n_samples, ), for example using ravel().\n",
            "  y = column_or_1d(y, warn=True)\n",
            "/usr/local/lib/python3.7/dist-packages/sklearn/utils/validation.py:760: DataConversionWarning: A column-vector y was passed when a 1d array was expected. Please change the shape of y to (n_samples, ), for example using ravel().\n",
            "  y = column_or_1d(y, warn=True)\n",
            "/usr/local/lib/python3.7/dist-packages/sklearn/utils/validation.py:760: DataConversionWarning: A column-vector y was passed when a 1d array was expected. Please change the shape of y to (n_samples, ), for example using ravel().\n",
            "  y = column_or_1d(y, warn=True)\n"
          ]
        },
        {
          "output_type": "stream",
          "name": "stdout",
          "text": [
            "[CV]  C=100, gamma=0.1, kernel=poly, accuracy=0.694, precision=0.778, recall=0.624, total=   0.0s\n",
            "[CV] C=100, gamma=1, kernel=linear ...................................\n",
            "[CV]  C=100, gamma=1, kernel=linear, accuracy=0.859, precision=0.913, recall=0.824, total=   0.6s\n",
            "[CV] C=100, gamma=1, kernel=linear ...................................\n"
          ]
        },
        {
          "output_type": "stream",
          "name": "stderr",
          "text": [
            "/usr/local/lib/python3.7/dist-packages/sklearn/utils/validation.py:760: DataConversionWarning: A column-vector y was passed when a 1d array was expected. Please change the shape of y to (n_samples, ), for example using ravel().\n",
            "  y = column_or_1d(y, warn=True)\n"
          ]
        },
        {
          "output_type": "stream",
          "name": "stdout",
          "text": [
            "[CV]  C=100, gamma=1, kernel=linear, accuracy=0.832, precision=0.908, recall=0.775, total=   0.6s\n",
            "[CV] C=100, gamma=1, kernel=linear ...................................\n"
          ]
        },
        {
          "output_type": "stream",
          "name": "stderr",
          "text": [
            "/usr/local/lib/python3.7/dist-packages/sklearn/utils/validation.py:760: DataConversionWarning: A column-vector y was passed when a 1d array was expected. Please change the shape of y to (n_samples, ), for example using ravel().\n",
            "  y = column_or_1d(y, warn=True)\n"
          ]
        },
        {
          "output_type": "stream",
          "name": "stdout",
          "text": [
            "[CV]  C=100, gamma=1, kernel=linear, accuracy=0.859, precision=0.806, recall=0.980, total=   0.5s\n",
            "[CV] C=100, gamma=1, kernel=linear ...................................\n"
          ]
        },
        {
          "output_type": "stream",
          "name": "stderr",
          "text": [
            "/usr/local/lib/python3.7/dist-packages/sklearn/utils/validation.py:760: DataConversionWarning: A column-vector y was passed when a 1d array was expected. Please change the shape of y to (n_samples, ), for example using ravel().\n",
            "  y = column_or_1d(y, warn=True)\n"
          ]
        },
        {
          "output_type": "stream",
          "name": "stdout",
          "text": [
            "[CV]  C=100, gamma=1, kernel=linear, accuracy=0.847, precision=0.835, recall=0.901, total=   0.5s\n",
            "[CV] C=100, gamma=1, kernel=linear ...................................\n"
          ]
        },
        {
          "output_type": "stream",
          "name": "stderr",
          "text": [
            "/usr/local/lib/python3.7/dist-packages/sklearn/utils/validation.py:760: DataConversionWarning: A column-vector y was passed when a 1d array was expected. Please change the shape of y to (n_samples, ), for example using ravel().\n",
            "  y = column_or_1d(y, warn=True)\n"
          ]
        },
        {
          "output_type": "stream",
          "name": "stdout",
          "text": [
            "[CV]  C=100, gamma=1, kernel=linear, accuracy=0.749, precision=0.802, recall=0.723, total=   0.5s\n",
            "[CV] C=100, gamma=1, kernel=rbf ......................................\n",
            "[CV]  C=100, gamma=1, kernel=rbf, accuracy=0.821, precision=0.800, recall=0.902, total=   0.0s\n",
            "[CV] C=100, gamma=1, kernel=rbf ......................................\n",
            "[CV]  C=100, gamma=1, kernel=rbf, accuracy=0.875, precision=0.832, recall=0.971, total=   0.0s\n",
            "[CV] C=100, gamma=1, kernel=rbf ......................................\n",
            "[CV]  C=100, gamma=1, kernel=rbf, accuracy=0.701, precision=0.650, recall=1.000, total=   0.0s\n",
            "[CV] C=100, gamma=1, kernel=rbf ......................................\n",
            "[CV]  C=100, gamma=1, kernel=rbf, accuracy=0.699, precision=0.669, recall=0.901, total=   0.0s\n",
            "[CV] C=100, gamma=1, kernel=rbf ......................................\n"
          ]
        },
        {
          "output_type": "stream",
          "name": "stderr",
          "text": [
            "/usr/local/lib/python3.7/dist-packages/sklearn/utils/validation.py:760: DataConversionWarning: A column-vector y was passed when a 1d array was expected. Please change the shape of y to (n_samples, ), for example using ravel().\n",
            "  y = column_or_1d(y, warn=True)\n",
            "/usr/local/lib/python3.7/dist-packages/sklearn/utils/validation.py:760: DataConversionWarning: A column-vector y was passed when a 1d array was expected. Please change the shape of y to (n_samples, ), for example using ravel().\n",
            "  y = column_or_1d(y, warn=True)\n",
            "/usr/local/lib/python3.7/dist-packages/sklearn/utils/validation.py:760: DataConversionWarning: A column-vector y was passed when a 1d array was expected. Please change the shape of y to (n_samples, ), for example using ravel().\n",
            "  y = column_or_1d(y, warn=True)\n",
            "/usr/local/lib/python3.7/dist-packages/sklearn/utils/validation.py:760: DataConversionWarning: A column-vector y was passed when a 1d array was expected. Please change the shape of y to (n_samples, ), for example using ravel().\n",
            "  y = column_or_1d(y, warn=True)\n",
            "/usr/local/lib/python3.7/dist-packages/sklearn/utils/validation.py:760: DataConversionWarning: A column-vector y was passed when a 1d array was expected. Please change the shape of y to (n_samples, ), for example using ravel().\n",
            "  y = column_or_1d(y, warn=True)\n",
            "/usr/local/lib/python3.7/dist-packages/sklearn/utils/validation.py:760: DataConversionWarning: A column-vector y was passed when a 1d array was expected. Please change the shape of y to (n_samples, ), for example using ravel().\n",
            "  y = column_or_1d(y, warn=True)\n"
          ]
        },
        {
          "output_type": "stream",
          "name": "stdout",
          "text": [
            "[CV]  C=100, gamma=1, kernel=rbf, accuracy=0.710, precision=0.690, recall=0.861, total=   0.0s\n",
            "[CV] C=100, gamma=1, kernel=poly .....................................\n",
            "[CV]  C=100, gamma=1, kernel=poly, accuracy=0.793, precision=0.881, recall=0.725, total=   0.1s\n",
            "[CV] C=100, gamma=1, kernel=poly .....................................\n",
            "[CV]  C=100, gamma=1, kernel=poly, accuracy=0.761, precision=0.822, recall=0.725, total=   0.1s\n",
            "[CV] C=100, gamma=1, kernel=poly .....................................\n"
          ]
        },
        {
          "output_type": "stream",
          "name": "stderr",
          "text": [
            "/usr/local/lib/python3.7/dist-packages/sklearn/utils/validation.py:760: DataConversionWarning: A column-vector y was passed when a 1d array was expected. Please change the shape of y to (n_samples, ), for example using ravel().\n",
            "  y = column_or_1d(y, warn=True)\n",
            "/usr/local/lib/python3.7/dist-packages/sklearn/utils/validation.py:760: DataConversionWarning: A column-vector y was passed when a 1d array was expected. Please change the shape of y to (n_samples, ), for example using ravel().\n",
            "  y = column_or_1d(y, warn=True)\n",
            "/usr/local/lib/python3.7/dist-packages/sklearn/utils/validation.py:760: DataConversionWarning: A column-vector y was passed when a 1d array was expected. Please change the shape of y to (n_samples, ), for example using ravel().\n",
            "  y = column_or_1d(y, warn=True)\n"
          ]
        },
        {
          "output_type": "stream",
          "name": "stdout",
          "text": [
            "[CV]  C=100, gamma=1, kernel=poly, accuracy=0.772, precision=0.783, recall=0.814, total=   0.1s\n",
            "[CV] C=100, gamma=1, kernel=poly .....................................\n",
            "[CV]  C=100, gamma=1, kernel=poly, accuracy=0.721, precision=0.745, recall=0.752, total=   0.1s\n",
            "[CV] C=100, gamma=1, kernel=poly .....................................\n",
            "[CV]  C=100, gamma=1, kernel=poly, accuracy=0.656, precision=0.744, recall=0.574, total=   0.0s\n",
            "[CV] C=100, gamma=0.01, kernel=linear ................................\n"
          ]
        },
        {
          "output_type": "stream",
          "name": "stderr",
          "text": [
            "/usr/local/lib/python3.7/dist-packages/sklearn/utils/validation.py:760: DataConversionWarning: A column-vector y was passed when a 1d array was expected. Please change the shape of y to (n_samples, ), for example using ravel().\n",
            "  y = column_or_1d(y, warn=True)\n",
            "/usr/local/lib/python3.7/dist-packages/sklearn/utils/validation.py:760: DataConversionWarning: A column-vector y was passed when a 1d array was expected. Please change the shape of y to (n_samples, ), for example using ravel().\n",
            "  y = column_or_1d(y, warn=True)\n"
          ]
        },
        {
          "output_type": "stream",
          "name": "stdout",
          "text": [
            "[CV]  C=100, gamma=0.01, kernel=linear, accuracy=0.859, precision=0.913, recall=0.824, total=   0.6s\n",
            "[CV] C=100, gamma=0.01, kernel=linear ................................\n"
          ]
        },
        {
          "output_type": "stream",
          "name": "stderr",
          "text": [
            "/usr/local/lib/python3.7/dist-packages/sklearn/utils/validation.py:760: DataConversionWarning: A column-vector y was passed when a 1d array was expected. Please change the shape of y to (n_samples, ), for example using ravel().\n",
            "  y = column_or_1d(y, warn=True)\n"
          ]
        },
        {
          "output_type": "stream",
          "name": "stdout",
          "text": [
            "[CV]  C=100, gamma=0.01, kernel=linear, accuracy=0.832, precision=0.908, recall=0.775, total=   0.6s\n",
            "[CV] C=100, gamma=0.01, kernel=linear ................................\n"
          ]
        },
        {
          "output_type": "stream",
          "name": "stderr",
          "text": [
            "/usr/local/lib/python3.7/dist-packages/sklearn/utils/validation.py:760: DataConversionWarning: A column-vector y was passed when a 1d array was expected. Please change the shape of y to (n_samples, ), for example using ravel().\n",
            "  y = column_or_1d(y, warn=True)\n"
          ]
        },
        {
          "output_type": "stream",
          "name": "stdout",
          "text": [
            "[CV]  C=100, gamma=0.01, kernel=linear, accuracy=0.859, precision=0.806, recall=0.980, total=   0.5s\n",
            "[CV] C=100, gamma=0.01, kernel=linear ................................\n"
          ]
        },
        {
          "output_type": "stream",
          "name": "stderr",
          "text": [
            "/usr/local/lib/python3.7/dist-packages/sklearn/utils/validation.py:760: DataConversionWarning: A column-vector y was passed when a 1d array was expected. Please change the shape of y to (n_samples, ), for example using ravel().\n",
            "  y = column_or_1d(y, warn=True)\n"
          ]
        },
        {
          "output_type": "stream",
          "name": "stdout",
          "text": [
            "[CV]  C=100, gamma=0.01, kernel=linear, accuracy=0.847, precision=0.835, recall=0.901, total=   0.5s\n",
            "[CV] C=100, gamma=0.01, kernel=linear ................................\n"
          ]
        },
        {
          "output_type": "stream",
          "name": "stderr",
          "text": [
            "/usr/local/lib/python3.7/dist-packages/sklearn/utils/validation.py:760: DataConversionWarning: A column-vector y was passed when a 1d array was expected. Please change the shape of y to (n_samples, ), for example using ravel().\n",
            "  y = column_or_1d(y, warn=True)\n"
          ]
        },
        {
          "output_type": "stream",
          "name": "stdout",
          "text": [
            "[CV]  C=100, gamma=0.01, kernel=linear, accuracy=0.749, precision=0.802, recall=0.723, total=   0.5s\n",
            "[CV] C=100, gamma=0.01, kernel=rbf ...................................\n",
            "[CV]  C=100, gamma=0.01, kernel=rbf, accuracy=0.848, precision=0.911, recall=0.804, total=   0.0s\n",
            "[CV] C=100, gamma=0.01, kernel=rbf ...................................\n",
            "[CV]  C=100, gamma=0.01, kernel=rbf, accuracy=0.853, precision=0.912, recall=0.814, total=   0.0s\n",
            "[CV] C=100, gamma=0.01, kernel=rbf ...................................\n",
            "[CV]  C=100, gamma=0.01, kernel=rbf, accuracy=0.832, precision=0.771, recall=0.990, total=   0.0s\n",
            "[CV] C=100, gamma=0.01, kernel=rbf ...................................\n",
            "[CV]  C=100, gamma=0.01, kernel=rbf, accuracy=0.798, precision=0.786, recall=0.871, total=   0.0s\n",
            "[CV] C=100, gamma=0.01, kernel=rbf ...................................\n",
            "[CV]  C=100, gamma=0.01, kernel=rbf, accuracy=0.776, precision=0.841, recall=0.733, total=   0.0s\n",
            "[CV] C=100, gamma=0.01, kernel=poly ..................................\n",
            "[CV]  C=100, gamma=0.01, kernel=poly, accuracy=0.842, precision=0.910, recall=0.794, total=   0.0s\n",
            "[CV] C=100, gamma=0.01, kernel=poly ..................................\n",
            "[CV]  C=100, gamma=0.01, kernel=poly, accuracy=0.832, precision=0.874, recall=0.814, total=   0.0s\n",
            "[CV] C=100, gamma=0.01, kernel=poly ..................................\n"
          ]
        },
        {
          "output_type": "stream",
          "name": "stderr",
          "text": [
            "/usr/local/lib/python3.7/dist-packages/sklearn/utils/validation.py:760: DataConversionWarning: A column-vector y was passed when a 1d array was expected. Please change the shape of y to (n_samples, ), for example using ravel().\n",
            "  y = column_or_1d(y, warn=True)\n",
            "/usr/local/lib/python3.7/dist-packages/sklearn/utils/validation.py:760: DataConversionWarning: A column-vector y was passed when a 1d array was expected. Please change the shape of y to (n_samples, ), for example using ravel().\n",
            "  y = column_or_1d(y, warn=True)\n",
            "/usr/local/lib/python3.7/dist-packages/sklearn/utils/validation.py:760: DataConversionWarning: A column-vector y was passed when a 1d array was expected. Please change the shape of y to (n_samples, ), for example using ravel().\n",
            "  y = column_or_1d(y, warn=True)\n",
            "/usr/local/lib/python3.7/dist-packages/sklearn/utils/validation.py:760: DataConversionWarning: A column-vector y was passed when a 1d array was expected. Please change the shape of y to (n_samples, ), for example using ravel().\n",
            "  y = column_or_1d(y, warn=True)\n",
            "/usr/local/lib/python3.7/dist-packages/sklearn/utils/validation.py:760: DataConversionWarning: A column-vector y was passed when a 1d array was expected. Please change the shape of y to (n_samples, ), for example using ravel().\n",
            "  y = column_or_1d(y, warn=True)\n",
            "/usr/local/lib/python3.7/dist-packages/sklearn/utils/validation.py:760: DataConversionWarning: A column-vector y was passed when a 1d array was expected. Please change the shape of y to (n_samples, ), for example using ravel().\n",
            "  y = column_or_1d(y, warn=True)\n",
            "/usr/local/lib/python3.7/dist-packages/sklearn/utils/validation.py:760: DataConversionWarning: A column-vector y was passed when a 1d array was expected. Please change the shape of y to (n_samples, ), for example using ravel().\n",
            "  y = column_or_1d(y, warn=True)\n",
            "/usr/local/lib/python3.7/dist-packages/sklearn/utils/validation.py:760: DataConversionWarning: A column-vector y was passed when a 1d array was expected. Please change the shape of y to (n_samples, ), for example using ravel().\n",
            "  y = column_or_1d(y, warn=True)\n",
            "/usr/local/lib/python3.7/dist-packages/sklearn/utils/validation.py:760: DataConversionWarning: A column-vector y was passed when a 1d array was expected. Please change the shape of y to (n_samples, ), for example using ravel().\n",
            "  y = column_or_1d(y, warn=True)\n"
          ]
        },
        {
          "output_type": "stream",
          "name": "stdout",
          "text": [
            "[CV]  C=100, gamma=0.01, kernel=poly, accuracy=0.788, precision=0.727, recall=0.990, total=   0.0s\n",
            "[CV] C=100, gamma=0.01, kernel=poly ..................................\n",
            "[CV]  C=100, gamma=0.01, kernel=poly, accuracy=0.831, precision=0.818, recall=0.891, total=   0.0s\n",
            "[CV] C=100, gamma=0.01, kernel=poly ..................................\n",
            "[CV]  C=100, gamma=0.01, kernel=poly, accuracy=0.781, precision=0.828, recall=0.762, total=   0.0s\n",
            "[CV] C=100, gamma=0.001, kernel=linear ...............................\n"
          ]
        },
        {
          "output_type": "stream",
          "name": "stderr",
          "text": [
            "/usr/local/lib/python3.7/dist-packages/sklearn/utils/validation.py:760: DataConversionWarning: A column-vector y was passed when a 1d array was expected. Please change the shape of y to (n_samples, ), for example using ravel().\n",
            "  y = column_or_1d(y, warn=True)\n",
            "/usr/local/lib/python3.7/dist-packages/sklearn/utils/validation.py:760: DataConversionWarning: A column-vector y was passed when a 1d array was expected. Please change the shape of y to (n_samples, ), for example using ravel().\n",
            "  y = column_or_1d(y, warn=True)\n"
          ]
        },
        {
          "output_type": "stream",
          "name": "stdout",
          "text": [
            "[CV]  C=100, gamma=0.001, kernel=linear, accuracy=0.859, precision=0.913, recall=0.824, total=   0.6s\n",
            "[CV] C=100, gamma=0.001, kernel=linear ...............................\n"
          ]
        },
        {
          "output_type": "stream",
          "name": "stderr",
          "text": [
            "/usr/local/lib/python3.7/dist-packages/sklearn/utils/validation.py:760: DataConversionWarning: A column-vector y was passed when a 1d array was expected. Please change the shape of y to (n_samples, ), for example using ravel().\n",
            "  y = column_or_1d(y, warn=True)\n"
          ]
        },
        {
          "output_type": "stream",
          "name": "stdout",
          "text": [
            "[CV]  C=100, gamma=0.001, kernel=linear, accuracy=0.832, precision=0.908, recall=0.775, total=   0.6s\n",
            "[CV] C=100, gamma=0.001, kernel=linear ...............................\n"
          ]
        },
        {
          "output_type": "stream",
          "name": "stderr",
          "text": [
            "/usr/local/lib/python3.7/dist-packages/sklearn/utils/validation.py:760: DataConversionWarning: A column-vector y was passed when a 1d array was expected. Please change the shape of y to (n_samples, ), for example using ravel().\n",
            "  y = column_or_1d(y, warn=True)\n"
          ]
        },
        {
          "output_type": "stream",
          "name": "stdout",
          "text": [
            "[CV]  C=100, gamma=0.001, kernel=linear, accuracy=0.859, precision=0.806, recall=0.980, total=   0.5s\n",
            "[CV] C=100, gamma=0.001, kernel=linear ...............................\n"
          ]
        },
        {
          "output_type": "stream",
          "name": "stderr",
          "text": [
            "/usr/local/lib/python3.7/dist-packages/sklearn/utils/validation.py:760: DataConversionWarning: A column-vector y was passed when a 1d array was expected. Please change the shape of y to (n_samples, ), for example using ravel().\n",
            "  y = column_or_1d(y, warn=True)\n"
          ]
        },
        {
          "output_type": "stream",
          "name": "stdout",
          "text": [
            "[CV]  C=100, gamma=0.001, kernel=linear, accuracy=0.847, precision=0.835, recall=0.901, total=   0.5s\n",
            "[CV] C=100, gamma=0.001, kernel=linear ...............................\n"
          ]
        },
        {
          "output_type": "stream",
          "name": "stderr",
          "text": [
            "/usr/local/lib/python3.7/dist-packages/sklearn/utils/validation.py:760: DataConversionWarning: A column-vector y was passed when a 1d array was expected. Please change the shape of y to (n_samples, ), for example using ravel().\n",
            "  y = column_or_1d(y, warn=True)\n"
          ]
        },
        {
          "output_type": "stream",
          "name": "stdout",
          "text": [
            "[CV]  C=100, gamma=0.001, kernel=linear, accuracy=0.749, precision=0.802, recall=0.723, total=   0.5s\n",
            "[CV] C=100, gamma=0.001, kernel=rbf ..................................\n",
            "[CV]  C=100, gamma=0.001, kernel=rbf, accuracy=0.848, precision=0.911, recall=0.804, total=   0.0s\n",
            "[CV] C=100, gamma=0.001, kernel=rbf ..................................\n",
            "[CV]  C=100, gamma=0.001, kernel=rbf, accuracy=0.832, precision=0.918, recall=0.765, total=   0.0s\n",
            "[CV] C=100, gamma=0.001, kernel=rbf ..................................\n",
            "[CV]  C=100, gamma=0.001, kernel=rbf, accuracy=0.864, precision=0.813, recall=0.980, total=   0.0s\n",
            "[CV] C=100, gamma=0.001, kernel=rbf ..................................\n",
            "[CV]  C=100, gamma=0.001, kernel=rbf, accuracy=0.831, precision=0.824, recall=0.881, total=   0.0s\n",
            "[CV] C=100, gamma=0.001, kernel=rbf ..................................\n",
            "[CV]  C=100, gamma=0.001, kernel=rbf, accuracy=0.770, precision=0.824, recall=0.743, total=   0.0s\n",
            "[CV] C=100, gamma=0.001, kernel=poly .................................\n",
            "[CV]  C=100, gamma=0.001, kernel=poly, accuracy=0.554, precision=0.554, recall=1.000, total=   0.0s\n",
            "[CV] C=100, gamma=0.001, kernel=poly .................................\n",
            "[CV]  C=100, gamma=0.001, kernel=poly, accuracy=0.554, precision=0.554, recall=1.000, total=   0.0s\n",
            "[CV] C=100, gamma=0.001, kernel=poly .................................\n",
            "[CV]  C=100, gamma=0.001, kernel=poly, accuracy=0.554, precision=0.554, recall=1.000, total=   0.0s\n",
            "[CV] C=100, gamma=0.001, kernel=poly .................................\n",
            "[CV]  C=100, gamma=0.001, kernel=poly, accuracy=0.552, precision=0.552, recall=1.000, total=   0.0s\n",
            "[CV] C=100, gamma=0.001, kernel=poly .................................\n"
          ]
        },
        {
          "output_type": "stream",
          "name": "stderr",
          "text": [
            "/usr/local/lib/python3.7/dist-packages/sklearn/utils/validation.py:760: DataConversionWarning: A column-vector y was passed when a 1d array was expected. Please change the shape of y to (n_samples, ), for example using ravel().\n",
            "  y = column_or_1d(y, warn=True)\n",
            "/usr/local/lib/python3.7/dist-packages/sklearn/utils/validation.py:760: DataConversionWarning: A column-vector y was passed when a 1d array was expected. Please change the shape of y to (n_samples, ), for example using ravel().\n",
            "  y = column_or_1d(y, warn=True)\n",
            "/usr/local/lib/python3.7/dist-packages/sklearn/utils/validation.py:760: DataConversionWarning: A column-vector y was passed when a 1d array was expected. Please change the shape of y to (n_samples, ), for example using ravel().\n",
            "  y = column_or_1d(y, warn=True)\n",
            "/usr/local/lib/python3.7/dist-packages/sklearn/utils/validation.py:760: DataConversionWarning: A column-vector y was passed when a 1d array was expected. Please change the shape of y to (n_samples, ), for example using ravel().\n",
            "  y = column_or_1d(y, warn=True)\n",
            "/usr/local/lib/python3.7/dist-packages/sklearn/utils/validation.py:760: DataConversionWarning: A column-vector y was passed when a 1d array was expected. Please change the shape of y to (n_samples, ), for example using ravel().\n",
            "  y = column_or_1d(y, warn=True)\n",
            "/usr/local/lib/python3.7/dist-packages/sklearn/utils/validation.py:760: DataConversionWarning: A column-vector y was passed when a 1d array was expected. Please change the shape of y to (n_samples, ), for example using ravel().\n",
            "  y = column_or_1d(y, warn=True)\n",
            "/usr/local/lib/python3.7/dist-packages/sklearn/utils/validation.py:760: DataConversionWarning: A column-vector y was passed when a 1d array was expected. Please change the shape of y to (n_samples, ), for example using ravel().\n",
            "  y = column_or_1d(y, warn=True)\n",
            "/usr/local/lib/python3.7/dist-packages/sklearn/utils/validation.py:760: DataConversionWarning: A column-vector y was passed when a 1d array was expected. Please change the shape of y to (n_samples, ), for example using ravel().\n",
            "  y = column_or_1d(y, warn=True)\n",
            "/usr/local/lib/python3.7/dist-packages/sklearn/utils/validation.py:760: DataConversionWarning: A column-vector y was passed when a 1d array was expected. Please change the shape of y to (n_samples, ), for example using ravel().\n",
            "  y = column_or_1d(y, warn=True)\n",
            "/usr/local/lib/python3.7/dist-packages/sklearn/utils/validation.py:760: DataConversionWarning: A column-vector y was passed when a 1d array was expected. Please change the shape of y to (n_samples, ), for example using ravel().\n",
            "  y = column_or_1d(y, warn=True)\n"
          ]
        },
        {
          "output_type": "stream",
          "name": "stdout",
          "text": [
            "[CV]  C=100, gamma=0.001, kernel=poly, accuracy=0.552, precision=0.552, recall=1.000, total=   0.0s\n",
            "[CV] C=1000, gamma=scale, kernel=linear ..............................\n"
          ]
        },
        {
          "output_type": "stream",
          "name": "stderr",
          "text": [
            "/usr/local/lib/python3.7/dist-packages/sklearn/utils/validation.py:760: DataConversionWarning: A column-vector y was passed when a 1d array was expected. Please change the shape of y to (n_samples, ), for example using ravel().\n",
            "  y = column_or_1d(y, warn=True)\n"
          ]
        },
        {
          "output_type": "stream",
          "name": "stdout",
          "text": [
            "[CV]  C=1000, gamma=scale, kernel=linear, accuracy=0.859, precision=0.913, recall=0.824, total=   5.4s\n",
            "[CV] C=1000, gamma=scale, kernel=linear ..............................\n"
          ]
        },
        {
          "output_type": "stream",
          "name": "stderr",
          "text": [
            "/usr/local/lib/python3.7/dist-packages/sklearn/utils/validation.py:760: DataConversionWarning: A column-vector y was passed when a 1d array was expected. Please change the shape of y to (n_samples, ), for example using ravel().\n",
            "  y = column_or_1d(y, warn=True)\n"
          ]
        },
        {
          "output_type": "stream",
          "name": "stdout",
          "text": [
            "[CV]  C=1000, gamma=scale, kernel=linear, accuracy=0.832, precision=0.908, recall=0.775, total=   6.0s\n",
            "[CV] C=1000, gamma=scale, kernel=linear ..............................\n"
          ]
        },
        {
          "output_type": "stream",
          "name": "stderr",
          "text": [
            "/usr/local/lib/python3.7/dist-packages/sklearn/utils/validation.py:760: DataConversionWarning: A column-vector y was passed when a 1d array was expected. Please change the shape of y to (n_samples, ), for example using ravel().\n",
            "  y = column_or_1d(y, warn=True)\n"
          ]
        },
        {
          "output_type": "stream",
          "name": "stdout",
          "text": [
            "[CV]  C=1000, gamma=scale, kernel=linear, accuracy=0.859, precision=0.806, recall=0.980, total=   6.6s\n",
            "[CV] C=1000, gamma=scale, kernel=linear ..............................\n"
          ]
        },
        {
          "output_type": "stream",
          "name": "stderr",
          "text": [
            "/usr/local/lib/python3.7/dist-packages/sklearn/utils/validation.py:760: DataConversionWarning: A column-vector y was passed when a 1d array was expected. Please change the shape of y to (n_samples, ), for example using ravel().\n",
            "  y = column_or_1d(y, warn=True)\n"
          ]
        },
        {
          "output_type": "stream",
          "name": "stdout",
          "text": [
            "[CV]  C=1000, gamma=scale, kernel=linear, accuracy=0.847, precision=0.835, recall=0.901, total=   5.2s\n",
            "[CV] C=1000, gamma=scale, kernel=linear ..............................\n"
          ]
        },
        {
          "output_type": "stream",
          "name": "stderr",
          "text": [
            "/usr/local/lib/python3.7/dist-packages/sklearn/utils/validation.py:760: DataConversionWarning: A column-vector y was passed when a 1d array was expected. Please change the shape of y to (n_samples, ), for example using ravel().\n",
            "  y = column_or_1d(y, warn=True)\n"
          ]
        },
        {
          "output_type": "stream",
          "name": "stdout",
          "text": [
            "[CV]  C=1000, gamma=scale, kernel=linear, accuracy=0.749, precision=0.802, recall=0.723, total=   2.9s\n",
            "[CV] C=1000, gamma=scale, kernel=rbf .................................\n",
            "[CV]  C=1000, gamma=scale, kernel=rbf, accuracy=0.783, precision=0.887, recall=0.696, total=   0.0s\n",
            "[CV] C=1000, gamma=scale, kernel=rbf .................................\n",
            "[CV]  C=1000, gamma=scale, kernel=rbf, accuracy=0.815, precision=0.840, recall=0.824, total=   0.0s\n",
            "[CV] C=1000, gamma=scale, kernel=rbf .................................\n",
            "[CV]  C=1000, gamma=scale, kernel=rbf, accuracy=0.815, precision=0.788, recall=0.912, total=   0.0s\n",
            "[CV] C=1000, gamma=scale, kernel=rbf .................................\n",
            "[CV]  C=1000, gamma=scale, kernel=rbf, accuracy=0.776, precision=0.768, recall=0.851, total=   0.0s\n",
            "[CV] C=1000, gamma=scale, kernel=rbf .................................\n",
            "[CV]  C=1000, gamma=scale, kernel=rbf, accuracy=0.716, precision=0.763, recall=0.703, total=   0.0s\n",
            "[CV] C=1000, gamma=scale, kernel=poly ................................\n"
          ]
        },
        {
          "output_type": "stream",
          "name": "stderr",
          "text": [
            "/usr/local/lib/python3.7/dist-packages/sklearn/utils/validation.py:760: DataConversionWarning: A column-vector y was passed when a 1d array was expected. Please change the shape of y to (n_samples, ), for example using ravel().\n",
            "  y = column_or_1d(y, warn=True)\n",
            "/usr/local/lib/python3.7/dist-packages/sklearn/utils/validation.py:760: DataConversionWarning: A column-vector y was passed when a 1d array was expected. Please change the shape of y to (n_samples, ), for example using ravel().\n",
            "  y = column_or_1d(y, warn=True)\n",
            "/usr/local/lib/python3.7/dist-packages/sklearn/utils/validation.py:760: DataConversionWarning: A column-vector y was passed when a 1d array was expected. Please change the shape of y to (n_samples, ), for example using ravel().\n",
            "  y = column_or_1d(y, warn=True)\n",
            "/usr/local/lib/python3.7/dist-packages/sklearn/utils/validation.py:760: DataConversionWarning: A column-vector y was passed when a 1d array was expected. Please change the shape of y to (n_samples, ), for example using ravel().\n",
            "  y = column_or_1d(y, warn=True)\n",
            "/usr/local/lib/python3.7/dist-packages/sklearn/utils/validation.py:760: DataConversionWarning: A column-vector y was passed when a 1d array was expected. Please change the shape of y to (n_samples, ), for example using ravel().\n",
            "  y = column_or_1d(y, warn=True)\n",
            "/usr/local/lib/python3.7/dist-packages/sklearn/utils/validation.py:760: DataConversionWarning: A column-vector y was passed when a 1d array was expected. Please change the shape of y to (n_samples, ), for example using ravel().\n",
            "  y = column_or_1d(y, warn=True)\n"
          ]
        },
        {
          "output_type": "stream",
          "name": "stdout",
          "text": [
            "[CV]  C=1000, gamma=scale, kernel=poly, accuracy=0.799, precision=0.892, recall=0.725, total=   0.1s\n",
            "[CV] C=1000, gamma=scale, kernel=poly ................................\n",
            "[CV]  C=1000, gamma=scale, kernel=poly, accuracy=0.761, precision=0.845, recall=0.696, total=   0.1s\n",
            "[CV] C=1000, gamma=scale, kernel=poly ................................\n",
            "[CV]  C=1000, gamma=scale, kernel=poly, accuracy=0.766, precision=0.776, recall=0.814, total=   0.1s\n",
            "[CV] C=1000, gamma=scale, kernel=poly ................................\n"
          ]
        },
        {
          "output_type": "stream",
          "name": "stderr",
          "text": [
            "/usr/local/lib/python3.7/dist-packages/sklearn/utils/validation.py:760: DataConversionWarning: A column-vector y was passed when a 1d array was expected. Please change the shape of y to (n_samples, ), for example using ravel().\n",
            "  y = column_or_1d(y, warn=True)\n",
            "/usr/local/lib/python3.7/dist-packages/sklearn/utils/validation.py:760: DataConversionWarning: A column-vector y was passed when a 1d array was expected. Please change the shape of y to (n_samples, ), for example using ravel().\n",
            "  y = column_or_1d(y, warn=True)\n",
            "/usr/local/lib/python3.7/dist-packages/sklearn/utils/validation.py:760: DataConversionWarning: A column-vector y was passed when a 1d array was expected. Please change the shape of y to (n_samples, ), for example using ravel().\n",
            "  y = column_or_1d(y, warn=True)\n"
          ]
        },
        {
          "output_type": "stream",
          "name": "stdout",
          "text": [
            "[CV]  C=1000, gamma=scale, kernel=poly, accuracy=0.727, precision=0.752, recall=0.752, total=   0.1s\n",
            "[CV] C=1000, gamma=scale, kernel=poly ................................\n",
            "[CV]  C=1000, gamma=scale, kernel=poly, accuracy=0.667, precision=0.750, recall=0.594, total=   0.1s\n",
            "[CV] C=1000, gamma=auto, kernel=linear ...............................\n"
          ]
        },
        {
          "output_type": "stream",
          "name": "stderr",
          "text": [
            "/usr/local/lib/python3.7/dist-packages/sklearn/utils/validation.py:760: DataConversionWarning: A column-vector y was passed when a 1d array was expected. Please change the shape of y to (n_samples, ), for example using ravel().\n",
            "  y = column_or_1d(y, warn=True)\n",
            "/usr/local/lib/python3.7/dist-packages/sklearn/utils/validation.py:760: DataConversionWarning: A column-vector y was passed when a 1d array was expected. Please change the shape of y to (n_samples, ), for example using ravel().\n",
            "  y = column_or_1d(y, warn=True)\n"
          ]
        },
        {
          "output_type": "stream",
          "name": "stdout",
          "text": [
            "[CV]  C=1000, gamma=auto, kernel=linear, accuracy=0.859, precision=0.913, recall=0.824, total=   6.0s\n",
            "[CV] C=1000, gamma=auto, kernel=linear ...............................\n"
          ]
        },
        {
          "output_type": "stream",
          "name": "stderr",
          "text": [
            "/usr/local/lib/python3.7/dist-packages/sklearn/utils/validation.py:760: DataConversionWarning: A column-vector y was passed when a 1d array was expected. Please change the shape of y to (n_samples, ), for example using ravel().\n",
            "  y = column_or_1d(y, warn=True)\n"
          ]
        },
        {
          "output_type": "stream",
          "name": "stdout",
          "text": [
            "[CV]  C=1000, gamma=auto, kernel=linear, accuracy=0.832, precision=0.908, recall=0.775, total=   6.6s\n",
            "[CV] C=1000, gamma=auto, kernel=linear ...............................\n"
          ]
        },
        {
          "output_type": "stream",
          "name": "stderr",
          "text": [
            "/usr/local/lib/python3.7/dist-packages/sklearn/utils/validation.py:760: DataConversionWarning: A column-vector y was passed when a 1d array was expected. Please change the shape of y to (n_samples, ), for example using ravel().\n",
            "  y = column_or_1d(y, warn=True)\n"
          ]
        },
        {
          "output_type": "stream",
          "name": "stdout",
          "text": [
            "[CV]  C=1000, gamma=auto, kernel=linear, accuracy=0.859, precision=0.806, recall=0.980, total=   6.6s\n",
            "[CV] C=1000, gamma=auto, kernel=linear ...............................\n"
          ]
        },
        {
          "output_type": "stream",
          "name": "stderr",
          "text": [
            "/usr/local/lib/python3.7/dist-packages/sklearn/utils/validation.py:760: DataConversionWarning: A column-vector y was passed when a 1d array was expected. Please change the shape of y to (n_samples, ), for example using ravel().\n",
            "  y = column_or_1d(y, warn=True)\n"
          ]
        },
        {
          "output_type": "stream",
          "name": "stdout",
          "text": [
            "[CV]  C=1000, gamma=auto, kernel=linear, accuracy=0.847, precision=0.835, recall=0.901, total=   5.2s\n",
            "[CV] C=1000, gamma=auto, kernel=linear ...............................\n"
          ]
        },
        {
          "output_type": "stream",
          "name": "stderr",
          "text": [
            "/usr/local/lib/python3.7/dist-packages/sklearn/utils/validation.py:760: DataConversionWarning: A column-vector y was passed when a 1d array was expected. Please change the shape of y to (n_samples, ), for example using ravel().\n",
            "  y = column_or_1d(y, warn=True)\n"
          ]
        },
        {
          "output_type": "stream",
          "name": "stdout",
          "text": [
            "[CV]  C=1000, gamma=auto, kernel=linear, accuracy=0.749, precision=0.802, recall=0.723, total=   2.8s\n",
            "[CV] C=1000, gamma=auto, kernel=rbf ..................................\n",
            "[CV]  C=1000, gamma=auto, kernel=rbf, accuracy=0.783, precision=0.887, recall=0.696, total=   0.0s\n",
            "[CV] C=1000, gamma=auto, kernel=rbf ..................................\n",
            "[CV]  C=1000, gamma=auto, kernel=rbf, accuracy=0.815, precision=0.840, recall=0.824, total=   0.0s\n",
            "[CV] C=1000, gamma=auto, kernel=rbf ..................................\n",
            "[CV]  C=1000, gamma=auto, kernel=rbf, accuracy=0.815, precision=0.788, recall=0.912, total=   0.0s\n",
            "[CV] C=1000, gamma=auto, kernel=rbf ..................................\n",
            "[CV]  C=1000, gamma=auto, kernel=rbf, accuracy=0.776, precision=0.768, recall=0.851, total=   0.0s\n",
            "[CV] C=1000, gamma=auto, kernel=rbf ..................................\n",
            "[CV]  C=1000, gamma=auto, kernel=rbf, accuracy=0.716, precision=0.763, recall=0.703, total=   0.0s\n",
            "[CV] C=1000, gamma=auto, kernel=poly .................................\n"
          ]
        },
        {
          "output_type": "stream",
          "name": "stderr",
          "text": [
            "/usr/local/lib/python3.7/dist-packages/sklearn/utils/validation.py:760: DataConversionWarning: A column-vector y was passed when a 1d array was expected. Please change the shape of y to (n_samples, ), for example using ravel().\n",
            "  y = column_or_1d(y, warn=True)\n",
            "/usr/local/lib/python3.7/dist-packages/sklearn/utils/validation.py:760: DataConversionWarning: A column-vector y was passed when a 1d array was expected. Please change the shape of y to (n_samples, ), for example using ravel().\n",
            "  y = column_or_1d(y, warn=True)\n",
            "/usr/local/lib/python3.7/dist-packages/sklearn/utils/validation.py:760: DataConversionWarning: A column-vector y was passed when a 1d array was expected. Please change the shape of y to (n_samples, ), for example using ravel().\n",
            "  y = column_or_1d(y, warn=True)\n",
            "/usr/local/lib/python3.7/dist-packages/sklearn/utils/validation.py:760: DataConversionWarning: A column-vector y was passed when a 1d array was expected. Please change the shape of y to (n_samples, ), for example using ravel().\n",
            "  y = column_or_1d(y, warn=True)\n",
            "/usr/local/lib/python3.7/dist-packages/sklearn/utils/validation.py:760: DataConversionWarning: A column-vector y was passed when a 1d array was expected. Please change the shape of y to (n_samples, ), for example using ravel().\n",
            "  y = column_or_1d(y, warn=True)\n",
            "/usr/local/lib/python3.7/dist-packages/sklearn/utils/validation.py:760: DataConversionWarning: A column-vector y was passed when a 1d array was expected. Please change the shape of y to (n_samples, ), for example using ravel().\n",
            "  y = column_or_1d(y, warn=True)\n"
          ]
        },
        {
          "output_type": "stream",
          "name": "stdout",
          "text": [
            "[CV]  C=1000, gamma=auto, kernel=poly, accuracy=0.788, precision=0.880, recall=0.716, total=   0.1s\n",
            "[CV] C=1000, gamma=auto, kernel=poly .................................\n",
            "[CV]  C=1000, gamma=auto, kernel=poly, accuracy=0.761, precision=0.845, recall=0.696, total=   0.1s\n",
            "[CV] C=1000, gamma=auto, kernel=poly .................................\n",
            "[CV]  C=1000, gamma=auto, kernel=poly, accuracy=0.766, precision=0.776, recall=0.814, total=   0.1s\n",
            "[CV] C=1000, gamma=auto, kernel=poly .................................\n"
          ]
        },
        {
          "output_type": "stream",
          "name": "stderr",
          "text": [
            "/usr/local/lib/python3.7/dist-packages/sklearn/utils/validation.py:760: DataConversionWarning: A column-vector y was passed when a 1d array was expected. Please change the shape of y to (n_samples, ), for example using ravel().\n",
            "  y = column_or_1d(y, warn=True)\n",
            "/usr/local/lib/python3.7/dist-packages/sklearn/utils/validation.py:760: DataConversionWarning: A column-vector y was passed when a 1d array was expected. Please change the shape of y to (n_samples, ), for example using ravel().\n",
            "  y = column_or_1d(y, warn=True)\n",
            "/usr/local/lib/python3.7/dist-packages/sklearn/utils/validation.py:760: DataConversionWarning: A column-vector y was passed when a 1d array was expected. Please change the shape of y to (n_samples, ), for example using ravel().\n",
            "  y = column_or_1d(y, warn=True)\n"
          ]
        },
        {
          "output_type": "stream",
          "name": "stdout",
          "text": [
            "[CV]  C=1000, gamma=auto, kernel=poly, accuracy=0.727, precision=0.752, recall=0.752, total=   0.1s\n",
            "[CV] C=1000, gamma=auto, kernel=poly .................................\n",
            "[CV]  C=1000, gamma=auto, kernel=poly, accuracy=0.661, precision=0.741, recall=0.594, total=   0.1s\n",
            "[CV] C=1000, gamma=0.1, kernel=linear ................................\n"
          ]
        },
        {
          "output_type": "stream",
          "name": "stderr",
          "text": [
            "/usr/local/lib/python3.7/dist-packages/sklearn/utils/validation.py:760: DataConversionWarning: A column-vector y was passed when a 1d array was expected. Please change the shape of y to (n_samples, ), for example using ravel().\n",
            "  y = column_or_1d(y, warn=True)\n",
            "/usr/local/lib/python3.7/dist-packages/sklearn/utils/validation.py:760: DataConversionWarning: A column-vector y was passed when a 1d array was expected. Please change the shape of y to (n_samples, ), for example using ravel().\n",
            "  y = column_or_1d(y, warn=True)\n"
          ]
        },
        {
          "output_type": "stream",
          "name": "stdout",
          "text": [
            "[CV]  C=1000, gamma=0.1, kernel=linear, accuracy=0.859, precision=0.913, recall=0.824, total=   5.4s\n",
            "[CV] C=1000, gamma=0.1, kernel=linear ................................\n"
          ]
        },
        {
          "output_type": "stream",
          "name": "stderr",
          "text": [
            "/usr/local/lib/python3.7/dist-packages/sklearn/utils/validation.py:760: DataConversionWarning: A column-vector y was passed when a 1d array was expected. Please change the shape of y to (n_samples, ), for example using ravel().\n",
            "  y = column_or_1d(y, warn=True)\n"
          ]
        },
        {
          "output_type": "stream",
          "name": "stdout",
          "text": [
            "[CV]  C=1000, gamma=0.1, kernel=linear, accuracy=0.832, precision=0.908, recall=0.775, total=   5.9s\n",
            "[CV] C=1000, gamma=0.1, kernel=linear ................................\n"
          ]
        },
        {
          "output_type": "stream",
          "name": "stderr",
          "text": [
            "/usr/local/lib/python3.7/dist-packages/sklearn/utils/validation.py:760: DataConversionWarning: A column-vector y was passed when a 1d array was expected. Please change the shape of y to (n_samples, ), for example using ravel().\n",
            "  y = column_or_1d(y, warn=True)\n"
          ]
        },
        {
          "output_type": "stream",
          "name": "stdout",
          "text": [
            "[CV]  C=1000, gamma=0.1, kernel=linear, accuracy=0.859, precision=0.806, recall=0.980, total=   6.6s\n",
            "[CV] C=1000, gamma=0.1, kernel=linear ................................\n"
          ]
        },
        {
          "output_type": "stream",
          "name": "stderr",
          "text": [
            "/usr/local/lib/python3.7/dist-packages/sklearn/utils/validation.py:760: DataConversionWarning: A column-vector y was passed when a 1d array was expected. Please change the shape of y to (n_samples, ), for example using ravel().\n",
            "  y = column_or_1d(y, warn=True)\n"
          ]
        },
        {
          "output_type": "stream",
          "name": "stdout",
          "text": [
            "[CV]  C=1000, gamma=0.1, kernel=linear, accuracy=0.847, precision=0.835, recall=0.901, total=   5.3s\n",
            "[CV] C=1000, gamma=0.1, kernel=linear ................................\n"
          ]
        },
        {
          "output_type": "stream",
          "name": "stderr",
          "text": [
            "/usr/local/lib/python3.7/dist-packages/sklearn/utils/validation.py:760: DataConversionWarning: A column-vector y was passed when a 1d array was expected. Please change the shape of y to (n_samples, ), for example using ravel().\n",
            "  y = column_or_1d(y, warn=True)\n"
          ]
        },
        {
          "output_type": "stream",
          "name": "stdout",
          "text": [
            "[CV]  C=1000, gamma=0.1, kernel=linear, accuracy=0.749, precision=0.802, recall=0.723, total=   2.8s\n",
            "[CV] C=1000, gamma=0.1, kernel=rbf ...................................\n",
            "[CV]  C=1000, gamma=0.1, kernel=rbf, accuracy=0.788, precision=0.889, recall=0.706, total=   0.0s\n",
            "[CV] C=1000, gamma=0.1, kernel=rbf ...................................\n",
            "[CV]  C=1000, gamma=0.1, kernel=rbf, accuracy=0.810, precision=0.838, recall=0.814, total=   0.0s\n",
            "[CV] C=1000, gamma=0.1, kernel=rbf ...................................\n",
            "[CV]  C=1000, gamma=0.1, kernel=rbf, accuracy=0.815, precision=0.788, recall=0.912, total=   0.0s\n",
            "[CV] C=1000, gamma=0.1, kernel=rbf ...................................\n",
            "[CV]  C=1000, gamma=0.1, kernel=rbf, accuracy=0.770, precision=0.761, recall=0.851, total=   0.0s\n",
            "[CV] C=1000, gamma=0.1, kernel=rbf ...................................\n",
            "[CV]  C=1000, gamma=0.1, kernel=rbf, accuracy=0.727, precision=0.768, recall=0.723, total=   0.0s\n",
            "[CV] C=1000, gamma=0.1, kernel=poly ..................................\n"
          ]
        },
        {
          "output_type": "stream",
          "name": "stderr",
          "text": [
            "/usr/local/lib/python3.7/dist-packages/sklearn/utils/validation.py:760: DataConversionWarning: A column-vector y was passed when a 1d array was expected. Please change the shape of y to (n_samples, ), for example using ravel().\n",
            "  y = column_or_1d(y, warn=True)\n",
            "/usr/local/lib/python3.7/dist-packages/sklearn/utils/validation.py:760: DataConversionWarning: A column-vector y was passed when a 1d array was expected. Please change the shape of y to (n_samples, ), for example using ravel().\n",
            "  y = column_or_1d(y, warn=True)\n",
            "/usr/local/lib/python3.7/dist-packages/sklearn/utils/validation.py:760: DataConversionWarning: A column-vector y was passed when a 1d array was expected. Please change the shape of y to (n_samples, ), for example using ravel().\n",
            "  y = column_or_1d(y, warn=True)\n",
            "/usr/local/lib/python3.7/dist-packages/sklearn/utils/validation.py:760: DataConversionWarning: A column-vector y was passed when a 1d array was expected. Please change the shape of y to (n_samples, ), for example using ravel().\n",
            "  y = column_or_1d(y, warn=True)\n",
            "/usr/local/lib/python3.7/dist-packages/sklearn/utils/validation.py:760: DataConversionWarning: A column-vector y was passed when a 1d array was expected. Please change the shape of y to (n_samples, ), for example using ravel().\n",
            "  y = column_or_1d(y, warn=True)\n",
            "/usr/local/lib/python3.7/dist-packages/sklearn/utils/validation.py:760: DataConversionWarning: A column-vector y was passed when a 1d array was expected. Please change the shape of y to (n_samples, ), for example using ravel().\n",
            "  y = column_or_1d(y, warn=True)\n"
          ]
        },
        {
          "output_type": "stream",
          "name": "stdout",
          "text": [
            "[CV]  C=1000, gamma=0.1, kernel=poly, accuracy=0.793, precision=0.872, recall=0.735, total=   0.1s\n",
            "[CV] C=1000, gamma=0.1, kernel=poly ..................................\n",
            "[CV]  C=1000, gamma=0.1, kernel=poly, accuracy=0.755, precision=0.843, recall=0.686, total=   0.1s\n",
            "[CV] C=1000, gamma=0.1, kernel=poly ..................................\n",
            "[CV]  C=1000, gamma=0.1, kernel=poly, accuracy=0.761, precision=0.769, recall=0.814, total=   0.1s\n",
            "[CV] C=1000, gamma=0.1, kernel=poly ..................................\n"
          ]
        },
        {
          "output_type": "stream",
          "name": "stderr",
          "text": [
            "/usr/local/lib/python3.7/dist-packages/sklearn/utils/validation.py:760: DataConversionWarning: A column-vector y was passed when a 1d array was expected. Please change the shape of y to (n_samples, ), for example using ravel().\n",
            "  y = column_or_1d(y, warn=True)\n",
            "/usr/local/lib/python3.7/dist-packages/sklearn/utils/validation.py:760: DataConversionWarning: A column-vector y was passed when a 1d array was expected. Please change the shape of y to (n_samples, ), for example using ravel().\n",
            "  y = column_or_1d(y, warn=True)\n",
            "/usr/local/lib/python3.7/dist-packages/sklearn/utils/validation.py:760: DataConversionWarning: A column-vector y was passed when a 1d array was expected. Please change the shape of y to (n_samples, ), for example using ravel().\n",
            "  y = column_or_1d(y, warn=True)\n"
          ]
        },
        {
          "output_type": "stream",
          "name": "stdout",
          "text": [
            "[CV]  C=1000, gamma=0.1, kernel=poly, accuracy=0.721, precision=0.745, recall=0.752, total=   0.1s\n",
            "[CV] C=1000, gamma=0.1, kernel=poly ..................................\n",
            "[CV]  C=1000, gamma=0.1, kernel=poly, accuracy=0.656, precision=0.744, recall=0.574, total=   0.1s\n",
            "[CV] C=1000, gamma=1, kernel=linear ..................................\n"
          ]
        },
        {
          "output_type": "stream",
          "name": "stderr",
          "text": [
            "/usr/local/lib/python3.7/dist-packages/sklearn/utils/validation.py:760: DataConversionWarning: A column-vector y was passed when a 1d array was expected. Please change the shape of y to (n_samples, ), for example using ravel().\n",
            "  y = column_or_1d(y, warn=True)\n",
            "/usr/local/lib/python3.7/dist-packages/sklearn/utils/validation.py:760: DataConversionWarning: A column-vector y was passed when a 1d array was expected. Please change the shape of y to (n_samples, ), for example using ravel().\n",
            "  y = column_or_1d(y, warn=True)\n"
          ]
        },
        {
          "output_type": "stream",
          "name": "stdout",
          "text": [
            "[CV]  C=1000, gamma=1, kernel=linear, accuracy=0.859, precision=0.913, recall=0.824, total=   5.5s\n",
            "[CV] C=1000, gamma=1, kernel=linear ..................................\n"
          ]
        },
        {
          "output_type": "stream",
          "name": "stderr",
          "text": [
            "/usr/local/lib/python3.7/dist-packages/sklearn/utils/validation.py:760: DataConversionWarning: A column-vector y was passed when a 1d array was expected. Please change the shape of y to (n_samples, ), for example using ravel().\n",
            "  y = column_or_1d(y, warn=True)\n"
          ]
        },
        {
          "output_type": "stream",
          "name": "stdout",
          "text": [
            "[CV]  C=1000, gamma=1, kernel=linear, accuracy=0.832, precision=0.908, recall=0.775, total=   5.9s\n",
            "[CV] C=1000, gamma=1, kernel=linear ..................................\n"
          ]
        },
        {
          "output_type": "stream",
          "name": "stderr",
          "text": [
            "/usr/local/lib/python3.7/dist-packages/sklearn/utils/validation.py:760: DataConversionWarning: A column-vector y was passed when a 1d array was expected. Please change the shape of y to (n_samples, ), for example using ravel().\n",
            "  y = column_or_1d(y, warn=True)\n"
          ]
        },
        {
          "output_type": "stream",
          "name": "stdout",
          "text": [
            "[CV]  C=1000, gamma=1, kernel=linear, accuracy=0.859, precision=0.806, recall=0.980, total=   6.6s\n",
            "[CV] C=1000, gamma=1, kernel=linear ..................................\n"
          ]
        },
        {
          "output_type": "stream",
          "name": "stderr",
          "text": [
            "/usr/local/lib/python3.7/dist-packages/sklearn/utils/validation.py:760: DataConversionWarning: A column-vector y was passed when a 1d array was expected. Please change the shape of y to (n_samples, ), for example using ravel().\n",
            "  y = column_or_1d(y, warn=True)\n"
          ]
        },
        {
          "output_type": "stream",
          "name": "stdout",
          "text": [
            "[CV]  C=1000, gamma=1, kernel=linear, accuracy=0.847, precision=0.835, recall=0.901, total=   5.2s\n",
            "[CV] C=1000, gamma=1, kernel=linear ..................................\n"
          ]
        },
        {
          "output_type": "stream",
          "name": "stderr",
          "text": [
            "/usr/local/lib/python3.7/dist-packages/sklearn/utils/validation.py:760: DataConversionWarning: A column-vector y was passed when a 1d array was expected. Please change the shape of y to (n_samples, ), for example using ravel().\n",
            "  y = column_or_1d(y, warn=True)\n"
          ]
        },
        {
          "output_type": "stream",
          "name": "stdout",
          "text": [
            "[CV]  C=1000, gamma=1, kernel=linear, accuracy=0.749, precision=0.802, recall=0.723, total=   2.8s\n",
            "[CV] C=1000, gamma=1, kernel=rbf .....................................\n",
            "[CV]  C=1000, gamma=1, kernel=rbf, accuracy=0.821, precision=0.800, recall=0.902, total=   0.0s\n",
            "[CV] C=1000, gamma=1, kernel=rbf .....................................\n",
            "[CV]  C=1000, gamma=1, kernel=rbf, accuracy=0.875, precision=0.832, recall=0.971, total=   0.0s\n",
            "[CV] C=1000, gamma=1, kernel=rbf .....................................\n",
            "[CV]  C=1000, gamma=1, kernel=rbf, accuracy=0.701, precision=0.650, recall=1.000, total=   0.0s\n",
            "[CV] C=1000, gamma=1, kernel=rbf .....................................\n",
            "[CV]  C=1000, gamma=1, kernel=rbf, accuracy=0.699, precision=0.669, recall=0.901, total=   0.0s\n",
            "[CV] C=1000, gamma=1, kernel=rbf .....................................\n"
          ]
        },
        {
          "output_type": "stream",
          "name": "stderr",
          "text": [
            "/usr/local/lib/python3.7/dist-packages/sklearn/utils/validation.py:760: DataConversionWarning: A column-vector y was passed when a 1d array was expected. Please change the shape of y to (n_samples, ), for example using ravel().\n",
            "  y = column_or_1d(y, warn=True)\n",
            "/usr/local/lib/python3.7/dist-packages/sklearn/utils/validation.py:760: DataConversionWarning: A column-vector y was passed when a 1d array was expected. Please change the shape of y to (n_samples, ), for example using ravel().\n",
            "  y = column_or_1d(y, warn=True)\n",
            "/usr/local/lib/python3.7/dist-packages/sklearn/utils/validation.py:760: DataConversionWarning: A column-vector y was passed when a 1d array was expected. Please change the shape of y to (n_samples, ), for example using ravel().\n",
            "  y = column_or_1d(y, warn=True)\n",
            "/usr/local/lib/python3.7/dist-packages/sklearn/utils/validation.py:760: DataConversionWarning: A column-vector y was passed when a 1d array was expected. Please change the shape of y to (n_samples, ), for example using ravel().\n",
            "  y = column_or_1d(y, warn=True)\n",
            "/usr/local/lib/python3.7/dist-packages/sklearn/utils/validation.py:760: DataConversionWarning: A column-vector y was passed when a 1d array was expected. Please change the shape of y to (n_samples, ), for example using ravel().\n",
            "  y = column_or_1d(y, warn=True)\n"
          ]
        },
        {
          "output_type": "stream",
          "name": "stdout",
          "text": [
            "[CV]  C=1000, gamma=1, kernel=rbf, accuracy=0.710, precision=0.690, recall=0.861, total=   0.0s\n",
            "[CV] C=1000, gamma=1, kernel=poly ....................................\n",
            "[CV]  C=1000, gamma=1, kernel=poly, accuracy=0.793, precision=0.881, recall=0.725, total=   0.1s\n",
            "[CV] C=1000, gamma=1, kernel=poly ....................................\n",
            "[CV]  C=1000, gamma=1, kernel=poly, accuracy=0.761, precision=0.822, recall=0.725, total=   0.1s\n",
            "[CV] C=1000, gamma=1, kernel=poly ....................................\n"
          ]
        },
        {
          "output_type": "stream",
          "name": "stderr",
          "text": [
            "/usr/local/lib/python3.7/dist-packages/sklearn/utils/validation.py:760: DataConversionWarning: A column-vector y was passed when a 1d array was expected. Please change the shape of y to (n_samples, ), for example using ravel().\n",
            "  y = column_or_1d(y, warn=True)\n",
            "/usr/local/lib/python3.7/dist-packages/sklearn/utils/validation.py:760: DataConversionWarning: A column-vector y was passed when a 1d array was expected. Please change the shape of y to (n_samples, ), for example using ravel().\n",
            "  y = column_or_1d(y, warn=True)\n",
            "/usr/local/lib/python3.7/dist-packages/sklearn/utils/validation.py:760: DataConversionWarning: A column-vector y was passed when a 1d array was expected. Please change the shape of y to (n_samples, ), for example using ravel().\n",
            "  y = column_or_1d(y, warn=True)\n"
          ]
        },
        {
          "output_type": "stream",
          "name": "stdout",
          "text": [
            "[CV]  C=1000, gamma=1, kernel=poly, accuracy=0.772, precision=0.783, recall=0.814, total=   0.1s\n",
            "[CV] C=1000, gamma=1, kernel=poly ....................................\n",
            "[CV]  C=1000, gamma=1, kernel=poly, accuracy=0.721, precision=0.745, recall=0.752, total=   0.1s\n",
            "[CV] C=1000, gamma=1, kernel=poly ....................................\n",
            "[CV]  C=1000, gamma=1, kernel=poly, accuracy=0.656, precision=0.744, recall=0.574, total=   0.0s\n",
            "[CV] C=1000, gamma=0.01, kernel=linear ...............................\n"
          ]
        },
        {
          "output_type": "stream",
          "name": "stderr",
          "text": [
            "/usr/local/lib/python3.7/dist-packages/sklearn/utils/validation.py:760: DataConversionWarning: A column-vector y was passed when a 1d array was expected. Please change the shape of y to (n_samples, ), for example using ravel().\n",
            "  y = column_or_1d(y, warn=True)\n",
            "/usr/local/lib/python3.7/dist-packages/sklearn/utils/validation.py:760: DataConversionWarning: A column-vector y was passed when a 1d array was expected. Please change the shape of y to (n_samples, ), for example using ravel().\n",
            "  y = column_or_1d(y, warn=True)\n",
            "/usr/local/lib/python3.7/dist-packages/sklearn/utils/validation.py:760: DataConversionWarning: A column-vector y was passed when a 1d array was expected. Please change the shape of y to (n_samples, ), for example using ravel().\n",
            "  y = column_or_1d(y, warn=True)\n"
          ]
        },
        {
          "output_type": "stream",
          "name": "stdout",
          "text": [
            "[CV]  C=1000, gamma=0.01, kernel=linear, accuracy=0.859, precision=0.913, recall=0.824, total=   5.4s\n",
            "[CV] C=1000, gamma=0.01, kernel=linear ...............................\n"
          ]
        },
        {
          "output_type": "stream",
          "name": "stderr",
          "text": [
            "/usr/local/lib/python3.7/dist-packages/sklearn/utils/validation.py:760: DataConversionWarning: A column-vector y was passed when a 1d array was expected. Please change the shape of y to (n_samples, ), for example using ravel().\n",
            "  y = column_or_1d(y, warn=True)\n"
          ]
        },
        {
          "output_type": "stream",
          "name": "stdout",
          "text": [
            "[CV]  C=1000, gamma=0.01, kernel=linear, accuracy=0.832, precision=0.908, recall=0.775, total=   5.9s\n",
            "[CV] C=1000, gamma=0.01, kernel=linear ...............................\n"
          ]
        },
        {
          "output_type": "stream",
          "name": "stderr",
          "text": [
            "/usr/local/lib/python3.7/dist-packages/sklearn/utils/validation.py:760: DataConversionWarning: A column-vector y was passed when a 1d array was expected. Please change the shape of y to (n_samples, ), for example using ravel().\n",
            "  y = column_or_1d(y, warn=True)\n"
          ]
        },
        {
          "output_type": "stream",
          "name": "stdout",
          "text": [
            "[CV]  C=1000, gamma=0.01, kernel=linear, accuracy=0.859, precision=0.806, recall=0.980, total=   6.6s\n",
            "[CV] C=1000, gamma=0.01, kernel=linear ...............................\n"
          ]
        },
        {
          "output_type": "stream",
          "name": "stderr",
          "text": [
            "/usr/local/lib/python3.7/dist-packages/sklearn/utils/validation.py:760: DataConversionWarning: A column-vector y was passed when a 1d array was expected. Please change the shape of y to (n_samples, ), for example using ravel().\n",
            "  y = column_or_1d(y, warn=True)\n"
          ]
        },
        {
          "output_type": "stream",
          "name": "stdout",
          "text": [
            "[CV]  C=1000, gamma=0.01, kernel=linear, accuracy=0.847, precision=0.835, recall=0.901, total=   5.2s\n",
            "[CV] C=1000, gamma=0.01, kernel=linear ...............................\n"
          ]
        },
        {
          "output_type": "stream",
          "name": "stderr",
          "text": [
            "/usr/local/lib/python3.7/dist-packages/sklearn/utils/validation.py:760: DataConversionWarning: A column-vector y was passed when a 1d array was expected. Please change the shape of y to (n_samples, ), for example using ravel().\n",
            "  y = column_or_1d(y, warn=True)\n"
          ]
        },
        {
          "output_type": "stream",
          "name": "stdout",
          "text": [
            "[CV]  C=1000, gamma=0.01, kernel=linear, accuracy=0.749, precision=0.802, recall=0.723, total=   2.8s\n",
            "[CV] C=1000, gamma=0.01, kernel=rbf ..................................\n",
            "[CV]  C=1000, gamma=0.01, kernel=rbf, accuracy=0.826, precision=0.917, recall=0.755, total=   0.1s\n",
            "[CV] C=1000, gamma=0.01, kernel=rbf ..................................\n"
          ]
        },
        {
          "output_type": "stream",
          "name": "stderr",
          "text": [
            "/usr/local/lib/python3.7/dist-packages/sklearn/utils/validation.py:760: DataConversionWarning: A column-vector y was passed when a 1d array was expected. Please change the shape of y to (n_samples, ), for example using ravel().\n",
            "  y = column_or_1d(y, warn=True)\n",
            "/usr/local/lib/python3.7/dist-packages/sklearn/utils/validation.py:760: DataConversionWarning: A column-vector y was passed when a 1d array was expected. Please change the shape of y to (n_samples, ), for example using ravel().\n",
            "  y = column_or_1d(y, warn=True)\n"
          ]
        },
        {
          "output_type": "stream",
          "name": "stdout",
          "text": [
            "[CV]  C=1000, gamma=0.01, kernel=rbf, accuracy=0.826, precision=0.880, recall=0.794, total=   0.1s\n",
            "[CV] C=1000, gamma=0.01, kernel=rbf ..................................\n",
            "[CV]  C=1000, gamma=0.01, kernel=rbf, accuracy=0.821, precision=0.776, recall=0.951, total=   0.1s\n",
            "[CV] C=1000, gamma=0.01, kernel=rbf ..................................\n",
            "[CV]  C=1000, gamma=0.01, kernel=rbf, accuracy=0.770, precision=0.766, recall=0.842, total=   0.1s\n",
            "[CV] C=1000, gamma=0.01, kernel=rbf ..................................\n"
          ]
        },
        {
          "output_type": "stream",
          "name": "stderr",
          "text": [
            "/usr/local/lib/python3.7/dist-packages/sklearn/utils/validation.py:760: DataConversionWarning: A column-vector y was passed when a 1d array was expected. Please change the shape of y to (n_samples, ), for example using ravel().\n",
            "  y = column_or_1d(y, warn=True)\n",
            "/usr/local/lib/python3.7/dist-packages/sklearn/utils/validation.py:760: DataConversionWarning: A column-vector y was passed when a 1d array was expected. Please change the shape of y to (n_samples, ), for example using ravel().\n",
            "  y = column_or_1d(y, warn=True)\n",
            "/usr/local/lib/python3.7/dist-packages/sklearn/utils/validation.py:760: DataConversionWarning: A column-vector y was passed when a 1d array was expected. Please change the shape of y to (n_samples, ), for example using ravel().\n",
            "  y = column_or_1d(y, warn=True)\n",
            "/usr/local/lib/python3.7/dist-packages/sklearn/utils/validation.py:760: DataConversionWarning: A column-vector y was passed when a 1d array was expected. Please change the shape of y to (n_samples, ), for example using ravel().\n",
            "  y = column_or_1d(y, warn=True)\n"
          ]
        },
        {
          "output_type": "stream",
          "name": "stdout",
          "text": [
            "[CV]  C=1000, gamma=0.01, kernel=rbf, accuracy=0.743, precision=0.807, recall=0.703, total=   0.1s\n",
            "[CV] C=1000, gamma=0.01, kernel=poly .................................\n",
            "[CV]  C=1000, gamma=0.01, kernel=poly, accuracy=0.832, precision=0.918, recall=0.765, total=   0.0s\n",
            "[CV] C=1000, gamma=0.01, kernel=poly .................................\n",
            "[CV]  C=1000, gamma=0.01, kernel=poly, accuracy=0.826, precision=0.907, recall=0.765, total=   0.0s\n",
            "[CV] C=1000, gamma=0.01, kernel=poly .................................\n",
            "[CV]  C=1000, gamma=0.01, kernel=poly, accuracy=0.859, precision=0.811, recall=0.971, total=   0.0s\n",
            "[CV] C=1000, gamma=0.01, kernel=poly .................................\n",
            "[CV]  C=1000, gamma=0.01, kernel=poly, accuracy=0.820, precision=0.821, recall=0.861, total=   0.0s\n",
            "[CV] C=1000, gamma=0.01, kernel=poly .................................\n",
            "[CV]  C=1000, gamma=0.01, kernel=poly, accuracy=0.738, precision=0.791, recall=0.713, total=   0.0s\n",
            "[CV] C=1000, gamma=0.001, kernel=linear ..............................\n"
          ]
        },
        {
          "output_type": "stream",
          "name": "stderr",
          "text": [
            "/usr/local/lib/python3.7/dist-packages/sklearn/utils/validation.py:760: DataConversionWarning: A column-vector y was passed when a 1d array was expected. Please change the shape of y to (n_samples, ), for example using ravel().\n",
            "  y = column_or_1d(y, warn=True)\n",
            "/usr/local/lib/python3.7/dist-packages/sklearn/utils/validation.py:760: DataConversionWarning: A column-vector y was passed when a 1d array was expected. Please change the shape of y to (n_samples, ), for example using ravel().\n",
            "  y = column_or_1d(y, warn=True)\n",
            "/usr/local/lib/python3.7/dist-packages/sklearn/utils/validation.py:760: DataConversionWarning: A column-vector y was passed when a 1d array was expected. Please change the shape of y to (n_samples, ), for example using ravel().\n",
            "  y = column_or_1d(y, warn=True)\n",
            "/usr/local/lib/python3.7/dist-packages/sklearn/utils/validation.py:760: DataConversionWarning: A column-vector y was passed when a 1d array was expected. Please change the shape of y to (n_samples, ), for example using ravel().\n",
            "  y = column_or_1d(y, warn=True)\n",
            "/usr/local/lib/python3.7/dist-packages/sklearn/utils/validation.py:760: DataConversionWarning: A column-vector y was passed when a 1d array was expected. Please change the shape of y to (n_samples, ), for example using ravel().\n",
            "  y = column_or_1d(y, warn=True)\n"
          ]
        },
        {
          "output_type": "stream",
          "name": "stdout",
          "text": [
            "[CV]  C=1000, gamma=0.001, kernel=linear, accuracy=0.859, precision=0.913, recall=0.824, total=   5.5s\n",
            "[CV] C=1000, gamma=0.001, kernel=linear ..............................\n"
          ]
        },
        {
          "output_type": "stream",
          "name": "stderr",
          "text": [
            "/usr/local/lib/python3.7/dist-packages/sklearn/utils/validation.py:760: DataConversionWarning: A column-vector y was passed when a 1d array was expected. Please change the shape of y to (n_samples, ), for example using ravel().\n",
            "  y = column_or_1d(y, warn=True)\n"
          ]
        },
        {
          "output_type": "stream",
          "name": "stdout",
          "text": [
            "[CV]  C=1000, gamma=0.001, kernel=linear, accuracy=0.832, precision=0.908, recall=0.775, total=   6.0s\n",
            "[CV] C=1000, gamma=0.001, kernel=linear ..............................\n"
          ]
        },
        {
          "output_type": "stream",
          "name": "stderr",
          "text": [
            "/usr/local/lib/python3.7/dist-packages/sklearn/utils/validation.py:760: DataConversionWarning: A column-vector y was passed when a 1d array was expected. Please change the shape of y to (n_samples, ), for example using ravel().\n",
            "  y = column_or_1d(y, warn=True)\n"
          ]
        },
        {
          "output_type": "stream",
          "name": "stdout",
          "text": [
            "[CV]  C=1000, gamma=0.001, kernel=linear, accuracy=0.859, precision=0.806, recall=0.980, total=   6.6s\n",
            "[CV] C=1000, gamma=0.001, kernel=linear ..............................\n"
          ]
        },
        {
          "output_type": "stream",
          "name": "stderr",
          "text": [
            "/usr/local/lib/python3.7/dist-packages/sklearn/utils/validation.py:760: DataConversionWarning: A column-vector y was passed when a 1d array was expected. Please change the shape of y to (n_samples, ), for example using ravel().\n",
            "  y = column_or_1d(y, warn=True)\n"
          ]
        },
        {
          "output_type": "stream",
          "name": "stdout",
          "text": [
            "[CV]  C=1000, gamma=0.001, kernel=linear, accuracy=0.847, precision=0.835, recall=0.901, total=   5.2s\n",
            "[CV] C=1000, gamma=0.001, kernel=linear ..............................\n"
          ]
        },
        {
          "output_type": "stream",
          "name": "stderr",
          "text": [
            "/usr/local/lib/python3.7/dist-packages/sklearn/utils/validation.py:760: DataConversionWarning: A column-vector y was passed when a 1d array was expected. Please change the shape of y to (n_samples, ), for example using ravel().\n",
            "  y = column_or_1d(y, warn=True)\n"
          ]
        },
        {
          "output_type": "stream",
          "name": "stdout",
          "text": [
            "[CV]  C=1000, gamma=0.001, kernel=linear, accuracy=0.749, precision=0.802, recall=0.723, total=   2.8s\n",
            "[CV] C=1000, gamma=0.001, kernel=rbf .................................\n",
            "[CV]  C=1000, gamma=0.001, kernel=rbf, accuracy=0.853, precision=0.912, recall=0.814, total=   0.0s\n",
            "[CV] C=1000, gamma=0.001, kernel=rbf .................................\n",
            "[CV]  C=1000, gamma=0.001, kernel=rbf, accuracy=0.848, precision=0.920, recall=0.794, total=   0.0s\n",
            "[CV] C=1000, gamma=0.001, kernel=rbf .................................\n",
            "[CV]  C=1000, gamma=0.001, kernel=rbf, accuracy=0.848, precision=0.789, recall=0.990, total=   0.0s\n",
            "[CV] C=1000, gamma=0.001, kernel=rbf .................................\n",
            "[CV]  C=1000, gamma=0.001, kernel=rbf, accuracy=0.820, precision=0.815, recall=0.871, total=   0.0s\n",
            "[CV] C=1000, gamma=0.001, kernel=rbf .................................\n",
            "[CV]  C=1000, gamma=0.001, kernel=rbf, accuracy=0.776, precision=0.849, recall=0.723, total=   0.0s\n",
            "[CV] C=1000, gamma=0.001, kernel=poly ................................\n",
            "[CV]  C=1000, gamma=0.001, kernel=poly, accuracy=0.554, precision=0.554, recall=1.000, total=   0.0s\n",
            "[CV] C=1000, gamma=0.001, kernel=poly ................................\n"
          ]
        },
        {
          "output_type": "stream",
          "name": "stderr",
          "text": [
            "/usr/local/lib/python3.7/dist-packages/sklearn/utils/validation.py:760: DataConversionWarning: A column-vector y was passed when a 1d array was expected. Please change the shape of y to (n_samples, ), for example using ravel().\n",
            "  y = column_or_1d(y, warn=True)\n",
            "/usr/local/lib/python3.7/dist-packages/sklearn/utils/validation.py:760: DataConversionWarning: A column-vector y was passed when a 1d array was expected. Please change the shape of y to (n_samples, ), for example using ravel().\n",
            "  y = column_or_1d(y, warn=True)\n",
            "/usr/local/lib/python3.7/dist-packages/sklearn/utils/validation.py:760: DataConversionWarning: A column-vector y was passed when a 1d array was expected. Please change the shape of y to (n_samples, ), for example using ravel().\n",
            "  y = column_or_1d(y, warn=True)\n",
            "/usr/local/lib/python3.7/dist-packages/sklearn/utils/validation.py:760: DataConversionWarning: A column-vector y was passed when a 1d array was expected. Please change the shape of y to (n_samples, ), for example using ravel().\n",
            "  y = column_or_1d(y, warn=True)\n",
            "/usr/local/lib/python3.7/dist-packages/sklearn/utils/validation.py:760: DataConversionWarning: A column-vector y was passed when a 1d array was expected. Please change the shape of y to (n_samples, ), for example using ravel().\n",
            "  y = column_or_1d(y, warn=True)\n",
            "/usr/local/lib/python3.7/dist-packages/sklearn/utils/validation.py:760: DataConversionWarning: A column-vector y was passed when a 1d array was expected. Please change the shape of y to (n_samples, ), for example using ravel().\n",
            "  y = column_or_1d(y, warn=True)\n",
            "/usr/local/lib/python3.7/dist-packages/sklearn/utils/validation.py:760: DataConversionWarning: A column-vector y was passed when a 1d array was expected. Please change the shape of y to (n_samples, ), for example using ravel().\n",
            "  y = column_or_1d(y, warn=True)\n"
          ]
        },
        {
          "output_type": "stream",
          "name": "stdout",
          "text": [
            "[CV]  C=1000, gamma=0.001, kernel=poly, accuracy=0.554, precision=0.554, recall=1.000, total=   0.0s\n",
            "[CV] C=1000, gamma=0.001, kernel=poly ................................\n",
            "[CV]  C=1000, gamma=0.001, kernel=poly, accuracy=0.554, precision=0.554, recall=1.000, total=   0.0s\n",
            "[CV] C=1000, gamma=0.001, kernel=poly ................................\n",
            "[CV]  C=1000, gamma=0.001, kernel=poly, accuracy=0.552, precision=0.552, recall=1.000, total=   0.0s\n",
            "[CV] C=1000, gamma=0.001, kernel=poly ................................\n",
            "[CV]  C=1000, gamma=0.001, kernel=poly, accuracy=0.552, precision=0.552, recall=1.000, total=   0.0s\n"
          ]
        },
        {
          "output_type": "stream",
          "name": "stderr",
          "text": [
            "/usr/local/lib/python3.7/dist-packages/sklearn/utils/validation.py:760: DataConversionWarning: A column-vector y was passed when a 1d array was expected. Please change the shape of y to (n_samples, ), for example using ravel().\n",
            "  y = column_or_1d(y, warn=True)\n",
            "/usr/local/lib/python3.7/dist-packages/sklearn/utils/validation.py:760: DataConversionWarning: A column-vector y was passed when a 1d array was expected. Please change the shape of y to (n_samples, ), for example using ravel().\n",
            "  y = column_or_1d(y, warn=True)\n",
            "/usr/local/lib/python3.7/dist-packages/sklearn/utils/validation.py:760: DataConversionWarning: A column-vector y was passed when a 1d array was expected. Please change the shape of y to (n_samples, ), for example using ravel().\n",
            "  y = column_or_1d(y, warn=True)\n",
            "[Parallel(n_jobs=1)]: Done 450 out of 450 | elapsed:  3.1min finished\n",
            "/usr/local/lib/python3.7/dist-packages/sklearn/utils/validation.py:760: DataConversionWarning: A column-vector y was passed when a 1d array was expected. Please change the shape of y to (n_samples, ), for example using ravel().\n",
            "  y = column_or_1d(y, warn=True)\n"
          ]
        },
        {
          "output_type": "execute_result",
          "data": {
            "text/plain": [
              "GridSearchCV(cv=None, error_score=nan,\n",
              "             estimator=SVC(C=0.1, break_ties=False, cache_size=200,\n",
              "                           class_weight=None, coef0=0.0,\n",
              "                           decision_function_shape='ovr', degree=3,\n",
              "                           gamma='auto', kernel='rbf', max_iter=-1,\n",
              "                           probability=False, random_state=None, shrinking=True,\n",
              "                           tol=0.001, verbose=False),\n",
              "             iid='deprecated', n_jobs=None,\n",
              "             param_grid={'C': [0.1, 1, 10, 100, 1000],\n",
              "                         'gamma': ['scale', 'auto', 0.1, 1, 0.01, 0.001],\n",
              "                         'kernel': ['linear', 'rbf', 'poly']},\n",
              "             pre_dispatch='2*n_jobs', refit='precision',\n",
              "             return_train_score=False,\n",
              "             scoring={'accuracy': make_scorer(accuracy_score),\n",
              "                      'precision': make_scorer(precision_score),\n",
              "                      'recall': make_scorer(recall_score)},\n",
              "             verbose=3)"
            ]
          },
          "metadata": {},
          "execution_count": 20
        }
      ]
    },
    {
      "cell_type": "code",
      "metadata": {
        "colab": {
          "base_uri": "https://localhost:8080/"
        },
        "id": "I9uvMZ6i_Jjl",
        "outputId": "099a5cb3-7b3e-4460-dd9d-114b86cc1cda"
      },
      "source": [
        "print(\"Best Hyperparameters:\", gs.best_params_)"
      ],
      "execution_count": null,
      "outputs": [
        {
          "output_type": "stream",
          "name": "stdout",
          "text": [
            "Best Hyperparameters: {'C': 100, 'gamma': 0.001, 'kernel': 'rbf'}\n"
          ]
        }
      ]
    },
    {
      "cell_type": "code",
      "metadata": {
        "id": "L0i6jGy20ITo"
      },
      "source": [
        "y_pred=svm_model.predict(x_test)#Predict the response for test dataset"
      ],
      "execution_count": null,
      "outputs": []
    },
    {
      "cell_type": "markdown",
      "metadata": {
        "id": "EkKv6Bvq_Jjm"
      },
      "source": [
        "##testing"
      ]
    },
    {
      "cell_type": "code",
      "metadata": {
        "colab": {
          "base_uri": "https://localhost:8080/",
          "height": 347
        },
        "id": "0WcvTd1E_Jjn",
        "outputId": "e67ce4b9-bfea-4250-eb64-67e3c48db856"
      },
      "source": [
        "print('accuracy_score:' ,metrics.accuracy_score(y_test,y_pred))# Model Accuracy\n",
        "precision = metrics.precision_score(y_test, y_pred,average='micro')\n",
        "print(\"Precision Score:\", precision)\n",
        "recall = metrics.recall_score(y_test, y_pred,average='micro')\n",
        "print(\"Recall Score:\", recall)\n",
        "metrics.plot_confusion_matrix(svm_model,x_test,y_test)#plot confusion matrix"
      ],
      "execution_count": null,
      "outputs": [
        {
          "output_type": "stream",
          "name": "stdout",
          "text": [
            "accuracy_score: 0.9130434782608695\n",
            "Precision Score: 0.9130434782608695\n",
            "Recall Score: 0.9130434782608695\n"
          ]
        },
        {
          "output_type": "execute_result",
          "data": {
            "text/plain": [
              "<sklearn.metrics._plot.confusion_matrix.ConfusionMatrixDisplay at 0x7fe59f7b3d50>"
            ]
          },
          "metadata": {},
          "execution_count": 151
        },
        {
          "output_type": "display_data",
          "data": {
            "image/png": "[encoded data removed]",
            "text/plain": [
              "<Figure size 432x288 with 2 Axes>"
            ]
          },
          "metadata": {
            "needs_background": "light"
          }
        }
      ]
    },
    {
      "cell_type": "code",
      "metadata": {
        "id": "keadEkib4SNf"
      },
      "source": [
        ""
      ],
      "execution_count": null,
      "outputs": []
    },
    {
      "cell_type": "markdown",
      "metadata": {
        "id": "SaVWQJjGuSuc"
      },
      "source": [
        "#3- Decision Tree"
      ]
    },
    {
      "cell_type": "code",
      "metadata": {
        "colab": {
          "base_uri": "https://localhost:8080/"
        },
        "id": "i3sqi4sVuV4t",
        "outputId": "96d5a159-878b-4a2a-ac12-378249358722"
      },
      "source": [
        "# Create Decision Tree classifer \n",
        "model_tree = tree.DecisionTreeClassifier(max_depth=7, min_samples_leaf=8, splitter= 'random')\n",
        "# Train Decision Tree Classifer\n",
        "model_tree.fit(x_train, y_train)"
      ],
      "execution_count": null,
      "outputs": [
        {
          "output_type": "execute_result",
          "data": {
            "text/plain": [
              "DecisionTreeClassifier(ccp_alpha=0.0, class_weight=None, criterion='gini',\n",
              "                       max_depth=7, max_features=None, max_leaf_nodes=None,\n",
              "                       min_impurity_decrease=0.0, min_impurity_split=None,\n",
              "                       min_samples_leaf=8, min_samples_split=2,\n",
              "                       min_weight_fraction_leaf=0.0, presort='deprecated',\n",
              "                       random_state=None, splitter='random')"
            ]
          },
          "metadata": {},
          "execution_count": 23
        }
      ]
    },
    {
      "cell_type": "code",
      "metadata": {
        "id": "Vmj1Owmiuvpt"
      },
      "source": [
        "scoring = {\n",
        "    'accuracy': metrics.make_scorer(metrics.accuracy_score),\n",
        "    'precision': metrics.make_scorer(metrics.precision_score), \n",
        "    'recall': metrics.make_scorer(metrics.recall_score)\n",
        "    }\n",
        "   \n",
        "params = {'splitter':['best','random'],\n",
        "            'max_depth': [1,3,5,7,9,11,12],\n",
        "           'min_samples_leaf':[1,2,3,4,5,6,7,8,9,10],\n",
        "           \n",
        "          \n",
        "          \n",
        " \n",
        "\n",
        "    \n",
        "          }\n",
        "   \n",
        "\n",
        "gs = model_selection.GridSearchCV(model_tree, params, scoring=scoring, refit='recall', verbose=3)"
      ],
      "execution_count": null,
      "outputs": []
    },
    {
      "cell_type": "code",
      "metadata": {
        "id": "jcuQrfWtu01v",
        "colab": {
          "base_uri": "https://localhost:8080/"
        },
        "outputId": "6a70d6b8-be94-4d7b-95ea-7a71d281c85d"
      },
      "source": [
        "gs.fit(x_norm,y)"
      ],
      "execution_count": null,
      "outputs": [
        {
          "output_type": "stream",
          "name": "stdout",
          "text": [
            "Fitting 5 folds for each of 140 candidates, totalling 700 fits\n",
            "[CV] max_depth=1, min_samples_leaf=1, splitter=best ..................\n",
            "[CV]  max_depth=1, min_samples_leaf=1, splitter=best, accuracy=0.946, precision=0.911, recall=1.000, total=   0.0s\n",
            "[CV] max_depth=1, min_samples_leaf=1, splitter=best ..................\n",
            "[CV]  max_depth=1, min_samples_leaf=1, splitter=best, accuracy=0.804, precision=0.912, recall=0.716, total=   0.0s\n",
            "[CV] max_depth=1, min_samples_leaf=1, splitter=best ..................\n",
            "[CV]  max_depth=1, min_samples_leaf=1, splitter=best, accuracy=0.848, precision=0.836, recall=0.902, total=   0.0s\n",
            "[CV] max_depth=1, min_samples_leaf=1, splitter=best ..................\n",
            "[CV]  max_depth=1, min_samples_leaf=1, splitter=best, accuracy=0.776, precision=0.763, recall=0.861, total=   0.0s\n",
            "[CV] max_depth=1, min_samples_leaf=1, splitter=best ..................\n",
            "[CV]  max_depth=1, min_samples_leaf=1, splitter=best, accuracy=0.694, precision=0.710, recall=0.752, total=   0.0s\n",
            "[CV] max_depth=1, min_samples_leaf=1, splitter=random ................\n",
            "[CV]  max_depth=1, min_samples_leaf=1, splitter=random, accuracy=0.946, precision=0.911, recall=1.000, total=   0.0s\n",
            "[CV] max_depth=1, min_samples_leaf=1, splitter=random ................\n",
            "[CV]  max_depth=1, min_samples_leaf=1, splitter=random, accuracy=0.804, precision=0.912, recall=0.716, total=   0.0s\n",
            "[CV] max_depth=1, min_samples_leaf=1, splitter=random ................\n",
            "[CV]  max_depth=1, min_samples_leaf=1, splitter=random, accuracy=0.799, precision=0.857, recall=0.765, total=   0.0s\n",
            "[CV] max_depth=1, min_samples_leaf=1, splitter=random ................\n",
            "[CV]  max_depth=1, min_samples_leaf=1, splitter=random, accuracy=0.776, precision=0.763, recall=0.861, total=   0.0s\n",
            "[CV] max_depth=1, min_samples_leaf=1, splitter=random ................\n",
            "[CV]  max_depth=1, min_samples_leaf=1, splitter=random, accuracy=0.661, precision=0.710, recall=0.653, total=   0.0s\n",
            "[CV] max_depth=1, min_samples_leaf=2, splitter=best ..................\n",
            "[CV]  max_depth=1, min_samples_leaf=2, splitter=best, accuracy=0.946, precision=0.911, recall=1.000, total=   0.0s\n",
            "[CV] max_depth=1, min_samples_leaf=2, splitter=best ..................\n",
            "[CV]  max_depth=1, min_samples_leaf=2, splitter=best, accuracy=0.804, precision=0.912, recall=0.716, total=   0.0s\n",
            "[CV] max_depth=1, min_samples_leaf=2, splitter=best ..................\n",
            "[CV]  max_depth=1, min_samples_leaf=2, splitter=best, accuracy=0.848, precision=0.836, recall=0.902, total=   0.0s\n",
            "[CV] max_depth=1, min_samples_leaf=2, splitter=best ..................\n",
            "[CV]  max_depth=1, min_samples_leaf=2, splitter=best, accuracy=0.776, precision=0.763, recall=0.861, total=   0.0s\n",
            "[CV] max_depth=1, min_samples_leaf=2, splitter=best ..................\n",
            "[CV]  max_depth=1, min_samples_leaf=2, splitter=best, accuracy=0.694, precision=0.710, recall=0.752, total=   0.0s\n",
            "[CV] max_depth=1, min_samples_leaf=2, splitter=random ................\n",
            "[CV]  max_depth=1, min_samples_leaf=2, splitter=random, accuracy=0.946, precision=0.911, recall=1.000, total=   0.0s\n",
            "[CV] max_depth=1, min_samples_leaf=2, splitter=random ................\n",
            "[CV]  max_depth=1, min_samples_leaf=2, splitter=random, accuracy=0.804, precision=0.912, recall=0.716, total=   0.0s\n",
            "[CV] max_depth=1, min_samples_leaf=2, splitter=random ................\n",
            "[CV]  max_depth=1, min_samples_leaf=2, splitter=random, accuracy=0.799, precision=0.857, recall=0.765, total=   0.0s\n",
            "[CV] max_depth=1, min_samples_leaf=2, splitter=random ................\n",
            "[CV]  max_depth=1, min_samples_leaf=2, splitter=random, accuracy=0.776, precision=0.763, recall=0.861, total=   0.0s\n",
            "[CV] max_depth=1, min_samples_leaf=2, splitter=random ................\n",
            "[CV]  max_depth=1, min_samples_leaf=2, splitter=random, accuracy=0.694, precision=0.710, recall=0.752, total=   0.0s\n",
            "[CV] max_depth=1, min_samples_leaf=3, splitter=best ..................\n",
            "[CV]  max_depth=1, min_samples_leaf=3, splitter=best, accuracy=0.946, precision=0.911, recall=1.000, total=   0.0s\n",
            "[CV] max_depth=1, min_samples_leaf=3, splitter=best ..................\n",
            "[CV]  max_depth=1, min_samples_leaf=3, splitter=best, accuracy=0.804, precision=0.912, recall=0.716, total=   0.0s\n",
            "[CV] max_depth=1, min_samples_leaf=3, splitter=best ..................\n",
            "[CV]  max_depth=1, min_samples_leaf=3, splitter=best, accuracy=0.848, precision=0.836, recall=0.902, total=   0.0s\n",
            "[CV] max_depth=1, min_samples_leaf=3, splitter=best ..................\n",
            "[CV]  max_depth=1, min_samples_leaf=3, splitter=best, accuracy=0.776, precision=0.763, recall=0.861, total=   0.0s\n",
            "[CV] max_depth=1, min_samples_leaf=3, splitter=best ..................\n",
            "[CV]  max_depth=1, min_samples_leaf=3, splitter=best, accuracy=0.694, precision=0.710, recall=0.752, total=   0.0s\n",
            "[CV] max_depth=1, min_samples_leaf=3, splitter=random ................\n",
            "[CV]  max_depth=1, min_samples_leaf=3, splitter=random, accuracy=0.946, precision=0.911, recall=1.000, total=   0.0s\n",
            "[CV] max_depth=1, min_samples_leaf=3, splitter=random ................\n",
            "[CV]  max_depth=1, min_samples_leaf=3, splitter=random, accuracy=0.804, precision=0.912, recall=0.716, total=   0.0s\n",
            "[CV] max_depth=1, min_samples_leaf=3, splitter=random ................\n",
            "[CV]  max_depth=1, min_samples_leaf=3, splitter=random, accuracy=0.799, precision=0.857, recall=0.765, total=   0.0s\n",
            "[CV] max_depth=1, min_samples_leaf=3, splitter=random ................\n",
            "[CV]  max_depth=1, min_samples_leaf=3, splitter=random, accuracy=0.727, precision=0.768, recall=0.723, total=   0.0s\n",
            "[CV] max_depth=1, min_samples_leaf=3, splitter=random ................\n",
            "[CV]  max_depth=1, min_samples_leaf=3, splitter=random, accuracy=0.661, precision=0.710, recall=0.653, total=   0.0s\n",
            "[CV] max_depth=1, min_samples_leaf=4, splitter=best ..................\n",
            "[CV]  max_depth=1, min_samples_leaf=4, splitter=best, accuracy=0.946, precision=0.911, recall=1.000, total=   0.0s\n",
            "[CV] max_depth=1, min_samples_leaf=4, splitter=best ..................\n",
            "[CV]  max_depth=1, min_samples_leaf=4, splitter=best, accuracy=0.804, precision=0.912, recall=0.716, total=   0.0s\n",
            "[CV] max_depth=1, min_samples_leaf=4, splitter=best ..................\n"
          ]
        },
        {
          "output_type": "stream",
          "name": "stderr",
          "text": [
            "[Parallel(n_jobs=1)]: Using backend SequentialBackend with 1 concurrent workers.\n",
            "[Parallel(n_jobs=1)]: Done   1 out of   1 | elapsed:    0.0s remaining:    0.0s\n",
            "[Parallel(n_jobs=1)]: Done   2 out of   2 | elapsed:    0.0s remaining:    0.0s\n"
          ]
        },
        {
          "output_type": "stream",
          "name": "stdout",
          "text": [
            "[CV]  max_depth=1, min_samples_leaf=4, splitter=best, accuracy=0.848, precision=0.836, recall=0.902, total=   0.0s\n",
            "[CV] max_depth=1, min_samples_leaf=4, splitter=best ..................\n",
            "[CV]  max_depth=1, min_samples_leaf=4, splitter=best, accuracy=0.776, precision=0.763, recall=0.861, total=   0.0s\n",
            "[CV] max_depth=1, min_samples_leaf=4, splitter=best ..................\n",
            "[CV]  max_depth=1, min_samples_leaf=4, splitter=best, accuracy=0.694, precision=0.710, recall=0.752, total=   0.0s\n",
            "[CV] max_depth=1, min_samples_leaf=4, splitter=random ................\n",
            "[CV]  max_depth=1, min_samples_leaf=4, splitter=random, accuracy=0.946, precision=0.911, recall=1.000, total=   0.0s\n",
            "[CV] max_depth=1, min_samples_leaf=4, splitter=random ................\n",
            "[CV]  max_depth=1, min_samples_leaf=4, splitter=random, accuracy=0.750, precision=0.900, recall=0.618, total=   0.0s\n",
            "[CV] max_depth=1, min_samples_leaf=4, splitter=random ................\n",
            "[CV]  max_depth=1, min_samples_leaf=4, splitter=random, accuracy=0.799, precision=0.857, recall=0.765, total=   0.0s\n",
            "[CV] max_depth=1, min_samples_leaf=4, splitter=random ................\n",
            "[CV]  max_depth=1, min_samples_leaf=4, splitter=random, accuracy=0.776, precision=0.763, recall=0.861, total=   0.0s\n",
            "[CV] max_depth=1, min_samples_leaf=4, splitter=random ................\n",
            "[CV]  max_depth=1, min_samples_leaf=4, splitter=random, accuracy=0.661, precision=0.710, recall=0.653, total=   0.0s\n",
            "[CV] max_depth=1, min_samples_leaf=5, splitter=best ..................\n",
            "[CV]  max_depth=1, min_samples_leaf=5, splitter=best, accuracy=0.946, precision=0.911, recall=1.000, total=   0.0s\n",
            "[CV] max_depth=1, min_samples_leaf=5, splitter=best ..................\n",
            "[CV]  max_depth=1, min_samples_leaf=5, splitter=best, accuracy=0.804, precision=0.912, recall=0.716, total=   0.0s\n",
            "[CV] max_depth=1, min_samples_leaf=5, splitter=best ..................\n",
            "[CV]  max_depth=1, min_samples_leaf=5, splitter=best, accuracy=0.848, precision=0.836, recall=0.902, total=   0.0s\n",
            "[CV] max_depth=1, min_samples_leaf=5, splitter=best ..................\n",
            "[CV]  max_depth=1, min_samples_leaf=5, splitter=best, accuracy=0.776, precision=0.763, recall=0.861, total=   0.0s\n",
            "[CV] max_depth=1, min_samples_leaf=5, splitter=best ..................\n",
            "[CV]  max_depth=1, min_samples_leaf=5, splitter=best, accuracy=0.694, precision=0.710, recall=0.752, total=   0.0s\n",
            "[CV] max_depth=1, min_samples_leaf=5, splitter=random ................\n",
            "[CV]  max_depth=1, min_samples_leaf=5, splitter=random, accuracy=0.788, precision=0.800, recall=0.824, total=   0.0s\n",
            "[CV] max_depth=1, min_samples_leaf=5, splitter=random ................\n",
            "[CV]  max_depth=1, min_samples_leaf=5, splitter=random, accuracy=0.750, precision=0.900, recall=0.618, total=   0.0s\n",
            "[CV] max_depth=1, min_samples_leaf=5, splitter=random ................\n",
            "[CV]  max_depth=1, min_samples_leaf=5, splitter=random, accuracy=0.799, precision=0.857, recall=0.765, total=   0.0s\n",
            "[CV] max_depth=1, min_samples_leaf=5, splitter=random ................\n",
            "[CV]  max_depth=1, min_samples_leaf=5, splitter=random, accuracy=0.776, precision=0.763, recall=0.861, total=   0.0s\n",
            "[CV] max_depth=1, min_samples_leaf=5, splitter=random ................\n",
            "[CV]  max_depth=1, min_samples_leaf=5, splitter=random, accuracy=0.661, precision=0.710, recall=0.653, total=   0.0s\n",
            "[CV] max_depth=1, min_samples_leaf=6, splitter=best ..................\n",
            "[CV]  max_depth=1, min_samples_leaf=6, splitter=best, accuracy=0.946, precision=0.911, recall=1.000, total=   0.0s\n",
            "[CV] max_depth=1, min_samples_leaf=6, splitter=best ..................\n",
            "[CV]  max_depth=1, min_samples_leaf=6, splitter=best, accuracy=0.804, precision=0.912, recall=0.716, total=   0.0s\n",
            "[CV] max_depth=1, min_samples_leaf=6, splitter=best ..................\n",
            "[CV]  max_depth=1, min_samples_leaf=6, splitter=best, accuracy=0.848, precision=0.836, recall=0.902, total=   0.0s\n",
            "[CV] max_depth=1, min_samples_leaf=6, splitter=best ..................\n",
            "[CV]  max_depth=1, min_samples_leaf=6, splitter=best, accuracy=0.776, precision=0.763, recall=0.861, total=   0.0s\n",
            "[CV] max_depth=1, min_samples_leaf=6, splitter=best ..................\n",
            "[CV]  max_depth=1, min_samples_leaf=6, splitter=best, accuracy=0.694, precision=0.710, recall=0.752, total=   0.0s\n",
            "[CV] max_depth=1, min_samples_leaf=6, splitter=random ................\n",
            "[CV]  max_depth=1, min_samples_leaf=6, splitter=random, accuracy=0.946, precision=0.911, recall=1.000, total=   0.0s\n",
            "[CV] max_depth=1, min_samples_leaf=6, splitter=random ................\n",
            "[CV]  max_depth=1, min_samples_leaf=6, splitter=random, accuracy=0.750, precision=0.900, recall=0.618, total=   0.0s\n",
            "[CV] max_depth=1, min_samples_leaf=6, splitter=random ................\n",
            "[CV]  max_depth=1, min_samples_leaf=6, splitter=random, accuracy=0.799, precision=0.857, recall=0.765, total=   0.0s\n",
            "[CV] max_depth=1, min_samples_leaf=6, splitter=random ................\n",
            "[CV]  max_depth=1, min_samples_leaf=6, splitter=random, accuracy=0.776, precision=0.763, recall=0.861, total=   0.0s\n",
            "[CV] max_depth=1, min_samples_leaf=6, splitter=random ................\n",
            "[CV]  max_depth=1, min_samples_leaf=6, splitter=random, accuracy=0.694, precision=0.710, recall=0.752, total=   0.0s\n",
            "[CV] max_depth=1, min_samples_leaf=7, splitter=best ..................\n",
            "[CV]  max_depth=1, min_samples_leaf=7, splitter=best, accuracy=0.946, precision=0.911, recall=1.000, total=   0.0s\n",
            "[CV] max_depth=1, min_samples_leaf=7, splitter=best ..................\n",
            "[CV]  max_depth=1, min_samples_leaf=7, splitter=best, accuracy=0.804, precision=0.912, recall=0.716, total=   0.0s\n",
            "[CV] max_depth=1, min_samples_leaf=7, splitter=best ..................\n",
            "[CV]  max_depth=1, min_samples_leaf=7, splitter=best, accuracy=0.848, precision=0.836, recall=0.902, total=   0.0s\n",
            "[CV] max_depth=1, min_samples_leaf=7, splitter=best ..................\n",
            "[CV]  max_depth=1, min_samples_leaf=7, splitter=best, accuracy=0.776, precision=0.763, recall=0.861, total=   0.0s\n",
            "[CV] max_depth=1, min_samples_leaf=7, splitter=best ..................\n",
            "[CV]  max_depth=1, min_samples_leaf=7, splitter=best, accuracy=0.694, precision=0.710, recall=0.752, total=   0.0s\n",
            "[CV] max_depth=1, min_samples_leaf=7, splitter=random ................\n",
            "[CV]  max_depth=1, min_samples_leaf=7, splitter=random, accuracy=0.940, precision=0.910, recall=0.990, total=   0.0s\n",
            "[CV] max_depth=1, min_samples_leaf=7, splitter=random ................\n",
            "[CV]  max_depth=1, min_samples_leaf=7, splitter=random, accuracy=0.750, precision=0.900, recall=0.618, total=   0.0s\n",
            "[CV] max_depth=1, min_samples_leaf=7, splitter=random ................\n",
            "[CV]  max_depth=1, min_samples_leaf=7, splitter=random, accuracy=0.848, precision=0.836, recall=0.902, total=   0.0s\n",
            "[CV] max_depth=1, min_samples_leaf=7, splitter=random ................\n",
            "[CV]  max_depth=1, min_samples_leaf=7, splitter=random, accuracy=0.727, precision=0.768, recall=0.723, total=   0.0s\n",
            "[CV] max_depth=1, min_samples_leaf=7, splitter=random ................\n",
            "[CV]  max_depth=1, min_samples_leaf=7, splitter=random, accuracy=0.661, precision=0.710, recall=0.653, total=   0.0s\n",
            "[CV] max_depth=1, min_samples_leaf=8, splitter=best ..................\n",
            "[CV]  max_depth=1, min_samples_leaf=8, splitter=best, accuracy=0.946, precision=0.911, recall=1.000, total=   0.0s\n",
            "[CV] max_depth=1, min_samples_leaf=8, splitter=best ..................\n",
            "[CV]  max_depth=1, min_samples_leaf=8, splitter=best, accuracy=0.804, precision=0.912, recall=0.716, total=   0.0s\n",
            "[CV] max_depth=1, min_samples_leaf=8, splitter=best ..................\n",
            "[CV]  max_depth=1, min_samples_leaf=8, splitter=best, accuracy=0.848, precision=0.836, recall=0.902, total=   0.0s\n",
            "[CV] max_depth=1, min_samples_leaf=8, splitter=best ..................\n",
            "[CV]  max_depth=1, min_samples_leaf=8, splitter=best, accuracy=0.776, precision=0.763, recall=0.861, total=   0.0s\n",
            "[CV] max_depth=1, min_samples_leaf=8, splitter=best ..................\n",
            "[CV]  max_depth=1, min_samples_leaf=8, splitter=best, accuracy=0.694, precision=0.710, recall=0.752, total=   0.0s\n",
            "[CV] max_depth=1, min_samples_leaf=8, splitter=random ................\n",
            "[CV]  max_depth=1, min_samples_leaf=8, splitter=random, accuracy=0.788, precision=0.800, recall=0.824, total=   0.0s\n",
            "[CV] max_depth=1, min_samples_leaf=8, splitter=random ................\n",
            "[CV]  max_depth=1, min_samples_leaf=8, splitter=random, accuracy=0.804, precision=0.912, recall=0.716, total=   0.0s\n",
            "[CV] max_depth=1, min_samples_leaf=8, splitter=random ................\n",
            "[CV]  max_depth=1, min_samples_leaf=8, splitter=random, accuracy=0.799, precision=0.857, recall=0.765, total=   0.0s\n",
            "[CV] max_depth=1, min_samples_leaf=8, splitter=random ................\n",
            "[CV]  max_depth=1, min_samples_leaf=8, splitter=random, accuracy=0.727, precision=0.768, recall=0.723, total=   0.0s\n",
            "[CV] max_depth=1, min_samples_leaf=8, splitter=random ................\n",
            "[CV]  max_depth=1, min_samples_leaf=8, splitter=random, accuracy=0.661, precision=0.710, recall=0.653, total=   0.0s\n",
            "[CV] max_depth=1, min_samples_leaf=9, splitter=best ..................\n",
            "[CV]  max_depth=1, min_samples_leaf=9, splitter=best, accuracy=0.946, precision=0.911, recall=1.000, total=   0.0s\n",
            "[CV] max_depth=1, min_samples_leaf=9, splitter=best ..................\n",
            "[CV]  max_depth=1, min_samples_leaf=9, splitter=best, accuracy=0.804, precision=0.912, recall=0.716, total=   0.0s\n",
            "[CV] max_depth=1, min_samples_leaf=9, splitter=best ..................\n",
            "[CV]  max_depth=1, min_samples_leaf=9, splitter=best, accuracy=0.848, precision=0.836, recall=0.902, total=   0.0s\n",
            "[CV] max_depth=1, min_samples_leaf=9, splitter=best ..................\n",
            "[CV]  max_depth=1, min_samples_leaf=9, splitter=best, accuracy=0.776, precision=0.763, recall=0.861, total=   0.0s\n",
            "[CV] max_depth=1, min_samples_leaf=9, splitter=best ..................\n",
            "[CV]  max_depth=1, min_samples_leaf=9, splitter=best, accuracy=0.694, precision=0.710, recall=0.752, total=   0.0s\n",
            "[CV] max_depth=1, min_samples_leaf=9, splitter=random ................\n",
            "[CV]  max_depth=1, min_samples_leaf=9, splitter=random, accuracy=0.946, precision=0.911, recall=1.000, total=   0.0s\n",
            "[CV] max_depth=1, min_samples_leaf=9, splitter=random ................\n",
            "[CV]  max_depth=1, min_samples_leaf=9, splitter=random, accuracy=0.750, precision=0.900, recall=0.618, total=   0.0s\n",
            "[CV] max_depth=1, min_samples_leaf=9, splitter=random ................\n",
            "[CV]  max_depth=1, min_samples_leaf=9, splitter=random, accuracy=0.848, precision=0.836, recall=0.902, total=   0.0s\n",
            "[CV] max_depth=1, min_samples_leaf=9, splitter=random ................\n",
            "[CV]  max_depth=1, min_samples_leaf=9, splitter=random, accuracy=0.727, precision=0.768, recall=0.723, total=   0.0s\n",
            "[CV] max_depth=1, min_samples_leaf=9, splitter=random ................\n",
            "[CV]  max_depth=1, min_samples_leaf=9, splitter=random, accuracy=0.661, precision=0.710, recall=0.653, total=   0.0s\n",
            "[CV] max_depth=1, min_samples_leaf=10, splitter=best .................\n",
            "[CV]  max_depth=1, min_samples_leaf=10, splitter=best, accuracy=0.946, precision=0.911, recall=1.000, total=   0.0s\n",
            "[CV] max_depth=1, min_samples_leaf=10, splitter=best .................\n",
            "[CV]  max_depth=1, min_samples_leaf=10, splitter=best, accuracy=0.804, precision=0.912, recall=0.716, total=   0.0s\n",
            "[CV] max_depth=1, min_samples_leaf=10, splitter=best .................\n",
            "[CV]  max_depth=1, min_samples_leaf=10, splitter=best, accuracy=0.848, precision=0.836, recall=0.902, total=   0.0s\n",
            "[CV] max_depth=1, min_samples_leaf=10, splitter=best .................\n",
            "[CV]  max_depth=1, min_samples_leaf=10, splitter=best, accuracy=0.776, precision=0.763, recall=0.861, total=   0.0s\n",
            "[CV] max_depth=1, min_samples_leaf=10, splitter=best .................\n",
            "[CV]  max_depth=1, min_samples_leaf=10, splitter=best, accuracy=0.694, precision=0.710, recall=0.752, total=   0.0s\n",
            "[CV] max_depth=1, min_samples_leaf=10, splitter=random ...............\n",
            "[CV]  max_depth=1, min_samples_leaf=10, splitter=random, accuracy=0.940, precision=0.910, recall=0.990, total=   0.0s\n",
            "[CV] max_depth=1, min_samples_leaf=10, splitter=random ...............\n",
            "[CV]  max_depth=1, min_samples_leaf=10, splitter=random, accuracy=0.804, precision=0.912, recall=0.716, total=   0.0s\n",
            "[CV] max_depth=1, min_samples_leaf=10, splitter=random ...............\n",
            "[CV]  max_depth=1, min_samples_leaf=10, splitter=random, accuracy=0.799, precision=0.857, recall=0.765, total=   0.0s\n",
            "[CV] max_depth=1, min_samples_leaf=10, splitter=random ...............\n",
            "[CV]  max_depth=1, min_samples_leaf=10, splitter=random, accuracy=0.727, precision=0.768, recall=0.723, total=   0.0s\n",
            "[CV] max_depth=1, min_samples_leaf=10, splitter=random ...............\n",
            "[CV]  max_depth=1, min_samples_leaf=10, splitter=random, accuracy=0.694, precision=0.710, recall=0.752, total=   0.0s\n",
            "[CV] max_depth=3, min_samples_leaf=1, splitter=best ..................\n",
            "[CV]  max_depth=3, min_samples_leaf=1, splitter=best, accuracy=0.929, precision=0.916, recall=0.961, total=   0.0s\n",
            "[CV] max_depth=3, min_samples_leaf=1, splitter=best ..................\n",
            "[CV]  max_depth=3, min_samples_leaf=1, splitter=best, accuracy=0.859, precision=0.922, recall=0.814, total=   0.0s\n",
            "[CV] max_depth=3, min_samples_leaf=1, splitter=best ..................\n",
            "[CV]  max_depth=3, min_samples_leaf=1, splitter=best, accuracy=0.804, precision=0.762, recall=0.941, total=   0.0s\n",
            "[CV] max_depth=3, min_samples_leaf=1, splitter=best ..................\n",
            "[CV]  max_depth=3, min_samples_leaf=1, splitter=best, accuracy=0.792, precision=0.769, recall=0.891, total=   0.0s\n",
            "[CV] max_depth=3, min_samples_leaf=1, splitter=best ..................\n",
            "[CV]  max_depth=3, min_samples_leaf=1, splitter=best, accuracy=0.699, precision=0.787, recall=0.624, total=   0.0s\n",
            "[CV] max_depth=3, min_samples_leaf=1, splitter=random ................\n",
            "[CV]  max_depth=3, min_samples_leaf=1, splitter=random, accuracy=0.924, precision=0.907, recall=0.961, total=   0.0s\n",
            "[CV] max_depth=3, min_samples_leaf=1, splitter=random ................\n",
            "[CV]  max_depth=3, min_samples_leaf=1, splitter=random, accuracy=0.842, precision=0.910, recall=0.794, total=   0.0s\n",
            "[CV] max_depth=3, min_samples_leaf=1, splitter=random ................\n",
            "[CV]  max_depth=3, min_samples_leaf=1, splitter=random, accuracy=0.793, precision=0.758, recall=0.922, total=   0.0s\n",
            "[CV] max_depth=3, min_samples_leaf=1, splitter=random ................\n",
            "[CV]  max_depth=3, min_samples_leaf=1, splitter=random, accuracy=0.770, precision=0.736, recall=0.911, total=   0.0s\n",
            "[CV] max_depth=3, min_samples_leaf=1, splitter=random ................\n",
            "[CV]  max_depth=3, min_samples_leaf=1, splitter=random, accuracy=0.710, precision=0.793, recall=0.644, total=   0.0s\n",
            "[CV] max_depth=3, min_samples_leaf=2, splitter=best ..................\n",
            "[CV]  max_depth=3, min_samples_leaf=2, splitter=best, accuracy=0.929, precision=0.916, recall=0.961, total=   0.0s\n",
            "[CV] max_depth=3, min_samples_leaf=2, splitter=best ..................\n",
            "[CV]  max_depth=3, min_samples_leaf=2, splitter=best, accuracy=0.859, precision=0.922, recall=0.814, total=   0.0s\n",
            "[CV] max_depth=3, min_samples_leaf=2, splitter=best ..................\n",
            "[CV]  max_depth=3, min_samples_leaf=2, splitter=best, accuracy=0.804, precision=0.762, recall=0.941, total=   0.0s\n",
            "[CV] max_depth=3, min_samples_leaf=2, splitter=best ..................\n",
            "[CV]  max_depth=3, min_samples_leaf=2, splitter=best, accuracy=0.792, precision=0.769, recall=0.891, total=   0.0s\n",
            "[CV] max_depth=3, min_samples_leaf=2, splitter=best ..................\n",
            "[CV]  max_depth=3, min_samples_leaf=2, splitter=best, accuracy=0.699, precision=0.787, recall=0.624, total=   0.0s\n",
            "[CV] max_depth=3, min_samples_leaf=2, splitter=random ................\n",
            "[CV]  max_depth=3, min_samples_leaf=2, splitter=random, accuracy=0.913, precision=0.939, recall=0.902, total=   0.0s\n",
            "[CV] max_depth=3, min_samples_leaf=2, splitter=random ................\n",
            "[CV]  max_depth=3, min_samples_leaf=2, splitter=random, accuracy=0.783, precision=0.919, recall=0.667, total=   0.0s\n",
            "[CV] max_depth=3, min_samples_leaf=2, splitter=random ................\n",
            "[CV]  max_depth=3, min_samples_leaf=2, splitter=random, accuracy=0.766, precision=0.757, recall=0.853, total=   0.0s\n",
            "[CV] max_depth=3, min_samples_leaf=2, splitter=random ................\n",
            "[CV]  max_depth=3, min_samples_leaf=2, splitter=random, accuracy=0.754, precision=0.719, recall=0.911, total=   0.0s\n",
            "[CV] max_depth=3, min_samples_leaf=2, splitter=random ................\n",
            "[CV]  max_depth=3, min_samples_leaf=2, splitter=random, accuracy=0.705, precision=0.783, recall=0.644, total=   0.0s\n",
            "[CV] max_depth=3, min_samples_leaf=3, splitter=best ..................\n",
            "[CV]  max_depth=3, min_samples_leaf=3, splitter=best, accuracy=0.929, precision=0.916, recall=0.961, total=   0.0s\n",
            "[CV] max_depth=3, min_samples_leaf=3, splitter=best ..................\n",
            "[CV]  max_depth=3, min_samples_leaf=3, splitter=best, accuracy=0.859, precision=0.913, recall=0.824, total=   0.0s\n",
            "[CV] max_depth=3, min_samples_leaf=3, splitter=best ..................\n",
            "[CV]  max_depth=3, min_samples_leaf=3, splitter=best, accuracy=0.804, precision=0.762, recall=0.941, total=   0.0s\n",
            "[CV] max_depth=3, min_samples_leaf=3, splitter=best ..................\n",
            "[CV]  max_depth=3, min_samples_leaf=3, splitter=best, accuracy=0.792, precision=0.769, recall=0.891, total=   0.0s\n",
            "[CV] max_depth=3, min_samples_leaf=3, splitter=best ..................\n",
            "[CV]  max_depth=3, min_samples_leaf=3, splitter=best, accuracy=0.699, precision=0.787, recall=0.624, total=   0.0s\n",
            "[CV] max_depth=3, min_samples_leaf=3, splitter=random ................\n",
            "[CV]  max_depth=3, min_samples_leaf=3, splitter=random, accuracy=0.924, precision=0.923, recall=0.941, total=   0.0s\n",
            "[CV] max_depth=3, min_samples_leaf=3, splitter=random ................\n",
            "[CV]  max_depth=3, min_samples_leaf=3, splitter=random, accuracy=0.842, precision=0.910, recall=0.794, total=   0.0s\n",
            "[CV] max_depth=3, min_samples_leaf=3, splitter=random ................\n",
            "[CV]  max_depth=3, min_samples_leaf=3, splitter=random, accuracy=0.804, precision=0.762, recall=0.941, total=   0.0s\n",
            "[CV] max_depth=3, min_samples_leaf=3, splitter=random ................\n",
            "[CV]  max_depth=3, min_samples_leaf=3, splitter=random, accuracy=0.743, precision=0.708, recall=0.911, total=   0.0s\n",
            "[CV] max_depth=3, min_samples_leaf=3, splitter=random ................\n",
            "[CV]  max_depth=3, min_samples_leaf=3, splitter=random, accuracy=0.710, precision=0.824, recall=0.604, total=   0.0s\n",
            "[CV] max_depth=3, min_samples_leaf=4, splitter=best ..................\n",
            "[CV]  max_depth=3, min_samples_leaf=4, splitter=best, accuracy=0.929, precision=0.916, recall=0.961, total=   0.0s\n",
            "[CV] max_depth=3, min_samples_leaf=4, splitter=best ..................\n",
            "[CV]  max_depth=3, min_samples_leaf=4, splitter=best, accuracy=0.859, precision=0.913, recall=0.824, total=   0.0s\n",
            "[CV] max_depth=3, min_samples_leaf=4, splitter=best ..................\n",
            "[CV]  max_depth=3, min_samples_leaf=4, splitter=best, accuracy=0.804, precision=0.762, recall=0.941, total=   0.0s\n",
            "[CV] max_depth=3, min_samples_leaf=4, splitter=best ..................\n",
            "[CV]  max_depth=3, min_samples_leaf=4, splitter=best, accuracy=0.792, precision=0.769, recall=0.891, total=   0.0s\n",
            "[CV] max_depth=3, min_samples_leaf=4, splitter=best ..................\n",
            "[CV]  max_depth=3, min_samples_leaf=4, splitter=best, accuracy=0.699, precision=0.787, recall=0.624, total=   0.0s\n",
            "[CV] max_depth=3, min_samples_leaf=4, splitter=random ................\n",
            "[CV]  max_depth=3, min_samples_leaf=4, splitter=random, accuracy=0.908, precision=0.929, recall=0.902, total=   0.0s\n",
            "[CV] max_depth=3, min_samples_leaf=4, splitter=random ................\n",
            "[CV]  max_depth=3, min_samples_leaf=4, splitter=random, accuracy=0.783, precision=0.919, recall=0.667, total=   0.0s\n",
            "[CV] max_depth=3, min_samples_leaf=4, splitter=random ................\n",
            "[CV]  max_depth=3, min_samples_leaf=4, splitter=random, accuracy=0.832, precision=0.793, recall=0.941, total=   0.0s\n",
            "[CV] max_depth=3, min_samples_leaf=4, splitter=random ................\n",
            "[CV]  max_depth=3, min_samples_leaf=4, splitter=random, accuracy=0.809, precision=0.811, recall=0.851, total=   0.0s\n",
            "[CV] max_depth=3, min_samples_leaf=4, splitter=random ................\n",
            "[CV]  max_depth=3, min_samples_leaf=4, splitter=random, accuracy=0.699, precision=0.787, recall=0.624, total=   0.0s\n",
            "[CV] max_depth=3, min_samples_leaf=5, splitter=best ..................\n",
            "[CV]  max_depth=3, min_samples_leaf=5, splitter=best, accuracy=0.929, precision=0.916, recall=0.961, total=   0.0s\n",
            "[CV] max_depth=3, min_samples_leaf=5, splitter=best ..................\n",
            "[CV]  max_depth=3, min_samples_leaf=5, splitter=best, accuracy=0.859, precision=0.913, recall=0.824, total=   0.0s\n",
            "[CV] max_depth=3, min_samples_leaf=5, splitter=best ..................\n",
            "[CV]  max_depth=3, min_samples_leaf=5, splitter=best, accuracy=0.804, precision=0.762, recall=0.941, total=   0.0s\n",
            "[CV] max_depth=3, min_samples_leaf=5, splitter=best ..................\n",
            "[CV]  max_depth=3, min_samples_leaf=5, splitter=best, accuracy=0.792, precision=0.769, recall=0.891, total=   0.0s\n",
            "[CV] max_depth=3, min_samples_leaf=5, splitter=best ..................\n",
            "[CV]  max_depth=3, min_samples_leaf=5, splitter=best, accuracy=0.699, precision=0.787, recall=0.624, total=   0.0s\n",
            "[CV] max_depth=3, min_samples_leaf=5, splitter=random ................\n",
            "[CV]  max_depth=3, min_samples_leaf=5, splitter=random, accuracy=0.870, precision=0.842, recall=0.941, total=   0.0s\n",
            "[CV] max_depth=3, min_samples_leaf=5, splitter=random ................\n",
            "[CV]  max_depth=3, min_samples_leaf=5, splitter=random, accuracy=0.842, precision=0.910, recall=0.794, total=   0.0s\n",
            "[CV] max_depth=3, min_samples_leaf=5, splitter=random ................\n",
            "[CV]  max_depth=3, min_samples_leaf=5, splitter=random, accuracy=0.842, precision=0.841, recall=0.882, total=   0.0s\n",
            "[CV] max_depth=3, min_samples_leaf=5, splitter=random ................\n",
            "[CV]  max_depth=3, min_samples_leaf=5, splitter=random, accuracy=0.770, precision=0.736, recall=0.911, total=   0.0s\n",
            "[CV] max_depth=3, min_samples_leaf=5, splitter=random ................\n",
            "[CV]  max_depth=3, min_samples_leaf=5, splitter=random, accuracy=0.710, precision=0.793, recall=0.644, total=   0.0s\n",
            "[CV] max_depth=3, min_samples_leaf=6, splitter=best ..................\n",
            "[CV]  max_depth=3, min_samples_leaf=6, splitter=best, accuracy=0.929, precision=0.916, recall=0.961, total=   0.0s\n",
            "[CV] max_depth=3, min_samples_leaf=6, splitter=best ..................\n",
            "[CV]  max_depth=3, min_samples_leaf=6, splitter=best, accuracy=0.859, precision=0.922, recall=0.814, total=   0.0s\n",
            "[CV] max_depth=3, min_samples_leaf=6, splitter=best ..................\n",
            "[CV]  max_depth=3, min_samples_leaf=6, splitter=best, accuracy=0.804, precision=0.762, recall=0.941, total=   0.0s\n",
            "[CV] max_depth=3, min_samples_leaf=6, splitter=best ..................\n",
            "[CV]  max_depth=3, min_samples_leaf=6, splitter=best, accuracy=0.792, precision=0.769, recall=0.891, total=   0.0s\n",
            "[CV] max_depth=3, min_samples_leaf=6, splitter=best ..................\n",
            "[CV]  max_depth=3, min_samples_leaf=6, splitter=best, accuracy=0.699, precision=0.787, recall=0.624, total=   0.0s\n",
            "[CV] max_depth=3, min_samples_leaf=6, splitter=random ................\n",
            "[CV]  max_depth=3, min_samples_leaf=6, splitter=random, accuracy=0.918, precision=0.899, recall=0.961, total=   0.0s\n",
            "[CV] max_depth=3, min_samples_leaf=6, splitter=random ................\n",
            "[CV]  max_depth=3, min_samples_leaf=6, splitter=random, accuracy=0.842, precision=0.910, recall=0.794, total=   0.0s\n",
            "[CV] max_depth=3, min_samples_leaf=6, splitter=random ................\n",
            "[CV]  max_depth=3, min_samples_leaf=6, splitter=random, accuracy=0.793, precision=0.758, recall=0.922, total=   0.0s\n",
            "[CV] max_depth=3, min_samples_leaf=6, splitter=random ................\n",
            "[CV]  max_depth=3, min_samples_leaf=6, splitter=random, accuracy=0.825, precision=0.842, recall=0.842, total=   0.0s\n",
            "[CV] max_depth=3, min_samples_leaf=6, splitter=random ................\n",
            "[CV]  max_depth=3, min_samples_leaf=6, splitter=random, accuracy=0.694, precision=0.778, recall=0.624, total=   0.0s\n",
            "[CV] max_depth=3, min_samples_leaf=7, splitter=best ..................\n",
            "[CV]  max_depth=3, min_samples_leaf=7, splitter=best, accuracy=0.929, precision=0.916, recall=0.961, total=   0.0s\n",
            "[CV] max_depth=3, min_samples_leaf=7, splitter=best ..................\n",
            "[CV]  max_depth=3, min_samples_leaf=7, splitter=best, accuracy=0.859, precision=0.922, recall=0.814, total=   0.0s\n",
            "[CV] max_depth=3, min_samples_leaf=7, splitter=best ..................\n",
            "[CV]  max_depth=3, min_samples_leaf=7, splitter=best, accuracy=0.804, precision=0.762, recall=0.941, total=   0.0s\n",
            "[CV] max_depth=3, min_samples_leaf=7, splitter=best ..................\n",
            "[CV]  max_depth=3, min_samples_leaf=7, splitter=best, accuracy=0.792, precision=0.769, recall=0.891, total=   0.0s\n",
            "[CV] max_depth=3, min_samples_leaf=7, splitter=best ..................\n",
            "[CV]  max_depth=3, min_samples_leaf=7, splitter=best, accuracy=0.699, precision=0.787, recall=0.624, total=   0.0s\n",
            "[CV] max_depth=3, min_samples_leaf=7, splitter=random ................\n",
            "[CV]  max_depth=3, min_samples_leaf=7, splitter=random, accuracy=0.935, precision=0.925, recall=0.961, total=   0.0s\n",
            "[CV] max_depth=3, min_samples_leaf=7, splitter=random ................\n",
            "[CV]  max_depth=3, min_samples_leaf=7, splitter=random, accuracy=0.788, precision=0.920, recall=0.676, total=   0.0s\n",
            "[CV] max_depth=3, min_samples_leaf=7, splitter=random ................\n",
            "[CV]  max_depth=3, min_samples_leaf=7, splitter=random, accuracy=0.826, precision=0.769, recall=0.980, total=   0.0s\n",
            "[CV] max_depth=3, min_samples_leaf=7, splitter=random ................\n",
            "[CV]  max_depth=3, min_samples_leaf=7, splitter=random, accuracy=0.825, precision=0.842, recall=0.842, total=   0.0s\n",
            "[CV] max_depth=3, min_samples_leaf=7, splitter=random ................\n",
            "[CV]  max_depth=3, min_samples_leaf=7, splitter=random, accuracy=0.770, precision=0.792, recall=0.792, total=   0.0s\n",
            "[CV] max_depth=3, min_samples_leaf=8, splitter=best ..................\n",
            "[CV]  max_depth=3, min_samples_leaf=8, splitter=best, accuracy=0.929, precision=0.916, recall=0.961, total=   0.0s\n",
            "[CV] max_depth=3, min_samples_leaf=8, splitter=best ..................\n",
            "[CV]  max_depth=3, min_samples_leaf=8, splitter=best, accuracy=0.859, precision=0.922, recall=0.814, total=   0.0s\n",
            "[CV] max_depth=3, min_samples_leaf=8, splitter=best ..................\n",
            "[CV]  max_depth=3, min_samples_leaf=8, splitter=best, accuracy=0.804, precision=0.762, recall=0.941, total=   0.0s\n",
            "[CV] max_depth=3, min_samples_leaf=8, splitter=best ..................\n",
            "[CV]  max_depth=3, min_samples_leaf=8, splitter=best, accuracy=0.792, precision=0.769, recall=0.891, total=   0.0s\n",
            "[CV] max_depth=3, min_samples_leaf=8, splitter=best ..................\n",
            "[CV]  max_depth=3, min_samples_leaf=8, splitter=best, accuracy=0.699, precision=0.787, recall=0.624, total=   0.0s\n",
            "[CV] max_depth=3, min_samples_leaf=8, splitter=random ................\n",
            "[CV]  max_depth=3, min_samples_leaf=8, splitter=random, accuracy=0.918, precision=0.899, recall=0.961, total=   0.0s\n",
            "[CV] max_depth=3, min_samples_leaf=8, splitter=random ................\n",
            "[CV]  max_depth=3, min_samples_leaf=8, splitter=random, accuracy=0.793, precision=0.921, recall=0.686, total=   0.0s\n",
            "[CV] max_depth=3, min_samples_leaf=8, splitter=random ................\n",
            "[CV]  max_depth=3, min_samples_leaf=8, splitter=random, accuracy=0.832, precision=0.803, recall=0.922, total=   0.0s\n",
            "[CV] max_depth=3, min_samples_leaf=8, splitter=random ................\n",
            "[CV]  max_depth=3, min_samples_leaf=8, splitter=random, accuracy=0.825, precision=0.842, recall=0.842, total=   0.0s\n",
            "[CV] max_depth=3, min_samples_leaf=8, splitter=random ................\n",
            "[CV]  max_depth=3, min_samples_leaf=8, splitter=random, accuracy=0.770, precision=0.792, recall=0.792, total=   0.0s\n",
            "[CV] max_depth=3, min_samples_leaf=9, splitter=best ..................\n",
            "[CV]  max_depth=3, min_samples_leaf=9, splitter=best, accuracy=0.929, precision=0.916, recall=0.961, total=   0.0s\n",
            "[CV] max_depth=3, min_samples_leaf=9, splitter=best ..................\n",
            "[CV]  max_depth=3, min_samples_leaf=9, splitter=best, accuracy=0.859, precision=0.922, recall=0.814, total=   0.0s\n",
            "[CV] max_depth=3, min_samples_leaf=9, splitter=best ..................\n",
            "[CV]  max_depth=3, min_samples_leaf=9, splitter=best, accuracy=0.804, precision=0.762, recall=0.941, total=   0.0s\n",
            "[CV] max_depth=3, min_samples_leaf=9, splitter=best ..................\n",
            "[CV]  max_depth=3, min_samples_leaf=9, splitter=best, accuracy=0.792, precision=0.769, recall=0.891, total=   0.0s\n",
            "[CV] max_depth=3, min_samples_leaf=9, splitter=best ..................\n",
            "[CV]  max_depth=3, min_samples_leaf=9, splitter=best, accuracy=0.721, precision=0.755, recall=0.733, total=   0.0s\n",
            "[CV] max_depth=3, min_samples_leaf=9, splitter=random ................\n",
            "[CV]  max_depth=3, min_samples_leaf=9, splitter=random, accuracy=0.918, precision=0.948, recall=0.902, total=   0.0s\n",
            "[CV] max_depth=3, min_samples_leaf=9, splitter=random ................\n",
            "[CV]  max_depth=3, min_samples_leaf=9, splitter=random, accuracy=0.783, precision=0.919, recall=0.667, total=   0.0s\n",
            "[CV] max_depth=3, min_samples_leaf=9, splitter=random ................\n",
            "[CV]  max_depth=3, min_samples_leaf=9, splitter=random, accuracy=0.804, precision=0.766, recall=0.931, total=   0.0s\n",
            "[CV] max_depth=3, min_samples_leaf=9, splitter=random ................\n",
            "[CV]  max_depth=3, min_samples_leaf=9, splitter=random, accuracy=0.792, precision=0.794, recall=0.842, total=   0.0s\n",
            "[CV] max_depth=3, min_samples_leaf=9, splitter=random ................\n",
            "[CV]  max_depth=3, min_samples_leaf=9, splitter=random, accuracy=0.710, precision=0.793, recall=0.644, total=   0.0s\n",
            "[CV] max_depth=3, min_samples_leaf=10, splitter=best .................\n",
            "[CV]  max_depth=3, min_samples_leaf=10, splitter=best, accuracy=0.929, precision=0.916, recall=0.961, total=   0.0s\n",
            "[CV] max_depth=3, min_samples_leaf=10, splitter=best .................\n",
            "[CV]  max_depth=3, min_samples_leaf=10, splitter=best, accuracy=0.859, precision=0.922, recall=0.814, total=   0.0s\n",
            "[CV] max_depth=3, min_samples_leaf=10, splitter=best .................\n",
            "[CV]  max_depth=3, min_samples_leaf=10, splitter=best, accuracy=0.804, precision=0.762, recall=0.941, total=   0.0s\n",
            "[CV] max_depth=3, min_samples_leaf=10, splitter=best .................\n",
            "[CV]  max_depth=3, min_samples_leaf=10, splitter=best, accuracy=0.792, precision=0.769, recall=0.891, total=   0.0s\n",
            "[CV] max_depth=3, min_samples_leaf=10, splitter=best .................\n",
            "[CV]  max_depth=3, min_samples_leaf=10, splitter=best, accuracy=0.721, precision=0.755, recall=0.733, total=   0.0s\n",
            "[CV] max_depth=3, min_samples_leaf=10, splitter=random ...............\n",
            "[CV]  max_depth=3, min_samples_leaf=10, splitter=random, accuracy=0.918, precision=0.948, recall=0.902, total=   0.0s\n",
            "[CV] max_depth=3, min_samples_leaf=10, splitter=random ...............\n",
            "[CV]  max_depth=3, min_samples_leaf=10, splitter=random, accuracy=0.832, precision=0.908, recall=0.775, total=   0.0s\n",
            "[CV] max_depth=3, min_samples_leaf=10, splitter=random ...............\n",
            "[CV]  max_depth=3, min_samples_leaf=10, splitter=random, accuracy=0.804, precision=0.762, recall=0.941, total=   0.0s\n",
            "[CV] max_depth=3, min_samples_leaf=10, splitter=random ...............\n",
            "[CV]  max_depth=3, min_samples_leaf=10, splitter=random, accuracy=0.798, precision=0.791, recall=0.861, total=   0.0s\n",
            "[CV] max_depth=3, min_samples_leaf=10, splitter=random ...............\n",
            "[CV]  max_depth=3, min_samples_leaf=10, splitter=random, accuracy=0.743, precision=0.770, recall=0.762, total=   0.0s\n",
            "[CV] max_depth=5, min_samples_leaf=1, splitter=best ..................\n",
            "[CV]  max_depth=5, min_samples_leaf=1, splitter=best, accuracy=0.875, precision=0.907, recall=0.863, total=   0.0s\n",
            "[CV] max_depth=5, min_samples_leaf=1, splitter=best ..................\n",
            "[CV]  max_depth=5, min_samples_leaf=1, splitter=best, accuracy=0.761, precision=0.882, recall=0.657, total=   0.0s\n",
            "[CV] max_depth=5, min_samples_leaf=1, splitter=best ..................\n",
            "[CV]  max_depth=5, min_samples_leaf=1, splitter=best, accuracy=0.777, precision=0.723, recall=0.971, total=   0.0s\n",
            "[CV] max_depth=5, min_samples_leaf=1, splitter=best ..................\n",
            "[CV]  max_depth=5, min_samples_leaf=1, splitter=best, accuracy=0.770, precision=0.776, recall=0.822, total=   0.0s\n",
            "[CV] max_depth=5, min_samples_leaf=1, splitter=best ..................\n",
            "[CV]  max_depth=5, min_samples_leaf=1, splitter=best, accuracy=0.683, precision=0.765, recall=0.614, total=   0.0s\n",
            "[CV] max_depth=5, min_samples_leaf=1, splitter=random ................\n",
            "[CV]  max_depth=5, min_samples_leaf=1, splitter=random, accuracy=0.913, precision=0.930, recall=0.912, total=   0.0s\n",
            "[CV] max_depth=5, min_samples_leaf=1, splitter=random ................\n",
            "[CV]  max_depth=5, min_samples_leaf=1, splitter=random, accuracy=0.815, precision=0.915, recall=0.735, total=   0.0s\n",
            "[CV] max_depth=5, min_samples_leaf=1, splitter=random ................\n",
            "[CV]  max_depth=5, min_samples_leaf=1, splitter=random, accuracy=0.832, precision=0.767, recall=1.000, total=   0.0s\n",
            "[CV] max_depth=5, min_samples_leaf=1, splitter=random ................\n",
            "[CV]  max_depth=5, min_samples_leaf=1, splitter=random, accuracy=0.825, precision=0.817, recall=0.881, total=   0.0s\n",
            "[CV] max_depth=5, min_samples_leaf=1, splitter=random ................\n",
            "[CV]  max_depth=5, min_samples_leaf=1, splitter=random, accuracy=0.716, precision=0.753, recall=0.723, total=   0.0s\n",
            "[CV] max_depth=5, min_samples_leaf=2, splitter=best ..................\n",
            "[CV]  max_depth=5, min_samples_leaf=2, splitter=best, accuracy=0.870, precision=0.915, recall=0.843, total=   0.0s\n",
            "[CV] max_depth=5, min_samples_leaf=2, splitter=best ..................\n",
            "[CV]  max_depth=5, min_samples_leaf=2, splitter=best, accuracy=0.783, precision=0.908, recall=0.676, total=   0.0s\n",
            "[CV] max_depth=5, min_samples_leaf=2, splitter=best ..................\n",
            "[CV]  max_depth=5, min_samples_leaf=2, splitter=best, accuracy=0.783, precision=0.725, recall=0.980, total=   0.0s\n",
            "[CV] max_depth=5, min_samples_leaf=2, splitter=best ..................\n",
            "[CV]  max_depth=5, min_samples_leaf=2, splitter=best, accuracy=0.770, precision=0.776, recall=0.822, total=   0.0s\n",
            "[CV] max_depth=5, min_samples_leaf=2, splitter=best ..................\n",
            "[CV]  max_depth=5, min_samples_leaf=2, splitter=best, accuracy=0.689, precision=0.775, recall=0.614, total=   0.0s\n",
            "[CV] max_depth=5, min_samples_leaf=2, splitter=random ................\n",
            "[CV]  max_depth=5, min_samples_leaf=2, splitter=random, accuracy=0.913, precision=0.906, recall=0.941, total=   0.0s\n",
            "[CV] max_depth=5, min_samples_leaf=2, splitter=random ................\n",
            "[CV]  max_depth=5, min_samples_leaf=2, splitter=random, accuracy=0.810, precision=0.914, recall=0.725, total=   0.0s\n",
            "[CV] max_depth=5, min_samples_leaf=2, splitter=random ................\n",
            "[CV]  max_depth=5, min_samples_leaf=2, splitter=random, accuracy=0.821, precision=0.790, recall=0.922, total=   0.0s\n",
            "[CV] max_depth=5, min_samples_leaf=2, splitter=random ................\n",
            "[CV]  max_depth=5, min_samples_leaf=2, splitter=random, accuracy=0.798, precision=0.776, recall=0.891, total=   0.0s\n",
            "[CV] max_depth=5, min_samples_leaf=2, splitter=random ................\n",
            "[CV]  max_depth=5, min_samples_leaf=2, splitter=random, accuracy=0.743, precision=0.814, recall=0.693, total=   0.0s\n",
            "[CV] max_depth=5, min_samples_leaf=3, splitter=best ..................\n",
            "[CV]  max_depth=5, min_samples_leaf=3, splitter=best, accuracy=0.897, precision=0.919, recall=0.892, total=   0.0s\n",
            "[CV] max_depth=5, min_samples_leaf=3, splitter=best ..................\n",
            "[CV]  max_depth=5, min_samples_leaf=3, splitter=best, accuracy=0.788, precision=0.899, recall=0.696, total=   0.0s\n",
            "[CV] max_depth=5, min_samples_leaf=3, splitter=best ..................\n",
            "[CV]  max_depth=5, min_samples_leaf=3, splitter=best, accuracy=0.783, precision=0.725, recall=0.980, total=   0.0s\n",
            "[CV] max_depth=5, min_samples_leaf=3, splitter=best ..................\n",
            "[CV]  max_depth=5, min_samples_leaf=3, splitter=best, accuracy=0.732, precision=0.724, recall=0.832, total=   0.0s\n",
            "[CV] max_depth=5, min_samples_leaf=3, splitter=best ..................\n",
            "[CV]  max_depth=5, min_samples_leaf=3, splitter=best, accuracy=0.689, precision=0.775, recall=0.614, total=   0.0s\n",
            "[CV] max_depth=5, min_samples_leaf=3, splitter=random ................\n",
            "[CV]  max_depth=5, min_samples_leaf=3, splitter=random, accuracy=0.886, precision=0.918, recall=0.873, total=   0.0s\n",
            "[CV] max_depth=5, min_samples_leaf=3, splitter=random ................\n",
            "[CV]  max_depth=5, min_samples_leaf=3, splitter=random, accuracy=0.848, precision=0.911, recall=0.804, total=   0.0s\n",
            "[CV] max_depth=5, min_samples_leaf=3, splitter=random ................\n",
            "[CV]  max_depth=5, min_samples_leaf=3, splitter=random, accuracy=0.815, precision=0.770, recall=0.951, total=   0.0s\n",
            "[CV] max_depth=5, min_samples_leaf=3, splitter=random ................\n",
            "[CV]  max_depth=5, min_samples_leaf=3, splitter=random, accuracy=0.825, precision=0.822, recall=0.871, total=   0.0s\n",
            "[CV] max_depth=5, min_samples_leaf=3, splitter=random ................\n",
            "[CV]  max_depth=5, min_samples_leaf=3, splitter=random, accuracy=0.770, precision=0.798, recall=0.782, total=   0.0s\n",
            "[CV] max_depth=5, min_samples_leaf=4, splitter=best ..................\n",
            "[CV]  max_depth=5, min_samples_leaf=4, splitter=best, accuracy=0.886, precision=0.918, recall=0.873, total=   0.0s\n",
            "[CV] max_depth=5, min_samples_leaf=4, splitter=best ..................\n",
            "[CV]  max_depth=5, min_samples_leaf=4, splitter=best, accuracy=0.788, precision=0.899, recall=0.696, total=   0.0s\n",
            "[CV] max_depth=5, min_samples_leaf=4, splitter=best ..................\n",
            "[CV]  max_depth=5, min_samples_leaf=4, splitter=best, accuracy=0.783, precision=0.725, recall=0.980, total=   0.0s\n",
            "[CV] max_depth=5, min_samples_leaf=4, splitter=best ..................\n",
            "[CV]  max_depth=5, min_samples_leaf=4, splitter=best, accuracy=0.732, precision=0.724, recall=0.832, total=   0.0s\n",
            "[CV] max_depth=5, min_samples_leaf=4, splitter=best ..................\n",
            "[CV]  max_depth=5, min_samples_leaf=4, splitter=best, accuracy=0.689, precision=0.775, recall=0.614, total=   0.0s\n",
            "[CV] max_depth=5, min_samples_leaf=4, splitter=random ................\n",
            "[CV]  max_depth=5, min_samples_leaf=4, splitter=random, accuracy=0.924, precision=0.931, recall=0.931, total=   0.0s\n",
            "[CV] max_depth=5, min_samples_leaf=4, splitter=random ................\n",
            "[CV]  max_depth=5, min_samples_leaf=4, splitter=random, accuracy=0.826, precision=0.907, recall=0.765, total=   0.0s\n",
            "[CV] max_depth=5, min_samples_leaf=4, splitter=random ................\n",
            "[CV]  max_depth=5, min_samples_leaf=4, splitter=random, accuracy=0.842, precision=0.807, recall=0.941, total=   0.0s\n",
            "[CV] max_depth=5, min_samples_leaf=4, splitter=random ................\n",
            "[CV]  max_depth=5, min_samples_leaf=4, splitter=random, accuracy=0.831, precision=0.812, recall=0.901, total=   0.0s\n",
            "[CV] max_depth=5, min_samples_leaf=4, splitter=random ................\n",
            "[CV]  max_depth=5, min_samples_leaf=4, splitter=random, accuracy=0.749, precision=0.809, recall=0.713, total=   0.0s\n",
            "[CV] max_depth=5, min_samples_leaf=5, splitter=best ..................\n",
            "[CV]  max_depth=5, min_samples_leaf=5, splitter=best, accuracy=0.891, precision=0.918, recall=0.882, total=   0.0s\n",
            "[CV] max_depth=5, min_samples_leaf=5, splitter=best ..................\n",
            "[CV]  max_depth=5, min_samples_leaf=5, splitter=best, accuracy=0.864, precision=0.923, recall=0.824, total=   0.0s\n",
            "[CV] max_depth=5, min_samples_leaf=5, splitter=best ..................\n",
            "[CV]  max_depth=5, min_samples_leaf=5, splitter=best, accuracy=0.783, precision=0.725, recall=0.980, total=   0.0s\n",
            "[CV] max_depth=5, min_samples_leaf=5, splitter=best ..................\n",
            "[CV]  max_depth=5, min_samples_leaf=5, splitter=best, accuracy=0.727, precision=0.718, recall=0.832, total=   0.0s\n",
            "[CV] max_depth=5, min_samples_leaf=5, splitter=best ..................\n",
            "[CV]  max_depth=5, min_samples_leaf=5, splitter=best, accuracy=0.689, precision=0.775, recall=0.614, total=   0.0s\n",
            "[CV] max_depth=5, min_samples_leaf=5, splitter=random ................\n",
            "[CV]  max_depth=5, min_samples_leaf=5, splitter=random, accuracy=0.929, precision=0.916, recall=0.961, total=   0.0s\n",
            "[CV] max_depth=5, min_samples_leaf=5, splitter=random ................\n",
            "[CV]  max_depth=5, min_samples_leaf=5, splitter=random, accuracy=0.842, precision=0.910, recall=0.794, total=   0.0s\n",
            "[CV] max_depth=5, min_samples_leaf=5, splitter=random ................\n",
            "[CV]  max_depth=5, min_samples_leaf=5, splitter=random, accuracy=0.832, precision=0.820, recall=0.892, total=   0.0s\n",
            "[CV] max_depth=5, min_samples_leaf=5, splitter=random ................\n",
            "[CV]  max_depth=5, min_samples_leaf=5, splitter=random, accuracy=0.825, precision=0.822, recall=0.871, total=   0.0s\n",
            "[CV] max_depth=5, min_samples_leaf=5, splitter=random ................\n",
            "[CV]  max_depth=5, min_samples_leaf=5, splitter=random, accuracy=0.721, precision=0.805, recall=0.653, total=   0.0s\n",
            "[CV] max_depth=5, min_samples_leaf=6, splitter=best ..................\n",
            "[CV]  max_depth=5, min_samples_leaf=6, splitter=best, accuracy=0.902, precision=0.929, recall=0.892, total=   0.0s\n",
            "[CV] max_depth=5, min_samples_leaf=6, splitter=best ..................\n",
            "[CV]  max_depth=5, min_samples_leaf=6, splitter=best, accuracy=0.842, precision=0.940, recall=0.765, total=   0.0s\n",
            "[CV] max_depth=5, min_samples_leaf=6, splitter=best ..................\n",
            "[CV]  max_depth=5, min_samples_leaf=6, splitter=best, accuracy=0.783, precision=0.725, recall=0.980, total=   0.0s\n",
            "[CV] max_depth=5, min_samples_leaf=6, splitter=best ..................\n",
            "[CV]  max_depth=5, min_samples_leaf=6, splitter=best, accuracy=0.727, precision=0.718, recall=0.832, total=   0.0s\n",
            "[CV] max_depth=5, min_samples_leaf=6, splitter=best ..................\n",
            "[CV]  max_depth=5, min_samples_leaf=6, splitter=best, accuracy=0.689, precision=0.775, recall=0.614, total=   0.0s\n",
            "[CV] max_depth=5, min_samples_leaf=6, splitter=random ................\n",
            "[CV]  max_depth=5, min_samples_leaf=6, splitter=random, accuracy=0.880, precision=0.926, recall=0.853, total=   0.0s\n",
            "[CV] max_depth=5, min_samples_leaf=6, splitter=random ................\n",
            "[CV]  max_depth=5, min_samples_leaf=6, splitter=random, accuracy=0.810, precision=0.914, recall=0.725, total=   0.0s\n",
            "[CV] max_depth=5, min_samples_leaf=6, splitter=random ................\n",
            "[CV]  max_depth=5, min_samples_leaf=6, splitter=random, accuracy=0.837, precision=0.800, recall=0.941, total=   0.0s\n",
            "[CV] max_depth=5, min_samples_leaf=6, splitter=random ................\n",
            "[CV]  max_depth=5, min_samples_leaf=6, splitter=random, accuracy=0.798, precision=0.808, recall=0.832, total=   0.0s\n",
            "[CV] max_depth=5, min_samples_leaf=6, splitter=random ................\n",
            "[CV]  max_depth=5, min_samples_leaf=6, splitter=random, accuracy=0.705, precision=0.758, recall=0.683, total=   0.0s\n",
            "[CV] max_depth=5, min_samples_leaf=7, splitter=best ..................\n",
            "[CV]  max_depth=5, min_samples_leaf=7, splitter=best, accuracy=0.886, precision=0.918, recall=0.873, total=   0.0s\n",
            "[CV] max_depth=5, min_samples_leaf=7, splitter=best ..................\n",
            "[CV]  max_depth=5, min_samples_leaf=7, splitter=best, accuracy=0.842, precision=0.951, recall=0.755, total=   0.0s\n",
            "[CV] max_depth=5, min_samples_leaf=7, splitter=best ..................\n",
            "[CV]  max_depth=5, min_samples_leaf=7, splitter=best, accuracy=0.783, precision=0.725, recall=0.980, total=   0.0s\n",
            "[CV] max_depth=5, min_samples_leaf=7, splitter=best ..................\n",
            "[CV]  max_depth=5, min_samples_leaf=7, splitter=best, accuracy=0.760, precision=0.761, recall=0.822, total=   0.0s\n",
            "[CV] max_depth=5, min_samples_leaf=7, splitter=best ..................\n",
            "[CV]  max_depth=5, min_samples_leaf=7, splitter=best, accuracy=0.689, precision=0.775, recall=0.614, total=   0.0s\n",
            "[CV] max_depth=5, min_samples_leaf=7, splitter=random ................\n",
            "[CV]  max_depth=5, min_samples_leaf=7, splitter=random, accuracy=0.918, precision=0.922, recall=0.931, total=   0.0s\n",
            "[CV] max_depth=5, min_samples_leaf=7, splitter=random ................\n",
            "[CV]  max_depth=5, min_samples_leaf=7, splitter=random, accuracy=0.875, precision=0.907, recall=0.863, total=   0.0s\n",
            "[CV] max_depth=5, min_samples_leaf=7, splitter=random ................\n",
            "[CV]  max_depth=5, min_samples_leaf=7, splitter=random, accuracy=0.837, precision=0.800, recall=0.941, total=   0.0s\n",
            "[CV] max_depth=5, min_samples_leaf=7, splitter=random ................\n",
            "[CV]  max_depth=5, min_samples_leaf=7, splitter=random, accuracy=0.798, precision=0.776, recall=0.891, total=   0.0s\n",
            "[CV] max_depth=5, min_samples_leaf=7, splitter=random ................\n",
            "[CV]  max_depth=5, min_samples_leaf=7, splitter=random, accuracy=0.699, precision=0.750, recall=0.683, total=   0.0s\n",
            "[CV] max_depth=5, min_samples_leaf=8, splitter=best ..................\n",
            "[CV]  max_depth=5, min_samples_leaf=8, splitter=best, accuracy=0.886, precision=0.918, recall=0.873, total=   0.0s\n",
            "[CV] max_depth=5, min_samples_leaf=8, splitter=best ..................\n",
            "[CV]  max_depth=5, min_samples_leaf=8, splitter=best, accuracy=0.842, precision=0.951, recall=0.755, total=   0.0s\n",
            "[CV] max_depth=5, min_samples_leaf=8, splitter=best ..................\n",
            "[CV]  max_depth=5, min_samples_leaf=8, splitter=best, accuracy=0.783, precision=0.725, recall=0.980, total=   0.0s\n",
            "[CV] max_depth=5, min_samples_leaf=8, splitter=best ..................\n",
            "[CV]  max_depth=5, min_samples_leaf=8, splitter=best, accuracy=0.760, precision=0.761, recall=0.822, total=   0.0s\n",
            "[CV] max_depth=5, min_samples_leaf=8, splitter=best ..................\n",
            "[CV]  max_depth=5, min_samples_leaf=8, splitter=best, accuracy=0.689, precision=0.775, recall=0.614, total=   0.0s\n",
            "[CV] max_depth=5, min_samples_leaf=8, splitter=random ................\n",
            "[CV]  max_depth=5, min_samples_leaf=8, splitter=random, accuracy=0.902, precision=0.920, recall=0.902, total=   0.0s\n",
            "[CV] max_depth=5, min_samples_leaf=8, splitter=random ................\n",
            "[CV]  max_depth=5, min_samples_leaf=8, splitter=random, accuracy=0.821, precision=0.906, recall=0.755, total=   0.0s\n",
            "[CV] max_depth=5, min_samples_leaf=8, splitter=random ................\n",
            "[CV]  max_depth=5, min_samples_leaf=8, splitter=random, accuracy=0.821, precision=0.767, recall=0.971, total=   0.0s\n",
            "[CV] max_depth=5, min_samples_leaf=8, splitter=random ................\n",
            "[CV]  max_depth=5, min_samples_leaf=8, splitter=random, accuracy=0.852, precision=0.870, recall=0.861, total=   0.0s\n",
            "[CV] max_depth=5, min_samples_leaf=8, splitter=random ................\n",
            "[CV]  max_depth=5, min_samples_leaf=8, splitter=random, accuracy=0.721, precision=0.784, recall=0.683, total=   0.0s\n",
            "[CV] max_depth=5, min_samples_leaf=9, splitter=best ..................\n",
            "[CV]  max_depth=5, min_samples_leaf=9, splitter=best, accuracy=0.902, precision=0.920, recall=0.902, total=   0.0s\n",
            "[CV] max_depth=5, min_samples_leaf=9, splitter=best ..................\n",
            "[CV]  max_depth=5, min_samples_leaf=9, splitter=best, accuracy=0.837, precision=0.950, recall=0.745, total=   0.0s\n",
            "[CV] max_depth=5, min_samples_leaf=9, splitter=best ..................\n",
            "[CV]  max_depth=5, min_samples_leaf=9, splitter=best, accuracy=0.783, precision=0.725, recall=0.980, total=   0.0s\n",
            "[CV] max_depth=5, min_samples_leaf=9, splitter=best ..................\n",
            "[CV]  max_depth=5, min_samples_leaf=9, splitter=best, accuracy=0.727, precision=0.726, recall=0.812, total=   0.0s\n",
            "[CV] max_depth=5, min_samples_leaf=9, splitter=best ..................\n",
            "[CV]  max_depth=5, min_samples_leaf=9, splitter=best, accuracy=0.683, precision=0.759, recall=0.624, total=   0.0s\n",
            "[CV] max_depth=5, min_samples_leaf=9, splitter=random ................\n",
            "[CV]  max_depth=5, min_samples_leaf=9, splitter=random, accuracy=0.908, precision=0.929, recall=0.902, total=   0.0s\n",
            "[CV] max_depth=5, min_samples_leaf=9, splitter=random ................\n",
            "[CV]  max_depth=5, min_samples_leaf=9, splitter=random, accuracy=0.826, precision=0.927, recall=0.745, total=   0.0s\n",
            "[CV] max_depth=5, min_samples_leaf=9, splitter=random ................\n",
            "[CV]  max_depth=5, min_samples_leaf=9, splitter=random, accuracy=0.826, precision=0.769, recall=0.980, total=   0.0s\n",
            "[CV] max_depth=5, min_samples_leaf=9, splitter=random ................\n",
            "[CV]  max_depth=5, min_samples_leaf=9, splitter=random, accuracy=0.825, precision=0.829, recall=0.861, total=   0.0s\n",
            "[CV] max_depth=5, min_samples_leaf=9, splitter=random ................\n",
            "[CV]  max_depth=5, min_samples_leaf=9, splitter=random, accuracy=0.749, precision=0.789, recall=0.743, total=   0.0s\n",
            "[CV] max_depth=5, min_samples_leaf=10, splitter=best .................\n",
            "[CV]  max_depth=5, min_samples_leaf=10, splitter=best, accuracy=0.902, precision=0.938, recall=0.882, total=   0.0s\n",
            "[CV] max_depth=5, min_samples_leaf=10, splitter=best .................\n",
            "[CV]  max_depth=5, min_samples_leaf=10, splitter=best, accuracy=0.842, precision=0.951, recall=0.755, total=   0.0s\n",
            "[CV] max_depth=5, min_samples_leaf=10, splitter=best .................\n",
            "[CV]  max_depth=5, min_samples_leaf=10, splitter=best, accuracy=0.799, precision=0.756, recall=0.941, total=   0.0s\n",
            "[CV] max_depth=5, min_samples_leaf=10, splitter=best .................\n",
            "[CV]  max_depth=5, min_samples_leaf=10, splitter=best, accuracy=0.721, precision=0.716, recall=0.822, total=   0.0s\n",
            "[CV] max_depth=5, min_samples_leaf=10, splitter=best .................\n",
            "[CV]  max_depth=5, min_samples_leaf=10, splitter=best, accuracy=0.705, precision=0.770, recall=0.663, total=   0.0s\n",
            "[CV] max_depth=5, min_samples_leaf=10, splitter=random ...............\n",
            "[CV]  max_depth=5, min_samples_leaf=10, splitter=random, accuracy=0.891, precision=0.927, recall=0.873, total=   0.0s\n",
            "[CV] max_depth=5, min_samples_leaf=10, splitter=random ...............\n",
            "[CV]  max_depth=5, min_samples_leaf=10, splitter=random, accuracy=0.821, precision=0.916, recall=0.745, total=   0.0s\n",
            "[CV] max_depth=5, min_samples_leaf=10, splitter=random ...............\n",
            "[CV]  max_depth=5, min_samples_leaf=10, splitter=random, accuracy=0.853, precision=0.810, recall=0.961, total=   0.0s\n",
            "[CV] max_depth=5, min_samples_leaf=10, splitter=random ...............\n",
            "[CV]  max_depth=5, min_samples_leaf=10, splitter=random, accuracy=0.787, precision=0.782, recall=0.851, total=   0.0s\n",
            "[CV] max_depth=5, min_samples_leaf=10, splitter=random ...............\n",
            "[CV]  max_depth=5, min_samples_leaf=10, splitter=random, accuracy=0.749, precision=0.789, recall=0.743, total=   0.0s\n",
            "[CV] max_depth=7, min_samples_leaf=1, splitter=best ..................\n",
            "[CV]  max_depth=7, min_samples_leaf=1, splitter=best, accuracy=0.853, precision=0.895, recall=0.833, total=   0.0s\n",
            "[CV] max_depth=7, min_samples_leaf=1, splitter=best ..................\n",
            "[CV]  max_depth=7, min_samples_leaf=1, splitter=best, accuracy=0.739, precision=0.865, recall=0.627, total=   0.0s\n",
            "[CV] max_depth=7, min_samples_leaf=1, splitter=best ..................\n",
            "[CV]  max_depth=7, min_samples_leaf=1, splitter=best, accuracy=0.772, precision=0.727, recall=0.941, total=   0.0s\n",
            "[CV] max_depth=7, min_samples_leaf=1, splitter=best ..................\n",
            "[CV]  max_depth=7, min_samples_leaf=1, splitter=best, accuracy=0.776, precision=0.768, recall=0.851, total=   0.0s\n",
            "[CV] max_depth=7, min_samples_leaf=1, splitter=best ..................\n",
            "[CV]  max_depth=7, min_samples_leaf=1, splitter=best, accuracy=0.721, precision=0.784, recall=0.683, total=   0.0s\n",
            "[CV] max_depth=7, min_samples_leaf=1, splitter=random ................\n",
            "[CV]  max_depth=7, min_samples_leaf=1, splitter=random, accuracy=0.799, precision=0.922, recall=0.696, total=   0.0s\n",
            "[CV] max_depth=7, min_samples_leaf=1, splitter=random ................\n",
            "[CV]  max_depth=7, min_samples_leaf=1, splitter=random, accuracy=0.766, precision=0.864, recall=0.686, total=   0.0s\n",
            "[CV] max_depth=7, min_samples_leaf=1, splitter=random ................\n",
            "[CV]  max_depth=7, min_samples_leaf=1, splitter=random, accuracy=0.821, precision=0.790, recall=0.922, total=   0.0s\n",
            "[CV] max_depth=7, min_samples_leaf=1, splitter=random ................\n",
            "[CV]  max_depth=7, min_samples_leaf=1, splitter=random, accuracy=0.809, precision=0.824, recall=0.832, total=   0.0s\n",
            "[CV] max_depth=7, min_samples_leaf=1, splitter=random ................\n",
            "[CV]  max_depth=7, min_samples_leaf=1, splitter=random, accuracy=0.743, precision=0.807, recall=0.703, total=   0.0s\n",
            "[CV] max_depth=7, min_samples_leaf=2, splitter=best ..................\n",
            "[CV]  max_depth=7, min_samples_leaf=2, splitter=best, accuracy=0.832, precision=0.899, recall=0.784, total=   0.0s\n",
            "[CV] max_depth=7, min_samples_leaf=2, splitter=best ..................\n",
            "[CV]  max_depth=7, min_samples_leaf=2, splitter=best, accuracy=0.755, precision=0.890, recall=0.637, total=   0.0s\n",
            "[CV] max_depth=7, min_samples_leaf=2, splitter=best ..................\n",
            "[CV]  max_depth=7, min_samples_leaf=2, splitter=best, accuracy=0.783, precision=0.735, recall=0.951, total=   0.0s\n",
            "[CV] max_depth=7, min_samples_leaf=2, splitter=best ..................\n",
            "[CV]  max_depth=7, min_samples_leaf=2, splitter=best, accuracy=0.803, precision=0.783, recall=0.891, total=   0.0s\n",
            "[CV] max_depth=7, min_samples_leaf=2, splitter=best ..................\n",
            "[CV]  max_depth=7, min_samples_leaf=2, splitter=best, accuracy=0.738, precision=0.798, recall=0.703, total=   0.0s\n",
            "[CV] max_depth=7, min_samples_leaf=2, splitter=random ................\n",
            "[CV]  max_depth=7, min_samples_leaf=2, splitter=random, accuracy=0.875, precision=0.907, recall=0.863, total=   0.0s\n",
            "[CV] max_depth=7, min_samples_leaf=2, splitter=random ................\n",
            "[CV]  max_depth=7, min_samples_leaf=2, splitter=random, accuracy=0.755, precision=0.890, recall=0.637, total=   0.0s\n",
            "[CV] max_depth=7, min_samples_leaf=2, splitter=random ................\n",
            "[CV]  max_depth=7, min_samples_leaf=2, splitter=random, accuracy=0.799, precision=0.760, recall=0.931, total=   0.0s\n",
            "[CV] max_depth=7, min_samples_leaf=2, splitter=random ................\n",
            "[CV]  max_depth=7, min_samples_leaf=2, splitter=random, accuracy=0.776, precision=0.778, recall=0.832, total=   0.0s\n",
            "[CV] max_depth=7, min_samples_leaf=2, splitter=random ................\n",
            "[CV]  max_depth=7, min_samples_leaf=2, splitter=random, accuracy=0.754, precision=0.833, recall=0.693, total=   0.0s\n",
            "[CV] max_depth=7, min_samples_leaf=3, splitter=best ..................\n",
            "[CV]  max_depth=7, min_samples_leaf=3, splitter=best, accuracy=0.880, precision=0.917, recall=0.863, total=   0.0s\n",
            "[CV] max_depth=7, min_samples_leaf=3, splitter=best ..................\n",
            "[CV]  max_depth=7, min_samples_leaf=3, splitter=best, accuracy=0.777, precision=0.907, recall=0.667, total=   0.0s\n",
            "[CV] max_depth=7, min_samples_leaf=3, splitter=best ..................\n",
            "[CV]  max_depth=7, min_samples_leaf=3, splitter=best, accuracy=0.804, precision=0.754, recall=0.961, total=   0.0s\n",
            "[CV] max_depth=7, min_samples_leaf=3, splitter=best ..................\n",
            "[CV]  max_depth=7, min_samples_leaf=3, splitter=best, accuracy=0.770, precision=0.757, recall=0.861, total=   0.0s\n",
            "[CV] max_depth=7, min_samples_leaf=3, splitter=best ..................\n",
            "[CV]  max_depth=7, min_samples_leaf=3, splitter=best, accuracy=0.716, precision=0.782, recall=0.673, total=   0.0s\n",
            "[CV] max_depth=7, min_samples_leaf=3, splitter=random ................\n",
            "[CV]  max_depth=7, min_samples_leaf=3, splitter=random, accuracy=0.875, precision=0.944, recall=0.824, total=   0.0s\n",
            "[CV] max_depth=7, min_samples_leaf=3, splitter=random ................\n",
            "[CV]  max_depth=7, min_samples_leaf=3, splitter=random, accuracy=0.810, precision=0.894, recall=0.745, total=   0.0s\n",
            "[CV] max_depth=7, min_samples_leaf=3, splitter=random ................\n",
            "[CV]  max_depth=7, min_samples_leaf=3, splitter=random, accuracy=0.826, precision=0.797, recall=0.922, total=   0.0s\n",
            "[CV] max_depth=7, min_samples_leaf=3, splitter=random ................\n",
            "[CV]  max_depth=7, min_samples_leaf=3, splitter=random, accuracy=0.847, precision=0.829, recall=0.911, total=   0.0s\n",
            "[CV] max_depth=7, min_samples_leaf=3, splitter=random ................\n",
            "[CV]  max_depth=7, min_samples_leaf=3, splitter=random, accuracy=0.760, precision=0.828, recall=0.713, total=   0.0s\n",
            "[CV] max_depth=7, min_samples_leaf=4, splitter=best ..................\n",
            "[CV]  max_depth=7, min_samples_leaf=4, splitter=best, accuracy=0.908, precision=0.929, recall=0.902, total=   0.0s\n",
            "[CV] max_depth=7, min_samples_leaf=4, splitter=best ..................\n",
            "[CV]  max_depth=7, min_samples_leaf=4, splitter=best, accuracy=0.755, precision=0.890, recall=0.637, total=   0.0s\n",
            "[CV] max_depth=7, min_samples_leaf=4, splitter=best ..................\n",
            "[CV]  max_depth=7, min_samples_leaf=4, splitter=best, accuracy=0.793, precision=0.758, recall=0.922, total=   0.0s\n",
            "[CV] max_depth=7, min_samples_leaf=4, splitter=best ..................\n",
            "[CV]  max_depth=7, min_samples_leaf=4, splitter=best, accuracy=0.743, precision=0.745, recall=0.812, total=   0.0s\n",
            "[CV] max_depth=7, min_samples_leaf=4, splitter=best ..................\n",
            "[CV]  max_depth=7, min_samples_leaf=4, splitter=best, accuracy=0.672, precision=0.766, recall=0.584, total=   0.0s\n",
            "[CV] max_depth=7, min_samples_leaf=4, splitter=random ................\n",
            "[CV]  max_depth=7, min_samples_leaf=4, splitter=random, accuracy=0.832, precision=0.949, recall=0.735, total=   0.0s\n",
            "[CV] max_depth=7, min_samples_leaf=4, splitter=random ................\n",
            "[CV]  max_depth=7, min_samples_leaf=4, splitter=random, accuracy=0.783, precision=0.878, recall=0.706, total=   0.0s\n",
            "[CV] max_depth=7, min_samples_leaf=4, splitter=random ................\n",
            "[CV]  max_depth=7, min_samples_leaf=4, splitter=random, accuracy=0.777, precision=0.723, recall=0.971, total=   0.0s\n",
            "[CV] max_depth=7, min_samples_leaf=4, splitter=random ................\n",
            "[CV]  max_depth=7, min_samples_leaf=4, splitter=random, accuracy=0.798, precision=0.802, recall=0.842, total=   0.0s\n",
            "[CV] max_depth=7, min_samples_leaf=4, splitter=random ................\n",
            "[CV]  max_depth=7, min_samples_leaf=4, splitter=random, accuracy=0.738, precision=0.844, recall=0.644, total=   0.0s\n",
            "[CV] max_depth=7, min_samples_leaf=5, splitter=best ..................\n",
            "[CV]  max_depth=7, min_samples_leaf=5, splitter=best, accuracy=0.886, precision=0.909, recall=0.882, total=   0.0s\n",
            "[CV] max_depth=7, min_samples_leaf=5, splitter=best ..................\n",
            "[CV]  max_depth=7, min_samples_leaf=5, splitter=best, accuracy=0.832, precision=0.918, recall=0.765, total=   0.0s\n",
            "[CV] max_depth=7, min_samples_leaf=5, splitter=best ..................\n",
            "[CV]  max_depth=7, min_samples_leaf=5, splitter=best, accuracy=0.821, precision=0.772, recall=0.961, total=   0.0s\n",
            "[CV] max_depth=7, min_samples_leaf=5, splitter=best ..................\n",
            "[CV]  max_depth=7, min_samples_leaf=5, splitter=best, accuracy=0.765, precision=0.754, recall=0.851, total=   0.0s\n",
            "[CV] max_depth=7, min_samples_leaf=5, splitter=best ..................\n",
            "[CV]  max_depth=7, min_samples_leaf=5, splitter=best, accuracy=0.689, precision=0.768, recall=0.624, total=   0.0s\n",
            "[CV] max_depth=7, min_samples_leaf=5, splitter=random ................\n",
            "[CV]  max_depth=7, min_samples_leaf=5, splitter=random, accuracy=0.783, precision=0.897, recall=0.686, total=   0.0s\n",
            "[CV] max_depth=7, min_samples_leaf=5, splitter=random ................\n",
            "[CV]  max_depth=7, min_samples_leaf=5, splitter=random, accuracy=0.832, precision=0.899, recall=0.784, total=   0.0s\n",
            "[CV] max_depth=7, min_samples_leaf=5, splitter=random ................\n",
            "[CV]  max_depth=7, min_samples_leaf=5, splitter=random, accuracy=0.788, precision=0.748, recall=0.931, total=   0.0s\n",
            "[CV] max_depth=7, min_samples_leaf=5, splitter=random ................\n",
            "[CV]  max_depth=7, min_samples_leaf=5, splitter=random, accuracy=0.803, precision=0.810, recall=0.842, total=   0.0s\n",
            "[CV] max_depth=7, min_samples_leaf=5, splitter=random ................\n",
            "[CV]  max_depth=7, min_samples_leaf=5, splitter=random, accuracy=0.738, precision=0.785, recall=0.723, total=   0.0s\n",
            "[CV] max_depth=7, min_samples_leaf=6, splitter=best ..................\n",
            "[CV]  max_depth=7, min_samples_leaf=6, splitter=best, accuracy=0.880, precision=0.917, recall=0.863, total=   0.0s\n",
            "[CV] max_depth=7, min_samples_leaf=6, splitter=best ..................\n",
            "[CV]  max_depth=7, min_samples_leaf=6, splitter=best, accuracy=0.842, precision=0.940, recall=0.765, total=   0.0s\n",
            "[CV] max_depth=7, min_samples_leaf=6, splitter=best ..................\n",
            "[CV]  max_depth=7, min_samples_leaf=6, splitter=best, accuracy=0.783, precision=0.728, recall=0.971, total=   0.0s\n",
            "[CV] max_depth=7, min_samples_leaf=6, splitter=best ..................\n",
            "[CV]  max_depth=7, min_samples_leaf=6, splitter=best, accuracy=0.743, precision=0.750, recall=0.802, total=   0.0s\n",
            "[CV] max_depth=7, min_samples_leaf=6, splitter=best ..................\n",
            "[CV]  max_depth=7, min_samples_leaf=6, splitter=best, accuracy=0.678, precision=0.769, recall=0.594, total=   0.0s\n",
            "[CV] max_depth=7, min_samples_leaf=6, splitter=random ................\n",
            "[CV]  max_depth=7, min_samples_leaf=6, splitter=random, accuracy=0.864, precision=0.914, recall=0.833, total=   0.0s\n",
            "[CV] max_depth=7, min_samples_leaf=6, splitter=random ................\n",
            "[CV]  max_depth=7, min_samples_leaf=6, splitter=random, accuracy=0.810, precision=0.924, recall=0.716, total=   0.0s\n",
            "[CV] max_depth=7, min_samples_leaf=6, splitter=random ................\n",
            "[CV]  max_depth=7, min_samples_leaf=6, splitter=random, accuracy=0.832, precision=0.809, recall=0.912, total=   0.0s\n",
            "[CV] max_depth=7, min_samples_leaf=6, splitter=random ................\n",
            "[CV]  max_depth=7, min_samples_leaf=6, splitter=random, accuracy=0.820, precision=0.809, recall=0.881, total=   0.0s\n",
            "[CV] max_depth=7, min_samples_leaf=6, splitter=random ................\n",
            "[CV]  max_depth=7, min_samples_leaf=6, splitter=random, accuracy=0.765, precision=0.796, recall=0.772, total=   0.0s\n",
            "[CV] max_depth=7, min_samples_leaf=7, splitter=best ..................\n",
            "[CV]  max_depth=7, min_samples_leaf=7, splitter=best, accuracy=0.864, precision=0.905, recall=0.843, total=   0.0s\n",
            "[CV] max_depth=7, min_samples_leaf=7, splitter=best ..................\n",
            "[CV]  max_depth=7, min_samples_leaf=7, splitter=best, accuracy=0.848, precision=0.951, recall=0.765, total=   0.0s\n",
            "[CV] max_depth=7, min_samples_leaf=7, splitter=best ..................\n",
            "[CV]  max_depth=7, min_samples_leaf=7, splitter=best, accuracy=0.788, precision=0.730, recall=0.980, total=   0.0s\n",
            "[CV] max_depth=7, min_samples_leaf=7, splitter=best ..................\n",
            "[CV]  max_depth=7, min_samples_leaf=7, splitter=best, accuracy=0.803, precision=0.798, recall=0.861, total=   0.0s\n",
            "[CV] max_depth=7, min_samples_leaf=7, splitter=best ..................\n",
            "[CV]  max_depth=7, min_samples_leaf=7, splitter=best, accuracy=0.678, precision=0.769, recall=0.594, total=   0.0s\n",
            "[CV] max_depth=7, min_samples_leaf=7, splitter=random ................\n",
            "[CV]  max_depth=7, min_samples_leaf=7, splitter=random, accuracy=0.897, precision=0.919, recall=0.892, total=   0.0s\n",
            "[CV] max_depth=7, min_samples_leaf=7, splitter=random ................\n",
            "[CV]  max_depth=7, min_samples_leaf=7, splitter=random, accuracy=0.793, precision=0.910, recall=0.696, total=   0.0s\n",
            "[CV] max_depth=7, min_samples_leaf=7, splitter=random ................\n",
            "[CV]  max_depth=7, min_samples_leaf=7, splitter=random, accuracy=0.826, precision=0.773, recall=0.971, total=   0.0s\n",
            "[CV] max_depth=7, min_samples_leaf=7, splitter=random ................\n",
            "[CV]  max_depth=7, min_samples_leaf=7, splitter=random, accuracy=0.809, precision=0.824, recall=0.832, total=   0.0s\n",
            "[CV] max_depth=7, min_samples_leaf=7, splitter=random ................\n",
            "[CV]  max_depth=7, min_samples_leaf=7, splitter=random, accuracy=0.749, precision=0.778, recall=0.762, total=   0.0s\n",
            "[CV] max_depth=7, min_samples_leaf=8, splitter=best ..................\n",
            "[CV]  max_depth=7, min_samples_leaf=8, splitter=best, accuracy=0.864, precision=0.905, recall=0.843, total=   0.0s\n",
            "[CV] max_depth=7, min_samples_leaf=8, splitter=best ..................\n",
            "[CV]  max_depth=7, min_samples_leaf=8, splitter=best, accuracy=0.848, precision=0.951, recall=0.765, total=   0.0s\n",
            "[CV] max_depth=7, min_samples_leaf=8, splitter=best ..................\n",
            "[CV]  max_depth=7, min_samples_leaf=8, splitter=best, accuracy=0.788, precision=0.730, recall=0.980, total=   0.0s\n",
            "[CV] max_depth=7, min_samples_leaf=8, splitter=best ..................\n",
            "[CV]  max_depth=7, min_samples_leaf=8, splitter=best, accuracy=0.798, precision=0.791, recall=0.861, total=   0.0s\n",
            "[CV] max_depth=7, min_samples_leaf=8, splitter=best ..................\n",
            "[CV]  max_depth=7, min_samples_leaf=8, splitter=best, accuracy=0.689, precision=0.782, recall=0.604, total=   0.0s\n",
            "[CV] max_depth=7, min_samples_leaf=8, splitter=random ................\n",
            "[CV]  max_depth=7, min_samples_leaf=8, splitter=random, accuracy=0.880, precision=0.917, recall=0.863, total=   0.0s\n",
            "[CV] max_depth=7, min_samples_leaf=8, splitter=random ................\n",
            "[CV]  max_depth=7, min_samples_leaf=8, splitter=random, accuracy=0.783, precision=0.908, recall=0.676, total=   0.0s\n",
            "[CV] max_depth=7, min_samples_leaf=8, splitter=random ................\n",
            "[CV]  max_depth=7, min_samples_leaf=8, splitter=random, accuracy=0.864, precision=0.824, recall=0.961, total=   0.0s\n",
            "[CV] max_depth=7, min_samples_leaf=8, splitter=random ................\n",
            "[CV]  max_depth=7, min_samples_leaf=8, splitter=random, accuracy=0.814, precision=0.791, recall=0.901, total=   0.0s\n",
            "[CV] max_depth=7, min_samples_leaf=8, splitter=random ................\n",
            "[CV]  max_depth=7, min_samples_leaf=8, splitter=random, accuracy=0.727, precision=0.793, recall=0.683, total=   0.0s\n",
            "[CV] max_depth=7, min_samples_leaf=9, splitter=best ..................\n",
            "[CV]  max_depth=7, min_samples_leaf=9, splitter=best, accuracy=0.886, precision=0.918, recall=0.873, total=   0.0s\n",
            "[CV] max_depth=7, min_samples_leaf=9, splitter=best ..................\n",
            "[CV]  max_depth=7, min_samples_leaf=9, splitter=best, accuracy=0.842, precision=0.951, recall=0.755, total=   0.0s\n",
            "[CV] max_depth=7, min_samples_leaf=9, splitter=best ..................\n",
            "[CV]  max_depth=7, min_samples_leaf=9, splitter=best, accuracy=0.788, precision=0.730, recall=0.980, total=   0.0s\n",
            "[CV] max_depth=7, min_samples_leaf=9, splitter=best ..................\n",
            "[CV]  max_depth=7, min_samples_leaf=9, splitter=best, accuracy=0.727, precision=0.711, recall=0.851, total=   0.0s\n",
            "[CV] max_depth=7, min_samples_leaf=9, splitter=best ..................\n",
            "[CV]  max_depth=7, min_samples_leaf=9, splitter=best, accuracy=0.683, precision=0.759, recall=0.624, total=   0.0s\n",
            "[CV] max_depth=7, min_samples_leaf=9, splitter=random ................\n",
            "[CV]  max_depth=7, min_samples_leaf=9, splitter=random, accuracy=0.924, precision=0.931, recall=0.931, total=   0.0s\n",
            "[CV] max_depth=7, min_samples_leaf=9, splitter=random ................\n",
            "[CV]  max_depth=7, min_samples_leaf=9, splitter=random, accuracy=0.837, precision=0.909, recall=0.784, total=   0.0s\n",
            "[CV] max_depth=7, min_samples_leaf=9, splitter=random ................\n",
            "[CV]  max_depth=7, min_samples_leaf=9, splitter=random, accuracy=0.788, precision=0.752, recall=0.922, total=   0.0s\n",
            "[CV] max_depth=7, min_samples_leaf=9, splitter=random ................\n",
            "[CV]  max_depth=7, min_samples_leaf=9, splitter=random, accuracy=0.820, precision=0.798, recall=0.901, total=   0.0s\n",
            "[CV] max_depth=7, min_samples_leaf=9, splitter=random ................\n",
            "[CV]  max_depth=7, min_samples_leaf=9, splitter=random, accuracy=0.749, precision=0.767, recall=0.782, total=   0.0s\n",
            "[CV] max_depth=7, min_samples_leaf=10, splitter=best .................\n",
            "[CV]  max_depth=7, min_samples_leaf=10, splitter=best, accuracy=0.870, precision=0.933, recall=0.824, total=   0.0s\n",
            "[CV] max_depth=7, min_samples_leaf=10, splitter=best .................\n",
            "[CV]  max_depth=7, min_samples_leaf=10, splitter=best, accuracy=0.842, precision=0.951, recall=0.755, total=   0.0s\n",
            "[CV] max_depth=7, min_samples_leaf=10, splitter=best .................\n",
            "[CV]  max_depth=7, min_samples_leaf=10, splitter=best, accuracy=0.804, precision=0.762, recall=0.941, total=   0.0s\n",
            "[CV] max_depth=7, min_samples_leaf=10, splitter=best .................\n",
            "[CV]  max_depth=7, min_samples_leaf=10, splitter=best, accuracy=0.738, precision=0.730, recall=0.832, total=   0.0s\n",
            "[CV] max_depth=7, min_samples_leaf=10, splitter=best .................\n",
            "[CV]  max_depth=7, min_samples_leaf=10, splitter=best, accuracy=0.705, precision=0.770, recall=0.663, total=   0.0s\n",
            "[CV] max_depth=7, min_samples_leaf=10, splitter=random ...............\n",
            "[CV]  max_depth=7, min_samples_leaf=10, splitter=random, accuracy=0.864, precision=0.923, recall=0.824, total=   0.0s\n",
            "[CV] max_depth=7, min_samples_leaf=10, splitter=random ...............\n",
            "[CV]  max_depth=7, min_samples_leaf=10, splitter=random, accuracy=0.804, precision=0.912, recall=0.716, total=   0.0s\n",
            "[CV] max_depth=7, min_samples_leaf=10, splitter=random ...............\n",
            "[CV]  max_depth=7, min_samples_leaf=10, splitter=random, accuracy=0.848, precision=0.814, recall=0.941, total=   0.0s\n",
            "[CV] max_depth=7, min_samples_leaf=10, splitter=random ...............\n",
            "[CV]  max_depth=7, min_samples_leaf=10, splitter=random, accuracy=0.765, precision=0.750, recall=0.861, total=   0.0s\n",
            "[CV] max_depth=7, min_samples_leaf=10, splitter=random ...............\n",
            "[CV]  max_depth=7, min_samples_leaf=10, splitter=random, accuracy=0.743, precision=0.793, recall=0.723, total=   0.0s\n",
            "[CV] max_depth=9, min_samples_leaf=1, splitter=best ..................\n",
            "[CV]  max_depth=9, min_samples_leaf=1, splitter=best, accuracy=0.783, precision=0.852, recall=0.735, total=   0.0s\n",
            "[CV] max_depth=9, min_samples_leaf=1, splitter=best ..................\n",
            "[CV]  max_depth=9, min_samples_leaf=1, splitter=best, accuracy=0.755, precision=0.870, recall=0.657, total=   0.0s\n",
            "[CV] max_depth=9, min_samples_leaf=1, splitter=best ..................\n",
            "[CV]  max_depth=9, min_samples_leaf=1, splitter=best, accuracy=0.788, precision=0.760, recall=0.902, total=   0.0s\n",
            "[CV] max_depth=9, min_samples_leaf=1, splitter=best ..................\n",
            "[CV]  max_depth=9, min_samples_leaf=1, splitter=best, accuracy=0.770, precision=0.761, recall=0.851, total=   0.0s\n",
            "[CV] max_depth=9, min_samples_leaf=1, splitter=best ..................\n",
            "[CV]  max_depth=9, min_samples_leaf=1, splitter=best, accuracy=0.705, precision=0.758, recall=0.683, total=   0.0s\n",
            "[CV] max_depth=9, min_samples_leaf=1, splitter=random ................\n",
            "[CV]  max_depth=9, min_samples_leaf=1, splitter=random, accuracy=0.826, precision=0.938, recall=0.735, total=   0.0s\n",
            "[CV] max_depth=9, min_samples_leaf=1, splitter=random ................\n",
            "[CV]  max_depth=9, min_samples_leaf=1, splitter=random, accuracy=0.783, precision=0.897, recall=0.686, total=   0.0s\n",
            "[CV] max_depth=9, min_samples_leaf=1, splitter=random ................\n",
            "[CV]  max_depth=9, min_samples_leaf=1, splitter=random, accuracy=0.832, precision=0.775, recall=0.980, total=   0.0s\n",
            "[CV] max_depth=9, min_samples_leaf=1, splitter=random ................\n",
            "[CV]  max_depth=9, min_samples_leaf=1, splitter=random, accuracy=0.847, precision=0.835, recall=0.901, total=   0.0s\n",
            "[CV] max_depth=9, min_samples_leaf=1, splitter=random ................\n",
            "[CV]  max_depth=9, min_samples_leaf=1, splitter=random, accuracy=0.727, precision=0.807, recall=0.663, total=   0.0s\n",
            "[CV] max_depth=9, min_samples_leaf=2, splitter=best ..................\n",
            "[CV]  max_depth=9, min_samples_leaf=2, splitter=best, accuracy=0.777, precision=0.896, recall=0.676, total=   0.0s\n",
            "[CV] max_depth=9, min_samples_leaf=2, splitter=best ..................\n",
            "[CV]  max_depth=9, min_samples_leaf=2, splitter=best, accuracy=0.755, precision=0.880, recall=0.647, total=   0.0s\n",
            "[CV] max_depth=9, min_samples_leaf=2, splitter=best ..................\n",
            "[CV]  max_depth=9, min_samples_leaf=2, splitter=best, accuracy=0.821, precision=0.780, recall=0.941, total=   0.0s\n",
            "[CV] max_depth=9, min_samples_leaf=2, splitter=best ..................\n",
            "[CV]  max_depth=9, min_samples_leaf=2, splitter=best, accuracy=0.776, precision=0.763, recall=0.861, total=   0.0s\n",
            "[CV] max_depth=9, min_samples_leaf=2, splitter=best ..................\n",
            "[CV]  max_depth=9, min_samples_leaf=2, splitter=best, accuracy=0.705, precision=0.822, recall=0.594, total=   0.0s\n",
            "[CV] max_depth=9, min_samples_leaf=2, splitter=random ................\n",
            "[CV]  max_depth=9, min_samples_leaf=2, splitter=random, accuracy=0.837, precision=0.919, recall=0.775, total=   0.0s\n",
            "[CV] max_depth=9, min_samples_leaf=2, splitter=random ................\n",
            "[CV]  max_depth=9, min_samples_leaf=2, splitter=random, accuracy=0.766, precision=0.893, recall=0.657, total=   0.0s\n",
            "[CV] max_depth=9, min_samples_leaf=2, splitter=random ................\n",
            "[CV]  max_depth=9, min_samples_leaf=2, splitter=random, accuracy=0.799, precision=0.756, recall=0.941, total=   0.0s\n",
            "[CV] max_depth=9, min_samples_leaf=2, splitter=random ................\n",
            "[CV]  max_depth=9, min_samples_leaf=2, splitter=random, accuracy=0.770, precision=0.792, recall=0.792, total=   0.0s\n",
            "[CV] max_depth=9, min_samples_leaf=2, splitter=random ................\n",
            "[CV]  max_depth=9, min_samples_leaf=2, splitter=random, accuracy=0.738, precision=0.805, recall=0.693, total=   0.0s\n",
            "[CV] max_depth=9, min_samples_leaf=3, splitter=best ..................\n",
            "[CV]  max_depth=9, min_samples_leaf=3, splitter=best, accuracy=0.837, precision=0.900, recall=0.794, total=   0.0s\n",
            "[CV] max_depth=9, min_samples_leaf=3, splitter=best ..................\n",
            "[CV]  max_depth=9, min_samples_leaf=3, splitter=best, accuracy=0.761, precision=0.872, recall=0.667, total=   0.0s\n",
            "[CV] max_depth=9, min_samples_leaf=3, splitter=best ..................\n",
            "[CV]  max_depth=9, min_samples_leaf=3, splitter=best, accuracy=0.815, precision=0.774, recall=0.941, total=   0.0s\n",
            "[CV] max_depth=9, min_samples_leaf=3, splitter=best ..................\n",
            "[CV]  max_depth=9, min_samples_leaf=3, splitter=best, accuracy=0.770, precision=0.757, recall=0.861, total=   0.0s\n",
            "[CV] max_depth=9, min_samples_leaf=3, splitter=best ..................\n",
            "[CV]  max_depth=9, min_samples_leaf=3, splitter=best, accuracy=0.721, precision=0.798, recall=0.663, total=   0.0s\n",
            "[CV] max_depth=9, min_samples_leaf=3, splitter=random ................\n",
            "[CV]  max_depth=9, min_samples_leaf=3, splitter=random, accuracy=0.897, precision=0.919, recall=0.892, total=   0.0s\n",
            "[CV] max_depth=9, min_samples_leaf=3, splitter=random ................\n",
            "[CV]  max_depth=9, min_samples_leaf=3, splitter=random, accuracy=0.788, precision=0.899, recall=0.696, total=   0.0s\n",
            "[CV] max_depth=9, min_samples_leaf=3, splitter=random ................\n",
            "[CV]  max_depth=9, min_samples_leaf=3, splitter=random, accuracy=0.772, precision=0.727, recall=0.941, total=   0.0s\n",
            "[CV] max_depth=9, min_samples_leaf=3, splitter=random ................\n",
            "[CV]  max_depth=9, min_samples_leaf=3, splitter=random, accuracy=0.787, precision=0.804, recall=0.812, total=   0.0s\n",
            "[CV] max_depth=9, min_samples_leaf=3, splitter=random ................\n",
            "[CV]  max_depth=9, min_samples_leaf=3, splitter=random, accuracy=0.661, precision=0.760, recall=0.564, total=   0.0s\n",
            "[CV] max_depth=9, min_samples_leaf=4, splitter=best ..................\n",
            "[CV]  max_depth=9, min_samples_leaf=4, splitter=best, accuracy=0.864, precision=0.933, recall=0.814, total=   0.0s\n",
            "[CV] max_depth=9, min_samples_leaf=4, splitter=best ..................\n",
            "[CV]  max_depth=9, min_samples_leaf=4, splitter=best, accuracy=0.777, precision=0.886, recall=0.686, total=   0.0s\n",
            "[CV] max_depth=9, min_samples_leaf=4, splitter=best ..................\n",
            "[CV]  max_depth=9, min_samples_leaf=4, splitter=best, accuracy=0.799, precision=0.769, recall=0.912, total=   0.0s\n",
            "[CV] max_depth=9, min_samples_leaf=4, splitter=best ..................\n",
            "[CV]  max_depth=9, min_samples_leaf=4, splitter=best, accuracy=0.727, precision=0.743, recall=0.772, total=   0.0s\n",
            "[CV] max_depth=9, min_samples_leaf=4, splitter=best ..................\n",
            "[CV]  max_depth=9, min_samples_leaf=4, splitter=best, accuracy=0.667, precision=0.786, recall=0.545, total=   0.0s\n",
            "[CV] max_depth=9, min_samples_leaf=4, splitter=random ................\n",
            "[CV]  max_depth=9, min_samples_leaf=4, splitter=random, accuracy=0.853, precision=0.931, recall=0.794, total=   0.0s\n",
            "[CV] max_depth=9, min_samples_leaf=4, splitter=random ................\n",
            "[CV]  max_depth=9, min_samples_leaf=4, splitter=random, accuracy=0.859, precision=0.942, recall=0.794, total=   0.0s\n",
            "[CV] max_depth=9, min_samples_leaf=4, splitter=random ................\n",
            "[CV]  max_depth=9, min_samples_leaf=4, splitter=random, accuracy=0.810, precision=0.756, recall=0.971, total=   0.0s\n",
            "[CV] max_depth=9, min_samples_leaf=4, splitter=random ................\n",
            "[CV]  max_depth=9, min_samples_leaf=4, splitter=random, accuracy=0.803, precision=0.793, recall=0.871, total=   0.0s\n",
            "[CV] max_depth=9, min_samples_leaf=4, splitter=random ................\n",
            "[CV]  max_depth=9, min_samples_leaf=4, splitter=random, accuracy=0.710, precision=0.864, recall=0.564, total=   0.0s\n",
            "[CV] max_depth=9, min_samples_leaf=5, splitter=best ..................\n",
            "[CV]  max_depth=9, min_samples_leaf=5, splitter=best, accuracy=0.880, precision=0.908, recall=0.873, total=   0.0s\n",
            "[CV] max_depth=9, min_samples_leaf=5, splitter=best ..................\n",
            "[CV]  max_depth=9, min_samples_leaf=5, splitter=best, accuracy=0.815, precision=0.905, recall=0.745, total=   0.0s\n",
            "[CV] max_depth=9, min_samples_leaf=5, splitter=best ..................\n",
            "[CV]  max_depth=9, min_samples_leaf=5, splitter=best, accuracy=0.815, precision=0.770, recall=0.951, total=   0.0s\n",
            "[CV] max_depth=9, min_samples_leaf=5, splitter=best ..................\n",
            "[CV]  max_depth=9, min_samples_leaf=5, splitter=best, accuracy=0.754, precision=0.769, recall=0.792, total=   0.0s\n",
            "[CV] max_depth=9, min_samples_leaf=5, splitter=best ..................\n",
            "[CV]  max_depth=9, min_samples_leaf=5, splitter=best, accuracy=0.678, precision=0.784, recall=0.574, total=   0.0s\n",
            "[CV] max_depth=9, min_samples_leaf=5, splitter=random ................\n",
            "[CV]  max_depth=9, min_samples_leaf=5, splitter=random, accuracy=0.864, precision=0.897, recall=0.853, total=   0.0s\n",
            "[CV] max_depth=9, min_samples_leaf=5, splitter=random ................\n",
            "[CV]  max_depth=9, min_samples_leaf=5, splitter=random, accuracy=0.826, precision=0.917, recall=0.755, total=   0.0s\n",
            "[CV] max_depth=9, min_samples_leaf=5, splitter=random ................\n",
            "[CV]  max_depth=9, min_samples_leaf=5, splitter=random, accuracy=0.821, precision=0.811, recall=0.882, total=   0.0s\n",
            "[CV] max_depth=9, min_samples_leaf=5, splitter=random ................\n",
            "[CV]  max_depth=9, min_samples_leaf=5, splitter=random, accuracy=0.770, precision=0.766, recall=0.842, total=   0.0s\n",
            "[CV] max_depth=9, min_samples_leaf=5, splitter=random ................\n",
            "[CV]  max_depth=9, min_samples_leaf=5, splitter=random, accuracy=0.732, precision=0.871, recall=0.604, total=   0.0s\n",
            "[CV] max_depth=9, min_samples_leaf=6, splitter=best ..................\n",
            "[CV]  max_depth=9, min_samples_leaf=6, splitter=best, accuracy=0.880, precision=0.917, recall=0.863, total=   0.0s\n",
            "[CV] max_depth=9, min_samples_leaf=6, splitter=best ..................\n",
            "[CV]  max_depth=9, min_samples_leaf=6, splitter=best, accuracy=0.832, precision=0.928, recall=0.755, total=   0.0s\n",
            "[CV] max_depth=9, min_samples_leaf=6, splitter=best ..................\n",
            "[CV]  max_depth=9, min_samples_leaf=6, splitter=best, accuracy=0.783, precision=0.728, recall=0.971, total=   0.0s\n",
            "[CV] max_depth=9, min_samples_leaf=6, splitter=best ..................\n",
            "[CV]  max_depth=9, min_samples_leaf=6, splitter=best, accuracy=0.738, precision=0.757, recall=0.772, total=   0.0s\n",
            "[CV] max_depth=9, min_samples_leaf=6, splitter=best ..................\n",
            "[CV]  max_depth=9, min_samples_leaf=6, splitter=best, accuracy=0.667, precision=0.786, recall=0.545, total=   0.0s\n",
            "[CV] max_depth=9, min_samples_leaf=6, splitter=random ................\n",
            "[CV]  max_depth=9, min_samples_leaf=6, splitter=random, accuracy=0.864, precision=0.923, recall=0.824, total=   0.0s\n",
            "[CV] max_depth=9, min_samples_leaf=6, splitter=random ................\n",
            "[CV]  max_depth=9, min_samples_leaf=6, splitter=random, accuracy=0.810, precision=0.894, recall=0.745, total=   0.0s\n",
            "[CV] max_depth=9, min_samples_leaf=6, splitter=random ................\n",
            "[CV]  max_depth=9, min_samples_leaf=6, splitter=random, accuracy=0.826, precision=0.807, recall=0.902, total=   0.0s\n",
            "[CV] max_depth=9, min_samples_leaf=6, splitter=random ................\n",
            "[CV]  max_depth=9, min_samples_leaf=6, splitter=random, accuracy=0.836, precision=0.851, recall=0.851, total=   0.0s\n",
            "[CV] max_depth=9, min_samples_leaf=6, splitter=random ................\n",
            "[CV]  max_depth=9, min_samples_leaf=6, splitter=random, accuracy=0.727, precision=0.768, recall=0.723, total=   0.0s\n",
            "[CV] max_depth=9, min_samples_leaf=7, splitter=best ..................\n",
            "[CV]  max_depth=9, min_samples_leaf=7, splitter=best, accuracy=0.864, precision=0.905, recall=0.843, total=   0.0s\n",
            "[CV] max_depth=9, min_samples_leaf=7, splitter=best ..................\n",
            "[CV]  max_depth=9, min_samples_leaf=7, splitter=best, accuracy=0.837, precision=0.950, recall=0.745, total=   0.0s\n",
            "[CV] max_depth=9, min_samples_leaf=7, splitter=best ..................\n",
            "[CV]  max_depth=9, min_samples_leaf=7, splitter=best, accuracy=0.793, precision=0.735, recall=0.980, total=   0.0s\n",
            "[CV] max_depth=9, min_samples_leaf=7, splitter=best ..................\n",
            "[CV]  max_depth=9, min_samples_leaf=7, splitter=best, accuracy=0.803, precision=0.798, recall=0.861, total=   0.0s\n",
            "[CV] max_depth=9, min_samples_leaf=7, splitter=best ..................\n",
            "[CV]  max_depth=9, min_samples_leaf=7, splitter=best, accuracy=0.667, precision=0.786, recall=0.545, total=   0.0s\n",
            "[CV] max_depth=9, min_samples_leaf=7, splitter=random ................\n",
            "[CV]  max_depth=9, min_samples_leaf=7, splitter=random, accuracy=0.880, precision=0.926, recall=0.853, total=   0.0s\n",
            "[CV] max_depth=9, min_samples_leaf=7, splitter=random ................\n",
            "[CV]  max_depth=9, min_samples_leaf=7, splitter=random, accuracy=0.826, precision=0.907, recall=0.765, total=   0.0s\n",
            "[CV] max_depth=9, min_samples_leaf=7, splitter=random ................\n",
            "[CV]  max_depth=9, min_samples_leaf=7, splitter=random, accuracy=0.777, precision=0.752, recall=0.892, total=   0.0s\n",
            "[CV] max_depth=9, min_samples_leaf=7, splitter=random ................\n",
            "[CV]  max_depth=9, min_samples_leaf=7, splitter=random, accuracy=0.820, precision=0.840, recall=0.832, total=   0.0s\n",
            "[CV] max_depth=9, min_samples_leaf=7, splitter=random ................\n",
            "[CV]  max_depth=9, min_samples_leaf=7, splitter=random, accuracy=0.743, precision=0.793, recall=0.723, total=   0.0s\n",
            "[CV] max_depth=9, min_samples_leaf=8, splitter=best ..................\n",
            "[CV]  max_depth=9, min_samples_leaf=8, splitter=best, accuracy=0.864, precision=0.905, recall=0.843, total=   0.0s\n",
            "[CV] max_depth=9, min_samples_leaf=8, splitter=best ..................\n",
            "[CV]  max_depth=9, min_samples_leaf=8, splitter=best, accuracy=0.837, precision=0.950, recall=0.745, total=   0.0s\n",
            "[CV] max_depth=9, min_samples_leaf=8, splitter=best ..................\n",
            "[CV]  max_depth=9, min_samples_leaf=8, splitter=best, accuracy=0.793, precision=0.735, recall=0.980, total=   0.0s\n",
            "[CV] max_depth=9, min_samples_leaf=8, splitter=best ..................\n",
            "[CV]  max_depth=9, min_samples_leaf=8, splitter=best, accuracy=0.798, precision=0.791, recall=0.861, total=   0.0s\n",
            "[CV] max_depth=9, min_samples_leaf=8, splitter=best ..................\n",
            "[CV]  max_depth=9, min_samples_leaf=8, splitter=best, accuracy=0.683, precision=0.772, recall=0.604, total=   0.0s\n",
            "[CV] max_depth=9, min_samples_leaf=8, splitter=random ................\n",
            "[CV]  max_depth=9, min_samples_leaf=8, splitter=random, accuracy=0.908, precision=0.921, recall=0.912, total=   0.0s\n",
            "[CV] max_depth=9, min_samples_leaf=8, splitter=random ................\n",
            "[CV]  max_depth=9, min_samples_leaf=8, splitter=random, accuracy=0.842, precision=0.876, recall=0.833, total=   0.0s\n",
            "[CV] max_depth=9, min_samples_leaf=8, splitter=random ................\n",
            "[CV]  max_depth=9, min_samples_leaf=8, splitter=random, accuracy=0.832, precision=0.789, recall=0.951, total=   0.0s\n",
            "[CV] max_depth=9, min_samples_leaf=8, splitter=random ................\n",
            "[CV]  max_depth=9, min_samples_leaf=8, splitter=random, accuracy=0.803, precision=0.804, recall=0.851, total=   0.0s\n",
            "[CV] max_depth=9, min_samples_leaf=8, splitter=random ................\n",
            "[CV]  max_depth=9, min_samples_leaf=8, splitter=random, accuracy=0.754, precision=0.775, recall=0.782, total=   0.0s\n",
            "[CV] max_depth=9, min_samples_leaf=9, splitter=best ..................\n",
            "[CV]  max_depth=9, min_samples_leaf=9, splitter=best, accuracy=0.886, precision=0.918, recall=0.873, total=   0.0s\n",
            "[CV] max_depth=9, min_samples_leaf=9, splitter=best ..................\n",
            "[CV]  max_depth=9, min_samples_leaf=9, splitter=best, accuracy=0.842, precision=0.951, recall=0.755, total=   0.0s\n",
            "[CV] max_depth=9, min_samples_leaf=9, splitter=best ..................\n",
            "[CV]  max_depth=9, min_samples_leaf=9, splitter=best, accuracy=0.788, precision=0.730, recall=0.980, total=   0.0s\n",
            "[CV] max_depth=9, min_samples_leaf=9, splitter=best ..................\n",
            "[CV]  max_depth=9, min_samples_leaf=9, splitter=best, accuracy=0.738, precision=0.726, recall=0.842, total=   0.0s\n",
            "[CV] max_depth=9, min_samples_leaf=9, splitter=best ..................\n",
            "[CV]  max_depth=9, min_samples_leaf=9, splitter=best, accuracy=0.683, precision=0.759, recall=0.624, total=   0.0s\n",
            "[CV] max_depth=9, min_samples_leaf=9, splitter=random ................\n",
            "[CV]  max_depth=9, min_samples_leaf=9, splitter=random, accuracy=0.880, precision=0.917, recall=0.863, total=   0.0s\n",
            "[CV] max_depth=9, min_samples_leaf=9, splitter=random ................\n",
            "[CV]  max_depth=9, min_samples_leaf=9, splitter=random, accuracy=0.804, precision=0.923, recall=0.706, total=   0.0s\n",
            "[CV] max_depth=9, min_samples_leaf=9, splitter=random ................\n",
            "[CV]  max_depth=9, min_samples_leaf=9, splitter=random, accuracy=0.821, precision=0.763, recall=0.980, total=   0.0s\n",
            "[CV] max_depth=9, min_samples_leaf=9, splitter=random ................\n",
            "[CV]  max_depth=9, min_samples_leaf=9, splitter=random, accuracy=0.798, precision=0.808, recall=0.832, total=   0.0s\n",
            "[CV] max_depth=9, min_samples_leaf=9, splitter=random ................\n",
            "[CV]  max_depth=9, min_samples_leaf=9, splitter=random, accuracy=0.743, precision=0.781, recall=0.743, total=   0.0s\n",
            "[CV] max_depth=9, min_samples_leaf=10, splitter=best .................\n",
            "[CV]  max_depth=9, min_samples_leaf=10, splitter=best, accuracy=0.870, precision=0.933, recall=0.824, total=   0.0s\n",
            "[CV] max_depth=9, min_samples_leaf=10, splitter=best .................\n",
            "[CV]  max_depth=9, min_samples_leaf=10, splitter=best, accuracy=0.842, precision=0.951, recall=0.755, total=   0.0s\n",
            "[CV] max_depth=9, min_samples_leaf=10, splitter=best .................\n",
            "[CV]  max_depth=9, min_samples_leaf=10, splitter=best, accuracy=0.799, precision=0.756, recall=0.941, total=   0.0s\n",
            "[CV] max_depth=9, min_samples_leaf=10, splitter=best .................\n",
            "[CV]  max_depth=9, min_samples_leaf=10, splitter=best, accuracy=0.738, precision=0.730, recall=0.832, total=   0.0s\n",
            "[CV] max_depth=9, min_samples_leaf=10, splitter=best .................\n",
            "[CV]  max_depth=9, min_samples_leaf=10, splitter=best, accuracy=0.705, precision=0.770, recall=0.663, total=   0.0s\n",
            "[CV] max_depth=9, min_samples_leaf=10, splitter=random ...............\n",
            "[CV]  max_depth=9, min_samples_leaf=10, splitter=random, accuracy=0.821, precision=0.916, recall=0.745, total=   0.0s\n",
            "[CV] max_depth=9, min_samples_leaf=10, splitter=random ...............\n",
            "[CV]  max_depth=9, min_samples_leaf=10, splitter=random, accuracy=0.799, precision=0.911, recall=0.706, total=   0.0s\n",
            "[CV] max_depth=9, min_samples_leaf=10, splitter=random ...............\n",
            "[CV]  max_depth=9, min_samples_leaf=10, splitter=random, accuracy=0.842, precision=0.812, recall=0.931, total=   0.0s\n",
            "[CV] max_depth=9, min_samples_leaf=10, splitter=random ...............\n",
            "[CV]  max_depth=9, min_samples_leaf=10, splitter=random, accuracy=0.770, precision=0.740, recall=0.901, total=   0.0s\n",
            "[CV] max_depth=9, min_samples_leaf=10, splitter=random ...............\n",
            "[CV]  max_depth=9, min_samples_leaf=10, splitter=random, accuracy=0.721, precision=0.778, recall=0.693, total=   0.0s\n",
            "[CV] max_depth=11, min_samples_leaf=1, splitter=best .................\n",
            "[CV]  max_depth=11, min_samples_leaf=1, splitter=best, accuracy=0.750, precision=0.850, recall=0.667, total=   0.0s\n",
            "[CV] max_depth=11, min_samples_leaf=1, splitter=best .................\n",
            "[CV]  max_depth=11, min_samples_leaf=1, splitter=best, accuracy=0.755, precision=0.861, recall=0.667, total=   0.0s\n",
            "[CV] max_depth=11, min_samples_leaf=1, splitter=best .................\n",
            "[CV]  max_depth=11, min_samples_leaf=1, splitter=best, accuracy=0.810, precision=0.772, recall=0.931, total=   0.0s\n",
            "[CV] max_depth=11, min_samples_leaf=1, splitter=best .................\n",
            "[CV]  max_depth=11, min_samples_leaf=1, splitter=best, accuracy=0.803, precision=0.816, recall=0.832, total=   0.0s\n",
            "[CV] max_depth=11, min_samples_leaf=1, splitter=best .................\n",
            "[CV]  max_depth=11, min_samples_leaf=1, splitter=best, accuracy=0.694, precision=0.753, recall=0.663, total=   0.0s\n",
            "[CV] max_depth=11, min_samples_leaf=1, splitter=random ...............\n",
            "[CV]  max_depth=11, min_samples_leaf=1, splitter=random, accuracy=0.815, precision=0.886, recall=0.765, total=   0.0s\n",
            "[CV] max_depth=11, min_samples_leaf=1, splitter=random ...............\n",
            "[CV]  max_depth=11, min_samples_leaf=1, splitter=random, accuracy=0.766, precision=0.915, recall=0.637, total=   0.0s\n",
            "[CV] max_depth=11, min_samples_leaf=1, splitter=random ...............\n",
            "[CV]  max_depth=11, min_samples_leaf=1, splitter=random, accuracy=0.783, precision=0.731, recall=0.961, total=   0.0s\n",
            "[CV] max_depth=11, min_samples_leaf=1, splitter=random ...............\n",
            "[CV]  max_depth=11, min_samples_leaf=1, splitter=random, accuracy=0.765, precision=0.796, recall=0.772, total=   0.0s\n",
            "[CV] max_depth=11, min_samples_leaf=1, splitter=random ...............\n",
            "[CV]  max_depth=11, min_samples_leaf=1, splitter=random, accuracy=0.699, precision=0.780, recall=0.634, total=   0.0s\n",
            "[CV] max_depth=11, min_samples_leaf=2, splitter=best .................\n",
            "[CV]  max_depth=11, min_samples_leaf=2, splitter=best, accuracy=0.712, precision=0.866, recall=0.569, total=   0.0s\n",
            "[CV] max_depth=11, min_samples_leaf=2, splitter=best .................\n",
            "[CV]  max_depth=11, min_samples_leaf=2, splitter=best, accuracy=0.734, precision=0.884, recall=0.598, total=   0.0s\n",
            "[CV] max_depth=11, min_samples_leaf=2, splitter=best .................\n",
            "[CV]  max_depth=11, min_samples_leaf=2, splitter=best, accuracy=0.799, precision=0.769, recall=0.912, total=   0.0s\n",
            "[CV] max_depth=11, min_samples_leaf=2, splitter=best .................\n",
            "[CV]  max_depth=11, min_samples_leaf=2, splitter=best, accuracy=0.781, precision=0.785, recall=0.832, total=   0.0s\n",
            "[CV] max_depth=11, min_samples_leaf=2, splitter=best .................\n",
            "[CV]  max_depth=11, min_samples_leaf=2, splitter=best, accuracy=0.710, precision=0.816, recall=0.614, total=   0.0s\n",
            "[CV] max_depth=11, min_samples_leaf=2, splitter=random ...............\n",
            "[CV]  max_depth=11, min_samples_leaf=2, splitter=random, accuracy=0.832, precision=0.908, recall=0.775, total=   0.0s\n",
            "[CV] max_depth=11, min_samples_leaf=2, splitter=random ...............\n",
            "[CV]  max_depth=11, min_samples_leaf=2, splitter=random, accuracy=0.772, precision=0.895, recall=0.667, total=   0.0s\n",
            "[CV] max_depth=11, min_samples_leaf=2, splitter=random ...............\n",
            "[CV]  max_depth=11, min_samples_leaf=2, splitter=random, accuracy=0.766, precision=0.729, recall=0.922, total=   0.0s\n",
            "[CV] max_depth=11, min_samples_leaf=2, splitter=random ...............\n",
            "[CV]  max_depth=11, min_samples_leaf=2, splitter=random, accuracy=0.721, precision=0.750, recall=0.743, total=   0.0s\n",
            "[CV] max_depth=11, min_samples_leaf=2, splitter=random ...............\n",
            "[CV]  max_depth=11, min_samples_leaf=2, splitter=random, accuracy=0.760, precision=0.880, recall=0.653, total=   0.0s\n",
            "[CV] max_depth=11, min_samples_leaf=3, splitter=best .................\n",
            "[CV]  max_depth=11, min_samples_leaf=3, splitter=best, accuracy=0.826, precision=0.907, recall=0.765, total=   0.0s\n",
            "[CV] max_depth=11, min_samples_leaf=3, splitter=best .................\n",
            "[CV]  max_depth=11, min_samples_leaf=3, splitter=best, accuracy=0.761, precision=0.872, recall=0.667, total=   0.0s\n",
            "[CV] max_depth=11, min_samples_leaf=3, splitter=best .................\n",
            "[CV]  max_depth=11, min_samples_leaf=3, splitter=best, accuracy=0.810, precision=0.772, recall=0.931, total=   0.0s\n",
            "[CV] max_depth=11, min_samples_leaf=3, splitter=best .................\n",
            "[CV]  max_depth=11, min_samples_leaf=3, splitter=best, accuracy=0.754, precision=0.755, recall=0.822, total=   0.0s\n",
            "[CV] max_depth=11, min_samples_leaf=3, splitter=best .................\n",
            "[CV]  max_depth=11, min_samples_leaf=3, splitter=best, accuracy=0.732, precision=0.802, recall=0.683, total=   0.0s\n",
            "[CV] max_depth=11, min_samples_leaf=3, splitter=random ...............\n",
            "[CV]  max_depth=11, min_samples_leaf=3, splitter=random, accuracy=0.853, precision=0.912, recall=0.814, total=   0.0s\n",
            "[CV] max_depth=11, min_samples_leaf=3, splitter=random ...............\n",
            "[CV]  max_depth=11, min_samples_leaf=3, splitter=random, accuracy=0.804, precision=0.884, recall=0.745, total=   0.0s\n",
            "[CV] max_depth=11, min_samples_leaf=3, splitter=random ...............\n",
            "[CV]  max_depth=11, min_samples_leaf=3, splitter=random, accuracy=0.799, precision=0.773, recall=0.902, total=   0.0s\n",
            "[CV] max_depth=11, min_samples_leaf=3, splitter=random ...............\n",
            "[CV]  max_depth=11, min_samples_leaf=3, splitter=random, accuracy=0.820, precision=0.804, recall=0.891, total=   0.0s\n",
            "[CV] max_depth=11, min_samples_leaf=3, splitter=random ...............\n",
            "[CV]  max_depth=11, min_samples_leaf=3, splitter=random, accuracy=0.721, precision=0.857, recall=0.594, total=   0.0s\n",
            "[CV] max_depth=11, min_samples_leaf=4, splitter=best .................\n",
            "[CV]  max_depth=11, min_samples_leaf=4, splitter=best, accuracy=0.864, precision=0.933, recall=0.814, total=   0.0s\n",
            "[CV] max_depth=11, min_samples_leaf=4, splitter=best .................\n",
            "[CV]  max_depth=11, min_samples_leaf=4, splitter=best, accuracy=0.766, precision=0.883, recall=0.667, total=   0.0s\n",
            "[CV] max_depth=11, min_samples_leaf=4, splitter=best .................\n",
            "[CV]  max_depth=11, min_samples_leaf=4, splitter=best, accuracy=0.799, precision=0.764, recall=0.922, total=   0.0s\n",
            "[CV] max_depth=11, min_samples_leaf=4, splitter=best .................\n",
            "[CV]  max_depth=11, min_samples_leaf=4, splitter=best, accuracy=0.738, precision=0.752, recall=0.782, total=   0.0s\n",
            "[CV] max_depth=11, min_samples_leaf=4, splitter=best .................\n",
            "[CV]  max_depth=11, min_samples_leaf=4, splitter=best, accuracy=0.678, precision=0.792, recall=0.564, total=   0.0s\n",
            "[CV] max_depth=11, min_samples_leaf=4, splitter=random ...............\n",
            "[CV]  max_depth=11, min_samples_leaf=4, splitter=random, accuracy=0.788, precision=0.920, recall=0.676, total=   0.0s\n",
            "[CV] max_depth=11, min_samples_leaf=4, splitter=random ...............\n",
            "[CV]  max_depth=11, min_samples_leaf=4, splitter=random, accuracy=0.777, precision=0.907, recall=0.667, total=   0.0s\n",
            "[CV] max_depth=11, min_samples_leaf=4, splitter=random ...............\n",
            "[CV]  max_depth=11, min_samples_leaf=4, splitter=random, accuracy=0.804, precision=0.758, recall=0.951, total=   0.0s\n",
            "[CV] max_depth=11, min_samples_leaf=4, splitter=random ...............\n",
            "[CV]  max_depth=11, min_samples_leaf=4, splitter=random, accuracy=0.776, precision=0.773, recall=0.842, total=   0.0s\n",
            "[CV] max_depth=11, min_samples_leaf=4, splitter=random ...............\n",
            "[CV]  max_depth=11, min_samples_leaf=4, splitter=random, accuracy=0.710, precision=0.786, recall=0.653, total=   0.0s\n",
            "[CV] max_depth=11, min_samples_leaf=5, splitter=best .................\n",
            "[CV]  max_depth=11, min_samples_leaf=5, splitter=best, accuracy=0.875, precision=0.916, recall=0.853, total=   0.0s\n",
            "[CV] max_depth=11, min_samples_leaf=5, splitter=best .................\n",
            "[CV]  max_depth=11, min_samples_leaf=5, splitter=best, accuracy=0.826, precision=0.889, recall=0.784, total=   0.0s\n",
            "[CV] max_depth=11, min_samples_leaf=5, splitter=best .................\n",
            "[CV]  max_depth=11, min_samples_leaf=5, splitter=best, accuracy=0.788, precision=0.748, recall=0.931, total=   0.0s\n",
            "[CV] max_depth=11, min_samples_leaf=5, splitter=best .................\n",
            "[CV]  max_depth=11, min_samples_leaf=5, splitter=best, accuracy=0.754, precision=0.769, recall=0.792, total=   0.0s\n",
            "[CV] max_depth=11, min_samples_leaf=5, splitter=best .................\n",
            "[CV]  max_depth=11, min_samples_leaf=5, splitter=best, accuracy=0.661, precision=0.775, recall=0.545, total=   0.0s\n",
            "[CV] max_depth=11, min_samples_leaf=5, splitter=random ...............\n",
            "[CV]  max_depth=11, min_samples_leaf=5, splitter=random, accuracy=0.766, precision=0.915, recall=0.637, total=   0.0s\n",
            "[CV] max_depth=11, min_samples_leaf=5, splitter=random ...............\n",
            "[CV]  max_depth=11, min_samples_leaf=5, splitter=random, accuracy=0.832, precision=0.908, recall=0.775, total=   0.0s\n",
            "[CV] max_depth=11, min_samples_leaf=5, splitter=random ...............\n",
            "[CV]  max_depth=11, min_samples_leaf=5, splitter=random, accuracy=0.853, precision=0.805, recall=0.971, total=   0.0s\n",
            "[CV] max_depth=11, min_samples_leaf=5, splitter=random ...............\n",
            "[CV]  max_depth=11, min_samples_leaf=5, splitter=random, accuracy=0.803, precision=0.816, recall=0.832, total=   0.0s\n",
            "[CV] max_depth=11, min_samples_leaf=5, splitter=random ...............\n",
            "[CV]  max_depth=11, min_samples_leaf=5, splitter=random, accuracy=0.743, precision=0.829, recall=0.673, total=   0.0s\n",
            "[CV] max_depth=11, min_samples_leaf=6, splitter=best .................\n",
            "[CV]  max_depth=11, min_samples_leaf=6, splitter=best, accuracy=0.880, precision=0.917, recall=0.863, total=   0.0s\n",
            "[CV] max_depth=11, min_samples_leaf=6, splitter=best .................\n",
            "[CV]  max_depth=11, min_samples_leaf=6, splitter=best, accuracy=0.848, precision=0.930, recall=0.784, total=   0.0s\n",
            "[CV] max_depth=11, min_samples_leaf=6, splitter=best .................\n",
            "[CV]  max_depth=11, min_samples_leaf=6, splitter=best, accuracy=0.766, precision=0.719, recall=0.951, total=   0.0s\n",
            "[CV] max_depth=11, min_samples_leaf=6, splitter=best .................\n",
            "[CV]  max_depth=11, min_samples_leaf=6, splitter=best, accuracy=0.749, precision=0.767, recall=0.782, total=   0.0s\n",
            "[CV] max_depth=11, min_samples_leaf=6, splitter=best .................\n",
            "[CV]  max_depth=11, min_samples_leaf=6, splitter=best, accuracy=0.667, precision=0.786, recall=0.545, total=   0.0s\n",
            "[CV] max_depth=11, min_samples_leaf=6, splitter=random ...............\n",
            "[CV]  max_depth=11, min_samples_leaf=6, splitter=random, accuracy=0.832, precision=0.928, recall=0.755, total=   0.0s\n",
            "[CV] max_depth=11, min_samples_leaf=6, splitter=random ...............\n",
            "[CV]  max_depth=11, min_samples_leaf=6, splitter=random, accuracy=0.826, precision=0.917, recall=0.755, total=   0.0s\n",
            "[CV] max_depth=11, min_samples_leaf=6, splitter=random ...............\n",
            "[CV]  max_depth=11, min_samples_leaf=6, splitter=random, accuracy=0.793, precision=0.758, recall=0.922, total=   0.0s\n",
            "[CV] max_depth=11, min_samples_leaf=6, splitter=random ...............\n",
            "[CV]  max_depth=11, min_samples_leaf=6, splitter=random, accuracy=0.787, precision=0.782, recall=0.851, total=   0.0s\n",
            "[CV] max_depth=11, min_samples_leaf=6, splitter=random ...............\n",
            "[CV]  max_depth=11, min_samples_leaf=6, splitter=random, accuracy=0.699, precision=0.735, recall=0.713, total=   0.0s\n",
            "[CV] max_depth=11, min_samples_leaf=7, splitter=best .................\n",
            "[CV]  max_depth=11, min_samples_leaf=7, splitter=best, accuracy=0.864, precision=0.905, recall=0.843, total=   0.0s\n",
            "[CV] max_depth=11, min_samples_leaf=7, splitter=best .................\n",
            "[CV]  max_depth=11, min_samples_leaf=7, splitter=best, accuracy=0.837, precision=0.950, recall=0.745, total=   0.0s\n",
            "[CV] max_depth=11, min_samples_leaf=7, splitter=best .................\n",
            "[CV]  max_depth=11, min_samples_leaf=7, splitter=best, accuracy=0.793, precision=0.735, recall=0.980, total=   0.0s\n",
            "[CV] max_depth=11, min_samples_leaf=7, splitter=best .................\n",
            "[CV]  max_depth=11, min_samples_leaf=7, splitter=best, accuracy=0.803, precision=0.798, recall=0.861, total=   0.0s\n",
            "[CV] max_depth=11, min_samples_leaf=7, splitter=best .................\n",
            "[CV]  max_depth=11, min_samples_leaf=7, splitter=best, accuracy=0.667, precision=0.786, recall=0.545, total=   0.0s\n",
            "[CV] max_depth=11, min_samples_leaf=7, splitter=random ...............\n",
            "[CV]  max_depth=11, min_samples_leaf=7, splitter=random, accuracy=0.853, precision=0.931, recall=0.794, total=   0.0s\n",
            "[CV] max_depth=11, min_samples_leaf=7, splitter=random ...............\n",
            "[CV]  max_depth=11, min_samples_leaf=7, splitter=random, accuracy=0.821, precision=0.897, recall=0.765, total=   0.0s\n",
            "[CV] max_depth=11, min_samples_leaf=7, splitter=random ...............\n",
            "[CV]  max_depth=11, min_samples_leaf=7, splitter=random, accuracy=0.815, precision=0.788, recall=0.912, total=   0.0s\n",
            "[CV] max_depth=11, min_samples_leaf=7, splitter=random ...............\n",
            "[CV]  max_depth=11, min_samples_leaf=7, splitter=random, accuracy=0.825, precision=0.835, recall=0.851, total=   0.0s\n",
            "[CV] max_depth=11, min_samples_leaf=7, splitter=random ...............\n",
            "[CV]  max_depth=11, min_samples_leaf=7, splitter=random, accuracy=0.749, precision=0.816, recall=0.703, total=   0.0s\n",
            "[CV] max_depth=11, min_samples_leaf=8, splitter=best .................\n",
            "[CV]  max_depth=11, min_samples_leaf=8, splitter=best, accuracy=0.864, precision=0.905, recall=0.843, total=   0.0s\n",
            "[CV] max_depth=11, min_samples_leaf=8, splitter=best .................\n",
            "[CV]  max_depth=11, min_samples_leaf=8, splitter=best, accuracy=0.837, precision=0.950, recall=0.745, total=   0.0s\n",
            "[CV] max_depth=11, min_samples_leaf=8, splitter=best .................\n",
            "[CV]  max_depth=11, min_samples_leaf=8, splitter=best, accuracy=0.788, precision=0.730, recall=0.980, total=   0.0s\n",
            "[CV] max_depth=11, min_samples_leaf=8, splitter=best .................\n",
            "[CV]  max_depth=11, min_samples_leaf=8, splitter=best, accuracy=0.792, precision=0.789, recall=0.851, total=   0.0s\n",
            "[CV] max_depth=11, min_samples_leaf=8, splitter=best .................\n",
            "[CV]  max_depth=11, min_samples_leaf=8, splitter=best, accuracy=0.683, precision=0.772, recall=0.604, total=   0.0s\n",
            "[CV] max_depth=11, min_samples_leaf=8, splitter=random ...............\n",
            "[CV]  max_depth=11, min_samples_leaf=8, splitter=random, accuracy=0.886, precision=0.935, recall=0.853, total=   0.0s\n",
            "[CV] max_depth=11, min_samples_leaf=8, splitter=random ...............\n",
            "[CV]  max_depth=11, min_samples_leaf=8, splitter=random, accuracy=0.815, precision=0.915, recall=0.735, total=   0.0s\n",
            "[CV] max_depth=11, min_samples_leaf=8, splitter=random ...............\n",
            "[CV]  max_depth=11, min_samples_leaf=8, splitter=random, accuracy=0.853, precision=0.821, recall=0.941, total=   0.0s\n",
            "[CV] max_depth=11, min_samples_leaf=8, splitter=random ...............\n",
            "[CV]  max_depth=11, min_samples_leaf=8, splitter=random, accuracy=0.836, precision=0.838, recall=0.871, total=   0.0s\n",
            "[CV] max_depth=11, min_samples_leaf=8, splitter=random ...............\n",
            "[CV]  max_depth=11, min_samples_leaf=8, splitter=random, accuracy=0.760, precision=0.861, recall=0.673, total=   0.0s\n",
            "[CV] max_depth=11, min_samples_leaf=9, splitter=best .................\n",
            "[CV]  max_depth=11, min_samples_leaf=9, splitter=best, accuracy=0.886, precision=0.918, recall=0.873, total=   0.0s\n",
            "[CV] max_depth=11, min_samples_leaf=9, splitter=best .................\n",
            "[CV]  max_depth=11, min_samples_leaf=9, splitter=best, accuracy=0.842, precision=0.951, recall=0.755, total=   0.0s\n",
            "[CV] max_depth=11, min_samples_leaf=9, splitter=best .................\n",
            "[CV]  max_depth=11, min_samples_leaf=9, splitter=best, accuracy=0.788, precision=0.730, recall=0.980, total=   0.0s\n",
            "[CV] max_depth=11, min_samples_leaf=9, splitter=best .................\n",
            "[CV]  max_depth=11, min_samples_leaf=9, splitter=best, accuracy=0.738, precision=0.726, recall=0.842, total=   0.0s\n",
            "[CV] max_depth=11, min_samples_leaf=9, splitter=best .................\n",
            "[CV]  max_depth=11, min_samples_leaf=9, splitter=best, accuracy=0.683, precision=0.759, recall=0.624, total=   0.0s\n",
            "[CV] max_depth=11, min_samples_leaf=9, splitter=random ...............\n",
            "[CV]  max_depth=11, min_samples_leaf=9, splitter=random, accuracy=0.832, precision=0.928, recall=0.755, total=   0.0s\n",
            "[CV] max_depth=11, min_samples_leaf=9, splitter=random ...............\n",
            "[CV]  max_depth=11, min_samples_leaf=9, splitter=random, accuracy=0.799, precision=0.901, recall=0.716, total=   0.0s\n",
            "[CV] max_depth=11, min_samples_leaf=9, splitter=random ...............\n",
            "[CV]  max_depth=11, min_samples_leaf=9, splitter=random, accuracy=0.810, precision=0.752, recall=0.980, total=   0.0s\n",
            "[CV] max_depth=11, min_samples_leaf=9, splitter=random ...............\n",
            "[CV]  max_depth=11, min_samples_leaf=9, splitter=random, accuracy=0.831, precision=0.830, recall=0.871, total=   0.0s\n",
            "[CV] max_depth=11, min_samples_leaf=9, splitter=random ...............\n",
            "[CV]  max_depth=11, min_samples_leaf=9, splitter=random, accuracy=0.716, precision=0.743, recall=0.743, total=   0.0s\n",
            "[CV] max_depth=11, min_samples_leaf=10, splitter=best ................\n",
            "[CV]  max_depth=11, min_samples_leaf=10, splitter=best, accuracy=0.886, precision=0.935, recall=0.853, total=   0.0s\n",
            "[CV] max_depth=11, min_samples_leaf=10, splitter=best ................\n",
            "[CV]  max_depth=11, min_samples_leaf=10, splitter=best, accuracy=0.842, precision=0.951, recall=0.755, total=   0.0s\n",
            "[CV] max_depth=11, min_samples_leaf=10, splitter=best ................\n",
            "[CV]  max_depth=11, min_samples_leaf=10, splitter=best, accuracy=0.799, precision=0.756, recall=0.941, total=   0.0s\n",
            "[CV] max_depth=11, min_samples_leaf=10, splitter=best ................\n",
            "[CV]  max_depth=11, min_samples_leaf=10, splitter=best, accuracy=0.721, precision=0.716, recall=0.822, total=   0.0s\n",
            "[CV] max_depth=11, min_samples_leaf=10, splitter=best ................\n",
            "[CV]  max_depth=11, min_samples_leaf=10, splitter=best, accuracy=0.705, precision=0.770, recall=0.663, total=   0.0s\n",
            "[CV] max_depth=11, min_samples_leaf=10, splitter=random ..............\n",
            "[CV]  max_depth=11, min_samples_leaf=10, splitter=random, accuracy=0.859, precision=0.922, recall=0.814, total=   0.0s\n",
            "[CV] max_depth=11, min_samples_leaf=10, splitter=random ..............\n",
            "[CV]  max_depth=11, min_samples_leaf=10, splitter=random, accuracy=0.821, precision=0.906, recall=0.755, total=   0.0s\n",
            "[CV] max_depth=11, min_samples_leaf=10, splitter=random ..............\n",
            "[CV]  max_depth=11, min_samples_leaf=10, splitter=random, accuracy=0.810, precision=0.768, recall=0.941, total=   0.0s\n",
            "[CV] max_depth=11, min_samples_leaf=10, splitter=random ..............\n",
            "[CV]  max_depth=11, min_samples_leaf=10, splitter=random, accuracy=0.781, precision=0.775, recall=0.851, total=   0.0s\n",
            "[CV] max_depth=11, min_samples_leaf=10, splitter=random ..............\n",
            "[CV]  max_depth=11, min_samples_leaf=10, splitter=random, accuracy=0.727, precision=0.800, recall=0.673, total=   0.0s\n",
            "[CV] max_depth=12, min_samples_leaf=1, splitter=best .................\n",
            "[CV]  max_depth=12, min_samples_leaf=1, splitter=best, accuracy=0.750, precision=0.850, recall=0.667, total=   0.0s\n",
            "[CV] max_depth=12, min_samples_leaf=1, splitter=best .................\n",
            "[CV]  max_depth=12, min_samples_leaf=1, splitter=best, accuracy=0.734, precision=0.844, recall=0.637, total=   0.0s\n",
            "[CV] max_depth=12, min_samples_leaf=1, splitter=best .................\n",
            "[CV]  max_depth=12, min_samples_leaf=1, splitter=best, accuracy=0.793, precision=0.762, recall=0.912, total=   0.0s\n",
            "[CV] max_depth=12, min_samples_leaf=1, splitter=best .................\n",
            "[CV]  max_depth=12, min_samples_leaf=1, splitter=best, accuracy=0.798, precision=0.802, recall=0.842, total=   0.0s\n",
            "[CV] max_depth=12, min_samples_leaf=1, splitter=best .................\n",
            "[CV]  max_depth=12, min_samples_leaf=1, splitter=best, accuracy=0.705, precision=0.758, recall=0.683, total=   0.0s\n",
            "[CV] max_depth=12, min_samples_leaf=1, splitter=random ...............\n",
            "[CV]  max_depth=12, min_samples_leaf=1, splitter=random, accuracy=0.870, precision=0.906, recall=0.853, total=   0.0s\n",
            "[CV] max_depth=12, min_samples_leaf=1, splitter=random ...............\n",
            "[CV]  max_depth=12, min_samples_leaf=1, splitter=random, accuracy=0.766, precision=0.883, recall=0.667, total=   0.0s\n",
            "[CV] max_depth=12, min_samples_leaf=1, splitter=random ...............\n",
            "[CV]  max_depth=12, min_samples_leaf=1, splitter=random, accuracy=0.761, precision=0.720, recall=0.931, total=   0.0s\n",
            "[CV] max_depth=12, min_samples_leaf=1, splitter=random ...............\n",
            "[CV]  max_depth=12, min_samples_leaf=1, splitter=random, accuracy=0.765, precision=0.784, recall=0.792, total=   0.0s\n",
            "[CV] max_depth=12, min_samples_leaf=1, splitter=random ...............\n",
            "[CV]  max_depth=12, min_samples_leaf=1, splitter=random, accuracy=0.732, precision=0.789, recall=0.703, total=   0.0s\n",
            "[CV] max_depth=12, min_samples_leaf=2, splitter=best .................\n",
            "[CV]  max_depth=12, min_samples_leaf=2, splitter=best, accuracy=0.723, precision=0.859, recall=0.598, total=   0.0s\n",
            "[CV] max_depth=12, min_samples_leaf=2, splitter=best .................\n",
            "[CV]  max_depth=12, min_samples_leaf=2, splitter=best, accuracy=0.734, precision=0.884, recall=0.598, total=   0.0s\n",
            "[CV] max_depth=12, min_samples_leaf=2, splitter=best .................\n",
            "[CV]  max_depth=12, min_samples_leaf=2, splitter=best, accuracy=0.793, precision=0.758, recall=0.922, total=   0.0s\n",
            "[CV] max_depth=12, min_samples_leaf=2, splitter=best .................\n",
            "[CV]  max_depth=12, min_samples_leaf=2, splitter=best, accuracy=0.781, precision=0.785, recall=0.832, total=   0.0s\n",
            "[CV] max_depth=12, min_samples_leaf=2, splitter=best .................\n",
            "[CV]  max_depth=12, min_samples_leaf=2, splitter=best, accuracy=0.689, precision=0.797, recall=0.584, total=   0.0s\n",
            "[CV] max_depth=12, min_samples_leaf=2, splitter=random ...............\n",
            "[CV]  max_depth=12, min_samples_leaf=2, splitter=random, accuracy=0.837, precision=0.909, recall=0.784, total=   0.0s\n",
            "[CV] max_depth=12, min_samples_leaf=2, splitter=random ...............\n",
            "[CV]  max_depth=12, min_samples_leaf=2, splitter=random, accuracy=0.712, precision=0.866, recall=0.569, total=   0.0s\n",
            "[CV] max_depth=12, min_samples_leaf=2, splitter=random ...............\n",
            "[CV]  max_depth=12, min_samples_leaf=2, splitter=random, accuracy=0.804, precision=0.758, recall=0.951, total=   0.0s\n",
            "[CV] max_depth=12, min_samples_leaf=2, splitter=random ...............\n",
            "[CV]  max_depth=12, min_samples_leaf=2, splitter=random, accuracy=0.792, precision=0.832, recall=0.782, total=   0.0s\n",
            "[CV] max_depth=12, min_samples_leaf=2, splitter=random ...............\n",
            "[CV]  max_depth=12, min_samples_leaf=2, splitter=random, accuracy=0.705, precision=0.831, recall=0.584, total=   0.0s\n",
            "[CV] max_depth=12, min_samples_leaf=3, splitter=best .................\n",
            "[CV]  max_depth=12, min_samples_leaf=3, splitter=best, accuracy=0.793, precision=0.900, recall=0.706, total=   0.0s\n",
            "[CV] max_depth=12, min_samples_leaf=3, splitter=best .................\n",
            "[CV]  max_depth=12, min_samples_leaf=3, splitter=best, accuracy=0.766, precision=0.873, recall=0.676, total=   0.0s\n",
            "[CV] max_depth=12, min_samples_leaf=3, splitter=best .................\n",
            "[CV]  max_depth=12, min_samples_leaf=3, splitter=best, accuracy=0.799, precision=0.760, recall=0.931, total=   0.0s\n",
            "[CV] max_depth=12, min_samples_leaf=3, splitter=best .................\n",
            "[CV]  max_depth=12, min_samples_leaf=3, splitter=best, accuracy=0.754, precision=0.755, recall=0.822, total=   0.0s\n",
            "[CV] max_depth=12, min_samples_leaf=3, splitter=best .................\n",
            "[CV]  max_depth=12, min_samples_leaf=3, splitter=best, accuracy=0.716, precision=0.788, recall=0.663, total=   0.0s\n",
            "[CV] max_depth=12, min_samples_leaf=3, splitter=random ...............\n",
            "[CV]  max_depth=12, min_samples_leaf=3, splitter=random, accuracy=0.821, precision=0.888, recall=0.775, total=   0.0s\n",
            "[CV] max_depth=12, min_samples_leaf=3, splitter=random ...............\n",
            "[CV]  max_depth=12, min_samples_leaf=3, splitter=random, accuracy=0.777, precision=0.867, recall=0.706, total=   0.0s\n",
            "[CV] max_depth=12, min_samples_leaf=3, splitter=random ...............\n",
            "[CV]  max_depth=12, min_samples_leaf=3, splitter=random, accuracy=0.842, precision=0.807, recall=0.941, total=   0.0s\n",
            "[CV] max_depth=12, min_samples_leaf=3, splitter=random ...............\n",
            "[CV]  max_depth=12, min_samples_leaf=3, splitter=random, accuracy=0.770, precision=0.792, recall=0.792, total=   0.0s\n",
            "[CV] max_depth=12, min_samples_leaf=3, splitter=random ...............\n",
            "[CV]  max_depth=12, min_samples_leaf=3, splitter=random, accuracy=0.716, precision=0.845, recall=0.594, total=   0.0s\n",
            "[CV] max_depth=12, min_samples_leaf=4, splitter=best .................\n",
            "[CV]  max_depth=12, min_samples_leaf=4, splitter=best, accuracy=0.859, precision=0.932, recall=0.804, total=   0.0s\n",
            "[CV] max_depth=12, min_samples_leaf=4, splitter=best .................\n",
            "[CV]  max_depth=12, min_samples_leaf=4, splitter=best, accuracy=0.772, precision=0.875, recall=0.686, total=   0.0s\n",
            "[CV] max_depth=12, min_samples_leaf=4, splitter=best .................\n",
            "[CV]  max_depth=12, min_samples_leaf=4, splitter=best, accuracy=0.826, precision=0.782, recall=0.951, total=   0.0s\n",
            "[CV] max_depth=12, min_samples_leaf=4, splitter=best .................\n",
            "[CV]  max_depth=12, min_samples_leaf=4, splitter=best, accuracy=0.738, precision=0.752, recall=0.782, total=   0.0s\n",
            "[CV] max_depth=12, min_samples_leaf=4, splitter=best .................\n",
            "[CV]  max_depth=12, min_samples_leaf=4, splitter=best, accuracy=0.678, precision=0.792, recall=0.564, total=   0.0s\n",
            "[CV] max_depth=12, min_samples_leaf=4, splitter=random ...............\n",
            "[CV]  max_depth=12, min_samples_leaf=4, splitter=random, accuracy=0.832, precision=0.899, recall=0.784, total=   0.0s\n",
            "[CV] max_depth=12, min_samples_leaf=4, splitter=random ...............\n",
            "[CV]  max_depth=12, min_samples_leaf=4, splitter=random, accuracy=0.886, precision=0.935, recall=0.853, total=   0.0s\n",
            "[CV] max_depth=12, min_samples_leaf=4, splitter=random ...............\n",
            "[CV]  max_depth=12, min_samples_leaf=4, splitter=random, accuracy=0.810, precision=0.782, recall=0.912, total=   0.0s\n",
            "[CV] max_depth=12, min_samples_leaf=4, splitter=random ...............\n",
            "[CV]  max_depth=12, min_samples_leaf=4, splitter=random, accuracy=0.820, precision=0.840, recall=0.832, total=   0.0s\n",
            "[CV] max_depth=12, min_samples_leaf=4, splitter=random ...............\n",
            "[CV]  max_depth=12, min_samples_leaf=4, splitter=random, accuracy=0.738, precision=0.819, recall=0.673, total=   0.0s\n",
            "[CV] max_depth=12, min_samples_leaf=5, splitter=best .................\n",
            "[CV]  max_depth=12, min_samples_leaf=5, splitter=best, accuracy=0.864, precision=0.914, recall=0.833, total=   0.0s\n",
            "[CV] max_depth=12, min_samples_leaf=5, splitter=best .................\n",
            "[CV]  max_depth=12, min_samples_leaf=5, splitter=best, accuracy=0.810, precision=0.885, recall=0.755, total=   0.0s\n",
            "[CV] max_depth=12, min_samples_leaf=5, splitter=best .................\n",
            "[CV]  max_depth=12, min_samples_leaf=5, splitter=best, accuracy=0.799, precision=0.760, recall=0.931, total=   0.0s\n",
            "[CV] max_depth=12, min_samples_leaf=5, splitter=best .................\n",
            "[CV]  max_depth=12, min_samples_leaf=5, splitter=best, accuracy=0.749, precision=0.752, recall=0.812, total=   0.0s\n",
            "[CV] max_depth=12, min_samples_leaf=5, splitter=best .................\n",
            "[CV]  max_depth=12, min_samples_leaf=5, splitter=best, accuracy=0.678, precision=0.784, recall=0.574, total=   0.0s\n",
            "[CV] max_depth=12, min_samples_leaf=5, splitter=random ...............\n",
            "[CV]  max_depth=12, min_samples_leaf=5, splitter=random, accuracy=0.908, precision=0.929, recall=0.902, total=   0.0s\n",
            "[CV] max_depth=12, min_samples_leaf=5, splitter=random ...............\n",
            "[CV]  max_depth=12, min_samples_leaf=5, splitter=random, accuracy=0.853, precision=0.903, recall=0.824, total=   0.0s\n",
            "[CV] max_depth=12, min_samples_leaf=5, splitter=random ...............\n",
            "[CV]  max_depth=12, min_samples_leaf=5, splitter=random, accuracy=0.734, precision=0.702, recall=0.902, total=   0.0s\n",
            "[CV] max_depth=12, min_samples_leaf=5, splitter=random ...............\n",
            "[CV]  max_depth=12, min_samples_leaf=5, splitter=random, accuracy=0.836, precision=0.845, recall=0.861, total=   0.0s\n",
            "[CV] max_depth=12, min_samples_leaf=5, splitter=random ...............\n",
            "[CV]  max_depth=12, min_samples_leaf=5, splitter=random, accuracy=0.743, precision=0.781, recall=0.743, total=   0.0s\n",
            "[CV] max_depth=12, min_samples_leaf=6, splitter=best .................\n",
            "[CV]  max_depth=12, min_samples_leaf=6, splitter=best, accuracy=0.880, precision=0.917, recall=0.863, total=   0.0s\n",
            "[CV] max_depth=12, min_samples_leaf=6, splitter=best .................\n",
            "[CV]  max_depth=12, min_samples_leaf=6, splitter=best, accuracy=0.842, precision=0.929, recall=0.775, total=   0.0s\n",
            "[CV] max_depth=12, min_samples_leaf=6, splitter=best .................\n",
            "[CV]  max_depth=12, min_samples_leaf=6, splitter=best, accuracy=0.766, precision=0.719, recall=0.951, total=   0.0s\n",
            "[CV] max_depth=12, min_samples_leaf=6, splitter=best .................\n",
            "[CV]  max_depth=12, min_samples_leaf=6, splitter=best, accuracy=0.738, precision=0.757, recall=0.772, total=   0.0s\n",
            "[CV] max_depth=12, min_samples_leaf=6, splitter=best .................\n",
            "[CV]  max_depth=12, min_samples_leaf=6, splitter=best, accuracy=0.667, precision=0.786, recall=0.545, total=   0.0s\n",
            "[CV] max_depth=12, min_samples_leaf=6, splitter=random ...............\n",
            "[CV]  max_depth=12, min_samples_leaf=6, splitter=random, accuracy=0.880, precision=0.908, recall=0.873, total=   0.0s\n",
            "[CV] max_depth=12, min_samples_leaf=6, splitter=random ...............\n",
            "[CV]  max_depth=12, min_samples_leaf=6, splitter=random, accuracy=0.799, precision=0.911, recall=0.706, total=   0.0s\n",
            "[CV] max_depth=12, min_samples_leaf=6, splitter=random ...............\n",
            "[CV]  max_depth=12, min_samples_leaf=6, splitter=random, accuracy=0.793, precision=0.758, recall=0.922, total=   0.0s\n",
            "[CV] max_depth=12, min_samples_leaf=6, splitter=random ...............\n",
            "[CV]  max_depth=12, min_samples_leaf=6, splitter=random, accuracy=0.831, precision=0.843, recall=0.851, total=   0.0s\n",
            "[CV] max_depth=12, min_samples_leaf=6, splitter=random ...............\n",
            "[CV]  max_depth=12, min_samples_leaf=6, splitter=random, accuracy=0.727, precision=0.758, recall=0.743, total=   0.0s\n",
            "[CV] max_depth=12, min_samples_leaf=7, splitter=best .................\n",
            "[CV]  max_depth=12, min_samples_leaf=7, splitter=best, accuracy=0.864, precision=0.905, recall=0.843, total=   0.0s\n",
            "[CV] max_depth=12, min_samples_leaf=7, splitter=best .................\n",
            "[CV]  max_depth=12, min_samples_leaf=7, splitter=best, accuracy=0.837, precision=0.950, recall=0.745, total=   0.0s\n",
            "[CV] max_depth=12, min_samples_leaf=7, splitter=best .................\n",
            "[CV]  max_depth=12, min_samples_leaf=7, splitter=best, accuracy=0.793, precision=0.735, recall=0.980, total=   0.0s\n",
            "[CV] max_depth=12, min_samples_leaf=7, splitter=best .................\n",
            "[CV]  max_depth=12, min_samples_leaf=7, splitter=best, accuracy=0.803, precision=0.798, recall=0.861, total=   0.0s\n",
            "[CV] max_depth=12, min_samples_leaf=7, splitter=best .................\n",
            "[CV]  max_depth=12, min_samples_leaf=7, splitter=best, accuracy=0.667, precision=0.786, recall=0.545, total=   0.0s\n",
            "[CV] max_depth=12, min_samples_leaf=7, splitter=random ...............\n",
            "[CV]  max_depth=12, min_samples_leaf=7, splitter=random, accuracy=0.886, precision=0.926, recall=0.863, total=   0.0s\n",
            "[CV] max_depth=12, min_samples_leaf=7, splitter=random ...............\n",
            "[CV]  max_depth=12, min_samples_leaf=7, splitter=random, accuracy=0.777, precision=0.918, recall=0.657, total=   0.0s\n",
            "[CV] max_depth=12, min_samples_leaf=7, splitter=random ...............\n",
            "[CV]  max_depth=12, min_samples_leaf=7, splitter=random, accuracy=0.788, precision=0.748, recall=0.931, total=   0.0s\n",
            "[CV] max_depth=12, min_samples_leaf=7, splitter=random ...............\n",
            "[CV]  max_depth=12, min_samples_leaf=7, splitter=random, accuracy=0.814, precision=0.838, recall=0.822, total=   0.0s\n",
            "[CV] max_depth=12, min_samples_leaf=7, splitter=random ...............\n",
            "[CV]  max_depth=12, min_samples_leaf=7, splitter=random, accuracy=0.743, precision=0.800, recall=0.713, total=   0.0s\n",
            "[CV] max_depth=12, min_samples_leaf=8, splitter=best .................\n",
            "[CV]  max_depth=12, min_samples_leaf=8, splitter=best, accuracy=0.864, precision=0.905, recall=0.843, total=   0.0s\n",
            "[CV] max_depth=12, min_samples_leaf=8, splitter=best .................\n",
            "[CV]  max_depth=12, min_samples_leaf=8, splitter=best, accuracy=0.837, precision=0.950, recall=0.745, total=   0.0s\n",
            "[CV] max_depth=12, min_samples_leaf=8, splitter=best .................\n",
            "[CV]  max_depth=12, min_samples_leaf=8, splitter=best, accuracy=0.793, precision=0.735, recall=0.980, total=   0.0s\n",
            "[CV] max_depth=12, min_samples_leaf=8, splitter=best .................\n",
            "[CV]  max_depth=12, min_samples_leaf=8, splitter=best, accuracy=0.792, precision=0.789, recall=0.851, total=   0.0s\n",
            "[CV] max_depth=12, min_samples_leaf=8, splitter=best .................\n",
            "[CV]  max_depth=12, min_samples_leaf=8, splitter=best, accuracy=0.683, precision=0.772, recall=0.604, total=   0.0s\n",
            "[CV] max_depth=12, min_samples_leaf=8, splitter=random ...............\n",
            "[CV]  max_depth=12, min_samples_leaf=8, splitter=random, accuracy=0.891, precision=0.918, recall=0.882, total=   0.0s\n",
            "[CV] max_depth=12, min_samples_leaf=8, splitter=random ...............\n",
            "[CV]  max_depth=12, min_samples_leaf=8, splitter=random, accuracy=0.821, precision=0.879, recall=0.784, total=   0.0s\n",
            "[CV] max_depth=12, min_samples_leaf=8, splitter=random ...............\n",
            "[CV]  max_depth=12, min_samples_leaf=8, splitter=random, accuracy=0.815, precision=0.809, recall=0.873, total=   0.0s\n",
            "[CV] max_depth=12, min_samples_leaf=8, splitter=random ...............\n",
            "[CV]  max_depth=12, min_samples_leaf=8, splitter=random, accuracy=0.765, precision=0.790, recall=0.782, total=   0.0s\n",
            "[CV] max_depth=12, min_samples_leaf=8, splitter=random ...............\n",
            "[CV]  max_depth=12, min_samples_leaf=8, splitter=random, accuracy=0.727, precision=0.793, recall=0.683, total=   0.0s\n",
            "[CV] max_depth=12, min_samples_leaf=9, splitter=best .................\n",
            "[CV]  max_depth=12, min_samples_leaf=9, splitter=best, accuracy=0.886, precision=0.918, recall=0.873, total=   0.0s\n",
            "[CV] max_depth=12, min_samples_leaf=9, splitter=best .................\n",
            "[CV]  max_depth=12, min_samples_leaf=9, splitter=best, accuracy=0.842, precision=0.951, recall=0.755, total=   0.0s\n",
            "[CV] max_depth=12, min_samples_leaf=9, splitter=best .................\n",
            "[CV]  max_depth=12, min_samples_leaf=9, splitter=best, accuracy=0.788, precision=0.730, recall=0.980, total=   0.0s\n",
            "[CV] max_depth=12, min_samples_leaf=9, splitter=best .................\n",
            "[CV]  max_depth=12, min_samples_leaf=9, splitter=best, accuracy=0.727, precision=0.711, recall=0.851, total=   0.0s\n",
            "[CV] max_depth=12, min_samples_leaf=9, splitter=best .................\n",
            "[CV]  max_depth=12, min_samples_leaf=9, splitter=best, accuracy=0.683, precision=0.759, recall=0.624, total=   0.0s\n",
            "[CV] max_depth=12, min_samples_leaf=9, splitter=random ...............\n",
            "[CV]  max_depth=12, min_samples_leaf=9, splitter=random, accuracy=0.929, precision=0.916, recall=0.961, total=   0.0s\n",
            "[CV] max_depth=12, min_samples_leaf=9, splitter=random ...............\n",
            "[CV]  max_depth=12, min_samples_leaf=9, splitter=random, accuracy=0.810, precision=0.904, recall=0.735, total=   0.0s\n",
            "[CV] max_depth=12, min_samples_leaf=9, splitter=random ...............\n",
            "[CV]  max_depth=12, min_samples_leaf=9, splitter=random, accuracy=0.826, precision=0.797, recall=0.922, total=   0.0s\n",
            "[CV] max_depth=12, min_samples_leaf=9, splitter=random ...............\n",
            "[CV]  max_depth=12, min_samples_leaf=9, splitter=random, accuracy=0.820, precision=0.827, recall=0.851, total=   0.0s\n",
            "[CV] max_depth=12, min_samples_leaf=9, splitter=random ...............\n",
            "[CV]  max_depth=12, min_samples_leaf=9, splitter=random, accuracy=0.738, precision=0.791, recall=0.713, total=   0.0s\n",
            "[CV] max_depth=12, min_samples_leaf=10, splitter=best ................\n",
            "[CV]  max_depth=12, min_samples_leaf=10, splitter=best, accuracy=0.886, precision=0.935, recall=0.853, total=   0.0s\n",
            "[CV] max_depth=12, min_samples_leaf=10, splitter=best ................\n",
            "[CV]  max_depth=12, min_samples_leaf=10, splitter=best, accuracy=0.842, precision=0.951, recall=0.755, total=   0.0s\n",
            "[CV] max_depth=12, min_samples_leaf=10, splitter=best ................\n",
            "[CV]  max_depth=12, min_samples_leaf=10, splitter=best, accuracy=0.799, precision=0.756, recall=0.941, total=   0.0s\n",
            "[CV] max_depth=12, min_samples_leaf=10, splitter=best ................\n",
            "[CV]  max_depth=12, min_samples_leaf=10, splitter=best, accuracy=0.721, precision=0.716, recall=0.822, total=   0.0s\n",
            "[CV] max_depth=12, min_samples_leaf=10, splitter=best ................\n",
            "[CV]  max_depth=12, min_samples_leaf=10, splitter=best, accuracy=0.705, precision=0.770, recall=0.663, total=   0.0s\n",
            "[CV] max_depth=12, min_samples_leaf=10, splitter=random ..............\n",
            "[CV]  max_depth=12, min_samples_leaf=10, splitter=random, accuracy=0.913, precision=0.967, recall=0.873, total=   0.0s\n",
            "[CV] max_depth=12, min_samples_leaf=10, splitter=random ..............\n",
            "[CV]  max_depth=12, min_samples_leaf=10, splitter=random, accuracy=0.832, precision=0.890, recall=0.794, total=   0.0s\n",
            "[CV] max_depth=12, min_samples_leaf=10, splitter=random ..............\n",
            "[CV]  max_depth=12, min_samples_leaf=10, splitter=random, accuracy=0.837, precision=0.810, recall=0.922, total=   0.0s\n",
            "[CV] max_depth=12, min_samples_leaf=10, splitter=random ..............\n",
            "[CV]  max_depth=12, min_samples_leaf=10, splitter=random, accuracy=0.798, precision=0.840, recall=0.782, total=   0.0s\n",
            "[CV] max_depth=12, min_samples_leaf=10, splitter=random ..............\n",
            "[CV]  max_depth=12, min_samples_leaf=10, splitter=random, accuracy=0.743, precision=0.765, recall=0.772, total=   0.0s\n"
          ]
        },
        {
          "output_type": "stream",
          "name": "stderr",
          "text": [
            "[Parallel(n_jobs=1)]: Done 700 out of 700 | elapsed:    5.1s finished\n"
          ]
        },
        {
          "output_type": "execute_result",
          "data": {
            "text/plain": [
              "GridSearchCV(cv=None, error_score=nan,\n",
              "             estimator=DecisionTreeClassifier(ccp_alpha=0.0, class_weight=None,\n",
              "                                              criterion='gini', max_depth=7,\n",
              "                                              max_features=None,\n",
              "                                              max_leaf_nodes=None,\n",
              "                                              min_impurity_decrease=0.0,\n",
              "                                              min_impurity_split=None,\n",
              "                                              min_samples_leaf=8,\n",
              "                                              min_samples_split=2,\n",
              "                                              min_weight_fraction_leaf=0.0,\n",
              "                                              presort='deprecated',\n",
              "                                              random_state=None,\n",
              "                                              splitter='random'),\n",
              "             iid='deprecated', n_jobs=None,\n",
              "             param_grid={'max_depth': [1, 3, 5, 7, 9, 11, 12],\n",
              "                         'min_samples_leaf': [1, 2, 3, 4, 5, 6, 7, 8, 9, 10],\n",
              "                         'splitter': ['best', 'random']},\n",
              "             pre_dispatch='2*n_jobs', refit='recall', return_train_score=False,\n",
              "             scoring={'accuracy': make_scorer(accuracy_score),\n",
              "                      'precision': make_scorer(precision_score),\n",
              "                      'recall': make_scorer(recall_score)},\n",
              "             verbose=3)"
            ]
          },
          "metadata": {},
          "execution_count": 25
        }
      ]
    },
    {
      "cell_type": "code",
      "metadata": {
        "id": "b5q--VTXu2fc",
        "colab": {
          "base_uri": "https://localhost:8080/"
        },
        "outputId": "98aff779-a3aa-4106-bbc8-1bac01b05e0f"
      },
      "source": [
        "print(\"Best Hyperparameters:\", gs.best_params_)"
      ],
      "execution_count": null,
      "outputs": [
        {
          "output_type": "stream",
          "name": "stdout",
          "text": [
            "Best Hyperparameters: {'max_depth': 3, 'min_samples_leaf': 9, 'splitter': 'best'}\n"
          ]
        }
      ]
    },
    {
      "cell_type": "code",
      "metadata": {
        "id": "AD0T6uO75bg2"
      },
      "source": [
        "#Predict the response for test dataset\n",
        "y_pred=model_tree.predict(x_test)"
      ],
      "execution_count": null,
      "outputs": []
    },
    {
      "cell_type": "markdown",
      "metadata": {
        "id": "DerWK-rFvXWQ"
      },
      "source": [
        "##testing"
      ]
    },
    {
      "cell_type": "code",
      "metadata": {
        "id": "M1hhR39-vY1B",
        "colab": {
          "base_uri": "https://localhost:8080/",
          "height": 364
        },
        "outputId": "581c38a3-7f40-4f62-9d40-c9b4501e9e79"
      },
      "source": [
        "acc=metrics.accuracy_score(y_test,y_pred)\n",
        "precision_score=metrics.precision_score(y_test,y_pred,average='micro')\n",
        "recall_score=metrics.recall_score(y_test,y_pred,average='micro')\n",
        "f1_score=metrics.f1_score(y_test,y_pred,average='micro')\n",
        "print(f'acc is {acc}')\n",
        "print(f'precision_score is {precision_score}')\n",
        "print(f'recall_score is {recall_score}')\n",
        "print(f'f1_score is {f1_score}')\n",
        "metrics.plot_confusion_matrix(model_tree,x_test,y_test)"
      ],
      "execution_count": null,
      "outputs": [
        {
          "output_type": "stream",
          "name": "stdout",
          "text": [
            "acc is 0.8695652173913043\n",
            "precision_score is 0.8695652173913043\n",
            "recall_score is 0.8695652173913043\n",
            "f1_score is 0.8695652173913043\n"
          ]
        },
        {
          "output_type": "execute_result",
          "data": {
            "text/plain": [
              "<sklearn.metrics._plot.confusion_matrix.ConfusionMatrixDisplay at 0x7fe59f256710>"
            ]
          },
          "metadata": {},
          "execution_count": 188
        },
        {
          "output_type": "display_data",
          "data": {
            "image/png": "[encoded data removed]",
            "text/plain": [
              "<Figure size 432x288 with 2 Axes>"
            ]
          },
          "metadata": {
            "needs_background": "light"
          }
        }
      ]
    },
    {
      "cell_type": "code",
      "metadata": {
        "id": "M2OpVdbC9cG0"
      },
      "source": [
        ""
      ],
      "execution_count": null,
      "outputs": []
    },
    {
      "cell_type": "markdown",
      "metadata": {
        "id": "j6GaUTQ0vcRm"
      },
      "source": [
        "#4- Logistic Regression"
      ]
    },
    {
      "cell_type": "code",
      "metadata": {
        "id": "_5gq1FlDvezj",
        "colab": {
          "base_uri": "https://localhost:8080/"
        },
        "outputId": "f8f9f8c0-5982-4d1b-a2d4-d2ce18640fd3"
      },
      "source": [
        "#create Logistic Regression\n",
        "model_logis = linear_model.LogisticRegression(C= 0.001, fit_intercept= True, solver='sag')\n",
        "#train the model\n",
        "model_logis.fit(x_train, y_train)"
      ],
      "execution_count": null,
      "outputs": [
        {
          "output_type": "stream",
          "name": "stderr",
          "text": [
            "/usr/local/lib/python3.7/dist-packages/sklearn/utils/validation.py:760: DataConversionWarning: A column-vector y was passed when a 1d array was expected. Please change the shape of y to (n_samples, ), for example using ravel().\n",
            "  y = column_or_1d(y, warn=True)\n"
          ]
        },
        {
          "output_type": "execute_result",
          "data": {
            "text/plain": [
              "LogisticRegression(C=0.001, class_weight=None, dual=False, fit_intercept=True,\n",
              "                   intercept_scaling=1, l1_ratio=None, max_iter=100,\n",
              "                   multi_class='auto', n_jobs=None, penalty='l2',\n",
              "                   random_state=None, solver='sag', tol=0.0001, verbose=0,\n",
              "                   warm_start=False)"
            ]
          },
          "metadata": {},
          "execution_count": 259
        }
      ]
    },
    {
      "cell_type": "code",
      "metadata": {
        "id": "Mg2-0yJgvfY_"
      },
      "source": [
        "scoring = {\n",
        "    'accuracy': metrics.make_scorer(metrics.accuracy_score),\n",
        "    'precision': metrics.make_scorer(metrics.precision_score), \n",
        "    'recall': metrics.make_scorer(metrics.recall_score)\n",
        "    }\n",
        "   \n",
        "params = {'C': [0.001, 0.01, 0.1, 1, 10, 100, 1000],\n",
        "          'solver': ['svd', 'cholesky', 'lsqr', 'sag'],\n",
        "          'fit_intercept':[True, False]\n",
        "          \n",
        "          \n",
        " \n",
        "\n",
        "    \n",
        "          }\n",
        "   \n",
        "\n",
        "gs = model_selection.GridSearchCV(model_logis, params, scoring=scoring, refit='recall', verbose=3)"
      ],
      "execution_count": null,
      "outputs": []
    },
    {
      "cell_type": "code",
      "metadata": {
        "id": "B5367B8qvid2",
        "colab": {
          "base_uri": "https://localhost:8080/"
        },
        "outputId": "6595127e-ece3-4a0f-8b5e-9f26fa3bef99"
      },
      "source": [
        "gs.fit(x_norm,y)"
      ],
      "execution_count": null,
      "outputs": [
        {
          "output_type": "stream",
          "name": "stdout",
          "text": [
            "Fitting 5 folds for each of 56 candidates, totalling 280 fits\n",
            "[CV] C=0.001, fit_intercept=True, solver=svd .........................\n",
            "[CV]  C=0.001, fit_intercept=True, solver=svd, accuracy=nan, precision=nan, recall=nan, total=   0.0s\n",
            "[CV] C=0.001, fit_intercept=True, solver=svd .........................\n",
            "[CV]  C=0.001, fit_intercept=True, solver=svd, accuracy=nan, precision=nan, recall=nan, total=   0.0s\n",
            "[CV] C=0.001, fit_intercept=True, solver=svd .........................\n",
            "[CV]  C=0.001, fit_intercept=True, solver=svd, accuracy=nan, precision=nan, recall=nan, total=   0.0s\n",
            "[CV] C=0.001, fit_intercept=True, solver=svd .........................\n",
            "[CV]  C=0.001, fit_intercept=True, solver=svd, accuracy=nan, precision=nan, recall=nan, total=   0.0s\n",
            "[CV] C=0.001, fit_intercept=True, solver=svd .........................\n",
            "[CV]  C=0.001, fit_intercept=True, solver=svd, accuracy=nan, precision=nan, recall=nan, total=   0.0s\n",
            "[CV] C=0.001, fit_intercept=True, solver=cholesky ....................\n",
            "[CV]  C=0.001, fit_intercept=True, solver=cholesky, accuracy=nan, precision=nan, recall=nan, total=   0.0s\n",
            "[CV] C=0.001, fit_intercept=True, solver=cholesky ....................\n",
            "[CV]  C=0.001, fit_intercept=True, solver=cholesky, accuracy=nan, precision=nan, recall=nan, total=   0.0s\n",
            "[CV] C=0.001, fit_intercept=True, solver=cholesky ....................\n",
            "[CV]  C=0.001, fit_intercept=True, solver=cholesky, accuracy=nan, precision=nan, recall=nan, total=   0.0s\n",
            "[CV] C=0.001, fit_intercept=True, solver=cholesky ....................\n",
            "[CV]  C=0.001, fit_intercept=True, solver=cholesky, accuracy=nan, precision=nan, recall=nan, total=   0.0s\n",
            "[CV] C=0.001, fit_intercept=True, solver=cholesky ....................\n",
            "[CV]  C=0.001, fit_intercept=True, solver=cholesky, accuracy=nan, precision=nan, recall=nan, total=   0.0s\n",
            "[CV] C=0.001, fit_intercept=True, solver=lsqr ........................\n",
            "[CV]  C=0.001, fit_intercept=True, solver=lsqr, accuracy=nan, precision=nan, recall=nan, total=   0.0s\n",
            "[CV] C=0.001, fit_intercept=True, solver=lsqr ........................\n",
            "[CV]  C=0.001, fit_intercept=True, solver=lsqr, accuracy=nan, precision=nan, recall=nan, total=   0.0s\n",
            "[CV] C=0.001, fit_intercept=True, solver=lsqr ........................\n",
            "[CV]  C=0.001, fit_intercept=True, solver=lsqr, accuracy=nan, precision=nan, recall=nan, total=   0.0s\n",
            "[CV] C=0.001, fit_intercept=True, solver=lsqr ........................\n",
            "[CV]  C=0.001, fit_intercept=True, solver=lsqr, accuracy=nan, precision=nan, recall=nan, total=   0.0s\n",
            "[CV] C=0.001, fit_intercept=True, solver=lsqr ........................\n",
            "[CV]  C=0.001, fit_intercept=True, solver=lsqr, accuracy=nan, precision=nan, recall=nan, total=   0.0s\n",
            "[CV] C=0.001, fit_intercept=True, solver=sag .........................\n",
            "[CV]  C=0.001, fit_intercept=True, solver=sag, accuracy=0.837, precision=0.875, recall=0.824, total=   0.0s\n",
            "[CV] C=0.001, fit_intercept=True, solver=sag .........................\n",
            "[CV]  C=0.001, fit_intercept=True, solver=sag, accuracy=0.875, precision=0.869, recall=0.912, total=   0.0s\n",
            "[CV] C=0.001, fit_intercept=True, solver=sag .........................\n",
            "[CV]  C=0.001, fit_intercept=True, solver=sag, accuracy=0.739, precision=0.682, recall=0.990, total=   0.0s\n",
            "[CV] C=0.001, fit_intercept=True, solver=sag .........................\n",
            "[CV]  C=0.001, fit_intercept=True, solver=sag, accuracy=0.809, precision=0.784, recall=0.901, total=   0.0s\n",
            "[CV] C=0.001, fit_intercept=True, solver=sag .........................\n",
            "[CV]  C=0.001, fit_intercept=True, solver=sag, accuracy=0.792, precision=0.806, recall=0.822, total=   0.0s\n",
            "[CV] C=0.001, fit_intercept=False, solver=svd ........................\n",
            "[CV]  C=0.001, fit_intercept=False, solver=svd, accuracy=nan, precision=nan, recall=nan, total=   0.0s\n",
            "[CV] C=0.001, fit_intercept=False, solver=svd ........................\n",
            "[CV]  C=0.001, fit_intercept=False, solver=svd, accuracy=nan, precision=nan, recall=nan, total=   0.0s\n",
            "[CV] C=0.001, fit_intercept=False, solver=svd ........................\n",
            "[CV]  C=0.001, fit_intercept=False, solver=svd, accuracy=nan, precision=nan, recall=nan, total=   0.0s\n",
            "[CV] C=0.001, fit_intercept=False, solver=svd ........................\n",
            "[CV]  C=0.001, fit_intercept=False, solver=svd, accuracy=nan, precision=nan, recall=nan, total=   0.0s\n",
            "[CV] C=0.001, fit_intercept=False, solver=svd ........................\n",
            "[CV]  C=0.001, fit_intercept=False, solver=svd, accuracy=nan, precision=nan, recall=nan, total=   0.0s\n",
            "[CV] C=0.001, fit_intercept=False, solver=cholesky ...................\n",
            "[CV]  C=0.001, fit_intercept=False, solver=cholesky, accuracy=nan, precision=nan, recall=nan, total=   0.0s\n",
            "[CV] C=0.001, fit_intercept=False, solver=cholesky ...................\n",
            "[CV]  C=0.001, fit_intercept=False, solver=cholesky, accuracy=nan, precision=nan, recall=nan, total=   0.0s\n",
            "[CV] C=0.001, fit_intercept=False, solver=cholesky ...................\n",
            "[CV]  C=0.001, fit_intercept=False, solver=cholesky, accuracy=nan, precision=nan, recall=nan, total=   0.0s\n",
            "[CV] C=0.001, fit_intercept=False, solver=cholesky ...................\n",
            "[CV]  C=0.001, fit_intercept=False, solver=cholesky, accuracy=nan, precision=nan, recall=nan, total=   0.0s\n",
            "[CV] C=0.001, fit_intercept=False, solver=cholesky ...................\n",
            "[CV]  C=0.001, fit_intercept=False, solver=cholesky, accuracy=nan, precision=nan, recall=nan, total=   0.0s\n",
            "[CV] C=0.001, fit_intercept=False, solver=lsqr .......................\n",
            "[CV]  C=0.001, fit_intercept=False, solver=lsqr, accuracy=nan, precision=nan, recall=nan, total=   0.0s\n",
            "[CV] C=0.001, fit_intercept=False, solver=lsqr .......................\n",
            "[CV]  C=0.001, fit_intercept=False, solver=lsqr, accuracy=nan, precision=nan, recall=nan, total=   0.0s\n",
            "[CV] C=0.001, fit_intercept=False, solver=lsqr .......................\n",
            "[CV]  C=0.001, fit_intercept=False, solver=lsqr, accuracy=nan, precision=nan, recall=nan, total=   0.0s\n",
            "[CV] C=0.001, fit_intercept=False, solver=lsqr .......................\n",
            "[CV]  C=0.001, fit_intercept=False, solver=lsqr, accuracy=nan, precision=nan, recall=nan, total=   0.0s\n",
            "[CV] C=0.001, fit_intercept=False, solver=lsqr .......................\n",
            "[CV]  C=0.001, fit_intercept=False, solver=lsqr, accuracy=nan, precision=nan, recall=nan, total=   0.0s\n",
            "[CV] C=0.001, fit_intercept=False, solver=sag ........................\n",
            "[CV]  C=0.001, fit_intercept=False, solver=sag, accuracy=0.793, precision=0.921, recall=0.686, total=   0.0s\n",
            "[CV] C=0.001, fit_intercept=False, solver=sag ........................\n",
            "[CV]  C=0.001, fit_intercept=False, solver=sag, accuracy=0.815, precision=0.925, recall=0.725, total=   0.0s\n",
            "[CV] C=0.001, fit_intercept=False, solver=sag ........................\n",
            "[CV]  C=0.001, fit_intercept=False, solver=sag, accuracy=0.859, precision=0.822, recall=0.951, total=   0.0s\n",
            "[CV] C=0.001, fit_intercept=False, solver=sag ........................\n",
            "[CV]  C=0.001, fit_intercept=False, solver=sag, accuracy=0.847, precision=0.869, recall=0.851, total=   0.0s\n",
            "[CV] C=0.001, fit_intercept=False, solver=sag ........................\n",
            "[CV]  C=0.001, fit_intercept=False, solver=sag, accuracy=0.776, precision=0.917, recall=0.653, total=   0.0s\n",
            "[CV] C=0.01, fit_intercept=True, solver=svd ..........................\n",
            "[CV]  C=0.01, fit_intercept=True, solver=svd, accuracy=nan, precision=nan, recall=nan, total=   0.0s\n",
            "[CV] C=0.01, fit_intercept=True, solver=svd ..........................\n",
            "[CV]  C=0.01, fit_intercept=True, solver=svd, accuracy=nan, precision=nan, recall=nan, total=   0.0s\n",
            "[CV] C=0.01, fit_intercept=True, solver=svd ..........................\n",
            "[CV]  C=0.01, fit_intercept=True, solver=svd, accuracy=nan, precision=nan, recall=nan, total=   0.0s\n",
            "[CV] C=0.01, fit_intercept=True, solver=svd ..........................\n",
            "[CV]  C=0.01, fit_intercept=True, solver=svd, accuracy=nan, precision=nan, recall=nan, total=   0.0s\n",
            "[CV] C=0.01, fit_intercept=True, solver=svd ..........................\n",
            "[CV]  C=0.01, fit_intercept=True, solver=svd, accuracy=nan, precision=nan, recall=nan, total=   0.0s\n",
            "[CV] C=0.01, fit_intercept=True, solver=cholesky .....................\n",
            "[CV]  C=0.01, fit_intercept=True, solver=cholesky, accuracy=nan, precision=nan, recall=nan, total=   0.0s\n",
            "[CV] C=0.01, fit_intercept=True, solver=cholesky .....................\n",
            "[CV]  C=0.01, fit_intercept=True, solver=cholesky, accuracy=nan, precision=nan, recall=nan, total=   0.0s\n",
            "[CV] C=0.01, fit_intercept=True, solver=cholesky .....................\n"
          ]
        },
        {
          "output_type": "stream",
          "name": "stderr",
          "text": [
            "[Parallel(n_jobs=1)]: Using backend SequentialBackend with 1 concurrent workers.\n",
            "/usr/local/lib/python3.7/dist-packages/sklearn/model_selection/_validation.py:536: FitFailedWarning: Estimator fit failed. The score on this train-test partition for these parameters will be set to nan. Details: \n",
            "ValueError: Logistic Regression supports only solvers in ['liblinear', 'newton-cg', 'lbfgs', 'sag', 'saga'], got svd.\n",
            "\n",
            "  FitFailedWarning)\n",
            "[Parallel(n_jobs=1)]: Done   1 out of   1 | elapsed:    0.0s remaining:    0.0s\n",
            "[Parallel(n_jobs=1)]: Done   2 out of   2 | elapsed:    0.0s remaining:    0.0s\n",
            "/usr/local/lib/python3.7/dist-packages/sklearn/model_selection/_validation.py:536: FitFailedWarning: Estimator fit failed. The score on this train-test partition for these parameters will be set to nan. Details: \n",
            "ValueError: Logistic Regression supports only solvers in ['liblinear', 'newton-cg', 'lbfgs', 'sag', 'saga'], got cholesky.\n",
            "\n",
            "  FitFailedWarning)\n",
            "/usr/local/lib/python3.7/dist-packages/sklearn/model_selection/_validation.py:536: FitFailedWarning: Estimator fit failed. The score on this train-test partition for these parameters will be set to nan. Details: \n",
            "ValueError: Logistic Regression supports only solvers in ['liblinear', 'newton-cg', 'lbfgs', 'sag', 'saga'], got lsqr.\n",
            "\n",
            "  FitFailedWarning)\n",
            "/usr/local/lib/python3.7/dist-packages/sklearn/utils/validation.py:760: DataConversionWarning: A column-vector y was passed when a 1d array was expected. Please change the shape of y to (n_samples, ), for example using ravel().\n",
            "  y = column_or_1d(y, warn=True)\n",
            "/usr/local/lib/python3.7/dist-packages/sklearn/utils/validation.py:760: DataConversionWarning: A column-vector y was passed when a 1d array was expected. Please change the shape of y to (n_samples, ), for example using ravel().\n",
            "  y = column_or_1d(y, warn=True)\n",
            "/usr/local/lib/python3.7/dist-packages/sklearn/utils/validation.py:760: DataConversionWarning: A column-vector y was passed when a 1d array was expected. Please change the shape of y to (n_samples, ), for example using ravel().\n",
            "  y = column_or_1d(y, warn=True)\n",
            "/usr/local/lib/python3.7/dist-packages/sklearn/utils/validation.py:760: DataConversionWarning: A column-vector y was passed when a 1d array was expected. Please change the shape of y to (n_samples, ), for example using ravel().\n",
            "  y = column_or_1d(y, warn=True)\n",
            "/usr/local/lib/python3.7/dist-packages/sklearn/utils/validation.py:760: DataConversionWarning: A column-vector y was passed when a 1d array was expected. Please change the shape of y to (n_samples, ), for example using ravel().\n",
            "  y = column_or_1d(y, warn=True)\n",
            "/usr/local/lib/python3.7/dist-packages/sklearn/model_selection/_validation.py:536: FitFailedWarning: Estimator fit failed. The score on this train-test partition for these parameters will be set to nan. Details: \n",
            "ValueError: Logistic Regression supports only solvers in ['liblinear', 'newton-cg', 'lbfgs', 'sag', 'saga'], got svd.\n",
            "\n",
            "  FitFailedWarning)\n",
            "/usr/local/lib/python3.7/dist-packages/sklearn/model_selection/_validation.py:536: FitFailedWarning: Estimator fit failed. The score on this train-test partition for these parameters will be set to nan. Details: \n",
            "ValueError: Logistic Regression supports only solvers in ['liblinear', 'newton-cg', 'lbfgs', 'sag', 'saga'], got cholesky.\n",
            "\n",
            "  FitFailedWarning)\n",
            "/usr/local/lib/python3.7/dist-packages/sklearn/model_selection/_validation.py:536: FitFailedWarning: Estimator fit failed. The score on this train-test partition for these parameters will be set to nan. Details: \n",
            "ValueError: Logistic Regression supports only solvers in ['liblinear', 'newton-cg', 'lbfgs', 'sag', 'saga'], got lsqr.\n",
            "\n",
            "  FitFailedWarning)\n",
            "/usr/local/lib/python3.7/dist-packages/sklearn/utils/validation.py:760: DataConversionWarning: A column-vector y was passed when a 1d array was expected. Please change the shape of y to (n_samples, ), for example using ravel().\n",
            "  y = column_or_1d(y, warn=True)\n",
            "/usr/local/lib/python3.7/dist-packages/sklearn/utils/validation.py:760: DataConversionWarning: A column-vector y was passed when a 1d array was expected. Please change the shape of y to (n_samples, ), for example using ravel().\n",
            "  y = column_or_1d(y, warn=True)\n",
            "/usr/local/lib/python3.7/dist-packages/sklearn/utils/validation.py:760: DataConversionWarning: A column-vector y was passed when a 1d array was expected. Please change the shape of y to (n_samples, ), for example using ravel().\n",
            "  y = column_or_1d(y, warn=True)\n",
            "/usr/local/lib/python3.7/dist-packages/sklearn/utils/validation.py:760: DataConversionWarning: A column-vector y was passed when a 1d array was expected. Please change the shape of y to (n_samples, ), for example using ravel().\n",
            "  y = column_or_1d(y, warn=True)\n",
            "/usr/local/lib/python3.7/dist-packages/sklearn/utils/validation.py:760: DataConversionWarning: A column-vector y was passed when a 1d array was expected. Please change the shape of y to (n_samples, ), for example using ravel().\n",
            "  y = column_or_1d(y, warn=True)\n",
            "/usr/local/lib/python3.7/dist-packages/sklearn/model_selection/_validation.py:536: FitFailedWarning: Estimator fit failed. The score on this train-test partition for these parameters will be set to nan. Details: \n",
            "ValueError: Logistic Regression supports only solvers in ['liblinear', 'newton-cg', 'lbfgs', 'sag', 'saga'], got svd.\n",
            "\n",
            "  FitFailedWarning)\n",
            "/usr/local/lib/python3.7/dist-packages/sklearn/model_selection/_validation.py:536: FitFailedWarning: Estimator fit failed. The score on this train-test partition for these parameters will be set to nan. Details: \n",
            "ValueError: Logistic Regression supports only solvers in ['liblinear', 'newton-cg', 'lbfgs', 'sag', 'saga'], got cholesky.\n",
            "\n",
            "  FitFailedWarning)\n",
            "/usr/local/lib/python3.7/dist-packages/sklearn/model_selection/_validation.py:536: FitFailedWarning: Estimator fit failed. The score on this train-test partition for these parameters will be set to nan. Details: \n",
            "ValueError: Logistic Regression supports only solvers in ['liblinear', 'newton-cg', 'lbfgs', 'sag', 'saga'], got lsqr.\n",
            "\n",
            "  FitFailedWarning)\n"
          ]
        },
        {
          "output_type": "stream",
          "name": "stdout",
          "text": [
            "[CV]  C=0.01, fit_intercept=True, solver=cholesky, accuracy=nan, precision=nan, recall=nan, total=   0.0s\n",
            "[CV] C=0.01, fit_intercept=True, solver=cholesky .....................\n",
            "[CV]  C=0.01, fit_intercept=True, solver=cholesky, accuracy=nan, precision=nan, recall=nan, total=   0.0s\n",
            "[CV] C=0.01, fit_intercept=True, solver=cholesky .....................\n",
            "[CV]  C=0.01, fit_intercept=True, solver=cholesky, accuracy=nan, precision=nan, recall=nan, total=   0.0s\n",
            "[CV] C=0.01, fit_intercept=True, solver=lsqr .........................\n",
            "[CV]  C=0.01, fit_intercept=True, solver=lsqr, accuracy=nan, precision=nan, recall=nan, total=   0.0s\n",
            "[CV] C=0.01, fit_intercept=True, solver=lsqr .........................\n",
            "[CV]  C=0.01, fit_intercept=True, solver=lsqr, accuracy=nan, precision=nan, recall=nan, total=   0.0s\n",
            "[CV] C=0.01, fit_intercept=True, solver=lsqr .........................\n",
            "[CV]  C=0.01, fit_intercept=True, solver=lsqr, accuracy=nan, precision=nan, recall=nan, total=   0.0s\n",
            "[CV] C=0.01, fit_intercept=True, solver=lsqr .........................\n",
            "[CV]  C=0.01, fit_intercept=True, solver=lsqr, accuracy=nan, precision=nan, recall=nan, total=   0.0s\n",
            "[CV] C=0.01, fit_intercept=True, solver=lsqr .........................\n",
            "[CV]  C=0.01, fit_intercept=True, solver=lsqr, accuracy=nan, precision=nan, recall=nan, total=   0.0s\n",
            "[CV] C=0.01, fit_intercept=True, solver=sag ..........................\n",
            "[CV]  C=0.01, fit_intercept=True, solver=sag, accuracy=0.832, precision=0.918, recall=0.765, total=   0.0s\n",
            "[CV] C=0.01, fit_intercept=True, solver=sag ..........................\n",
            "[CV]  C=0.01, fit_intercept=True, solver=sag, accuracy=0.864, precision=0.905, recall=0.843, total=   0.0s\n",
            "[CV] C=0.01, fit_intercept=True, solver=sag ..........................\n",
            "[CV]  C=0.01, fit_intercept=True, solver=sag, accuracy=0.810, precision=0.752, recall=0.980, total=   0.0s\n",
            "[CV] C=0.01, fit_intercept=True, solver=sag ..........................\n",
            "[CV]  C=0.01, fit_intercept=True, solver=sag, accuracy=0.831, precision=0.824, recall=0.881, total=   0.0s\n",
            "[CV] C=0.01, fit_intercept=True, solver=sag ..........................\n",
            "[CV]  C=0.01, fit_intercept=True, solver=sag, accuracy=0.760, precision=0.828, recall=0.713, total=   0.0s\n",
            "[CV] C=0.01, fit_intercept=False, solver=svd .........................\n",
            "[CV]  C=0.01, fit_intercept=False, solver=svd, accuracy=nan, precision=nan, recall=nan, total=   0.0s\n",
            "[CV] C=0.01, fit_intercept=False, solver=svd .........................\n",
            "[CV]  C=0.01, fit_intercept=False, solver=svd, accuracy=nan, precision=nan, recall=nan, total=   0.0s\n",
            "[CV] C=0.01, fit_intercept=False, solver=svd .........................\n",
            "[CV]  C=0.01, fit_intercept=False, solver=svd, accuracy=nan, precision=nan, recall=nan, total=   0.0s\n",
            "[CV] C=0.01, fit_intercept=False, solver=svd .........................\n",
            "[CV]  C=0.01, fit_intercept=False, solver=svd, accuracy=nan, precision=nan, recall=nan, total=   0.0s\n",
            "[CV] C=0.01, fit_intercept=False, solver=svd .........................\n",
            "[CV]  C=0.01, fit_intercept=False, solver=svd, accuracy=nan, precision=nan, recall=nan, total=   0.0s\n",
            "[CV] C=0.01, fit_intercept=False, solver=cholesky ....................\n",
            "[CV]  C=0.01, fit_intercept=False, solver=cholesky, accuracy=nan, precision=nan, recall=nan, total=   0.0s\n",
            "[CV] C=0.01, fit_intercept=False, solver=cholesky ....................\n",
            "[CV]  C=0.01, fit_intercept=False, solver=cholesky, accuracy=nan, precision=nan, recall=nan, total=   0.0s\n",
            "[CV] C=0.01, fit_intercept=False, solver=cholesky ....................\n",
            "[CV]  C=0.01, fit_intercept=False, solver=cholesky, accuracy=nan, precision=nan, recall=nan, total=   0.0s\n",
            "[CV] C=0.01, fit_intercept=False, solver=cholesky ....................\n",
            "[CV]  C=0.01, fit_intercept=False, solver=cholesky, accuracy=nan, precision=nan, recall=nan, total=   0.0s\n",
            "[CV] C=0.01, fit_intercept=False, solver=cholesky ....................\n",
            "[CV]  C=0.01, fit_intercept=False, solver=cholesky, accuracy=nan, precision=nan, recall=nan, total=   0.0s\n",
            "[CV] C=0.01, fit_intercept=False, solver=lsqr ........................\n",
            "[CV]  C=0.01, fit_intercept=False, solver=lsqr, accuracy=nan, precision=nan, recall=nan, total=   0.0s\n",
            "[CV] C=0.01, fit_intercept=False, solver=lsqr ........................\n",
            "[CV]  C=0.01, fit_intercept=False, solver=lsqr, accuracy=nan, precision=nan, recall=nan, total=   0.0s\n",
            "[CV] C=0.01, fit_intercept=False, solver=lsqr ........................\n",
            "[CV]  C=0.01, fit_intercept=False, solver=lsqr, accuracy=nan, precision=nan, recall=nan, total=   0.0s\n",
            "[CV] C=0.01, fit_intercept=False, solver=lsqr ........................\n",
            "[CV]  C=0.01, fit_intercept=False, solver=lsqr, accuracy=nan, precision=nan, recall=nan, total=   0.0s\n",
            "[CV] C=0.01, fit_intercept=False, solver=lsqr ........................\n",
            "[CV]  C=0.01, fit_intercept=False, solver=lsqr, accuracy=nan, precision=nan, recall=nan, total=   0.0s\n",
            "[CV] C=0.01, fit_intercept=False, solver=sag .........................\n",
            "[CV]  C=0.01, fit_intercept=False, solver=sag, accuracy=0.804, precision=0.934, recall=0.696, total=   0.0s\n",
            "[CV] C=0.01, fit_intercept=False, solver=sag .........................\n",
            "[CV]  C=0.01, fit_intercept=False, solver=sag, accuracy=0.799, precision=0.901, recall=0.716, total=   0.0s\n",
            "[CV] C=0.01, fit_intercept=False, solver=sag .........................\n",
            "[CV]  C=0.01, fit_intercept=False, solver=sag, accuracy=0.848, precision=0.814, recall=0.941, total=   0.0s\n",
            "[CV] C=0.01, fit_intercept=False, solver=sag .........................\n",
            "[CV]  C=0.01, fit_intercept=False, solver=sag, accuracy=0.825, precision=0.848, recall=0.832, total=   0.0s\n",
            "[CV] C=0.01, fit_intercept=False, solver=sag .........................\n",
            "[CV]  C=0.01, fit_intercept=False, solver=sag, accuracy=0.760, precision=0.870, recall=0.663, total=   0.0s\n",
            "[CV] C=0.1, fit_intercept=True, solver=svd ...........................\n",
            "[CV]  C=0.1, fit_intercept=True, solver=svd, accuracy=nan, precision=nan, recall=nan, total=   0.0s\n",
            "[CV] C=0.1, fit_intercept=True, solver=svd ...........................\n",
            "[CV]  C=0.1, fit_intercept=True, solver=svd, accuracy=nan, precision=nan, recall=nan, total=   0.0s\n",
            "[CV] C=0.1, fit_intercept=True, solver=svd ...........................\n",
            "[CV]  C=0.1, fit_intercept=True, solver=svd, accuracy=nan, precision=nan, recall=nan, total=   0.0s\n",
            "[CV] C=0.1, fit_intercept=True, solver=svd ...........................\n",
            "[CV]  C=0.1, fit_intercept=True, solver=svd, accuracy=nan, precision=nan, recall=nan, total=   0.0s\n",
            "[CV] C=0.1, fit_intercept=True, solver=svd ...........................\n",
            "[CV]  C=0.1, fit_intercept=True, solver=svd, accuracy=nan, precision=nan, recall=nan, total=   0.0s\n",
            "[CV] C=0.1, fit_intercept=True, solver=cholesky ......................\n",
            "[CV]  C=0.1, fit_intercept=True, solver=cholesky, accuracy=nan, precision=nan, recall=nan, total=   0.0s\n",
            "[CV] C=0.1, fit_intercept=True, solver=cholesky ......................\n",
            "[CV]  C=0.1, fit_intercept=True, solver=cholesky, accuracy=nan, precision=nan, recall=nan, total=   0.0s\n",
            "[CV] C=0.1, fit_intercept=True, solver=cholesky ......................\n",
            "[CV]  C=0.1, fit_intercept=True, solver=cholesky, accuracy=nan, precision=nan, recall=nan, total=   0.0s\n",
            "[CV] C=0.1, fit_intercept=True, solver=cholesky ......................\n",
            "[CV]  C=0.1, fit_intercept=True, solver=cholesky, accuracy=nan, precision=nan, recall=nan, total=   0.0s\n",
            "[CV] C=0.1, fit_intercept=True, solver=cholesky ......................\n",
            "[CV]  C=0.1, fit_intercept=True, solver=cholesky, accuracy=nan, precision=nan, recall=nan, total=   0.0s\n",
            "[CV] C=0.1, fit_intercept=True, solver=lsqr ..........................\n",
            "[CV]  C=0.1, fit_intercept=True, solver=lsqr, accuracy=nan, precision=nan, recall=nan, total=   0.0s\n",
            "[CV] C=0.1, fit_intercept=True, solver=lsqr ..........................\n",
            "[CV]  C=0.1, fit_intercept=True, solver=lsqr, accuracy=nan, precision=nan, recall=nan, total=   0.0s\n",
            "[CV] C=0.1, fit_intercept=True, solver=lsqr ..........................\n",
            "[CV]  C=0.1, fit_intercept=True, solver=lsqr, accuracy=nan, precision=nan, recall=nan, total=   0.0s\n",
            "[CV] C=0.1, fit_intercept=True, solver=lsqr ..........................\n",
            "[CV]  C=0.1, fit_intercept=True, solver=lsqr, accuracy=nan, precision=nan, recall=nan, total=   0.0s\n",
            "[CV] C=0.1, fit_intercept=True, solver=lsqr ..........................\n",
            "[CV]  C=0.1, fit_intercept=True, solver=lsqr, accuracy=nan, precision=nan, recall=nan, total=   0.0s\n",
            "[CV] C=0.1, fit_intercept=True, solver=sag ...........................\n",
            "[CV]  C=0.1, fit_intercept=True, solver=sag, accuracy=0.832, precision=0.918, recall=0.765, total=   0.0s\n",
            "[CV] C=0.1, fit_intercept=True, solver=sag ...........................\n",
            "[CV]  C=0.1, fit_intercept=True, solver=sag, accuracy=0.837, precision=0.909, recall=0.784, total=   0.0s\n",
            "[CV] C=0.1, fit_intercept=True, solver=sag ...........................\n"
          ]
        },
        {
          "output_type": "stream",
          "name": "stderr",
          "text": [
            "/usr/local/lib/python3.7/dist-packages/sklearn/utils/validation.py:760: DataConversionWarning: A column-vector y was passed when a 1d array was expected. Please change the shape of y to (n_samples, ), for example using ravel().\n",
            "  y = column_or_1d(y, warn=True)\n",
            "/usr/local/lib/python3.7/dist-packages/sklearn/utils/validation.py:760: DataConversionWarning: A column-vector y was passed when a 1d array was expected. Please change the shape of y to (n_samples, ), for example using ravel().\n",
            "  y = column_or_1d(y, warn=True)\n",
            "/usr/local/lib/python3.7/dist-packages/sklearn/utils/validation.py:760: DataConversionWarning: A column-vector y was passed when a 1d array was expected. Please change the shape of y to (n_samples, ), for example using ravel().\n",
            "  y = column_or_1d(y, warn=True)\n",
            "/usr/local/lib/python3.7/dist-packages/sklearn/utils/validation.py:760: DataConversionWarning: A column-vector y was passed when a 1d array was expected. Please change the shape of y to (n_samples, ), for example using ravel().\n",
            "  y = column_or_1d(y, warn=True)\n",
            "/usr/local/lib/python3.7/dist-packages/sklearn/utils/validation.py:760: DataConversionWarning: A column-vector y was passed when a 1d array was expected. Please change the shape of y to (n_samples, ), for example using ravel().\n",
            "  y = column_or_1d(y, warn=True)\n",
            "/usr/local/lib/python3.7/dist-packages/sklearn/model_selection/_validation.py:536: FitFailedWarning: Estimator fit failed. The score on this train-test partition for these parameters will be set to nan. Details: \n",
            "ValueError: Logistic Regression supports only solvers in ['liblinear', 'newton-cg', 'lbfgs', 'sag', 'saga'], got svd.\n",
            "\n",
            "  FitFailedWarning)\n",
            "/usr/local/lib/python3.7/dist-packages/sklearn/model_selection/_validation.py:536: FitFailedWarning: Estimator fit failed. The score on this train-test partition for these parameters will be set to nan. Details: \n",
            "ValueError: Logistic Regression supports only solvers in ['liblinear', 'newton-cg', 'lbfgs', 'sag', 'saga'], got cholesky.\n",
            "\n",
            "  FitFailedWarning)\n",
            "/usr/local/lib/python3.7/dist-packages/sklearn/model_selection/_validation.py:536: FitFailedWarning: Estimator fit failed. The score on this train-test partition for these parameters will be set to nan. Details: \n",
            "ValueError: Logistic Regression supports only solvers in ['liblinear', 'newton-cg', 'lbfgs', 'sag', 'saga'], got lsqr.\n",
            "\n",
            "  FitFailedWarning)\n",
            "/usr/local/lib/python3.7/dist-packages/sklearn/utils/validation.py:760: DataConversionWarning: A column-vector y was passed when a 1d array was expected. Please change the shape of y to (n_samples, ), for example using ravel().\n",
            "  y = column_or_1d(y, warn=True)\n",
            "/usr/local/lib/python3.7/dist-packages/sklearn/utils/validation.py:760: DataConversionWarning: A column-vector y was passed when a 1d array was expected. Please change the shape of y to (n_samples, ), for example using ravel().\n",
            "  y = column_or_1d(y, warn=True)\n",
            "/usr/local/lib/python3.7/dist-packages/sklearn/utils/validation.py:760: DataConversionWarning: A column-vector y was passed when a 1d array was expected. Please change the shape of y to (n_samples, ), for example using ravel().\n",
            "  y = column_or_1d(y, warn=True)\n",
            "/usr/local/lib/python3.7/dist-packages/sklearn/utils/validation.py:760: DataConversionWarning: A column-vector y was passed when a 1d array was expected. Please change the shape of y to (n_samples, ), for example using ravel().\n",
            "  y = column_or_1d(y, warn=True)\n",
            "/usr/local/lib/python3.7/dist-packages/sklearn/utils/validation.py:760: DataConversionWarning: A column-vector y was passed when a 1d array was expected. Please change the shape of y to (n_samples, ), for example using ravel().\n",
            "  y = column_or_1d(y, warn=True)\n",
            "/usr/local/lib/python3.7/dist-packages/sklearn/model_selection/_validation.py:536: FitFailedWarning: Estimator fit failed. The score on this train-test partition for these parameters will be set to nan. Details: \n",
            "ValueError: Logistic Regression supports only solvers in ['liblinear', 'newton-cg', 'lbfgs', 'sag', 'saga'], got svd.\n",
            "\n",
            "  FitFailedWarning)\n",
            "/usr/local/lib/python3.7/dist-packages/sklearn/model_selection/_validation.py:536: FitFailedWarning: Estimator fit failed. The score on this train-test partition for these parameters will be set to nan. Details: \n",
            "ValueError: Logistic Regression supports only solvers in ['liblinear', 'newton-cg', 'lbfgs', 'sag', 'saga'], got cholesky.\n",
            "\n",
            "  FitFailedWarning)\n",
            "/usr/local/lib/python3.7/dist-packages/sklearn/model_selection/_validation.py:536: FitFailedWarning: Estimator fit failed. The score on this train-test partition for these parameters will be set to nan. Details: \n",
            "ValueError: Logistic Regression supports only solvers in ['liblinear', 'newton-cg', 'lbfgs', 'sag', 'saga'], got lsqr.\n",
            "\n",
            "  FitFailedWarning)\n",
            "/usr/local/lib/python3.7/dist-packages/sklearn/utils/validation.py:760: DataConversionWarning: A column-vector y was passed when a 1d array was expected. Please change the shape of y to (n_samples, ), for example using ravel().\n",
            "  y = column_or_1d(y, warn=True)\n",
            "/usr/local/lib/python3.7/dist-packages/sklearn/utils/validation.py:760: DataConversionWarning: A column-vector y was passed when a 1d array was expected. Please change the shape of y to (n_samples, ), for example using ravel().\n",
            "  y = column_or_1d(y, warn=True)\n",
            "/usr/local/lib/python3.7/dist-packages/sklearn/utils/validation.py:760: DataConversionWarning: A column-vector y was passed when a 1d array was expected. Please change the shape of y to (n_samples, ), for example using ravel().\n",
            "  y = column_or_1d(y, warn=True)\n",
            "/usr/local/lib/python3.7/dist-packages/sklearn/utils/validation.py:760: DataConversionWarning: A column-vector y was passed when a 1d array was expected. Please change the shape of y to (n_samples, ), for example using ravel().\n",
            "  y = column_or_1d(y, warn=True)\n"
          ]
        },
        {
          "output_type": "stream",
          "name": "stdout",
          "text": [
            "[CV]  C=0.1, fit_intercept=True, solver=sag, accuracy=0.821, precision=0.763, recall=0.980, total=   0.0s\n",
            "[CV] C=0.1, fit_intercept=True, solver=sag ...........................\n",
            "[CV]  C=0.1, fit_intercept=True, solver=sag, accuracy=0.820, precision=0.815, recall=0.871, total=   0.0s\n",
            "[CV] C=0.1, fit_intercept=True, solver=sag ...........................\n",
            "[CV]  C=0.1, fit_intercept=True, solver=sag, accuracy=0.754, precision=0.833, recall=0.693, total=   0.0s\n",
            "[CV] C=0.1, fit_intercept=False, solver=svd ..........................\n",
            "[CV]  C=0.1, fit_intercept=False, solver=svd, accuracy=nan, precision=nan, recall=nan, total=   0.0s\n",
            "[CV] C=0.1, fit_intercept=False, solver=svd ..........................\n",
            "[CV]  C=0.1, fit_intercept=False, solver=svd, accuracy=nan, precision=nan, recall=nan, total=   0.0s\n",
            "[CV] C=0.1, fit_intercept=False, solver=svd ..........................\n",
            "[CV]  C=0.1, fit_intercept=False, solver=svd, accuracy=nan, precision=nan, recall=nan, total=   0.0s\n",
            "[CV] C=0.1, fit_intercept=False, solver=svd ..........................\n",
            "[CV]  C=0.1, fit_intercept=False, solver=svd, accuracy=nan, precision=nan, recall=nan, total=   0.0s\n",
            "[CV] C=0.1, fit_intercept=False, solver=svd ..........................\n",
            "[CV]  C=0.1, fit_intercept=False, solver=svd, accuracy=nan, precision=nan, recall=nan, total=   0.0s\n",
            "[CV] C=0.1, fit_intercept=False, solver=cholesky .....................\n",
            "[CV]  C=0.1, fit_intercept=False, solver=cholesky, accuracy=nan, precision=nan, recall=nan, total=   0.0s\n",
            "[CV] C=0.1, fit_intercept=False, solver=cholesky .....................\n",
            "[CV]  C=0.1, fit_intercept=False, solver=cholesky, accuracy=nan, precision=nan, recall=nan, total=   0.0s\n",
            "[CV] C=0.1, fit_intercept=False, solver=cholesky .....................\n",
            "[CV]  C=0.1, fit_intercept=False, solver=cholesky, accuracy=nan, precision=nan, recall=nan, total=   0.0s\n",
            "[CV] C=0.1, fit_intercept=False, solver=cholesky .....................\n",
            "[CV]  C=0.1, fit_intercept=False, solver=cholesky, accuracy=nan, precision=nan, recall=nan, total=   0.0s\n",
            "[CV] C=0.1, fit_intercept=False, solver=cholesky .....................\n",
            "[CV]  C=0.1, fit_intercept=False, solver=cholesky, accuracy=nan, precision=nan, recall=nan, total=   0.0s\n",
            "[CV] C=0.1, fit_intercept=False, solver=lsqr .........................\n",
            "[CV]  C=0.1, fit_intercept=False, solver=lsqr, accuracy=nan, precision=nan, recall=nan, total=   0.0s\n",
            "[CV] C=0.1, fit_intercept=False, solver=lsqr .........................\n",
            "[CV]  C=0.1, fit_intercept=False, solver=lsqr, accuracy=nan, precision=nan, recall=nan, total=   0.0s\n",
            "[CV] C=0.1, fit_intercept=False, solver=lsqr .........................\n",
            "[CV]  C=0.1, fit_intercept=False, solver=lsqr, accuracy=nan, precision=nan, recall=nan, total=   0.0s\n",
            "[CV] C=0.1, fit_intercept=False, solver=lsqr .........................\n",
            "[CV]  C=0.1, fit_intercept=False, solver=lsqr, accuracy=nan, precision=nan, recall=nan, total=   0.0s\n",
            "[CV] C=0.1, fit_intercept=False, solver=lsqr .........................\n",
            "[CV]  C=0.1, fit_intercept=False, solver=lsqr, accuracy=nan, precision=nan, recall=nan, total=   0.0s\n",
            "[CV] C=0.1, fit_intercept=False, solver=sag ..........................\n",
            "[CV]  C=0.1, fit_intercept=False, solver=sag, accuracy=0.804, precision=0.934, recall=0.696, total=   0.0s\n",
            "[CV] C=0.1, fit_intercept=False, solver=sag ..........................\n",
            "[CV]  C=0.1, fit_intercept=False, solver=sag, accuracy=0.793, precision=0.900, recall=0.706, total=   0.0s\n",
            "[CV] C=0.1, fit_intercept=False, solver=sag ..........................\n",
            "[CV]  C=0.1, fit_intercept=False, solver=sag, accuracy=0.859, precision=0.817, recall=0.961, total=   0.0s\n",
            "[CV] C=0.1, fit_intercept=False, solver=sag ..........................\n",
            "[CV]  C=0.1, fit_intercept=False, solver=sag, accuracy=0.809, precision=0.837, recall=0.812, total=   0.0s\n",
            "[CV] C=0.1, fit_intercept=False, solver=sag ..........................\n",
            "[CV]  C=0.1, fit_intercept=False, solver=sag, accuracy=0.743, precision=0.855, recall=0.644, total=   0.0s\n",
            "[CV] C=1, fit_intercept=True, solver=svd .............................\n",
            "[CV]  C=1, fit_intercept=True, solver=svd, accuracy=nan, precision=nan, recall=nan, total=   0.0s\n",
            "[CV] C=1, fit_intercept=True, solver=svd .............................\n",
            "[CV]  C=1, fit_intercept=True, solver=svd, accuracy=nan, precision=nan, recall=nan, total=   0.0s\n",
            "[CV] C=1, fit_intercept=True, solver=svd .............................\n",
            "[CV]  C=1, fit_intercept=True, solver=svd, accuracy=nan, precision=nan, recall=nan, total=   0.0s\n",
            "[CV] C=1, fit_intercept=True, solver=svd .............................\n",
            "[CV]  C=1, fit_intercept=True, solver=svd, accuracy=nan, precision=nan, recall=nan, total=   0.0s\n",
            "[CV] C=1, fit_intercept=True, solver=svd .............................\n",
            "[CV]  C=1, fit_intercept=True, solver=svd, accuracy=nan, precision=nan, recall=nan, total=   0.0s\n",
            "[CV] C=1, fit_intercept=True, solver=cholesky ........................\n",
            "[CV]  C=1, fit_intercept=True, solver=cholesky, accuracy=nan, precision=nan, recall=nan, total=   0.0s\n",
            "[CV] C=1, fit_intercept=True, solver=cholesky ........................\n",
            "[CV]  C=1, fit_intercept=True, solver=cholesky, accuracy=nan, precision=nan, recall=nan, total=   0.0s\n",
            "[CV] C=1, fit_intercept=True, solver=cholesky ........................\n",
            "[CV]  C=1, fit_intercept=True, solver=cholesky, accuracy=nan, precision=nan, recall=nan, total=   0.0s\n",
            "[CV] C=1, fit_intercept=True, solver=cholesky ........................\n",
            "[CV]  C=1, fit_intercept=True, solver=cholesky, accuracy=nan, precision=nan, recall=nan, total=   0.0s\n",
            "[CV] C=1, fit_intercept=True, solver=cholesky ........................\n",
            "[CV]  C=1, fit_intercept=True, solver=cholesky, accuracy=nan, precision=nan, recall=nan, total=   0.0s\n",
            "[CV] C=1, fit_intercept=True, solver=lsqr ............................\n",
            "[CV]  C=1, fit_intercept=True, solver=lsqr, accuracy=nan, precision=nan, recall=nan, total=   0.0s\n",
            "[CV] C=1, fit_intercept=True, solver=lsqr ............................\n",
            "[CV]  C=1, fit_intercept=True, solver=lsqr, accuracy=nan, precision=nan, recall=nan, total=   0.0s\n",
            "[CV] C=1, fit_intercept=True, solver=lsqr ............................\n",
            "[CV]  C=1, fit_intercept=True, solver=lsqr, accuracy=nan, precision=nan, recall=nan, total=   0.0s\n",
            "[CV] C=1, fit_intercept=True, solver=lsqr ............................\n",
            "[CV]  C=1, fit_intercept=True, solver=lsqr, accuracy=nan, precision=nan, recall=nan, total=   0.0s\n",
            "[CV] C=1, fit_intercept=True, solver=lsqr ............................\n",
            "[CV]  C=1, fit_intercept=True, solver=lsqr, accuracy=nan, precision=nan, recall=nan, total=   0.0s\n",
            "[CV] C=1, fit_intercept=True, solver=sag .............................\n",
            "[CV]  C=1, fit_intercept=True, solver=sag, accuracy=0.832, precision=0.918, recall=0.765, total=   0.0s\n",
            "[CV] C=1, fit_intercept=True, solver=sag .............................\n",
            "[CV]  C=1, fit_intercept=True, solver=sag, accuracy=0.826, precision=0.907, recall=0.765, total=   0.0s\n",
            "[CV] C=1, fit_intercept=True, solver=sag .............................\n",
            "[CV]  C=1, fit_intercept=True, solver=sag, accuracy=0.821, precision=0.763, recall=0.980, total=   0.0s\n",
            "[CV] C=1, fit_intercept=True, solver=sag .............................\n",
            "[CV]  C=1, fit_intercept=True, solver=sag, accuracy=0.809, precision=0.806, recall=0.861, total=   0.0s\n",
            "[CV] C=1, fit_intercept=True, solver=sag .............................\n",
            "[CV]  C=1, fit_intercept=True, solver=sag, accuracy=0.743, precision=0.821, recall=0.683, total=   0.0s\n",
            "[CV] C=1, fit_intercept=False, solver=svd ............................\n",
            "[CV]  C=1, fit_intercept=False, solver=svd, accuracy=nan, precision=nan, recall=nan, total=   0.0s\n",
            "[CV] C=1, fit_intercept=False, solver=svd ............................\n",
            "[CV]  C=1, fit_intercept=False, solver=svd, accuracy=nan, precision=nan, recall=nan, total=   0.0s\n",
            "[CV] C=1, fit_intercept=False, solver=svd ............................\n",
            "[CV]  C=1, fit_intercept=False, solver=svd, accuracy=nan, precision=nan, recall=nan, total=   0.0s\n",
            "[CV] C=1, fit_intercept=False, solver=svd ............................\n",
            "[CV]  C=1, fit_intercept=False, solver=svd, accuracy=nan, precision=nan, recall=nan, total=   0.0s\n",
            "[CV] C=1, fit_intercept=False, solver=svd ............................\n",
            "[CV]  C=1, fit_intercept=False, solver=svd, accuracy=nan, precision=nan, recall=nan, total=   0.0s\n",
            "[CV] C=1, fit_intercept=False, solver=cholesky .......................\n"
          ]
        },
        {
          "output_type": "stream",
          "name": "stderr",
          "text": [
            "/usr/local/lib/python3.7/dist-packages/sklearn/utils/validation.py:760: DataConversionWarning: A column-vector y was passed when a 1d array was expected. Please change the shape of y to (n_samples, ), for example using ravel().\n",
            "  y = column_or_1d(y, warn=True)\n",
            "/usr/local/lib/python3.7/dist-packages/sklearn/model_selection/_validation.py:536: FitFailedWarning: Estimator fit failed. The score on this train-test partition for these parameters will be set to nan. Details: \n",
            "ValueError: Logistic Regression supports only solvers in ['liblinear', 'newton-cg', 'lbfgs', 'sag', 'saga'], got svd.\n",
            "\n",
            "  FitFailedWarning)\n",
            "/usr/local/lib/python3.7/dist-packages/sklearn/model_selection/_validation.py:536: FitFailedWarning: Estimator fit failed. The score on this train-test partition for these parameters will be set to nan. Details: \n",
            "ValueError: Logistic Regression supports only solvers in ['liblinear', 'newton-cg', 'lbfgs', 'sag', 'saga'], got cholesky.\n",
            "\n",
            "  FitFailedWarning)\n",
            "/usr/local/lib/python3.7/dist-packages/sklearn/model_selection/_validation.py:536: FitFailedWarning: Estimator fit failed. The score on this train-test partition for these parameters will be set to nan. Details: \n",
            "ValueError: Logistic Regression supports only solvers in ['liblinear', 'newton-cg', 'lbfgs', 'sag', 'saga'], got lsqr.\n",
            "\n",
            "  FitFailedWarning)\n",
            "/usr/local/lib/python3.7/dist-packages/sklearn/utils/validation.py:760: DataConversionWarning: A column-vector y was passed when a 1d array was expected. Please change the shape of y to (n_samples, ), for example using ravel().\n",
            "  y = column_or_1d(y, warn=True)\n",
            "/usr/local/lib/python3.7/dist-packages/sklearn/utils/validation.py:760: DataConversionWarning: A column-vector y was passed when a 1d array was expected. Please change the shape of y to (n_samples, ), for example using ravel().\n",
            "  y = column_or_1d(y, warn=True)\n",
            "/usr/local/lib/python3.7/dist-packages/sklearn/utils/validation.py:760: DataConversionWarning: A column-vector y was passed when a 1d array was expected. Please change the shape of y to (n_samples, ), for example using ravel().\n",
            "  y = column_or_1d(y, warn=True)\n",
            "/usr/local/lib/python3.7/dist-packages/sklearn/utils/validation.py:760: DataConversionWarning: A column-vector y was passed when a 1d array was expected. Please change the shape of y to (n_samples, ), for example using ravel().\n",
            "  y = column_or_1d(y, warn=True)\n",
            "/usr/local/lib/python3.7/dist-packages/sklearn/utils/validation.py:760: DataConversionWarning: A column-vector y was passed when a 1d array was expected. Please change the shape of y to (n_samples, ), for example using ravel().\n",
            "  y = column_or_1d(y, warn=True)\n",
            "/usr/local/lib/python3.7/dist-packages/sklearn/model_selection/_validation.py:536: FitFailedWarning: Estimator fit failed. The score on this train-test partition for these parameters will be set to nan. Details: \n",
            "ValueError: Logistic Regression supports only solvers in ['liblinear', 'newton-cg', 'lbfgs', 'sag', 'saga'], got svd.\n",
            "\n",
            "  FitFailedWarning)\n",
            "/usr/local/lib/python3.7/dist-packages/sklearn/model_selection/_validation.py:536: FitFailedWarning: Estimator fit failed. The score on this train-test partition for these parameters will be set to nan. Details: \n",
            "ValueError: Logistic Regression supports only solvers in ['liblinear', 'newton-cg', 'lbfgs', 'sag', 'saga'], got cholesky.\n",
            "\n",
            "  FitFailedWarning)\n",
            "/usr/local/lib/python3.7/dist-packages/sklearn/model_selection/_validation.py:536: FitFailedWarning: Estimator fit failed. The score on this train-test partition for these parameters will be set to nan. Details: \n",
            "ValueError: Logistic Regression supports only solvers in ['liblinear', 'newton-cg', 'lbfgs', 'sag', 'saga'], got lsqr.\n",
            "\n",
            "  FitFailedWarning)\n",
            "/usr/local/lib/python3.7/dist-packages/sklearn/utils/validation.py:760: DataConversionWarning: A column-vector y was passed when a 1d array was expected. Please change the shape of y to (n_samples, ), for example using ravel().\n",
            "  y = column_or_1d(y, warn=True)\n",
            "/usr/local/lib/python3.7/dist-packages/sklearn/utils/validation.py:760: DataConversionWarning: A column-vector y was passed when a 1d array was expected. Please change the shape of y to (n_samples, ), for example using ravel().\n",
            "  y = column_or_1d(y, warn=True)\n",
            "/usr/local/lib/python3.7/dist-packages/sklearn/utils/validation.py:760: DataConversionWarning: A column-vector y was passed when a 1d array was expected. Please change the shape of y to (n_samples, ), for example using ravel().\n",
            "  y = column_or_1d(y, warn=True)\n",
            "/usr/local/lib/python3.7/dist-packages/sklearn/utils/validation.py:760: DataConversionWarning: A column-vector y was passed when a 1d array was expected. Please change the shape of y to (n_samples, ), for example using ravel().\n",
            "  y = column_or_1d(y, warn=True)\n",
            "/usr/local/lib/python3.7/dist-packages/sklearn/utils/validation.py:760: DataConversionWarning: A column-vector y was passed when a 1d array was expected. Please change the shape of y to (n_samples, ), for example using ravel().\n",
            "  y = column_or_1d(y, warn=True)\n",
            "/usr/local/lib/python3.7/dist-packages/sklearn/model_selection/_validation.py:536: FitFailedWarning: Estimator fit failed. The score on this train-test partition for these parameters will be set to nan. Details: \n",
            "ValueError: Logistic Regression supports only solvers in ['liblinear', 'newton-cg', 'lbfgs', 'sag', 'saga'], got svd.\n",
            "\n",
            "  FitFailedWarning)\n",
            "/usr/local/lib/python3.7/dist-packages/sklearn/model_selection/_validation.py:536: FitFailedWarning: Estimator fit failed. The score on this train-test partition for these parameters will be set to nan. Details: \n",
            "ValueError: Logistic Regression supports only solvers in ['liblinear', 'newton-cg', 'lbfgs', 'sag', 'saga'], got cholesky.\n",
            "\n",
            "  FitFailedWarning)\n",
            "/usr/local/lib/python3.7/dist-packages/sklearn/model_selection/_validation.py:536: FitFailedWarning: Estimator fit failed. The score on this train-test partition for these parameters will be set to nan. Details: \n",
            "ValueError: Logistic Regression supports only solvers in ['liblinear', 'newton-cg', 'lbfgs', 'sag', 'saga'], got lsqr.\n",
            "\n",
            "  FitFailedWarning)\n"
          ]
        },
        {
          "output_type": "stream",
          "name": "stdout",
          "text": [
            "[CV]  C=1, fit_intercept=False, solver=cholesky, accuracy=nan, precision=nan, recall=nan, total=   0.0s\n",
            "[CV] C=1, fit_intercept=False, solver=cholesky .......................\n",
            "[CV]  C=1, fit_intercept=False, solver=cholesky, accuracy=nan, precision=nan, recall=nan, total=   0.0s\n",
            "[CV] C=1, fit_intercept=False, solver=cholesky .......................\n",
            "[CV]  C=1, fit_intercept=False, solver=cholesky, accuracy=nan, precision=nan, recall=nan, total=   0.0s\n",
            "[CV] C=1, fit_intercept=False, solver=cholesky .......................\n",
            "[CV]  C=1, fit_intercept=False, solver=cholesky, accuracy=nan, precision=nan, recall=nan, total=   0.0s\n",
            "[CV] C=1, fit_intercept=False, solver=cholesky .......................\n",
            "[CV]  C=1, fit_intercept=False, solver=cholesky, accuracy=nan, precision=nan, recall=nan, total=   0.0s\n",
            "[CV] C=1, fit_intercept=False, solver=lsqr ...........................\n",
            "[CV]  C=1, fit_intercept=False, solver=lsqr, accuracy=nan, precision=nan, recall=nan, total=   0.0s\n",
            "[CV] C=1, fit_intercept=False, solver=lsqr ...........................\n",
            "[CV]  C=1, fit_intercept=False, solver=lsqr, accuracy=nan, precision=nan, recall=nan, total=   0.0s\n",
            "[CV] C=1, fit_intercept=False, solver=lsqr ...........................\n",
            "[CV]  C=1, fit_intercept=False, solver=lsqr, accuracy=nan, precision=nan, recall=nan, total=   0.0s\n",
            "[CV] C=1, fit_intercept=False, solver=lsqr ...........................\n",
            "[CV]  C=1, fit_intercept=False, solver=lsqr, accuracy=nan, precision=nan, recall=nan, total=   0.0s\n",
            "[CV] C=1, fit_intercept=False, solver=lsqr ...........................\n",
            "[CV]  C=1, fit_intercept=False, solver=lsqr, accuracy=nan, precision=nan, recall=nan, total=   0.0s\n",
            "[CV] C=1, fit_intercept=False, solver=sag ............................\n",
            "[CV]  C=1, fit_intercept=False, solver=sag, accuracy=0.810, precision=0.935, recall=0.706, total=   0.0s\n",
            "[CV] C=1, fit_intercept=False, solver=sag ............................\n",
            "[CV]  C=1, fit_intercept=False, solver=sag, accuracy=0.788, precision=0.899, recall=0.696, total=   0.0s\n",
            "[CV] C=1, fit_intercept=False, solver=sag ............................\n",
            "[CV]  C=1, fit_intercept=False, solver=sag, accuracy=0.848, precision=0.814, recall=0.941, total=   0.0s\n",
            "[CV] C=1, fit_intercept=False, solver=sag ............................\n",
            "[CV]  C=1, fit_intercept=False, solver=sag, accuracy=0.809, precision=0.837, recall=0.812, total=   0.0s\n",
            "[CV] C=1, fit_intercept=False, solver=sag ............................\n",
            "[CV]  C=1, fit_intercept=False, solver=sag, accuracy=0.738, precision=0.853, recall=0.634, total=   0.0s\n",
            "[CV] C=10, fit_intercept=True, solver=svd ............................\n",
            "[CV]  C=10, fit_intercept=True, solver=svd, accuracy=nan, precision=nan, recall=nan, total=   0.0s\n",
            "[CV] C=10, fit_intercept=True, solver=svd ............................\n",
            "[CV]  C=10, fit_intercept=True, solver=svd, accuracy=nan, precision=nan, recall=nan, total=   0.0s\n",
            "[CV] C=10, fit_intercept=True, solver=svd ............................\n",
            "[CV]  C=10, fit_intercept=True, solver=svd, accuracy=nan, precision=nan, recall=nan, total=   0.0s\n",
            "[CV] C=10, fit_intercept=True, solver=svd ............................\n",
            "[CV]  C=10, fit_intercept=True, solver=svd, accuracy=nan, precision=nan, recall=nan, total=   0.0s\n",
            "[CV] C=10, fit_intercept=True, solver=svd ............................\n",
            "[CV]  C=10, fit_intercept=True, solver=svd, accuracy=nan, precision=nan, recall=nan, total=   0.0s\n",
            "[CV] C=10, fit_intercept=True, solver=cholesky .......................\n",
            "[CV]  C=10, fit_intercept=True, solver=cholesky, accuracy=nan, precision=nan, recall=nan, total=   0.0s\n",
            "[CV] C=10, fit_intercept=True, solver=cholesky .......................\n",
            "[CV]  C=10, fit_intercept=True, solver=cholesky, accuracy=nan, precision=nan, recall=nan, total=   0.0s\n",
            "[CV] C=10, fit_intercept=True, solver=cholesky .......................\n",
            "[CV]  C=10, fit_intercept=True, solver=cholesky, accuracy=nan, precision=nan, recall=nan, total=   0.0s\n",
            "[CV] C=10, fit_intercept=True, solver=cholesky .......................\n",
            "[CV]  C=10, fit_intercept=True, solver=cholesky, accuracy=nan, precision=nan, recall=nan, total=   0.0s\n",
            "[CV] C=10, fit_intercept=True, solver=cholesky .......................\n",
            "[CV]  C=10, fit_intercept=True, solver=cholesky, accuracy=nan, precision=nan, recall=nan, total=   0.0s\n",
            "[CV] C=10, fit_intercept=True, solver=lsqr ...........................\n",
            "[CV]  C=10, fit_intercept=True, solver=lsqr, accuracy=nan, precision=nan, recall=nan, total=   0.0s\n",
            "[CV] C=10, fit_intercept=True, solver=lsqr ...........................\n",
            "[CV]  C=10, fit_intercept=True, solver=lsqr, accuracy=nan, precision=nan, recall=nan, total=   0.0s\n",
            "[CV] C=10, fit_intercept=True, solver=lsqr ...........................\n",
            "[CV]  C=10, fit_intercept=True, solver=lsqr, accuracy=nan, precision=nan, recall=nan, total=   0.0s\n",
            "[CV] C=10, fit_intercept=True, solver=lsqr ...........................\n",
            "[CV]  C=10, fit_intercept=True, solver=lsqr, accuracy=nan, precision=nan, recall=nan, total=   0.0s\n",
            "[CV] C=10, fit_intercept=True, solver=lsqr ...........................\n",
            "[CV]  C=10, fit_intercept=True, solver=lsqr, accuracy=nan, precision=nan, recall=nan, total=   0.0s\n",
            "[CV] C=10, fit_intercept=True, solver=sag ............................\n",
            "[CV]  C=10, fit_intercept=True, solver=sag, accuracy=0.837, precision=0.929, recall=0.765, total=   0.0s\n",
            "[CV] C=10, fit_intercept=True, solver=sag ............................\n",
            "[CV]  C=10, fit_intercept=True, solver=sag, accuracy=0.826, precision=0.907, recall=0.765, total=   0.0s\n",
            "[CV] C=10, fit_intercept=True, solver=sag ............................\n",
            "[CV]  C=10, fit_intercept=True, solver=sag, accuracy=0.821, precision=0.763, recall=0.980, total=   0.0s\n",
            "[CV] C=10, fit_intercept=True, solver=sag ............................\n",
            "[CV]  C=10, fit_intercept=True, solver=sag, accuracy=0.809, precision=0.806, recall=0.861, total=   0.0s\n",
            "[CV] C=10, fit_intercept=True, solver=sag ............................\n",
            "[CV]  C=10, fit_intercept=True, solver=sag, accuracy=0.743, precision=0.821, recall=0.683, total=   0.0s\n",
            "[CV] C=10, fit_intercept=False, solver=svd ...........................\n",
            "[CV]  C=10, fit_intercept=False, solver=svd, accuracy=nan, precision=nan, recall=nan, total=   0.0s\n",
            "[CV] C=10, fit_intercept=False, solver=svd ...........................\n",
            "[CV]  C=10, fit_intercept=False, solver=svd, accuracy=nan, precision=nan, recall=nan, total=   0.0s\n",
            "[CV] C=10, fit_intercept=False, solver=svd ...........................\n",
            "[CV]  C=10, fit_intercept=False, solver=svd, accuracy=nan, precision=nan, recall=nan, total=   0.0s\n",
            "[CV] C=10, fit_intercept=False, solver=svd ...........................\n",
            "[CV]  C=10, fit_intercept=False, solver=svd, accuracy=nan, precision=nan, recall=nan, total=   0.0s\n",
            "[CV] C=10, fit_intercept=False, solver=svd ...........................\n",
            "[CV]  C=10, fit_intercept=False, solver=svd, accuracy=nan, precision=nan, recall=nan, total=   0.0s\n",
            "[CV] C=10, fit_intercept=False, solver=cholesky ......................\n",
            "[CV]  C=10, fit_intercept=False, solver=cholesky, accuracy=nan, precision=nan, recall=nan, total=   0.0s\n",
            "[CV] C=10, fit_intercept=False, solver=cholesky ......................\n",
            "[CV]  C=10, fit_intercept=False, solver=cholesky, accuracy=nan, precision=nan, recall=nan, total=   0.0s\n",
            "[CV] C=10, fit_intercept=False, solver=cholesky ......................\n",
            "[CV]  C=10, fit_intercept=False, solver=cholesky, accuracy=nan, precision=nan, recall=nan, total=   0.0s\n",
            "[CV] C=10, fit_intercept=False, solver=cholesky ......................\n",
            "[CV]  C=10, fit_intercept=False, solver=cholesky, accuracy=nan, precision=nan, recall=nan, total=   0.0s\n",
            "[CV] C=10, fit_intercept=False, solver=cholesky ......................\n"
          ]
        },
        {
          "output_type": "stream",
          "name": "stderr",
          "text": [
            "/usr/local/lib/python3.7/dist-packages/sklearn/utils/validation.py:760: DataConversionWarning: A column-vector y was passed when a 1d array was expected. Please change the shape of y to (n_samples, ), for example using ravel().\n",
            "  y = column_or_1d(y, warn=True)\n",
            "/usr/local/lib/python3.7/dist-packages/sklearn/utils/validation.py:760: DataConversionWarning: A column-vector y was passed when a 1d array was expected. Please change the shape of y to (n_samples, ), for example using ravel().\n",
            "  y = column_or_1d(y, warn=True)\n",
            "/usr/local/lib/python3.7/dist-packages/sklearn/utils/validation.py:760: DataConversionWarning: A column-vector y was passed when a 1d array was expected. Please change the shape of y to (n_samples, ), for example using ravel().\n",
            "  y = column_or_1d(y, warn=True)\n",
            "/usr/local/lib/python3.7/dist-packages/sklearn/utils/validation.py:760: DataConversionWarning: A column-vector y was passed when a 1d array was expected. Please change the shape of y to (n_samples, ), for example using ravel().\n",
            "  y = column_or_1d(y, warn=True)\n",
            "/usr/local/lib/python3.7/dist-packages/sklearn/utils/validation.py:760: DataConversionWarning: A column-vector y was passed when a 1d array was expected. Please change the shape of y to (n_samples, ), for example using ravel().\n",
            "  y = column_or_1d(y, warn=True)\n",
            "/usr/local/lib/python3.7/dist-packages/sklearn/model_selection/_validation.py:536: FitFailedWarning: Estimator fit failed. The score on this train-test partition for these parameters will be set to nan. Details: \n",
            "ValueError: Logistic Regression supports only solvers in ['liblinear', 'newton-cg', 'lbfgs', 'sag', 'saga'], got svd.\n",
            "\n",
            "  FitFailedWarning)\n",
            "/usr/local/lib/python3.7/dist-packages/sklearn/model_selection/_validation.py:536: FitFailedWarning: Estimator fit failed. The score on this train-test partition for these parameters will be set to nan. Details: \n",
            "ValueError: Logistic Regression supports only solvers in ['liblinear', 'newton-cg', 'lbfgs', 'sag', 'saga'], got cholesky.\n",
            "\n",
            "  FitFailedWarning)\n",
            "/usr/local/lib/python3.7/dist-packages/sklearn/model_selection/_validation.py:536: FitFailedWarning: Estimator fit failed. The score on this train-test partition for these parameters will be set to nan. Details: \n",
            "ValueError: Logistic Regression supports only solvers in ['liblinear', 'newton-cg', 'lbfgs', 'sag', 'saga'], got lsqr.\n",
            "\n",
            "  FitFailedWarning)\n",
            "/usr/local/lib/python3.7/dist-packages/sklearn/utils/validation.py:760: DataConversionWarning: A column-vector y was passed when a 1d array was expected. Please change the shape of y to (n_samples, ), for example using ravel().\n",
            "  y = column_or_1d(y, warn=True)\n",
            "/usr/local/lib/python3.7/dist-packages/sklearn/utils/validation.py:760: DataConversionWarning: A column-vector y was passed when a 1d array was expected. Please change the shape of y to (n_samples, ), for example using ravel().\n",
            "  y = column_or_1d(y, warn=True)\n",
            "/usr/local/lib/python3.7/dist-packages/sklearn/utils/validation.py:760: DataConversionWarning: A column-vector y was passed when a 1d array was expected. Please change the shape of y to (n_samples, ), for example using ravel().\n",
            "  y = column_or_1d(y, warn=True)\n",
            "/usr/local/lib/python3.7/dist-packages/sklearn/utils/validation.py:760: DataConversionWarning: A column-vector y was passed when a 1d array was expected. Please change the shape of y to (n_samples, ), for example using ravel().\n",
            "  y = column_or_1d(y, warn=True)\n",
            "/usr/local/lib/python3.7/dist-packages/sklearn/utils/validation.py:760: DataConversionWarning: A column-vector y was passed when a 1d array was expected. Please change the shape of y to (n_samples, ), for example using ravel().\n",
            "  y = column_or_1d(y, warn=True)\n",
            "/usr/local/lib/python3.7/dist-packages/sklearn/model_selection/_validation.py:536: FitFailedWarning: Estimator fit failed. The score on this train-test partition for these parameters will be set to nan. Details: \n",
            "ValueError: Logistic Regression supports only solvers in ['liblinear', 'newton-cg', 'lbfgs', 'sag', 'saga'], got svd.\n",
            "\n",
            "  FitFailedWarning)\n",
            "/usr/local/lib/python3.7/dist-packages/sklearn/model_selection/_validation.py:536: FitFailedWarning: Estimator fit failed. The score on this train-test partition for these parameters will be set to nan. Details: \n",
            "ValueError: Logistic Regression supports only solvers in ['liblinear', 'newton-cg', 'lbfgs', 'sag', 'saga'], got cholesky.\n",
            "\n",
            "  FitFailedWarning)\n",
            "/usr/local/lib/python3.7/dist-packages/sklearn/model_selection/_validation.py:536: FitFailedWarning: Estimator fit failed. The score on this train-test partition for these parameters will be set to nan. Details: \n",
            "ValueError: Logistic Regression supports only solvers in ['liblinear', 'newton-cg', 'lbfgs', 'sag', 'saga'], got lsqr.\n",
            "\n",
            "  FitFailedWarning)\n",
            "/usr/local/lib/python3.7/dist-packages/sklearn/utils/validation.py:760: DataConversionWarning: A column-vector y was passed when a 1d array was expected. Please change the shape of y to (n_samples, ), for example using ravel().\n",
            "  y = column_or_1d(y, warn=True)\n"
          ]
        },
        {
          "output_type": "stream",
          "name": "stdout",
          "text": [
            "[CV]  C=10, fit_intercept=False, solver=cholesky, accuracy=nan, precision=nan, recall=nan, total=   0.0s\n",
            "[CV] C=10, fit_intercept=False, solver=lsqr ..........................\n",
            "[CV]  C=10, fit_intercept=False, solver=lsqr, accuracy=nan, precision=nan, recall=nan, total=   0.0s\n",
            "[CV] C=10, fit_intercept=False, solver=lsqr ..........................\n",
            "[CV]  C=10, fit_intercept=False, solver=lsqr, accuracy=nan, precision=nan, recall=nan, total=   0.0s\n",
            "[CV] C=10, fit_intercept=False, solver=lsqr ..........................\n",
            "[CV]  C=10, fit_intercept=False, solver=lsqr, accuracy=nan, precision=nan, recall=nan, total=   0.0s\n",
            "[CV] C=10, fit_intercept=False, solver=lsqr ..........................\n",
            "[CV]  C=10, fit_intercept=False, solver=lsqr, accuracy=nan, precision=nan, recall=nan, total=   0.0s\n",
            "[CV] C=10, fit_intercept=False, solver=lsqr ..........................\n",
            "[CV]  C=10, fit_intercept=False, solver=lsqr, accuracy=nan, precision=nan, recall=nan, total=   0.0s\n",
            "[CV] C=10, fit_intercept=False, solver=sag ...........................\n",
            "[CV]  C=10, fit_intercept=False, solver=sag, accuracy=0.810, precision=0.935, recall=0.706, total=   0.0s\n",
            "[CV] C=10, fit_intercept=False, solver=sag ...........................\n",
            "[CV]  C=10, fit_intercept=False, solver=sag, accuracy=0.788, precision=0.899, recall=0.696, total=   0.0s\n",
            "[CV] C=10, fit_intercept=False, solver=sag ...........................\n",
            "[CV]  C=10, fit_intercept=False, solver=sag, accuracy=0.853, precision=0.821, recall=0.941, total=   0.0s\n",
            "[CV] C=10, fit_intercept=False, solver=sag ...........................\n",
            "[CV]  C=10, fit_intercept=False, solver=sag, accuracy=0.809, precision=0.837, recall=0.812, total=   0.0s\n",
            "[CV] C=10, fit_intercept=False, solver=sag ...........................\n",
            "[CV]  C=10, fit_intercept=False, solver=sag, accuracy=0.743, precision=0.855, recall=0.644, total=   0.0s\n",
            "[CV] C=100, fit_intercept=True, solver=svd ...........................\n",
            "[CV]  C=100, fit_intercept=True, solver=svd, accuracy=nan, precision=nan, recall=nan, total=   0.0s\n",
            "[CV] C=100, fit_intercept=True, solver=svd ...........................\n",
            "[CV]  C=100, fit_intercept=True, solver=svd, accuracy=nan, precision=nan, recall=nan, total=   0.0s\n",
            "[CV] C=100, fit_intercept=True, solver=svd ...........................\n",
            "[CV]  C=100, fit_intercept=True, solver=svd, accuracy=nan, precision=nan, recall=nan, total=   0.0s\n",
            "[CV] C=100, fit_intercept=True, solver=svd ...........................\n",
            "[CV]  C=100, fit_intercept=True, solver=svd, accuracy=nan, precision=nan, recall=nan, total=   0.0s\n",
            "[CV] C=100, fit_intercept=True, solver=svd ...........................\n",
            "[CV]  C=100, fit_intercept=True, solver=svd, accuracy=nan, precision=nan, recall=nan, total=   0.0s\n",
            "[CV] C=100, fit_intercept=True, solver=cholesky ......................\n",
            "[CV]  C=100, fit_intercept=True, solver=cholesky, accuracy=nan, precision=nan, recall=nan, total=   0.0s\n",
            "[CV] C=100, fit_intercept=True, solver=cholesky ......................\n",
            "[CV]  C=100, fit_intercept=True, solver=cholesky, accuracy=nan, precision=nan, recall=nan, total=   0.0s\n",
            "[CV] C=100, fit_intercept=True, solver=cholesky ......................\n",
            "[CV]  C=100, fit_intercept=True, solver=cholesky, accuracy=nan, precision=nan, recall=nan, total=   0.0s\n",
            "[CV] C=100, fit_intercept=True, solver=cholesky ......................\n",
            "[CV]  C=100, fit_intercept=True, solver=cholesky, accuracy=nan, precision=nan, recall=nan, total=   0.0s\n",
            "[CV] C=100, fit_intercept=True, solver=cholesky ......................\n",
            "[CV]  C=100, fit_intercept=True, solver=cholesky, accuracy=nan, precision=nan, recall=nan, total=   0.0s\n",
            "[CV] C=100, fit_intercept=True, solver=lsqr ..........................\n",
            "[CV]  C=100, fit_intercept=True, solver=lsqr, accuracy=nan, precision=nan, recall=nan, total=   0.0s\n",
            "[CV] C=100, fit_intercept=True, solver=lsqr ..........................\n",
            "[CV]  C=100, fit_intercept=True, solver=lsqr, accuracy=nan, precision=nan, recall=nan, total=   0.0s\n",
            "[CV] C=100, fit_intercept=True, solver=lsqr ..........................\n",
            "[CV]  C=100, fit_intercept=True, solver=lsqr, accuracy=nan, precision=nan, recall=nan, total=   0.0s\n",
            "[CV] C=100, fit_intercept=True, solver=lsqr ..........................\n",
            "[CV]  C=100, fit_intercept=True, solver=lsqr, accuracy=nan, precision=nan, recall=nan, total=   0.0s\n",
            "[CV] C=100, fit_intercept=True, solver=lsqr ..........................\n",
            "[CV]  C=100, fit_intercept=True, solver=lsqr, accuracy=nan, precision=nan, recall=nan, total=   0.0s\n",
            "[CV] C=100, fit_intercept=True, solver=sag ...........................\n",
            "[CV]  C=100, fit_intercept=True, solver=sag, accuracy=0.837, precision=0.929, recall=0.765, total=   0.0s\n",
            "[CV] C=100, fit_intercept=True, solver=sag ...........................\n",
            "[CV]  C=100, fit_intercept=True, solver=sag, accuracy=0.826, precision=0.907, recall=0.765, total=   0.0s\n",
            "[CV] C=100, fit_intercept=True, solver=sag ...........................\n",
            "[CV]  C=100, fit_intercept=True, solver=sag, accuracy=0.821, precision=0.763, recall=0.980, total=   0.0s\n",
            "[CV] C=100, fit_intercept=True, solver=sag ...........................\n",
            "[CV]  C=100, fit_intercept=True, solver=sag, accuracy=0.809, precision=0.806, recall=0.861, total=   0.0s\n",
            "[CV] C=100, fit_intercept=True, solver=sag ...........................\n",
            "[CV]  C=100, fit_intercept=True, solver=sag, accuracy=0.743, precision=0.821, recall=0.683, total=   0.0s\n",
            "[CV] C=100, fit_intercept=False, solver=svd ..........................\n",
            "[CV]  C=100, fit_intercept=False, solver=svd, accuracy=nan, precision=nan, recall=nan, total=   0.0s\n",
            "[CV] C=100, fit_intercept=False, solver=svd ..........................\n",
            "[CV]  C=100, fit_intercept=False, solver=svd, accuracy=nan, precision=nan, recall=nan, total=   0.0s\n",
            "[CV] C=100, fit_intercept=False, solver=svd ..........................\n",
            "[CV]  C=100, fit_intercept=False, solver=svd, accuracy=nan, precision=nan, recall=nan, total=   0.0s\n",
            "[CV] C=100, fit_intercept=False, solver=svd ..........................\n",
            "[CV]  C=100, fit_intercept=False, solver=svd, accuracy=nan, precision=nan, recall=nan, total=   0.0s\n",
            "[CV] C=100, fit_intercept=False, solver=svd ..........................\n",
            "[CV]  C=100, fit_intercept=False, solver=svd, accuracy=nan, precision=nan, recall=nan, total=   0.0s\n",
            "[CV] C=100, fit_intercept=False, solver=cholesky .....................\n",
            "[CV]  C=100, fit_intercept=False, solver=cholesky, accuracy=nan, precision=nan, recall=nan, total=   0.0s\n",
            "[CV] C=100, fit_intercept=False, solver=cholesky .....................\n",
            "[CV]  C=100, fit_intercept=False, solver=cholesky, accuracy=nan, precision=nan, recall=nan, total=   0.0s\n",
            "[CV] C=100, fit_intercept=False, solver=cholesky .....................\n",
            "[CV]  C=100, fit_intercept=False, solver=cholesky, accuracy=nan, precision=nan, recall=nan, total=   0.0s\n",
            "[CV] C=100, fit_intercept=False, solver=cholesky .....................\n",
            "[CV]  C=100, fit_intercept=False, solver=cholesky, accuracy=nan, precision=nan, recall=nan, total=   0.0s\n",
            "[CV] C=100, fit_intercept=False, solver=cholesky .....................\n",
            "[CV]  C=100, fit_intercept=False, solver=cholesky, accuracy=nan, precision=nan, recall=nan, total=   0.0s\n",
            "[CV] C=100, fit_intercept=False, solver=lsqr .........................\n",
            "[CV]  C=100, fit_intercept=False, solver=lsqr, accuracy=nan, precision=nan, recall=nan, total=   0.0s\n",
            "[CV] C=100, fit_intercept=False, solver=lsqr .........................\n",
            "[CV]  C=100, fit_intercept=False, solver=lsqr, accuracy=nan, precision=nan, recall=nan, total=   0.0s\n",
            "[CV] C=100, fit_intercept=False, solver=lsqr .........................\n",
            "[CV]  C=100, fit_intercept=False, solver=lsqr, accuracy=nan, precision=nan, recall=nan, total=   0.0s\n",
            "[CV] C=100, fit_intercept=False, solver=lsqr .........................\n",
            "[CV]  C=100, fit_intercept=False, solver=lsqr, accuracy=nan, precision=nan, recall=nan, total=   0.0s\n",
            "[CV] C=100, fit_intercept=False, solver=lsqr .........................\n",
            "[CV]  C=100, fit_intercept=False, solver=lsqr, accuracy=nan, precision=nan, recall=nan, total=   0.0s\n",
            "[CV] C=100, fit_intercept=False, solver=sag ..........................\n"
          ]
        },
        {
          "output_type": "stream",
          "name": "stderr",
          "text": [
            "/usr/local/lib/python3.7/dist-packages/sklearn/utils/validation.py:760: DataConversionWarning: A column-vector y was passed when a 1d array was expected. Please change the shape of y to (n_samples, ), for example using ravel().\n",
            "  y = column_or_1d(y, warn=True)\n",
            "/usr/local/lib/python3.7/dist-packages/sklearn/utils/validation.py:760: DataConversionWarning: A column-vector y was passed when a 1d array was expected. Please change the shape of y to (n_samples, ), for example using ravel().\n",
            "  y = column_or_1d(y, warn=True)\n",
            "/usr/local/lib/python3.7/dist-packages/sklearn/utils/validation.py:760: DataConversionWarning: A column-vector y was passed when a 1d array was expected. Please change the shape of y to (n_samples, ), for example using ravel().\n",
            "  y = column_or_1d(y, warn=True)\n",
            "/usr/local/lib/python3.7/dist-packages/sklearn/utils/validation.py:760: DataConversionWarning: A column-vector y was passed when a 1d array was expected. Please change the shape of y to (n_samples, ), for example using ravel().\n",
            "  y = column_or_1d(y, warn=True)\n",
            "/usr/local/lib/python3.7/dist-packages/sklearn/model_selection/_validation.py:536: FitFailedWarning: Estimator fit failed. The score on this train-test partition for these parameters will be set to nan. Details: \n",
            "ValueError: Logistic Regression supports only solvers in ['liblinear', 'newton-cg', 'lbfgs', 'sag', 'saga'], got svd.\n",
            "\n",
            "  FitFailedWarning)\n",
            "/usr/local/lib/python3.7/dist-packages/sklearn/model_selection/_validation.py:536: FitFailedWarning: Estimator fit failed. The score on this train-test partition for these parameters will be set to nan. Details: \n",
            "ValueError: Logistic Regression supports only solvers in ['liblinear', 'newton-cg', 'lbfgs', 'sag', 'saga'], got cholesky.\n",
            "\n",
            "  FitFailedWarning)\n",
            "/usr/local/lib/python3.7/dist-packages/sklearn/model_selection/_validation.py:536: FitFailedWarning: Estimator fit failed. The score on this train-test partition for these parameters will be set to nan. Details: \n",
            "ValueError: Logistic Regression supports only solvers in ['liblinear', 'newton-cg', 'lbfgs', 'sag', 'saga'], got lsqr.\n",
            "\n",
            "  FitFailedWarning)\n",
            "/usr/local/lib/python3.7/dist-packages/sklearn/utils/validation.py:760: DataConversionWarning: A column-vector y was passed when a 1d array was expected. Please change the shape of y to (n_samples, ), for example using ravel().\n",
            "  y = column_or_1d(y, warn=True)\n",
            "/usr/local/lib/python3.7/dist-packages/sklearn/utils/validation.py:760: DataConversionWarning: A column-vector y was passed when a 1d array was expected. Please change the shape of y to (n_samples, ), for example using ravel().\n",
            "  y = column_or_1d(y, warn=True)\n",
            "/usr/local/lib/python3.7/dist-packages/sklearn/utils/validation.py:760: DataConversionWarning: A column-vector y was passed when a 1d array was expected. Please change the shape of y to (n_samples, ), for example using ravel().\n",
            "  y = column_or_1d(y, warn=True)\n",
            "/usr/local/lib/python3.7/dist-packages/sklearn/utils/validation.py:760: DataConversionWarning: A column-vector y was passed when a 1d array was expected. Please change the shape of y to (n_samples, ), for example using ravel().\n",
            "  y = column_or_1d(y, warn=True)\n",
            "/usr/local/lib/python3.7/dist-packages/sklearn/utils/validation.py:760: DataConversionWarning: A column-vector y was passed when a 1d array was expected. Please change the shape of y to (n_samples, ), for example using ravel().\n",
            "  y = column_or_1d(y, warn=True)\n",
            "/usr/local/lib/python3.7/dist-packages/sklearn/model_selection/_validation.py:536: FitFailedWarning: Estimator fit failed. The score on this train-test partition for these parameters will be set to nan. Details: \n",
            "ValueError: Logistic Regression supports only solvers in ['liblinear', 'newton-cg', 'lbfgs', 'sag', 'saga'], got svd.\n",
            "\n",
            "  FitFailedWarning)\n",
            "/usr/local/lib/python3.7/dist-packages/sklearn/model_selection/_validation.py:536: FitFailedWarning: Estimator fit failed. The score on this train-test partition for these parameters will be set to nan. Details: \n",
            "ValueError: Logistic Regression supports only solvers in ['liblinear', 'newton-cg', 'lbfgs', 'sag', 'saga'], got cholesky.\n",
            "\n",
            "  FitFailedWarning)\n",
            "/usr/local/lib/python3.7/dist-packages/sklearn/model_selection/_validation.py:536: FitFailedWarning: Estimator fit failed. The score on this train-test partition for these parameters will be set to nan. Details: \n",
            "ValueError: Logistic Regression supports only solvers in ['liblinear', 'newton-cg', 'lbfgs', 'sag', 'saga'], got lsqr.\n",
            "\n",
            "  FitFailedWarning)\n",
            "/usr/local/lib/python3.7/dist-packages/sklearn/utils/validation.py:760: DataConversionWarning: A column-vector y was passed when a 1d array was expected. Please change the shape of y to (n_samples, ), for example using ravel().\n",
            "  y = column_or_1d(y, warn=True)\n",
            "/usr/local/lib/python3.7/dist-packages/sklearn/utils/validation.py:760: DataConversionWarning: A column-vector y was passed when a 1d array was expected. Please change the shape of y to (n_samples, ), for example using ravel().\n",
            "  y = column_or_1d(y, warn=True)\n"
          ]
        },
        {
          "output_type": "stream",
          "name": "stdout",
          "text": [
            "[CV]  C=100, fit_intercept=False, solver=sag, accuracy=0.810, precision=0.935, recall=0.706, total=   0.0s\n",
            "[CV] C=100, fit_intercept=False, solver=sag ..........................\n",
            "[CV]  C=100, fit_intercept=False, solver=sag, accuracy=0.788, precision=0.899, recall=0.696, total=   0.0s\n",
            "[CV] C=100, fit_intercept=False, solver=sag ..........................\n",
            "[CV]  C=100, fit_intercept=False, solver=sag, accuracy=0.853, precision=0.821, recall=0.941, total=   0.0s\n",
            "[CV] C=100, fit_intercept=False, solver=sag ..........................\n",
            "[CV]  C=100, fit_intercept=False, solver=sag, accuracy=0.803, precision=0.835, recall=0.802, total=   0.0s\n",
            "[CV] C=100, fit_intercept=False, solver=sag ..........................\n",
            "[CV]  C=100, fit_intercept=False, solver=sag, accuracy=0.743, precision=0.855, recall=0.644, total=   0.0s\n",
            "[CV] C=1000, fit_intercept=True, solver=svd ..........................\n",
            "[CV]  C=1000, fit_intercept=True, solver=svd, accuracy=nan, precision=nan, recall=nan, total=   0.0s\n",
            "[CV] C=1000, fit_intercept=True, solver=svd ..........................\n",
            "[CV]  C=1000, fit_intercept=True, solver=svd, accuracy=nan, precision=nan, recall=nan, total=   0.0s\n",
            "[CV] C=1000, fit_intercept=True, solver=svd ..........................\n",
            "[CV]  C=1000, fit_intercept=True, solver=svd, accuracy=nan, precision=nan, recall=nan, total=   0.0s\n",
            "[CV] C=1000, fit_intercept=True, solver=svd ..........................\n",
            "[CV]  C=1000, fit_intercept=True, solver=svd, accuracy=nan, precision=nan, recall=nan, total=   0.0s\n",
            "[CV] C=1000, fit_intercept=True, solver=svd ..........................\n",
            "[CV]  C=1000, fit_intercept=True, solver=svd, accuracy=nan, precision=nan, recall=nan, total=   0.0s\n",
            "[CV] C=1000, fit_intercept=True, solver=cholesky .....................\n",
            "[CV]  C=1000, fit_intercept=True, solver=cholesky, accuracy=nan, precision=nan, recall=nan, total=   0.0s\n",
            "[CV] C=1000, fit_intercept=True, solver=cholesky .....................\n",
            "[CV]  C=1000, fit_intercept=True, solver=cholesky, accuracy=nan, precision=nan, recall=nan, total=   0.0s\n",
            "[CV] C=1000, fit_intercept=True, solver=cholesky .....................\n",
            "[CV]  C=1000, fit_intercept=True, solver=cholesky, accuracy=nan, precision=nan, recall=nan, total=   0.0s\n",
            "[CV] C=1000, fit_intercept=True, solver=cholesky .....................\n",
            "[CV]  C=1000, fit_intercept=True, solver=cholesky, accuracy=nan, precision=nan, recall=nan, total=   0.0s\n",
            "[CV] C=1000, fit_intercept=True, solver=cholesky .....................\n",
            "[CV]  C=1000, fit_intercept=True, solver=cholesky, accuracy=nan, precision=nan, recall=nan, total=   0.0s\n",
            "[CV] C=1000, fit_intercept=True, solver=lsqr .........................\n",
            "[CV]  C=1000, fit_intercept=True, solver=lsqr, accuracy=nan, precision=nan, recall=nan, total=   0.0s\n",
            "[CV] C=1000, fit_intercept=True, solver=lsqr .........................\n",
            "[CV]  C=1000, fit_intercept=True, solver=lsqr, accuracy=nan, precision=nan, recall=nan, total=   0.0s\n",
            "[CV] C=1000, fit_intercept=True, solver=lsqr .........................\n",
            "[CV]  C=1000, fit_intercept=True, solver=lsqr, accuracy=nan, precision=nan, recall=nan, total=   0.0s\n",
            "[CV] C=1000, fit_intercept=True, solver=lsqr .........................\n",
            "[CV]  C=1000, fit_intercept=True, solver=lsqr, accuracy=nan, precision=nan, recall=nan, total=   0.0s\n",
            "[CV] C=1000, fit_intercept=True, solver=lsqr .........................\n",
            "[CV]  C=1000, fit_intercept=True, solver=lsqr, accuracy=nan, precision=nan, recall=nan, total=   0.0s\n",
            "[CV] C=1000, fit_intercept=True, solver=sag ..........................\n",
            "[CV]  C=1000, fit_intercept=True, solver=sag, accuracy=0.837, precision=0.929, recall=0.765, total=   0.0s\n",
            "[CV] C=1000, fit_intercept=True, solver=sag ..........................\n",
            "[CV]  C=1000, fit_intercept=True, solver=sag, accuracy=0.826, precision=0.907, recall=0.765, total=   0.0s\n",
            "[CV] C=1000, fit_intercept=True, solver=sag ..........................\n",
            "[CV]  C=1000, fit_intercept=True, solver=sag, accuracy=0.821, precision=0.763, recall=0.980, total=   0.0s\n",
            "[CV] C=1000, fit_intercept=True, solver=sag ..........................\n",
            "[CV]  C=1000, fit_intercept=True, solver=sag, accuracy=0.809, precision=0.806, recall=0.861, total=   0.0s\n",
            "[CV] C=1000, fit_intercept=True, solver=sag ..........................\n",
            "[CV]  C=1000, fit_intercept=True, solver=sag, accuracy=0.743, precision=0.821, recall=0.683, total=   0.0s\n",
            "[CV] C=1000, fit_intercept=False, solver=svd .........................\n",
            "[CV]  C=1000, fit_intercept=False, solver=svd, accuracy=nan, precision=nan, recall=nan, total=   0.0s\n",
            "[CV] C=1000, fit_intercept=False, solver=svd .........................\n",
            "[CV]  C=1000, fit_intercept=False, solver=svd, accuracy=nan, precision=nan, recall=nan, total=   0.0s\n",
            "[CV] C=1000, fit_intercept=False, solver=svd .........................\n",
            "[CV]  C=1000, fit_intercept=False, solver=svd, accuracy=nan, precision=nan, recall=nan, total=   0.0s\n",
            "[CV] C=1000, fit_intercept=False, solver=svd .........................\n",
            "[CV]  C=1000, fit_intercept=False, solver=svd, accuracy=nan, precision=nan, recall=nan, total=   0.0s\n",
            "[CV] C=1000, fit_intercept=False, solver=svd .........................\n",
            "[CV]  C=1000, fit_intercept=False, solver=svd, accuracy=nan, precision=nan, recall=nan, total=   0.0s\n",
            "[CV] C=1000, fit_intercept=False, solver=cholesky ....................\n",
            "[CV]  C=1000, fit_intercept=False, solver=cholesky, accuracy=nan, precision=nan, recall=nan, total=   0.0s\n",
            "[CV] C=1000, fit_intercept=False, solver=cholesky ....................\n",
            "[CV]  C=1000, fit_intercept=False, solver=cholesky, accuracy=nan, precision=nan, recall=nan, total=   0.0s\n",
            "[CV] C=1000, fit_intercept=False, solver=cholesky ....................\n",
            "[CV]  C=1000, fit_intercept=False, solver=cholesky, accuracy=nan, precision=nan, recall=nan, total=   0.0s\n",
            "[CV] C=1000, fit_intercept=False, solver=cholesky ....................\n",
            "[CV]  C=1000, fit_intercept=False, solver=cholesky, accuracy=nan, precision=nan, recall=nan, total=   0.0s\n",
            "[CV] C=1000, fit_intercept=False, solver=cholesky ....................\n",
            "[CV]  C=1000, fit_intercept=False, solver=cholesky, accuracy=nan, precision=nan, recall=nan, total=   0.0s\n",
            "[CV] C=1000, fit_intercept=False, solver=lsqr ........................\n",
            "[CV]  C=1000, fit_intercept=False, solver=lsqr, accuracy=nan, precision=nan, recall=nan, total=   0.0s\n",
            "[CV] C=1000, fit_intercept=False, solver=lsqr ........................\n",
            "[CV]  C=1000, fit_intercept=False, solver=lsqr, accuracy=nan, precision=nan, recall=nan, total=   0.0s\n",
            "[CV] C=1000, fit_intercept=False, solver=lsqr ........................\n",
            "[CV]  C=1000, fit_intercept=False, solver=lsqr, accuracy=nan, precision=nan, recall=nan, total=   0.0s\n",
            "[CV] C=1000, fit_intercept=False, solver=lsqr ........................\n",
            "[CV]  C=1000, fit_intercept=False, solver=lsqr, accuracy=nan, precision=nan, recall=nan, total=   0.0s\n",
            "[CV] C=1000, fit_intercept=False, solver=lsqr ........................\n",
            "[CV]  C=1000, fit_intercept=False, solver=lsqr, accuracy=nan, precision=nan, recall=nan, total=   0.0s\n",
            "[CV] C=1000, fit_intercept=False, solver=sag .........................\n"
          ]
        },
        {
          "output_type": "stream",
          "name": "stderr",
          "text": [
            "/usr/local/lib/python3.7/dist-packages/sklearn/utils/validation.py:760: DataConversionWarning: A column-vector y was passed when a 1d array was expected. Please change the shape of y to (n_samples, ), for example using ravel().\n",
            "  y = column_or_1d(y, warn=True)\n",
            "/usr/local/lib/python3.7/dist-packages/sklearn/utils/validation.py:760: DataConversionWarning: A column-vector y was passed when a 1d array was expected. Please change the shape of y to (n_samples, ), for example using ravel().\n",
            "  y = column_or_1d(y, warn=True)\n",
            "/usr/local/lib/python3.7/dist-packages/sklearn/utils/validation.py:760: DataConversionWarning: A column-vector y was passed when a 1d array was expected. Please change the shape of y to (n_samples, ), for example using ravel().\n",
            "  y = column_or_1d(y, warn=True)\n",
            "/usr/local/lib/python3.7/dist-packages/sklearn/model_selection/_validation.py:536: FitFailedWarning: Estimator fit failed. The score on this train-test partition for these parameters will be set to nan. Details: \n",
            "ValueError: Logistic Regression supports only solvers in ['liblinear', 'newton-cg', 'lbfgs', 'sag', 'saga'], got svd.\n",
            "\n",
            "  FitFailedWarning)\n",
            "/usr/local/lib/python3.7/dist-packages/sklearn/model_selection/_validation.py:536: FitFailedWarning: Estimator fit failed. The score on this train-test partition for these parameters will be set to nan. Details: \n",
            "ValueError: Logistic Regression supports only solvers in ['liblinear', 'newton-cg', 'lbfgs', 'sag', 'saga'], got cholesky.\n",
            "\n",
            "  FitFailedWarning)\n",
            "/usr/local/lib/python3.7/dist-packages/sklearn/model_selection/_validation.py:536: FitFailedWarning: Estimator fit failed. The score on this train-test partition for these parameters will be set to nan. Details: \n",
            "ValueError: Logistic Regression supports only solvers in ['liblinear', 'newton-cg', 'lbfgs', 'sag', 'saga'], got lsqr.\n",
            "\n",
            "  FitFailedWarning)\n",
            "/usr/local/lib/python3.7/dist-packages/sklearn/utils/validation.py:760: DataConversionWarning: A column-vector y was passed when a 1d array was expected. Please change the shape of y to (n_samples, ), for example using ravel().\n",
            "  y = column_or_1d(y, warn=True)\n",
            "/usr/local/lib/python3.7/dist-packages/sklearn/utils/validation.py:760: DataConversionWarning: A column-vector y was passed when a 1d array was expected. Please change the shape of y to (n_samples, ), for example using ravel().\n",
            "  y = column_or_1d(y, warn=True)\n",
            "/usr/local/lib/python3.7/dist-packages/sklearn/utils/validation.py:760: DataConversionWarning: A column-vector y was passed when a 1d array was expected. Please change the shape of y to (n_samples, ), for example using ravel().\n",
            "  y = column_or_1d(y, warn=True)\n",
            "/usr/local/lib/python3.7/dist-packages/sklearn/utils/validation.py:760: DataConversionWarning: A column-vector y was passed when a 1d array was expected. Please change the shape of y to (n_samples, ), for example using ravel().\n",
            "  y = column_or_1d(y, warn=True)\n",
            "/usr/local/lib/python3.7/dist-packages/sklearn/utils/validation.py:760: DataConversionWarning: A column-vector y was passed when a 1d array was expected. Please change the shape of y to (n_samples, ), for example using ravel().\n",
            "  y = column_or_1d(y, warn=True)\n",
            "/usr/local/lib/python3.7/dist-packages/sklearn/model_selection/_validation.py:536: FitFailedWarning: Estimator fit failed. The score on this train-test partition for these parameters will be set to nan. Details: \n",
            "ValueError: Logistic Regression supports only solvers in ['liblinear', 'newton-cg', 'lbfgs', 'sag', 'saga'], got svd.\n",
            "\n",
            "  FitFailedWarning)\n",
            "/usr/local/lib/python3.7/dist-packages/sklearn/model_selection/_validation.py:536: FitFailedWarning: Estimator fit failed. The score on this train-test partition for these parameters will be set to nan. Details: \n",
            "ValueError: Logistic Regression supports only solvers in ['liblinear', 'newton-cg', 'lbfgs', 'sag', 'saga'], got cholesky.\n",
            "\n",
            "  FitFailedWarning)\n",
            "/usr/local/lib/python3.7/dist-packages/sklearn/model_selection/_validation.py:536: FitFailedWarning: Estimator fit failed. The score on this train-test partition for these parameters will be set to nan. Details: \n",
            "ValueError: Logistic Regression supports only solvers in ['liblinear', 'newton-cg', 'lbfgs', 'sag', 'saga'], got lsqr.\n",
            "\n",
            "  FitFailedWarning)\n",
            "/usr/local/lib/python3.7/dist-packages/sklearn/utils/validation.py:760: DataConversionWarning: A column-vector y was passed when a 1d array was expected. Please change the shape of y to (n_samples, ), for example using ravel().\n",
            "  y = column_or_1d(y, warn=True)\n"
          ]
        },
        {
          "output_type": "stream",
          "name": "stdout",
          "text": [
            "[CV]  C=1000, fit_intercept=False, solver=sag, accuracy=0.810, precision=0.935, recall=0.706, total=   0.0s\n",
            "[CV] C=1000, fit_intercept=False, solver=sag .........................\n",
            "[CV]  C=1000, fit_intercept=False, solver=sag, accuracy=0.788, precision=0.899, recall=0.696, total=   0.0s\n",
            "[CV] C=1000, fit_intercept=False, solver=sag .........................\n",
            "[CV]  C=1000, fit_intercept=False, solver=sag, accuracy=0.853, precision=0.821, recall=0.941, total=   0.0s\n",
            "[CV] C=1000, fit_intercept=False, solver=sag .........................\n",
            "[CV]  C=1000, fit_intercept=False, solver=sag, accuracy=0.803, precision=0.835, recall=0.802, total=   0.0s\n",
            "[CV] C=1000, fit_intercept=False, solver=sag .........................\n",
            "[CV]  C=1000, fit_intercept=False, solver=sag, accuracy=0.743, precision=0.855, recall=0.644, total=   0.0s\n"
          ]
        },
        {
          "output_type": "stream",
          "name": "stderr",
          "text": [
            "/usr/local/lib/python3.7/dist-packages/sklearn/utils/validation.py:760: DataConversionWarning: A column-vector y was passed when a 1d array was expected. Please change the shape of y to (n_samples, ), for example using ravel().\n",
            "  y = column_or_1d(y, warn=True)\n",
            "/usr/local/lib/python3.7/dist-packages/sklearn/utils/validation.py:760: DataConversionWarning: A column-vector y was passed when a 1d array was expected. Please change the shape of y to (n_samples, ), for example using ravel().\n",
            "  y = column_or_1d(y, warn=True)\n",
            "/usr/local/lib/python3.7/dist-packages/sklearn/utils/validation.py:760: DataConversionWarning: A column-vector y was passed when a 1d array was expected. Please change the shape of y to (n_samples, ), for example using ravel().\n",
            "  y = column_or_1d(y, warn=True)\n",
            "/usr/local/lib/python3.7/dist-packages/sklearn/utils/validation.py:760: DataConversionWarning: A column-vector y was passed when a 1d array was expected. Please change the shape of y to (n_samples, ), for example using ravel().\n",
            "  y = column_or_1d(y, warn=True)\n",
            "[Parallel(n_jobs=1)]: Done 280 out of 280 | elapsed:    1.3s finished\n",
            "/usr/local/lib/python3.7/dist-packages/sklearn/utils/validation.py:760: DataConversionWarning: A column-vector y was passed when a 1d array was expected. Please change the shape of y to (n_samples, ), for example using ravel().\n",
            "  y = column_or_1d(y, warn=True)\n"
          ]
        },
        {
          "output_type": "execute_result",
          "data": {
            "text/plain": [
              "GridSearchCV(cv=None, error_score=nan,\n",
              "             estimator=LogisticRegression(C=0.001, class_weight=None,\n",
              "                                          dual=False, fit_intercept=True,\n",
              "                                          intercept_scaling=1, l1_ratio=None,\n",
              "                                          max_iter=100, multi_class='auto',\n",
              "                                          n_jobs=None, penalty='l2',\n",
              "                                          random_state=None, solver='sag',\n",
              "                                          tol=0.0001, verbose=0,\n",
              "                                          warm_start=False),\n",
              "             iid='deprecated', n_jobs=None,\n",
              "             param_grid={'C': [0.001, 0.01, 0.1, 1, 10, 100, 1000],\n",
              "                         'fit_intercept': [True, False],\n",
              "                         'solver': ['svd', 'cholesky', 'lsqr', 'sag']},\n",
              "             pre_dispatch='2*n_jobs', refit='recall', return_train_score=False,\n",
              "             scoring={'accuracy': make_scorer(accuracy_score),\n",
              "                      'precision': make_scorer(precision_score),\n",
              "                      'recall': make_scorer(recall_score)},\n",
              "             verbose=3)"
            ]
          },
          "metadata": {},
          "execution_count": 245
        }
      ]
    },
    {
      "cell_type": "code",
      "metadata": {
        "id": "ZIERuo5rvoq4",
        "colab": {
          "base_uri": "https://localhost:8080/"
        },
        "outputId": "3896073f-b165-4a47-97de-5c48d7e5bb06"
      },
      "source": [
        "print(\"Best Hyperparameters:\", gs.best_params_)\n",
        "print(\"Best Score (Recall): \", gs.best_score_)"
      ],
      "execution_count": null,
      "outputs": [
        {
          "output_type": "stream",
          "name": "stdout",
          "text": [
            "Best Hyperparameters: {'C': 0.001, 'fit_intercept': True, 'solver': 'sag'}\n",
            "Best Score (Recall):  0.8896524946612308\n"
          ]
        }
      ]
    },
    {
      "cell_type": "code",
      "metadata": {
        "id": "YfjLyjhzEqgB"
      },
      "source": [
        "y_pred = model_logis.predict(x_test) #predict output"
      ],
      "execution_count": null,
      "outputs": []
    },
    {
      "cell_type": "markdown",
      "metadata": {
        "id": "901h4f-RvuJ7"
      },
      "source": [
        "##testing"
      ]
    },
    {
      "cell_type": "code",
      "metadata": {
        "id": "LS2qE0PkvvS8",
        "colab": {
          "base_uri": "https://localhost:8080/",
          "height": 368
        },
        "outputId": "bdb42bc1-f13a-4548-b000-35736fc40f47"
      },
      "source": [
        "acc=metrics.accuracy_score(y_test,y_pred)\n",
        "precision_score=metrics.precision_score(y_test,y_pred)\n",
        "recall_score=metrics.recall_score(y_test,y_pred)\n",
        "f1_score=metrics.f1_score(y_test,y_pred)\n",
        "print(f'accuracy_score is {acc}')\n",
        "print(f'precision_score is {precision_score}')\n",
        "print(f'recall_score is {recall_score}')\n",
        "print(f'f1_score is {f1_score}')\n",
        "metrics.plot_confusion_matrix(model_logis,x_test,y_test)"
      ],
      "execution_count": null,
      "outputs": [
        {
          "output_type": "stream",
          "name": "stdout",
          "text": [
            "accuracy_score is 0.8586956521739131\n",
            "precision_score is 0.8653846153846154\n",
            "recall_score is 0.8823529411764706\n",
            "f1_score is 0.8737864077669903\n"
          ]
        },
        {
          "output_type": "execute_result",
          "data": {
            "text/plain": [
              "<sklearn.metrics._plot.confusion_matrix.ConfusionMatrixDisplay at 0x7fe59601c150>"
            ]
          },
          "metadata": {},
          "execution_count": 255
        },
        {
          "output_type": "display_data",
          "data": {
            "image/png": "[encoded data removed]",
            "text/plain": [
              "<Figure size 432x288 with 2 Axes>"
            ]
          },
          "metadata": {
            "needs_background": "light"
          }
        }
      ]
    },
    {
      "cell_type": "code",
      "metadata": {
        "id": "5hsxXsQGqLZ1"
      },
      "source": [
        ""
      ],
      "execution_count": null,
      "outputs": []
    },
    {
      "cell_type": "markdown",
      "metadata": {
        "id": "9XGSApQRq3IB"
      },
      "source": [
        "#5- DNN"
      ]
    },
    {
      "cell_type": "code",
      "metadata": {
        "id": "s7hiy920CLRF"
      },
      "source": [
        "# Import `Sequential` from `keras.models`\n",
        "from keras.models import Sequential\n",
        "\n",
        "# Import `Dense` from `keras.layers`\n",
        "from keras.layers import Dense"
      ],
      "execution_count": null,
      "outputs": []
    },
    {
      "cell_type": "code",
      "metadata": {
        "id": "qX9xM_gDDiUg"
      },
      "source": [
        "# Initialize the constructor\n",
        "model = Sequential()"
      ],
      "execution_count": null,
      "outputs": []
    },
    {
      "cell_type": "code",
      "metadata": {
        "id": "3M-3FtQbDmXv"
      },
      "source": [
        "# Add an input layer \n",
        "model.add(Dense(16,activation='relu',kernel_initializer='normal', input_shape=(11,)))# Add one hidden layer \n",
        "tf.keras.layers.Dropout(0.25)\n",
        "model.add(Dense(32, activation='relu',kernel_initializer='normal'))\n",
        "tf.keras.layers.Dropout(0.2)\n",
        "\n",
        "# Add an output layer \n",
        "model.add(Dense(1, activation='sigmoid'))"
      ],
      "execution_count": null,
      "outputs": []
    },
    {
      "cell_type": "code",
      "metadata": {
        "colab": {
          "base_uri": "https://localhost:8080/"
        },
        "id": "LnHM8pqwe9vp",
        "outputId": "62d8304e-9789-47a6-8425-b458b6abb9bb"
      },
      "source": [
        "model.summary()"
      ],
      "execution_count": null,
      "outputs": [
        {
          "output_type": "stream",
          "name": "stdout",
          "text": [
            "Model: \"sequential_4\"\n",
            "_________________________________________________________________\n",
            "Layer (type)                 Output Shape              Param #   \n",
            "=================================================================\n",
            "dense_86 (Dense)             (None, 16)                192       \n",
            "_________________________________________________________________\n",
            "dense_87 (Dense)             (None, 32)                544       \n",
            "_________________________________________________________________\n",
            "dense_88 (Dense)             (None, 1)                 33        \n",
            "=================================================================\n",
            "Total params: 769\n",
            "Trainable params: 769\n",
            "Non-trainable params: 0\n",
            "_________________________________________________________________\n"
          ]
        }
      ]
    },
    {
      "cell_type": "code",
      "metadata": {
        "colab": {
          "base_uri": "https://localhost:8080/"
        },
        "id": "ql-rKU34Dul6",
        "outputId": "c3996724-4a95-4b23-ea7c-720a1a8559ca"
      },
      "source": [
        "model.compile(loss='binary_crossentropy',\n",
        "              optimizer='rmsprop',\n",
        "              metrics=['accuracy'],\n",
        "              )\n",
        "                   \n",
        "model.fit(x_train, y_train,epochs=20, batch_size=10, verbose=1,validation_data=(x_test,y_test))"
      ],
      "execution_count": null,
      "outputs": [
        {
          "output_type": "stream",
          "name": "stdout",
          "text": [
            "Epoch 1/20\n",
            "74/74 [==============================] - 1s 4ms/step - loss: 0.6054 - accuracy: 0.7834 - val_loss: 0.4678 - val_accuracy: 0.8804\n",
            "Epoch 2/20\n",
            "74/74 [==============================] - 0s 2ms/step - loss: 0.4146 - accuracy: 0.8433 - val_loss: 0.3306 - val_accuracy: 0.8967\n",
            "Epoch 3/20\n",
            "74/74 [==============================] - 0s 2ms/step - loss: 0.3553 - accuracy: 0.8488 - val_loss: 0.3069 - val_accuracy: 0.9185\n",
            "Epoch 4/20\n",
            "74/74 [==============================] - 0s 2ms/step - loss: 0.3399 - accuracy: 0.8624 - val_loss: 0.2971 - val_accuracy: 0.9076\n",
            "Epoch 5/20\n",
            "74/74 [==============================] - 0s 2ms/step - loss: 0.3309 - accuracy: 0.8651 - val_loss: 0.2974 - val_accuracy: 0.9022\n",
            "Epoch 6/20\n",
            "74/74 [==============================] - 0s 2ms/step - loss: 0.3252 - accuracy: 0.8665 - val_loss: 0.2935 - val_accuracy: 0.8967\n",
            "Epoch 7/20\n",
            "74/74 [==============================] - 0s 2ms/step - loss: 0.3214 - accuracy: 0.8719 - val_loss: 0.2913 - val_accuracy: 0.8967\n",
            "Epoch 8/20\n",
            "74/74 [==============================] - 0s 2ms/step - loss: 0.3181 - accuracy: 0.8733 - val_loss: 0.2913 - val_accuracy: 0.8967\n",
            "Epoch 9/20\n",
            "74/74 [==============================] - 0s 2ms/step - loss: 0.3146 - accuracy: 0.8760 - val_loss: 0.2917 - val_accuracy: 0.8967\n",
            "Epoch 10/20\n",
            "74/74 [==============================] - 0s 2ms/step - loss: 0.3120 - accuracy: 0.8760 - val_loss: 0.2890 - val_accuracy: 0.9022\n",
            "Epoch 11/20\n",
            "74/74 [==============================] - 0s 2ms/step - loss: 0.3089 - accuracy: 0.8760 - val_loss: 0.2886 - val_accuracy: 0.9022\n",
            "Epoch 12/20\n",
            "74/74 [==============================] - 0s 2ms/step - loss: 0.3068 - accuracy: 0.8801 - val_loss: 0.2885 - val_accuracy: 0.9022\n",
            "Epoch 13/20\n",
            "74/74 [==============================] - 0s 2ms/step - loss: 0.3054 - accuracy: 0.8787 - val_loss: 0.2869 - val_accuracy: 0.9076\n",
            "Epoch 14/20\n",
            "74/74 [==============================] - 0s 2ms/step - loss: 0.3019 - accuracy: 0.8815 - val_loss: 0.2860 - val_accuracy: 0.9130\n",
            "Epoch 15/20\n",
            "74/74 [==============================] - 0s 2ms/step - loss: 0.3000 - accuracy: 0.8801 - val_loss: 0.2844 - val_accuracy: 0.9130\n",
            "Epoch 16/20\n",
            "74/74 [==============================] - 0s 2ms/step - loss: 0.2992 - accuracy: 0.8842 - val_loss: 0.2847 - val_accuracy: 0.9076\n",
            "Epoch 17/20\n",
            "74/74 [==============================] - 0s 2ms/step - loss: 0.2961 - accuracy: 0.8869 - val_loss: 0.2870 - val_accuracy: 0.9130\n",
            "Epoch 18/20\n",
            "74/74 [==============================] - 0s 2ms/step - loss: 0.2941 - accuracy: 0.8815 - val_loss: 0.2854 - val_accuracy: 0.9130\n",
            "Epoch 19/20\n",
            "74/74 [==============================] - 0s 2ms/step - loss: 0.2918 - accuracy: 0.8842 - val_loss: 0.2845 - val_accuracy: 0.9130\n",
            "Epoch 20/20\n",
            "74/74 [==============================] - 0s 2ms/step - loss: 0.2909 - accuracy: 0.8869 - val_loss: 0.2847 - val_accuracy: 0.9130\n"
          ]
        },
        {
          "output_type": "execute_result",
          "data": {
            "text/plain": [
              "<keras.callbacks.History at 0x7f9c32fdbc90>"
            ]
          },
          "metadata": {},
          "execution_count": 170
        }
      ]
    },
    {
      "cell_type": "code",
      "metadata": {
        "colab": {
          "base_uri": "https://localhost:8080/",
          "height": 283
        },
        "id": "z84YOqXWD20h",
        "outputId": "4bf88847-6ad8-40a4-e178-cb813292932f"
      },
      "source": [
        "hist=pd.DataFrame(model.history.history)#plot history\n",
        "hist.plot()"
      ],
      "execution_count": null,
      "outputs": [
        {
          "output_type": "execute_result",
          "data": {
            "text/plain": [
              "<matplotlib.axes._subplots.AxesSubplot at 0x7f9c32fdf290>"
            ]
          },
          "metadata": {},
          "execution_count": 171
        },
        {
          "output_type": "display_data",
          "data": {
            "image/png": "[encoded data removed]",
            "text/plain": [
              "<Figure size 432x288 with 1 Axes>"
            ]
          },
          "metadata": {
            "needs_background": "light"
          }
        }
      ]
    },
    {
      "cell_type": "code",
      "metadata": {
        "id": "FnxYmIsvRnhk"
      },
      "source": [
        "pred = model.predict(x_test)##test the model on the test dataset \n",
        "pred = np.round(pred).astype(int)"
      ],
      "execution_count": null,
      "outputs": []
    },
    {
      "cell_type": "code",
      "metadata": {
        "colab": {
          "base_uri": "https://localhost:8080/"
        },
        "id": "OHUeVvz1szHl",
        "outputId": "be8c6aa3-852e-4546-e1ec-2d7b7ac948f8"
      },
      "source": [
        "print('accuracy_score :',metrics.accuracy_score(y_test,pred))\n",
        "precision = metrics.precision_score(y_test, pred)\n",
        "print(\"Precision Score:\", precision)\n",
        "recall = metrics.recall_score(y_test, pred)\n",
        "print(\"Recall Score:\", recall)\n"
      ],
      "execution_count": null,
      "outputs": [
        {
          "output_type": "stream",
          "name": "stdout",
          "text": [
            "accuracy_score : 0.9130434782608695\n",
            "Precision Score: 0.9056603773584906\n",
            "Recall Score: 0.9411764705882353\n"
          ]
        }
      ]
    }
  ]
}