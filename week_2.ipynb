{
  "nbformat": 4,
  "nbformat_minor": 0,
  "metadata": {
    "colab": {
      "name": "Copy of Assignment_3.ipynb",
      "provenance": []
    },
    "kernelspec": {
      "name": "python3",
      "display_name": "Python 3"
    },
    "language_info": {
      "name": "python"
    }
  },
  "cells": [
    {
      "cell_type": "markdown",
      "metadata": {
        "id": "6hQehw-lE1a8"
      },
      "source": [
        "##Assigement_3"
      ]
    },
    {
      "cell_type": "markdown",
      "metadata": {
        "id": "Ou3oKqUOFGFz"
      },
      "source": [
        "##1- Read the dataset from Kaggle."
      ]
    },
    {
      "cell_type": "code",
      "metadata": {
        "id": "rpBBXSU_FIIl"
      },
      "source": [
        "import numpy as np\n",
        "import pandas as pd\n",
        "#import sklearn\n",
        "from sklearn import datasets, model_selection, linear_model , metrics,neighbors,tree,ensemble,preprocessing,svm\n",
        "\n",
        "#Extracting data from CSV file\n",
        "data_pd=pd.read_csv('/content/housing.csv')"
      ],
      "execution_count": null,
      "outputs": []
    },
    {
      "cell_type": "code",
      "metadata": {
        "id": "zIGBdjoSHBl8",
        "colab": {
          "base_uri": "https://localhost:8080/",
          "height": 601
        },
        "outputId": "07a0a2fc-58ba-472d-fd7d-dc1ad6c0eafd"
      },
      "source": [
        "#dataset information\n",
        "data_pd.info()\n",
        "#dataset Describe\n",
        "data_pd.describe()\n"
      ],
      "execution_count": null,
      "outputs": [
        {
          "output_type": "stream",
          "name": "stdout",
          "text": [
            "<class 'pandas.core.frame.DataFrame'>\n",
            "RangeIndex: 20640 entries, 0 to 20639\n",
            "Data columns (total 10 columns):\n",
            " #   Column              Non-Null Count  Dtype  \n",
            "---  ------              --------------  -----  \n",
            " 0   longitude           20640 non-null  float64\n",
            " 1   latitude            20640 non-null  float64\n",
            " 2   housing_median_age  20640 non-null  float64\n",
            " 3   total_rooms         20640 non-null  float64\n",
            " 4   total_bedrooms      20433 non-null  float64\n",
            " 5   population          20640 non-null  float64\n",
            " 6   households          20640 non-null  float64\n",
            " 7   median_income       20640 non-null  float64\n",
            " 8   median_house_value  20640 non-null  float64\n",
            " 9   ocean_proximity     20640 non-null  object \n",
            "dtypes: float64(9), object(1)\n",
            "memory usage: 1.6+ MB\n"
          ]
        },
        {
          "output_type": "execute_result",
          "data": {
            "text/html": [
              "<div>\n",
              "<style scoped>\n",
              "    .dataframe tbody tr th:only-of-type {\n",
              "        vertical-align: middle;\n",
              "    }\n",
              "\n",
              "    .dataframe tbody tr th {\n",
              "        vertical-align: top;\n",
              "    }\n",
              "\n",
              "    .dataframe thead th {\n",
              "        text-align: right;\n",
              "    }\n",
              "</style>\n",
              "<table border=\"1\" class=\"dataframe\">\n",
              "  <thead>\n",
              "    <tr style=\"text-align: right;\">\n",
              "      <th></th>\n",
              "      <th>longitude</th>\n",
              "      <th>latitude</th>\n",
              "      <th>housing_median_age</th>\n",
              "      <th>total_rooms</th>\n",
              "      <th>total_bedrooms</th>\n",
              "      <th>population</th>\n",
              "      <th>households</th>\n",
              "      <th>median_income</th>\n",
              "      <th>median_house_value</th>\n",
              "    </tr>\n",
              "  </thead>\n",
              "  <tbody>\n",
              "    <tr>\n",
              "      <th>count</th>\n",
              "      <td>20640.000000</td>\n",
              "      <td>20640.000000</td>\n",
              "      <td>20640.000000</td>\n",
              "      <td>20640.000000</td>\n",
              "      <td>20433.000000</td>\n",
              "      <td>20640.000000</td>\n",
              "      <td>20640.000000</td>\n",
              "      <td>20640.000000</td>\n",
              "      <td>20640.000000</td>\n",
              "    </tr>\n",
              "    <tr>\n",
              "      <th>mean</th>\n",
              "      <td>-119.569704</td>\n",
              "      <td>35.631861</td>\n",
              "      <td>28.639486</td>\n",
              "      <td>2635.763081</td>\n",
              "      <td>537.870553</td>\n",
              "      <td>1425.476744</td>\n",
              "      <td>499.539680</td>\n",
              "      <td>3.870671</td>\n",
              "      <td>206855.816909</td>\n",
              "    </tr>\n",
              "    <tr>\n",
              "      <th>std</th>\n",
              "      <td>2.003532</td>\n",
              "      <td>2.135952</td>\n",
              "      <td>12.585558</td>\n",
              "      <td>2181.615252</td>\n",
              "      <td>421.385070</td>\n",
              "      <td>1132.462122</td>\n",
              "      <td>382.329753</td>\n",
              "      <td>1.899822</td>\n",
              "      <td>115395.615874</td>\n",
              "    </tr>\n",
              "    <tr>\n",
              "      <th>min</th>\n",
              "      <td>-124.350000</td>\n",
              "      <td>32.540000</td>\n",
              "      <td>1.000000</td>\n",
              "      <td>2.000000</td>\n",
              "      <td>1.000000</td>\n",
              "      <td>3.000000</td>\n",
              "      <td>1.000000</td>\n",
              "      <td>0.499900</td>\n",
              "      <td>14999.000000</td>\n",
              "    </tr>\n",
              "    <tr>\n",
              "      <th>25%</th>\n",
              "      <td>-121.800000</td>\n",
              "      <td>33.930000</td>\n",
              "      <td>18.000000</td>\n",
              "      <td>1447.750000</td>\n",
              "      <td>296.000000</td>\n",
              "      <td>787.000000</td>\n",
              "      <td>280.000000</td>\n",
              "      <td>2.563400</td>\n",
              "      <td>119600.000000</td>\n",
              "    </tr>\n",
              "    <tr>\n",
              "      <th>50%</th>\n",
              "      <td>-118.490000</td>\n",
              "      <td>34.260000</td>\n",
              "      <td>29.000000</td>\n",
              "      <td>2127.000000</td>\n",
              "      <td>435.000000</td>\n",
              "      <td>1166.000000</td>\n",
              "      <td>409.000000</td>\n",
              "      <td>3.534800</td>\n",
              "      <td>179700.000000</td>\n",
              "    </tr>\n",
              "    <tr>\n",
              "      <th>75%</th>\n",
              "      <td>-118.010000</td>\n",
              "      <td>37.710000</td>\n",
              "      <td>37.000000</td>\n",
              "      <td>3148.000000</td>\n",
              "      <td>647.000000</td>\n",
              "      <td>1725.000000</td>\n",
              "      <td>605.000000</td>\n",
              "      <td>4.743250</td>\n",
              "      <td>264725.000000</td>\n",
              "    </tr>\n",
              "    <tr>\n",
              "      <th>max</th>\n",
              "      <td>-114.310000</td>\n",
              "      <td>41.950000</td>\n",
              "      <td>52.000000</td>\n",
              "      <td>39320.000000</td>\n",
              "      <td>6445.000000</td>\n",
              "      <td>35682.000000</td>\n",
              "      <td>6082.000000</td>\n",
              "      <td>15.000100</td>\n",
              "      <td>500001.000000</td>\n",
              "    </tr>\n",
              "  </tbody>\n",
              "</table>\n",
              "</div>"
            ],
            "text/plain": [
              "          longitude      latitude  ...  median_income  median_house_value\n",
              "count  20640.000000  20640.000000  ...   20640.000000        20640.000000\n",
              "mean    -119.569704     35.631861  ...       3.870671       206855.816909\n",
              "std        2.003532      2.135952  ...       1.899822       115395.615874\n",
              "min     -124.350000     32.540000  ...       0.499900        14999.000000\n",
              "25%     -121.800000     33.930000  ...       2.563400       119600.000000\n",
              "50%     -118.490000     34.260000  ...       3.534800       179700.000000\n",
              "75%     -118.010000     37.710000  ...       4.743250       264725.000000\n",
              "max     -114.310000     41.950000  ...      15.000100       500001.000000\n",
              "\n",
              "[8 rows x 9 columns]"
            ]
          },
          "metadata": {},
          "execution_count": 19
        }
      ]
    },
    {
      "cell_type": "markdown",
      "metadata": {
        "id": "c2T9ulYwHqjA"
      },
      "source": [
        "##2-Drop column (occean_proximity)"
      ]
    },
    {
      "cell_type": "code",
      "metadata": {
        "id": "0_Y5Rz-uGdRB",
        "colab": {
          "base_uri": "https://localhost:8080/"
        },
        "outputId": "620e28d1-1474-4dfc-f7aa-65e6495c2fa8"
      },
      "source": [
        "#deleting feature ocean_proximity \n",
        "data_pd.drop('ocean_proximity',axis=1,inplace=True)\n",
        "#replace missing values with mean\n",
        "data_pd.fillna(data_pd['total_bedrooms'].mean(),inplace=True)\n",
        "#dataset information\n",
        "data_pd.info()\n"
      ],
      "execution_count": null,
      "outputs": [
        {
          "output_type": "stream",
          "name": "stdout",
          "text": [
            "<class 'pandas.core.frame.DataFrame'>\n",
            "RangeIndex: 20640 entries, 0 to 20639\n",
            "Data columns (total 9 columns):\n",
            " #   Column              Non-Null Count  Dtype  \n",
            "---  ------              --------------  -----  \n",
            " 0   longitude           20640 non-null  float64\n",
            " 1   latitude            20640 non-null  float64\n",
            " 2   housing_median_age  20640 non-null  float64\n",
            " 3   total_rooms         20640 non-null  float64\n",
            " 4   total_bedrooms      20640 non-null  float64\n",
            " 5   population          20640 non-null  float64\n",
            " 6   households          20640 non-null  float64\n",
            " 7   median_income       20640 non-null  float64\n",
            " 8   median_house_value  20640 non-null  float64\n",
            "dtypes: float64(9)\n",
            "memory usage: 1.4 MB\n"
          ]
        }
      ]
    },
    {
      "cell_type": "markdown",
      "metadata": {
        "id": "1-FsTQUgJ1AV"
      },
      "source": [
        "##3-Do the necessary preprocessing steps"
      ]
    },
    {
      "cell_type": "code",
      "metadata": {
        "id": "_PsD2HiTI9sf"
      },
      "source": [
        "#setting input (feature)\n",
        "x=data_pd.iloc[:,2:8]\n",
        "#setting output\n",
        "y=y=np.array(data_pd.median_house_value)\n",
        "\n",
        "#normalizer data x&y\n",
        "x_normalizer=preprocessing.StandardScaler()\n",
        "y_normalizer=preprocessing.StandardScaler()\n",
        "x_norm=x_normalizer.fit_transform(x)\n",
        "y_norm=y_normalizer.fit_transform(y.reshape(-1,1))"
      ],
      "execution_count": null,
      "outputs": []
    },
    {
      "cell_type": "markdown",
      "metadata": {
        "id": "A2vzlvFeK7-r"
      },
      "source": [
        "##4-Set random seed to 42 for using NumPy"
      ]
    },
    {
      "cell_type": "code",
      "metadata": {
        "id": "pYN37DTXK-h4"
      },
      "source": [
        "#random_state\n",
        "np.random.seed=42"
      ],
      "execution_count": null,
      "outputs": []
    },
    {
      "cell_type": "markdown",
      "metadata": {
        "id": "sQ9ss2nBLSD-"
      },
      "source": [
        "##5-Split the dataset into a training/testing set, with a split size of 10%. Don't forget to set the random state to 42."
      ]
    },
    {
      "cell_type": "code",
      "metadata": {
        "id": "Fy8HDalSMHKa"
      },
      "source": [
        "#90% training and 10% test\n",
        "x_train,x_test,y_Train,y_test=model_selection.train_test_split(x_norm,y_norm,test_size=0.1,random_state=42)"
      ],
      "execution_count": null,
      "outputs": []
    },
    {
      "cell_type": "markdown",
      "metadata": {
        "id": "YTFOi-OdL4vq"
      },
      "source": [
        "## Define 3 models/algorithms for this task.\n",
        "- Train the models."
      ]
    },
    {
      "cell_type": "markdown",
      "metadata": {
        "id": "tT57AbJUOvyI"
      },
      "source": [
        "##model_1\n",
        "##LinearRegression"
      ]
    },
    {
      "cell_type": "code",
      "metadata": {
        "colab": {
          "base_uri": "https://localhost:8080/"
        },
        "id": "o9CGHTPSOyfN",
        "outputId": "5403a7ae-96aa-485a-859c-7e5b501472d0"
      },
      "source": [
        "#Create a LinearRegression\n",
        "model=linear_model.LinearRegression()\n",
        "##Train the model using the training sets\n",
        "model.fit(x_train,y_Train)"
      ],
      "execution_count": null,
      "outputs": [
        {
          "output_type": "execute_result",
          "data": {
            "text/plain": [
              "LinearRegression(copy_X=True, fit_intercept=True, n_jobs=None, normalize=False)"
            ]
          },
          "metadata": {},
          "execution_count": 24
        }
      ]
    },
    {
      "cell_type": "code",
      "metadata": {
        "colab": {
          "base_uri": "https://localhost:8080/"
        },
        "id": "Te1I6zG9Q6Se",
        "outputId": "2b7d4e70-d926-457e-923c-7f3f042deff0"
      },
      "source": [
        "##Predict the response for test dataset\n",
        "pred=model.predict(x_test)\n",
        "print(f'the mse is : {metrics.mean_squared_error(y_test,pred)}')\n",
        "print(f'the r2  is : {metrics.r2_score(y_test,pred)}')"
      ],
      "execution_count": null,
      "outputs": [
        {
          "output_type": "stream",
          "name": "stdout",
          "text": [
            "the mse is : 0.47972387643516823\n",
            "the r2  is : 0.5210168043709292\n"
          ]
        }
      ]
    },
    {
      "cell_type": "markdown",
      "metadata": {
        "id": "q1dvwTf_S4fW"
      },
      "source": [
        "##model_2\n",
        "##DecisionTreeRegressor"
      ]
    },
    {
      "cell_type": "code",
      "metadata": {
        "colab": {
          "base_uri": "https://localhost:8080/"
        },
        "id": "VJNLkL79S_uh",
        "outputId": "add713ae-f650-4ea8-a4e6-15aa181f7791"
      },
      "source": [
        "#training model using DecisionTreeRegressor\n",
        "tree_model=tree.DecisionTreeRegressor()\n",
        "tree_model.fit(x_train,y_Train)"
      ],
      "execution_count": null,
      "outputs": [
        {
          "output_type": "execute_result",
          "data": {
            "text/plain": [
              "DecisionTreeRegressor(ccp_alpha=0.0, criterion='mse', max_depth=None,\n",
              "                      max_features=None, max_leaf_nodes=None,\n",
              "                      min_impurity_decrease=0.0, min_impurity_split=None,\n",
              "                      min_samples_leaf=1, min_samples_split=2,\n",
              "                      min_weight_fraction_leaf=0.0, presort='deprecated',\n",
              "                      random_state=None, splitter='best')"
            ]
          },
          "metadata": {},
          "execution_count": 26
        }
      ]
    },
    {
      "cell_type": "code",
      "metadata": {
        "colab": {
          "base_uri": "https://localhost:8080/"
        },
        "id": "189ihjtNTjVO",
        "outputId": "9995201a-2238-41ae-e9de-48cfc35384a8"
      },
      "source": [
        "##Predict the response for test dataset\n",
        "pred=tree_model.predict(x_test)\n",
        "print(f'the mse is : {metrics.mean_squared_error(y_test,pred)}')\n",
        "print(f'the r2  is : {metrics.r2_score(y_test,pred)}')"
      ],
      "execution_count": null,
      "outputs": [
        {
          "output_type": "stream",
          "name": "stdout",
          "text": [
            "the mse is : 0.7329086952453098\n",
            "the r2  is : 0.26822289613434813\n"
          ]
        }
      ]
    },
    {
      "cell_type": "markdown",
      "metadata": {
        "id": "ftGrJ9fQVQiR"
      },
      "source": [
        "##model_3\n",
        "##support vector mechine"
      ]
    },
    {
      "cell_type": "code",
      "metadata": {
        "colab": {
          "base_uri": "https://localhost:8080/"
        },
        "id": "Au4a647mVbDW",
        "outputId": "463a392d-c7a7-49bf-f620-09f47a941f7a"
      },
      "source": [
        "#training model using support vector mechine mothes\n",
        "svm_model=svm.SVR(kernel='linear',C=1)\n",
        "svm_model.fit(x_train,y_Train)\n",
        "#Predict the response for test dataset\n",
        "pred=svm_model.predict(x_test)\n",
        "print(f'the mse is : {metrics.mean_squared_error(y_test,pred)}')\n",
        "print(f'the r2  is : {metrics.r2_score(y_test,pred)}')"
      ],
      "execution_count": null,
      "outputs": [
        {
          "output_type": "stream",
          "name": "stderr",
          "text": [
            "/usr/local/lib/python3.7/dist-packages/sklearn/utils/validation.py:760: DataConversionWarning: A column-vector y was passed when a 1d array was expected. Please change the shape of y to (n_samples, ), for example using ravel().\n",
            "  y = column_or_1d(y, warn=True)\n"
          ]
        },
        {
          "output_type": "stream",
          "name": "stdout",
          "text": [
            "the mse is : 0.505647340031342\n",
            "the r2  is : 0.495133365907663\n"
          ]
        }
      ]
    },
    {
      "cell_type": "markdown",
      "metadata": {
        "id": "2DY7IS55PQiy"
      },
      "source": [
        "##Keep tuning the hyper-parameters for the SVM if you using it until you reach a Mean Squared Error less than 0.3 and R2 Score above 0.6 or more."
      ]
    },
    {
      "cell_type": "code",
      "metadata": {
        "colab": {
          "base_uri": "https://localhost:8080/"
        },
        "id": "Ig4oT824VfNM",
        "outputId": "812794bd-a6fb-4539-aa43-6127ff09f1f0"
      },
      "source": [
        "#training model using support vector mechine mothes\n",
        "svm_model=svm.SVR(kernel='rbf',C=0.1)\n",
        "svm_model.fit(x_train,y_Train)\n",
        "#Predict the response for test dataset\n",
        "pred=svm_model.predict(x_test)\n",
        "print(f'the mse is : {metrics.mean_squared_error(y_test,pred)}')\n",
        "print(f'the r2  is : {metrics.r2_score(y_test,pred)}')"
      ],
      "execution_count": null,
      "outputs": [
        {
          "output_type": "stream",
          "name": "stderr",
          "text": [
            "/usr/local/lib/python3.7/dist-packages/sklearn/utils/validation.py:760: DataConversionWarning: A column-vector y was passed when a 1d array was expected. Please change the shape of y to (n_samples, ), for example using ravel().\n",
            "  y = column_or_1d(y, warn=True)\n"
          ]
        },
        {
          "output_type": "stream",
          "name": "stdout",
          "text": [
            "the mse is : 0.382865672123419\n",
            "the r2  is : 0.6177254622115295\n"
          ]
        }
      ]
    },
    {
      "cell_type": "markdown",
      "metadata": {
        "id": "Vzb4nDxvPmv5"
      },
      "source": [
        "##-Choose the best model "
      ]
    },
    {
      "cell_type": "code",
      "metadata": {
        "id": "aHCPMj3_PrU3"
      },
      "source": [
        "#the best model is support vector mechine mothes\n",
        "#the mse is : 0.382865672123419\n",
        "#the r2  is : 0.61772546221152953"
      ],
      "execution_count": null,
      "outputs": []
    },
    {
      "cell_type": "code",
      "metadata": {
        "id": "6N7MoC-3HbVr"
      },
      "source": [
        ""
      ],
      "execution_count": null,
      "outputs": []
    }
  ]
}